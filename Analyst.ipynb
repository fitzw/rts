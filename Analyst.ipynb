{
 "cells": [
  {
   "cell_type": "code",
   "execution_count": 156,
   "metadata": {
    "collapsed": true
   },
   "outputs": [],
   "source": [
    "import glob\n",
    "import json\n",
    "import yaml"
   ]
  },
  {
   "cell_type": "code",
   "execution_count": 157,
   "metadata": {
    "collapsed": false
   },
   "outputs": [],
   "source": [
    "# path = 'output/*.txt'\n",
    "# files=glob.glob(path)  "
   ]
  },
  {
   "cell_type": "code",
   "execution_count": 176,
   "metadata": {
    "collapsed": false
   },
   "outputs": [],
   "source": [
    "import sys, json\n",
    "struct = {}\n",
    "path = 'output/*.json'\n",
    "files=glob.glob(path)\n",
    "dataset = []\n",
    "for file in files:\n",
    "    with open(file) as f:\n",
    "        try: #try parsing to dict\n",
    "            for line in f:\n",
    "                dataform = str(line).strip(\"'<>() \").replace('\\'', '\\\"')\n",
    "                struct = json.loads(dataform)\n",
    "                dataset.append(struct)\n",
    "        except:\n",
    "            print (repr(resonse_json))\n",
    "            print (sys.exc_info())\n",
    "\n"
   ]
  },
  {
   "cell_type": "code",
   "execution_count": 177,
   "metadata": {
    "collapsed": true
   },
   "outputs": [],
   "source": [
    "# alt, lon of #32 bus 42.34998902466133,-71.07742577791214"
   ]
  },
  {
   "cell_type": "code",
   "execution_count": 178,
   "metadata": {
    "collapsed": false
   },
   "outputs": [],
   "source": [
    "# struct['1']['info'][0].keys()"
   ]
  },
  {
   "cell_type": "code",
   "execution_count": 181,
   "metadata": {
    "collapsed": false
   },
   "outputs": [],
   "source": [
    "ids = {}\n",
    "prev = 0\n",
    "#_lat, _lon = 42.34998902466133,-71.07742577791214\n",
    "for k in dataset:\n",
    "    for item in k:\n",
    "        for the_trip in k[item]['info']:\n",
    "            if 'vehicle' in the_trip.keys():\n",
    "                #lat,lon = the_trip['vehicle']['vehicle_lat'],the_trip['vehicle']['vehicle_lon']\n",
    "                #loc = abs(lat-_lat)+abs(lon-_lon)\n",
    "                _id = the_trip['trip_id']\n",
    "                #ETA\n",
    "                schedule = int(the_trip['sch_arr_dt'])\n",
    "                curr = int(the_trip['vehicle']['vehicle_timestamp'])\n",
    "                time = schedule - curr\n",
    "                arrive_flag = 0\n",
    "                if time <30:\n",
    "                    arrive_flag = 1\n",
    "                    arrive_time = curr\n",
    "                if _id not in ids:\n",
    "                    ids[str(_id)] = [(schedule,time,0)]\n",
    "                elif (schedule,time,0) not in ids[str(_id)]:\n",
    "                    ids[str(_id)].append((schedule,time,0))\n",
    "                if arrive_flag:\n",
    "                    for (a,b,c) in ids[str(_id)]:\n",
    "                        c = abs(b-abs(a-arrive_time))"
   ]
  },
  {
   "cell_type": "code",
   "execution_count": 180,
   "metadata": {
    "collapsed": false
   },
   "outputs": [
    {
     "data": {
      "text/plain": [
       "{'34265875': [(1499295900, 2462, 0),\n",
       "  (1499295900, 604, 0),\n",
       "  (1499295900, 750, 0),\n",
       "  (1499295900, 878, 0),\n",
       "  (1499295900, 810, 0),\n",
       "  (1499295900, 685, 0),\n",
       "  (1499295900, 624, 0),\n",
       "  (1499295900, 818, 0),\n",
       "  (1499295900, 543, 0),\n",
       "  (1499295900, 423, 0),\n",
       "  (1499295900, 303, 0),\n",
       "  (1499295900, 363, 0),\n",
       "  (1499295900, 169, 0),\n",
       "  (1499295900, 49, 0),\n",
       "  (1499295900, 109, 0),\n",
       "  (1499295900, 229, 0),\n",
       "  (1499295900, 2222, 0)],\n",
       " '34265884': [(1499295420, 1851, 0),\n",
       "  (1499295420, 148, 0),\n",
       "  (1499295420, 107, 0),\n",
       "  (1499295420, 269, 0),\n",
       "  (1499295420, 389, 0),\n",
       "  (1499295420, 329, 0),\n",
       "  (1499295420, 209, 0),\n",
       "  (1499295420, 46, 0),\n",
       "  (1499295420, 1731, 0)],\n",
       " '34265905': [(1499294460, 873, 0), (1499294460, 768, 0)],\n",
       " '34265924': [(1499293980, 401, 0), (1499293980, 288, 0)],\n",
       " '34266068': [(1499297820, 2229, 0),\n",
       "  (1499297820, 2169, 0),\n",
       "  (1499297820, 2289, 0),\n",
       "  (1499297820, 1869, 0),\n",
       "  (1499297820, 2109, 0),\n",
       "  (1499297820, 1989, 0),\n",
       "  (1499297820, 1929, 0),\n",
       "  (1499297820, 2049, 0)],\n",
       " '34266090': [(1499297340, 2088, 0),\n",
       "  (1499297340, 2028, 0),\n",
       "  (1499297340, 2208, 0),\n",
       "  (1499297340, 2328, 0),\n",
       "  (1499297340, 2268, 0),\n",
       "  (1499297340, 2148, 0),\n",
       "  (1499297340, 1875, 0),\n",
       "  (1499297340, 1741, 0),\n",
       "  (1499297340, 1968, 0),\n",
       "  (1499297340, 1908, 0),\n",
       "  (1499297340, 1754, 0),\n",
       "  (1499297340, 1814, 0),\n",
       "  (1499297340, 1409, 0),\n",
       "  (1499297340, 1620, 0),\n",
       "  (1499297340, 1501, 0),\n",
       "  (1499297340, 1469, 0),\n",
       "  (1499297340, 1561, 0),\n",
       "  (1499297340, 1681, 0)],\n",
       " '34266110': [(1499296860, 1587, 0),\n",
       "  (1499296860, 1708, 0),\n",
       "  (1499296860, 1808, 0),\n",
       "  (1499296860, 1747, 0),\n",
       "  (1499296860, 1647, 0),\n",
       "  (1499296860, 1507, 0),\n",
       "  (1499296860, 1403, 0),\n",
       "  (1499296860, 1254, 0),\n",
       "  (1499296860, 1447, 0),\n",
       "  (1499296860, 1342, 0),\n",
       "  (1499296860, 1430, 0),\n",
       "  (1499296860, 1282, 0),\n",
       "  (1499296860, 921, 0),\n",
       "  (1499296860, 1133, 0),\n",
       "  (1499296860, 1037, 0),\n",
       "  (1499296860, 977, 0),\n",
       "  (1499296860, 1097, 0),\n",
       "  (1499296860, 1193, 0)],\n",
       " '34266119': [(1499296380, 1081, 0),\n",
       "  (1499296380, 1239, 0),\n",
       "  (1499296380, 1347, 0),\n",
       "  (1499296380, 1299, 0),\n",
       "  (1499296380, 1179, 0),\n",
       "  (1499296380, 1119, 0),\n",
       "  (1499296380, 1046, 0),\n",
       "  (1499296380, 925, 0),\n",
       "  (1499296380, 811, 0),\n",
       "  (1499296380, 985, 0),\n",
       "  (1499296380, 865, 0),\n",
       "  (1499296380, 751, 0),\n",
       "  (1499296380, 441, 0),\n",
       "  (1499296380, 703, 0),\n",
       "  (1499296380, 583, 0),\n",
       "  (1499296380, 501, 0),\n",
       "  (1499296380, 522, 0),\n",
       "  (1499296380, 642, 0)]}"
      ]
     },
     "execution_count": 180,
     "metadata": {},
     "output_type": "execute_result"
    }
   ],
   "source": [
    "ids"
   ]
  }
 ],
 "metadata": {
  "kernelspec": {
   "display_name": "Python [Root]",
   "language": "python",
   "name": "Python [Root]"
  },
  "language_info": {
   "codemirror_mode": {
    "name": "ipython",
    "version": 3
   },
   "file_extension": ".py",
   "mimetype": "text/x-python",
   "name": "python",
   "nbconvert_exporter": "python",
   "pygments_lexer": "ipython3",
   "version": "3.5.2"
  }
 },
 "nbformat": 4,
 "nbformat_minor": 0
}
