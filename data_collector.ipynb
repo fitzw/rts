{
 "cells": [
  {
   "cell_type": "code",
   "execution_count": 303,
   "metadata": {
    "collapsed": true
   },
   "outputs": [],
   "source": [
    "from bs4 import BeautifulSoup\n",
    "import sys\n",
    "import time\n",
    "import datetime\n",
    "import os\n",
    "import requests\n",
    "import codecs\n",
    "import json\n",
    "from optparse import OptionParser\n",
    "key = 'Z4Y7a0W330WT1m6DUoHXhQ'\n",
    "#url = 'http://realtime.mbta.com/developer/api/v2/predictionsbystop?api_key=wX9NwuHnZU2ToO7GmGR9uw&stop=place-bbsta&format=json'"
   ]
  },
  {
   "cell_type": "markdown",
   "metadata": {},
   "source": [
    "* \"70154\",\"70154\",\"Copley - Inbound\",\"\",42.349974,-71.077447,\"\",\"\",0,\"place-coecl\",0\n",
    "\n",
    "* \"70155\",\"70155\",\"Copley - Outbound\",\"\",42.349974,-71.077447,\"\",\"\",0,\"place-coecl\",0"
   ]
  },
  {
   "cell_type": "markdown",
   "metadata": {},
   "source": [
    "1. * Route_type = 0 -> subway\n",
    "   * 1 -> rail way\n",
    "   * 2 -> bus\n",
    "   \n",
    "2. * 39 bus \"175\",\"175\",\"Boylston St @ Dartmouth St\",\"\",42.350011,-71.077432,\"\",\"\",0,\"\",0\n",
    "\n"
   ]
  },
  {
   "cell_type": "code",
   "execution_count": 241,
   "metadata": {
    "collapsed": false
   },
   "outputs": [],
   "source": [
    "def get_stop_info(stop_id):\n",
    "    stop = str(stop_id)\n",
    "    url = 'http://realtime.mbta.com/developer/api/v2/predictionsbystop?'\\\n",
    "          'api_key='+key+'&stop='+stop+'&format=json'\n",
    "    response = requests.get(url) \n",
    "    #text = response.text.encode('utf-8')\n",
    "    data = json.loads(response.text)\n",
    "    return data"
   ]
  },
  {
   "cell_type": "code",
   "execution_count": 146,
   "metadata": {
    "collapsed": false
   },
   "outputs": [],
   "source": [
    "#data.keys() -> ['mode', 'stop_id', 'stop_name', 'alert_headers']"
   ]
  },
  {
   "cell_type": "code",
   "execution_count": 277,
   "metadata": {
    "collapsed": false
   },
   "outputs": [],
   "source": [
    "def get_bus_info(stop_data,t_type,rount_n):\n",
    "    if 'mode' not in stop_data.keys():\n",
    "        print('service goes offline')\n",
    "    else:\n",
    "        for i in stop_data['mode']:\n",
    "            if i['mode_name'] == t_type:\n",
    "                for route in i['route']:\n",
    "                    if route['route_name']==str(route_n):\n",
    "                        return route['direction'][0]['trip']\n",
    "    return 'This bus is unavailable or bus id not found.'"
   ]
  },
  {
   "cell_type": "code",
   "execution_count": 147,
   "metadata": {
    "collapsed": false
   },
   "outputs": [],
   "source": [
    "#bus_data.keys() -> ['route_name', 'direction', 'route_id']"
   ]
  },
  {
   "cell_type": "code",
   "execution_count": 168,
   "metadata": {
    "collapsed": true
   },
   "outputs": [],
   "source": [
    "#bus_data['direction'][0].keys() -> ['trip', 'direction_name', 'direction_id']"
   ]
  },
  {
   "cell_type": "code",
   "execution_count": 312,
   "metadata": {
    "collapsed": true
   },
   "outputs": [],
   "source": [
    "#by default \n",
    "desired_stop = 175\n",
    "t_type = 'Bus'\n",
    "route_n = 39"
   ]
  },
  {
   "cell_type": "code",
   "execution_count": 263,
   "metadata": {
    "collapsed": false
   },
   "outputs": [],
   "source": [
    "# parser = OptionParser()\n",
    "# parser.add_option('-v', '--verbose', action='store_true')\n",
    "# parser.add_option('-o', '--output-file')\n",
    "# parser.add_option('-n', '--n_of_time', type = 'int')\n",
    "# parser.add_option('-s', '--desired_stop', type='str')\n",
    "# parser.add_option('-t', '--t_type', type='str')\n",
    "# parser.add_option('-r', '--route_n', type='int')\n",
    "# option, args = parser.parse_args()\n",
    "# if not option.output_file:\n",
    "#     print('specify input and output files')\n",
    "#     parser.print_help()\n",
    "#     sys.exit(1)\n",
    "# if not (option.desired_stop and option.t_type and option.route_n):\n",
    "#     print('specify correct input')\n",
    "#     parser.print_help()\n",
    "#     sys.exit(1)\n"
   ]
  },
  {
   "cell_type": "code",
   "execution_count": 239,
   "metadata": {
    "collapsed": false
   },
   "outputs": [],
   "source": [
    "# if __name__ == \"__main__\":\n",
    "#     desired_stop = sys.argv[1]\n",
    "#     t_type = sys.argv[2]"
   ]
  },
  {
   "cell_type": "code",
   "execution_count": 291,
   "metadata": {
    "collapsed": false
   },
   "outputs": [],
   "source": [
    "#import pickle\n",
    "def writer(l,filename):\n",
    "    with open(filename, \"w\") as fp: \n",
    "        for item in l:\n",
    "            fp.write(\"%s\\n\" % item)"
   ]
  },
  {
   "cell_type": "code",
   "execution_count": 331,
   "metadata": {
    "collapsed": false
   },
   "outputs": [],
   "source": [
    "from progressbar import*"
   ]
  },
  {
   "cell_type": "code",
   "execution_count": 332,
   "metadata": {
    "collapsed": false
   },
   "outputs": [],
   "source": [
    "def worker(n,desired_stop,t_type,route_n,filename):\n",
    "    count = 0\n",
    "    result = []\n",
    "    progress = ProgressBar(n, fmt=ProgressBar.FULL)\n",
    "    while(count<n):\n",
    "        progress.current += 1\n",
    "        progress()\n",
    "        stop_data = get_stop_info(desired_stop)\n",
    "        bus_list = get_bus_info(stop_data,t_type,route_n)\n",
    "        #print([count,bus_list])\n",
    "        result.append([count,datetime.datetime.now(),bus_list])\n",
    "        count+=1\n",
    "        time.sleep(10)\n",
    "    progress.done()\n",
    "    writer(result,filename)\n",
    "    return result\n",
    "        \n",
    "#worker(1800,171,'Bus',39,'test.txt')"
   ]
  },
  {
   "cell_type": "code",
   "execution_count": 333,
   "metadata": {
    "collapsed": false
   },
   "outputs": [
    {
     "name": "stderr",
     "output_type": "stream",
     "text": [
      "[========================================] 3/3 (100%) 0 to go\n"
     ]
    },
    {
     "data": {
      "text/plain": [
       "[[0,\n",
       "  datetime.datetime(2017, 6, 5, 13, 35, 30, 778661),\n",
       "  [{'pre_away': '1420',\n",
       "    'pre_dt': '1496685551',\n",
       "    'sch_arr_dt': '1496685420',\n",
       "    'sch_dep_dt': '1496685420',\n",
       "    'trip_headsign': 'Back Bay',\n",
       "    'trip_id': '33786527',\n",
       "    'trip_name': '1:22 pm from Forest Hills Station to Back Bay Station',\n",
       "    'vehicle': {'vehicle_bearing': '353',\n",
       "     'vehicle_id': 'y1211',\n",
       "     'vehicle_label': '1211',\n",
       "     'vehicle_lat': '42.3196868896484',\n",
       "     'vehicle_lon': '-71.1116256713867',\n",
       "     'vehicle_speed': '0',\n",
       "     'vehicle_timestamp': '1496684058'}},\n",
       "   {'pre_away': '2162',\n",
       "    'pre_dt': '1496686293',\n",
       "    'sch_arr_dt': '1496686200',\n",
       "    'sch_dep_dt': '1496686200',\n",
       "    'trip_headsign': 'Back Bay',\n",
       "    'trip_id': '33786545',\n",
       "    'trip_name': '1:35 pm from Forest Hills Station to Back Bay Station'},\n",
       "   {'pre_away': '2812',\n",
       "    'pre_dt': '1496686943',\n",
       "    'sch_arr_dt': '1496686980',\n",
       "    'sch_dep_dt': '1496686980',\n",
       "    'trip_headsign': 'Back Bay',\n",
       "    'trip_id': '33786468',\n",
       "    'trip_name': '1:48 pm from Forest Hills Station to Back Bay Station'},\n",
       "   {'pre_away': '3592',\n",
       "    'pre_dt': '1496687723',\n",
       "    'sch_arr_dt': '1496687820',\n",
       "    'sch_dep_dt': '1496687820',\n",
       "    'trip_headsign': 'Back Bay',\n",
       "    'trip_id': '33786459',\n",
       "    'trip_name': '2:01 pm from Forest Hills Station to Back Bay Station'}]],\n",
       " [1,\n",
       "  datetime.datetime(2017, 6, 5, 13, 35, 40, 937288),\n",
       "  [{'pre_away': '1420',\n",
       "    'pre_dt': '1496685551',\n",
       "    'sch_arr_dt': '1496685420',\n",
       "    'sch_dep_dt': '1496685420',\n",
       "    'trip_headsign': 'Back Bay',\n",
       "    'trip_id': '33786527',\n",
       "    'trip_name': '1:22 pm from Forest Hills Station to Back Bay Station',\n",
       "    'vehicle': {'vehicle_bearing': '353',\n",
       "     'vehicle_id': 'y1211',\n",
       "     'vehicle_label': '1211',\n",
       "     'vehicle_lat': '42.3196868896484',\n",
       "     'vehicle_lon': '-71.1116256713867',\n",
       "     'vehicle_speed': '0',\n",
       "     'vehicle_timestamp': '1496684058'}},\n",
       "   {'pre_away': '2162',\n",
       "    'pre_dt': '1496686293',\n",
       "    'sch_arr_dt': '1496686200',\n",
       "    'sch_dep_dt': '1496686200',\n",
       "    'trip_headsign': 'Back Bay',\n",
       "    'trip_id': '33786545',\n",
       "    'trip_name': '1:35 pm from Forest Hills Station to Back Bay Station'},\n",
       "   {'pre_away': '2812',\n",
       "    'pre_dt': '1496686943',\n",
       "    'sch_arr_dt': '1496686980',\n",
       "    'sch_dep_dt': '1496686980',\n",
       "    'trip_headsign': 'Back Bay',\n",
       "    'trip_id': '33786468',\n",
       "    'trip_name': '1:48 pm from Forest Hills Station to Back Bay Station'},\n",
       "   {'pre_away': '3592',\n",
       "    'pre_dt': '1496687723',\n",
       "    'sch_arr_dt': '1496687820',\n",
       "    'sch_dep_dt': '1496687820',\n",
       "    'trip_headsign': 'Back Bay',\n",
       "    'trip_id': '33786459',\n",
       "    'trip_name': '2:01 pm from Forest Hills Station to Back Bay Station'}]],\n",
       " [2,\n",
       "  datetime.datetime(2017, 6, 5, 13, 35, 51, 99398),\n",
       "  [{'pre_away': '1405',\n",
       "    'pre_dt': '1496685551',\n",
       "    'sch_arr_dt': '1496685420',\n",
       "    'sch_dep_dt': '1496685420',\n",
       "    'trip_headsign': 'Back Bay',\n",
       "    'trip_id': '33786527',\n",
       "    'trip_name': '1:22 pm from Forest Hills Station to Back Bay Station',\n",
       "    'vehicle': {'vehicle_bearing': '353',\n",
       "     'vehicle_id': 'y1211',\n",
       "     'vehicle_label': '1211',\n",
       "     'vehicle_lat': '42.3196868896484',\n",
       "     'vehicle_lon': '-71.1116256713867',\n",
       "     'vehicle_speed': '0',\n",
       "     'vehicle_timestamp': '1496684058'}},\n",
       "   {'pre_away': '2147',\n",
       "    'pre_dt': '1496686293',\n",
       "    'sch_arr_dt': '1496686200',\n",
       "    'sch_dep_dt': '1496686200',\n",
       "    'trip_headsign': 'Back Bay',\n",
       "    'trip_id': '33786545',\n",
       "    'trip_name': '1:35 pm from Forest Hills Station to Back Bay Station'},\n",
       "   {'pre_away': '2797',\n",
       "    'pre_dt': '1496686943',\n",
       "    'sch_arr_dt': '1496686980',\n",
       "    'sch_dep_dt': '1496686980',\n",
       "    'trip_headsign': 'Back Bay',\n",
       "    'trip_id': '33786468',\n",
       "    'trip_name': '1:48 pm from Forest Hills Station to Back Bay Station'},\n",
       "   {'pre_away': '3577',\n",
       "    'pre_dt': '1496687723',\n",
       "    'sch_arr_dt': '1496687820',\n",
       "    'sch_dep_dt': '1496687820',\n",
       "    'trip_headsign': 'Back Bay',\n",
       "    'trip_id': '33786459',\n",
       "    'trip_name': '2:01 pm from Forest Hills Station to Back Bay Station'}]]]"
      ]
     },
     "execution_count": 333,
     "metadata": {},
     "output_type": "execute_result"
    }
   ],
   "source": [
    "worker(3,175,'Bus',39,'t1.txt')"
   ]
  }
 ],
 "metadata": {
  "anaconda-cloud": {},
  "kernelspec": {
   "display_name": "Python [Root]",
   "language": "python",
   "name": "Python [Root]"
  },
  "language_info": {
   "codemirror_mode": {
    "name": "ipython",
    "version": 3
   },
   "file_extension": ".py",
   "mimetype": "text/x-python",
   "name": "python",
   "nbconvert_exporter": "python",
   "pygments_lexer": "ipython3",
   "version": "3.5.2"
  }
 },
 "nbformat": 4,
 "nbformat_minor": 0
}
