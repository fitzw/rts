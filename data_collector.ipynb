{
 "cells": [
  {
   "cell_type": "code",
   "execution_count": 34,
   "metadata": {
    "collapsed": true
   },
   "outputs": [],
   "source": [
    "from bs4 import BeautifulSoup\n",
    "import sys\n",
    "import time as tm\n",
    "from datetime import datetime, time\n",
    "import os\n",
    "import requests\n",
    "import codecs\n",
    "import json\n",
    "from optparse import OptionParser\n",
    "key = 'Z4Y7a0W330WT1m6DUoHXhQ'\n",
    "#url = 'http://realtime.mbta.com/developer/api/v2/predictionsbystop?api_key=wX9NwuHnZU2ToO7GmGR9uw&stop=place-bbsta&format=json'"
   ]
  },
  {
   "cell_type": "markdown",
   "metadata": {},
   "source": [
    "* \"70154\",\"70154\",\"Copley - Inbound\",\"\",42.349974,-71.077447,\"\",\"\",0,\"place-coecl\",0\n",
    "\n",
    "* \"70155\",\"70155\",\"Copley - Outbound\",\"\",42.349974,-71.077447,\"\",\"\",0,\"place-coecl\",0"
   ]
  },
  {
   "cell_type": "markdown",
   "metadata": {},
   "source": [
    "1. * Route_type = 0 -> subway\n",
    "   * 1 -> rail way\n",
    "   * 2 -> bus\n",
    "   \n",
    "2. * 39 bus \"175\",\"175\",\"Boylston St @ Dartmouth St\",\"\",42.350011,-71.077432,\"\",\"\",0,\"\",0\n",
    "\n"
   ]
  },
  {
   "cell_type": "code",
   "execution_count": 35,
   "metadata": {
    "collapsed": false
   },
   "outputs": [],
   "source": [
    "def get_stop_info(stop_id):\n",
    "    stop = str(stop_id)\n",
    "    url = 'http://realtime.mbta.com/developer/api/v2/predictionsbystop?'\\\n",
    "          'api_key='+key+'&stop='+stop+'&format=json'\n",
    "    response = requests.get(url) \n",
    "    #text = response.text.encode('utf-8')\n",
    "    data = json.loads(response.text)\n",
    "    return data"
   ]
  },
  {
   "cell_type": "code",
   "execution_count": 36,
   "metadata": {
    "collapsed": false
   },
   "outputs": [],
   "source": [
    "#data.keys() -> ['mode', 'stop_id', 'stop_name', 'alert_headers']"
   ]
  },
  {
   "cell_type": "code",
   "execution_count": 37,
   "metadata": {
    "collapsed": false
   },
   "outputs": [],
   "source": [
    "def get_bus_info(stop_data,t_type,route_n):\n",
    "    if 'mode' not in stop_data.keys():\n",
    "        print('service goes offline @ %d:%d'%(datetime.now().hour,datetime.now().minute))\n",
    "    else:\n",
    "        for i in stop_data['mode']:\n",
    "            if i['mode_name'] == t_type:\n",
    "                for route in i['route']:\n",
    "                    if route['route_name']==str(route_n):\n",
    "                        return route['direction'][0]['trip']\n",
    "    return 'This bus is unavailable or bus id not found.'"
   ]
  },
  {
   "cell_type": "code",
   "execution_count": 38,
   "metadata": {
    "collapsed": false
   },
   "outputs": [],
   "source": [
    "#bus_data.keys() -> ['route_name', 'direction', 'route_id']"
   ]
  },
  {
   "cell_type": "code",
   "execution_count": 39,
   "metadata": {
    "collapsed": true
   },
   "outputs": [],
   "source": [
    "#bus_data['direction'][0].keys() -> ['trip', 'direction_name', 'direction_id']"
   ]
  },
  {
   "cell_type": "code",
   "execution_count": 40,
   "metadata": {
    "collapsed": false
   },
   "outputs": [],
   "source": [
    "# parser = OptionParser()\n",
    "# parser.add_option('-v', '--verbose', action='store_true')\n",
    "# parser.add_option('-o', '--output-file')\n",
    "# parser.add_option('-n', '--n_of_time', type = 'int')\n",
    "# parser.add_option('-s', '--desired_stop', type='str')\n",
    "# parser.add_option('-t', '--t_type', type='str')\n",
    "# parser.add_option('-r', '--route_n', type='int')\n",
    "# option, args = parser.parse_args()\n",
    "# if not option.output_file:\n",
    "#     print('specify input and output files')\n",
    "#     parser.print_help()\n",
    "#     sys.exit(1)\n",
    "# if not (option.desired_stop and option.t_type and option.route_n):\n",
    "#     print('specify correct input')\n",
    "#     parser.print_help()\n",
    "#     sys.exit(1)\n"
   ]
  },
  {
   "cell_type": "code",
   "execution_count": 41,
   "metadata": {
    "collapsed": false
   },
   "outputs": [],
   "source": [
    "# if __name__ == \"__main__\":\n",
    "#     desired_stop = sys.argv[1]\n",
    "#     t_type = sys.argv[2]"
   ]
  },
  {
   "cell_type": "code",
   "execution_count": 42,
   "metadata": {
    "collapsed": false
   },
   "outputs": [],
   "source": [
    "#import pickle\n",
    "def writer(data,filename):\n",
    "    with open(filename+'.json', \"w\") as fp: \n",
    "        json.dump(data, fp)\n",
    "    #print(filename+' is written @ '+str(datetime.now()))\n",
    "    return str(filename+' is written @ '+str(datetime.now()))"
   ]
  },
  {
   "cell_type": "code",
   "execution_count": 43,
   "metadata": {
    "collapsed": false
   },
   "outputs": [],
   "source": [
    "# def worker(n,desired_stop,t_type,route_n,filename):\n",
    "#     count = 0\n",
    "#     result = []\n",
    "#     progress = ProgressBar(n, fmt=ProgressBar.FULL)\n",
    "#     while(count<n):\n",
    "#         progress.current += 1\n",
    "#         progress()\n",
    "#         stop_data = get_stop_info(desired_stop)\n",
    "#         bus_list = get_bus_info(stop_data,t_type,route_n)\n",
    "#         #print([count,bus_list])\n",
    "#         result.append([count,datetime.now(),bus_list])\n",
    "#         count+=1\n",
    "#         tm.sleep(10)\n",
    "#     progress.done()\n",
    "#     writer(result,filename)\n",
    "#     return result\n",
    "        \n",
    "# #worker(1800,171,'Bus',39,'test.txt')"
   ]
  },
  {
   "cell_type": "code",
   "execution_count": 44,
   "metadata": {
    "collapsed": false
   },
   "outputs": [
    {
     "name": "stderr",
     "output_type": "stream",
     "text": [
      "[========================================] 50/50 (100%)  0 to go\n",
      "[                                        ]  1/50 (  2%) 49 to go"
     ]
    },
    {
     "name": "stdout",
     "output_type": "stream",
     "text": [
      "Data_0 collected, writting to file: output/Dec12_0\n",
      "output/Dec12_0 is written @ 2017-12-12 09:29:28.212611\n"
     ]
    },
    {
     "name": "stderr",
     "output_type": "stream",
     "text": [
      "[========================================] 50/50 (100%)  0 to go\n",
      "[                                        ]  1/50 (  2%) 49 to go"
     ]
    },
    {
     "name": "stdout",
     "output_type": "stream",
     "text": [
      "Data_1 collected, writting to file: output/Dec12_1\n",
      "output/Dec12_1 is written @ 2017-12-12 09:54:43.555333\n"
     ]
    },
    {
     "name": "stderr",
     "output_type": "stream",
     "text": [
      "[========================================] 50/50 (100%)  0 to go\n",
      "[                                        ]  1/50 (  2%) 49 to go"
     ]
    },
    {
     "name": "stdout",
     "output_type": "stream",
     "text": [
      "Data_2 collected, writting to file: output/Dec12_2\n",
      "output/Dec12_2 is written @ 2017-12-12 10:19:52.884341\n"
     ]
    },
    {
     "name": "stderr",
     "output_type": "stream",
     "text": [
      "[====================================    ] 46/50 ( 92%)  4 to go"
     ]
    },
    {
     "name": "stdout",
     "output_type": "stream",
     "text": [
      "service goes offline @ 10:42\n"
     ]
    },
    {
     "name": "stderr",
     "output_type": "stream",
     "text": [
      "[========================================] 50/50 (100%)  0 to go\n",
      "[                                        ]  1/50 (  2%) 49 to go"
     ]
    },
    {
     "name": "stdout",
     "output_type": "stream",
     "text": [
      "Data_3 collected, writting to file: output/Dec12_3\n",
      "output/Dec12_3 is written @ 2017-12-12 10:45:08.281707\n"
     ]
    },
    {
     "name": "stderr",
     "output_type": "stream",
     "text": [
      "[========================================] 50/50 (100%)  0 to go\n",
      "[                                        ]  1/50 (  2%) 49 to go"
     ]
    },
    {
     "name": "stdout",
     "output_type": "stream",
     "text": [
      "Data_4 collected, writting to file: output/Dec12_4\n",
      "output/Dec12_4 is written @ 2017-12-12 11:10:19.376325\n"
     ]
    },
    {
     "name": "stderr",
     "output_type": "stream",
     "text": [
      "[========================================] 50/50 (100%)  0 to go\n",
      "[                                        ]  1/50 (  2%) 49 to go"
     ]
    },
    {
     "name": "stdout",
     "output_type": "stream",
     "text": [
      "Data_5 collected, writting to file: output/Dec12_5\n",
      "output/Dec12_5 is written @ 2017-12-12 11:35:31.833968\n"
     ]
    },
    {
     "name": "stderr",
     "output_type": "stream",
     "text": [
      "\r",
      "[=                                       ]  2/50 (  4%) 48 to go"
     ]
    },
    {
     "name": "stdout",
     "output_type": "stream",
     "text": [
      "service goes offline @ 11:36\n"
     ]
    },
    {
     "name": "stderr",
     "output_type": "stream",
     "text": [
      "[========================================] 50/50 (100%)  0 to go\n",
      "[                                        ]  1/50 (  2%) 49 to go"
     ]
    },
    {
     "name": "stdout",
     "output_type": "stream",
     "text": [
      "Data_6 collected, writting to file: output/Dec12_6\n",
      "output/Dec12_6 is written @ 2017-12-12 12:00:43.863605\n"
     ]
    },
    {
     "name": "stderr",
     "output_type": "stream",
     "text": [
      "[========================================] 50/50 (100%)  0 to go\n",
      "[                                        ]  1/50 (  2%) 49 to go"
     ]
    },
    {
     "name": "stdout",
     "output_type": "stream",
     "text": [
      "Data_7 collected, writting to file: output/Dec12_7\n",
      "output/Dec12_7 is written @ 2017-12-12 12:25:56.703757\n"
     ]
    },
    {
     "name": "stderr",
     "output_type": "stream",
     "text": [
      "[========================================] 50/50 (100%)  0 to go\n",
      "[                                        ]  1/50 (  2%) 49 to go"
     ]
    },
    {
     "name": "stdout",
     "output_type": "stream",
     "text": [
      "Data_8 collected, writting to file: output/Dec12_8\n",
      "output/Dec12_8 is written @ 2017-12-12 12:51:09.318033\n"
     ]
    },
    {
     "name": "stderr",
     "output_type": "stream",
     "text": [
      "[========================================] 50/50 (100%)  0 to go\n",
      "[                                        ]  1/50 (  2%) 49 to go"
     ]
    },
    {
     "name": "stdout",
     "output_type": "stream",
     "text": [
      "Data_9 collected, writting to file: output/Dec12_9\n",
      "output/Dec12_9 is written @ 2017-12-12 13:16:20.060934\n"
     ]
    },
    {
     "name": "stderr",
     "output_type": "stream",
     "text": [
      "[=============================           ] 37/50 ( 74%) 13 to go"
     ]
    },
    {
     "name": "stdout",
     "output_type": "stream",
     "text": [
      "service goes offline @ 13:34\n"
     ]
    },
    {
     "name": "stderr",
     "output_type": "stream",
     "text": [
      "[========================================] 50/50 (100%)  0 to go\n",
      "[                                        ]  1/50 (  2%) 49 to go"
     ]
    },
    {
     "name": "stdout",
     "output_type": "stream",
     "text": [
      "Data_10 collected, writting to file: output/Dec12_10\n",
      "output/Dec12_10 is written @ 2017-12-12 13:41:30.991440\n"
     ]
    },
    {
     "name": "stderr",
     "output_type": "stream",
     "text": [
      "[===============                         ] 19/50 ( 38%) 31 to go"
     ]
    },
    {
     "name": "stdout",
     "output_type": "stream",
     "text": [
      "service goes offline @ 13:50\n"
     ]
    },
    {
     "name": "stderr",
     "output_type": "stream",
     "text": [
      "[======================                  ] 28/50 ( 56%) 22 to go"
     ]
    },
    {
     "name": "stdout",
     "output_type": "stream",
     "text": [
      "service goes offline @ 13:55\n"
     ]
    },
    {
     "name": "stderr",
     "output_type": "stream",
     "text": [
      "[========================================] 50/50 (100%)  0 to go\n",
      "[                                        ]  1/50 (  2%) 49 to go"
     ]
    },
    {
     "name": "stdout",
     "output_type": "stream",
     "text": [
      "Data_11 collected, writting to file: output/Dec12_11\n",
      "output/Dec12_11 is written @ 2017-12-12 14:06:44.747507\n"
     ]
    },
    {
     "name": "stderr",
     "output_type": "stream",
     "text": [
      "[========================================] 50/50 (100%)  0 to go\n",
      "[                                        ]  1/50 (  2%) 49 to go"
     ]
    },
    {
     "name": "stdout",
     "output_type": "stream",
     "text": [
      "Data_12 collected, writting to file: output/Dec12_12\n",
      "output/Dec12_12 is written @ 2017-12-12 14:31:56.103300\n"
     ]
    },
    {
     "name": "stderr",
     "output_type": "stream",
     "text": [
      "[======================================  ] 48/50 ( 96%)  2 to go"
     ]
    },
    {
     "name": "stdout",
     "output_type": "stream",
     "text": [
      "service goes offline @ 14:55\n"
     ]
    },
    {
     "name": "stderr",
     "output_type": "stream",
     "text": [
      "[========================================] 50/50 (100%)  0 to go\n",
      "[                                        ]  1/50 (  2%) 49 to go"
     ]
    },
    {
     "name": "stdout",
     "output_type": "stream",
     "text": [
      "Data_13 collected, writting to file: output/Dec12_13\n",
      "output/Dec12_13 is written @ 2017-12-12 14:57:10.895581\n"
     ]
    },
    {
     "name": "stderr",
     "output_type": "stream",
     "text": [
      "[========================================] 50/50 (100%)  0 to go\n",
      "[                                        ]  1/50 (  2%) 49 to go"
     ]
    },
    {
     "name": "stdout",
     "output_type": "stream",
     "text": [
      "Data_14 collected, writting to file: output/Dec12_14\n",
      "output/Dec12_14 is written @ 2017-12-12 15:22:24.819386\n"
     ]
    },
    {
     "name": "stderr",
     "output_type": "stream",
     "text": [
      "[========================================] 50/50 (100%)  0 to go\n",
      "[                                        ]  1/50 (  2%) 49 to go"
     ]
    },
    {
     "name": "stdout",
     "output_type": "stream",
     "text": [
      "Data_15 collected, writting to file: output/Dec12_15\n",
      "output/Dec12_15 is written @ 2017-12-12 15:47:35.778946\n"
     ]
    },
    {
     "name": "stderr",
     "output_type": "stream",
     "text": [
      "[========================================] 50/50 (100%)  0 to go\n",
      "[                                        ]  1/50 (  2%) 49 to go"
     ]
    },
    {
     "name": "stdout",
     "output_type": "stream",
     "text": [
      "Data_16 collected, writting to file: output/Dec12_16\n",
      "output/Dec12_16 is written @ 2017-12-12 16:12:49.780182\n"
     ]
    },
    {
     "name": "stderr",
     "output_type": "stream",
     "text": [
      "[========================================] 50/50 (100%)  0 to go\n",
      "[                                        ]  1/50 (  2%) 49 to go"
     ]
    },
    {
     "name": "stdout",
     "output_type": "stream",
     "text": [
      "Data_17 collected, writting to file: output/Dec12_17\n",
      "output/Dec12_17 is written @ 2017-12-12 16:38:04.338494\n"
     ]
    },
    {
     "name": "stderr",
     "output_type": "stream",
     "text": [
      "[=======                                 ]  9/50 ( 18%) 41 to go"
     ]
    },
    {
     "name": "stdout",
     "output_type": "stream",
     "text": [
      "service goes offline @ 16:42\n"
     ]
    },
    {
     "name": "stderr",
     "output_type": "stream",
     "text": [
      "[========================================] 50/50 (100%)  0 to go\n",
      "[                                        ]  1/50 (  2%) 49 to go"
     ]
    },
    {
     "name": "stdout",
     "output_type": "stream",
     "text": [
      "Data_18 collected, writting to file: output/Dec12_18\n",
      "output/Dec12_18 is written @ 2017-12-12 17:03:20.692697\n"
     ]
    },
    {
     "name": "stderr",
     "output_type": "stream",
     "text": [
      "[========================================] 50/50 (100%)  0 to go\n",
      "[                                        ]  1/50 (  2%) 49 to go"
     ]
    },
    {
     "name": "stdout",
     "output_type": "stream",
     "text": [
      "Data_19 collected, writting to file: output/Dec12_19\n",
      "output/Dec12_19 is written @ 2017-12-12 17:28:37.035781\n"
     ]
    },
    {
     "name": "stderr",
     "output_type": "stream",
     "text": [
      "[====================================    ] 45/50 ( 90%)  5 to go"
     ]
    },
    {
     "name": "stdout",
     "output_type": "stream",
     "text": [
      "service goes offline @ 17:50\n"
     ]
    },
    {
     "name": "stderr",
     "output_type": "stream",
     "text": [
      "[======================================= ] 49/50 ( 98%)  1 to go"
     ]
    },
    {
     "name": "stdout",
     "output_type": "stream",
     "text": [
      "service goes offline @ 17:52\n"
     ]
    },
    {
     "name": "stderr",
     "output_type": "stream",
     "text": [
      "[========================================] 50/50 (100%)  0 to go\n",
      "[                                        ]  1/50 (  2%) 49 to go"
     ]
    },
    {
     "name": "stdout",
     "output_type": "stream",
     "text": [
      "Data_20 collected, writting to file: output/Dec12_20\n",
      "output/Dec12_20 is written @ 2017-12-12 17:53:54.954458\n"
     ]
    },
    {
     "name": "stderr",
     "output_type": "stream",
     "text": [
      "[===================================     ] 44/50 ( 88%)  6 to go"
     ]
    },
    {
     "name": "stdout",
     "output_type": "stream",
     "text": [
      "service goes offline @ 18:15\n"
     ]
    },
    {
     "name": "stderr",
     "output_type": "stream",
     "text": [
      "[========================================] 50/50 (100%)  0 to go\n",
      "[                                        ]  1/50 (  2%) 49 to go"
     ]
    },
    {
     "name": "stdout",
     "output_type": "stream",
     "text": [
      "Data_21 collected, writting to file: output/Dec12_21\n",
      "output/Dec12_21 is written @ 2017-12-12 18:19:13.108373\n"
     ]
    },
    {
     "name": "stderr",
     "output_type": "stream",
     "text": [
      "[========================================] 50/50 (100%)  0 to go\n",
      "[                                        ]  1/50 (  2%) 49 to go"
     ]
    },
    {
     "name": "stdout",
     "output_type": "stream",
     "text": [
      "Data_22 collected, writting to file: output/Dec12_22\n",
      "output/Dec12_22 is written @ 2017-12-12 18:44:30.374899\n"
     ]
    },
    {
     "name": "stderr",
     "output_type": "stream",
     "text": [
      "[========================================] 50/50 (100%)  0 to go\n",
      "[                                        ]  1/50 (  2%) 49 to go"
     ]
    },
    {
     "name": "stdout",
     "output_type": "stream",
     "text": [
      "Data_23 collected, writting to file: output/Dec12_23\n",
      "output/Dec12_23 is written @ 2017-12-12 19:09:45.427926\n"
     ]
    },
    {
     "name": "stderr",
     "output_type": "stream",
     "text": [
      "[========================================] 50/50 (100%)  0 to go\n",
      "[                                        ]  1/50 (  2%) 49 to go"
     ]
    },
    {
     "name": "stdout",
     "output_type": "stream",
     "text": [
      "Data_24 collected, writting to file: output/Dec12_24\n",
      "output/Dec12_24 is written @ 2017-12-12 19:34:57.094452\n"
     ]
    },
    {
     "name": "stderr",
     "output_type": "stream",
     "text": [
      "[========================================] 50/50 (100%)  0 to go\n",
      "[                                        ]  1/50 (  2%) 49 to go"
     ]
    },
    {
     "name": "stdout",
     "output_type": "stream",
     "text": [
      "Data_25 collected, writting to file: output/Dec12_25\n",
      "output/Dec12_25 is written @ 2017-12-12 20:00:08.068083\n"
     ]
    },
    {
     "name": "stderr",
     "output_type": "stream",
     "text": [
      "[========================================] 50/50 (100%)  0 to go\n",
      "[                                        ]  1/50 (  2%) 49 to go"
     ]
    },
    {
     "name": "stdout",
     "output_type": "stream",
     "text": [
      "Data_26 collected, writting to file: output/Dec12_26\n",
      "output/Dec12_26 is written @ 2017-12-12 20:25:22.250420\n"
     ]
    },
    {
     "name": "stderr",
     "output_type": "stream",
     "text": [
      "[========================================] 50/50 (100%)  0 to go\n",
      "[                                        ]  1/50 (  2%) 49 to go"
     ]
    },
    {
     "name": "stdout",
     "output_type": "stream",
     "text": [
      "Data_27 collected, writting to file: output/Dec12_27\n",
      "output/Dec12_27 is written @ 2017-12-12 20:50:32.478693\n"
     ]
    },
    {
     "name": "stderr",
     "output_type": "stream",
     "text": [
      "[========================================] 50/50 (100%)  0 to go\n",
      "[                                        ]  1/50 (  2%) 49 to go"
     ]
    },
    {
     "name": "stdout",
     "output_type": "stream",
     "text": [
      "Data_28 collected, writting to file: output/Dec12_28\n",
      "output/Dec12_28 is written @ 2017-12-12 21:15:43.159752\n"
     ]
    },
    {
     "name": "stderr",
     "output_type": "stream",
     "text": [
      "[========================================] 50/50 (100%)  0 to go\n",
      "[                                        ]  1/50 (  2%) 49 to go"
     ]
    },
    {
     "name": "stdout",
     "output_type": "stream",
     "text": [
      "Data_29 collected, writting to file: output/Dec12_29\n",
      "output/Dec12_29 is written @ 2017-12-12 21:40:55.770956\n"
     ]
    },
    {
     "name": "stderr",
     "output_type": "stream",
     "text": [
      "[========================================] 50/50 (100%)  0 to go\n",
      "[                                        ]  1/50 (  2%) 49 to go"
     ]
    },
    {
     "name": "stdout",
     "output_type": "stream",
     "text": [
      "Data_30 collected, writting to file: output/Dec12_30\n",
      "output/Dec12_30 is written @ 2017-12-12 22:06:06.859543\n"
     ]
    },
    {
     "name": "stderr",
     "output_type": "stream",
     "text": [
      "[========================================] 50/50 (100%)  0 to go\n",
      "[                                        ]  1/50 (  2%) 49 to go"
     ]
    },
    {
     "name": "stdout",
     "output_type": "stream",
     "text": [
      "Data_31 collected, writting to file: output/Dec12_31\n",
      "output/Dec12_31 is written @ 2017-12-12 22:31:17.364059\n"
     ]
    },
    {
     "name": "stderr",
     "output_type": "stream",
     "text": [
      "[========================================] 50/50 (100%)  0 to go\n",
      "[                                        ]  1/50 (  2%) 49 to go"
     ]
    },
    {
     "name": "stdout",
     "output_type": "stream",
     "text": [
      "Data_32 collected, writting to file: output/Dec12_32\n",
      "output/Dec12_32 is written @ 2017-12-12 22:56:27.505351\n"
     ]
    },
    {
     "name": "stderr",
     "output_type": "stream",
     "text": [
      "[========================================] 50/50 (100%)  0 to go\n",
      "[                                        ]  1/50 (  2%) 49 to go"
     ]
    },
    {
     "name": "stdout",
     "output_type": "stream",
     "text": [
      "Data_33 collected, writting to file: output/Dec12_33\n",
      "output/Dec12_33 is written @ 2017-12-12 23:21:42.250799\n"
     ]
    },
    {
     "name": "stderr",
     "output_type": "stream",
     "text": [
      "[====================================    ] 46/50 ( 92%)  4 to go"
     ]
    },
    {
     "name": "stdout",
     "output_type": "stream",
     "text": [
      "service goes offline @ 23:44\n"
     ]
    },
    {
     "name": "stderr",
     "output_type": "stream",
     "text": [
      "[========================================] 50/50 (100%)  0 to go\n",
      "[                                        ]  1/50 (  2%) 49 to go"
     ]
    },
    {
     "name": "stdout",
     "output_type": "stream",
     "text": [
      "Data_34 collected, writting to file: output/Dec12_34\n",
      "output/Dec12_34 is written @ 2017-12-12 23:46:52.860507\n",
      "service goes offline @ 23:46\n"
     ]
    },
    {
     "name": "stderr",
     "output_type": "stream",
     "text": [
      "[========================================] 50/50 (100%)  0 to go\n",
      "[                                        ]  1/50 (  2%) 49 to go"
     ]
    },
    {
     "name": "stdout",
     "output_type": "stream",
     "text": [
      "Data_35 collected, writting to file: output/Dec12_35\n",
      "output/Dec12_35 is written @ 2017-12-13 00:12:03.264752\n"
     ]
    },
    {
     "name": "stderr",
     "output_type": "stream",
     "text": [
      "[========================================] 50/50 (100%)  0 to go\n",
      "[                                        ]  1/50 (  2%) 49 to go"
     ]
    },
    {
     "name": "stdout",
     "output_type": "stream",
     "text": [
      "Data_36 collected, writting to file: output/Dec13_36\n",
      "output/Dec13_36 is written @ 2017-12-13 00:37:12.937649\n"
     ]
    },
    {
     "name": "stderr",
     "output_type": "stream",
     "text": [
      "[========================================] 50/50 (100%)  0 to go\n",
      "[                                        ]  1/50 (  2%) 49 to go"
     ]
    },
    {
     "name": "stdout",
     "output_type": "stream",
     "text": [
      "Data_37 collected, writting to file: output/Dec13_37\n",
      "output/Dec13_37 is written @ 2017-12-13 01:02:21.357661\n"
     ]
    },
    {
     "name": "stderr",
     "output_type": "stream",
     "text": [
      "[=====                                   ]  7/50 ( 14%) 43 to go"
     ]
    },
    {
     "name": "stdout",
     "output_type": "stream",
     "text": [
      "service goes offline @ 1:5\n"
     ]
    },
    {
     "name": "stderr",
     "output_type": "stream",
     "text": [
      "\r",
      "[======                                  ]  8/50 ( 16%) 42 to go"
     ]
    },
    {
     "name": "stdout",
     "output_type": "stream",
     "text": [
      "service goes offline @ 1:5\n"
     ]
    },
    {
     "name": "stderr",
     "output_type": "stream",
     "text": [
      "\r",
      "[=======                                 ]  9/50 ( 18%) 41 to go"
     ]
    },
    {
     "name": "stdout",
     "output_type": "stream",
     "text": [
      "service goes offline @ 1:6\n"
     ]
    },
    {
     "name": "stderr",
     "output_type": "stream",
     "text": [
      "\r",
      "[========                                ] 10/50 ( 20%) 40 to go"
     ]
    },
    {
     "name": "stdout",
     "output_type": "stream",
     "text": [
      "service goes offline @ 1:6\n"
     ]
    },
    {
     "name": "stderr",
     "output_type": "stream",
     "text": [
      "\r",
      "[========                                ] 11/50 ( 22%) 39 to go"
     ]
    },
    {
     "name": "stdout",
     "output_type": "stream",
     "text": [
      "service goes offline @ 1:7\n"
     ]
    },
    {
     "name": "stderr",
     "output_type": "stream",
     "text": [
      "\r",
      "[=========                               ] 12/50 ( 24%) 38 to go"
     ]
    },
    {
     "name": "stdout",
     "output_type": "stream",
     "text": [
      "service goes offline @ 1:7\n"
     ]
    },
    {
     "name": "stderr",
     "output_type": "stream",
     "text": [
      "\r",
      "[==========                              ] 13/50 ( 26%) 37 to go"
     ]
    },
    {
     "name": "stdout",
     "output_type": "stream",
     "text": [
      "service goes offline @ 1:8\n"
     ]
    },
    {
     "name": "stderr",
     "output_type": "stream",
     "text": [
      "\r",
      "[===========                             ] 14/50 ( 28%) 36 to go"
     ]
    },
    {
     "name": "stdout",
     "output_type": "stream",
     "text": [
      "service goes offline @ 1:8\n"
     ]
    },
    {
     "name": "stderr",
     "output_type": "stream",
     "text": [
      "\r",
      "[============                            ] 15/50 ( 30%) 35 to go"
     ]
    },
    {
     "name": "stdout",
     "output_type": "stream",
     "text": [
      "service goes offline @ 1:9\n"
     ]
    },
    {
     "name": "stderr",
     "output_type": "stream",
     "text": [
      "\r",
      "[============                            ] 16/50 ( 32%) 34 to go"
     ]
    },
    {
     "name": "stdout",
     "output_type": "stream",
     "text": [
      "service goes offline @ 1:9\n"
     ]
    },
    {
     "name": "stderr",
     "output_type": "stream",
     "text": [
      "\r",
      "[=============                           ] 17/50 ( 34%) 33 to go"
     ]
    },
    {
     "name": "stdout",
     "output_type": "stream",
     "text": [
      "service goes offline @ 1:10\n"
     ]
    },
    {
     "name": "stderr",
     "output_type": "stream",
     "text": [
      "\r",
      "[==============                          ] 18/50 ( 36%) 32 to go"
     ]
    },
    {
     "name": "stdout",
     "output_type": "stream",
     "text": [
      "service goes offline @ 1:10\n"
     ]
    },
    {
     "name": "stderr",
     "output_type": "stream",
     "text": [
      "\r",
      "[===============                         ] 19/50 ( 38%) 31 to go"
     ]
    },
    {
     "name": "stdout",
     "output_type": "stream",
     "text": [
      "service goes offline @ 1:11\n"
     ]
    },
    {
     "name": "stderr",
     "output_type": "stream",
     "text": [
      "\r",
      "[================                        ] 20/50 ( 40%) 30 to go"
     ]
    },
    {
     "name": "stdout",
     "output_type": "stream",
     "text": [
      "service goes offline @ 1:11\n"
     ]
    },
    {
     "name": "stderr",
     "output_type": "stream",
     "text": [
      "\r",
      "[================                        ] 21/50 ( 42%) 29 to go"
     ]
    },
    {
     "name": "stdout",
     "output_type": "stream",
     "text": [
      "service goes offline @ 1:12\n"
     ]
    },
    {
     "name": "stderr",
     "output_type": "stream",
     "text": [
      "\r",
      "[=================                       ] 22/50 ( 44%) 28 to go"
     ]
    },
    {
     "name": "stdout",
     "output_type": "stream",
     "text": [
      "service goes offline @ 1:12\n"
     ]
    },
    {
     "name": "stderr",
     "output_type": "stream",
     "text": [
      "\r",
      "[==================                      ] 23/50 ( 46%) 27 to go"
     ]
    },
    {
     "name": "stdout",
     "output_type": "stream",
     "text": [
      "service goes offline @ 1:13\n"
     ]
    },
    {
     "name": "stderr",
     "output_type": "stream",
     "text": [
      "\r",
      "[===================                     ] 24/50 ( 48%) 26 to go"
     ]
    },
    {
     "name": "stdout",
     "output_type": "stream",
     "text": [
      "service goes offline @ 1:13\n"
     ]
    },
    {
     "name": "stderr",
     "output_type": "stream",
     "text": [
      "\r",
      "[====================                    ] 25/50 ( 50%) 25 to go"
     ]
    },
    {
     "name": "stdout",
     "output_type": "stream",
     "text": [
      "service goes offline @ 1:14\n"
     ]
    },
    {
     "name": "stderr",
     "output_type": "stream",
     "text": [
      "\r",
      "[====================                    ] 26/50 ( 52%) 24 to go"
     ]
    },
    {
     "name": "stdout",
     "output_type": "stream",
     "text": [
      "service goes offline @ 1:14\n"
     ]
    },
    {
     "name": "stderr",
     "output_type": "stream",
     "text": [
      "\r",
      "[=====================                   ] 27/50 ( 54%) 23 to go"
     ]
    },
    {
     "name": "stdout",
     "output_type": "stream",
     "text": [
      "service goes offline @ 1:15\n"
     ]
    },
    {
     "name": "stderr",
     "output_type": "stream",
     "text": [
      "\r",
      "[======================                  ] 28/50 ( 56%) 22 to go"
     ]
    },
    {
     "name": "stdout",
     "output_type": "stream",
     "text": [
      "service goes offline @ 1:15\n"
     ]
    },
    {
     "name": "stderr",
     "output_type": "stream",
     "text": [
      "\r",
      "[=======================                 ] 29/50 ( 57%) 21 to go"
     ]
    },
    {
     "name": "stdout",
     "output_type": "stream",
     "text": [
      "service goes offline @ 1:16\n"
     ]
    },
    {
     "name": "stderr",
     "output_type": "stream",
     "text": [
      "\r",
      "[========================                ] 30/50 ( 60%) 20 to go"
     ]
    },
    {
     "name": "stdout",
     "output_type": "stream",
     "text": [
      "service goes offline @ 1:16\n"
     ]
    },
    {
     "name": "stderr",
     "output_type": "stream",
     "text": [
      "\r",
      "[========================                ] 31/50 ( 62%) 19 to go"
     ]
    },
    {
     "name": "stdout",
     "output_type": "stream",
     "text": [
      "service goes offline @ 1:17\n"
     ]
    },
    {
     "name": "stderr",
     "output_type": "stream",
     "text": [
      "\r",
      "[=========================               ] 32/50 ( 64%) 18 to go"
     ]
    },
    {
     "name": "stdout",
     "output_type": "stream",
     "text": [
      "service goes offline @ 1:17\n"
     ]
    },
    {
     "name": "stderr",
     "output_type": "stream",
     "text": [
      "\r",
      "[==========================              ] 33/50 ( 66%) 17 to go"
     ]
    },
    {
     "name": "stdout",
     "output_type": "stream",
     "text": [
      "service goes offline @ 1:18\n"
     ]
    },
    {
     "name": "stderr",
     "output_type": "stream",
     "text": [
      "\r",
      "[===========================             ] 34/50 ( 68%) 16 to go"
     ]
    },
    {
     "name": "stdout",
     "output_type": "stream",
     "text": [
      "service goes offline @ 1:18\n"
     ]
    },
    {
     "name": "stderr",
     "output_type": "stream",
     "text": [
      "\r",
      "[============================            ] 35/50 ( 70%) 15 to go"
     ]
    },
    {
     "name": "stdout",
     "output_type": "stream",
     "text": [
      "service goes offline @ 1:19\n"
     ]
    },
    {
     "name": "stderr",
     "output_type": "stream",
     "text": [
      "\r",
      "[============================            ] 36/50 ( 72%) 14 to go"
     ]
    },
    {
     "name": "stdout",
     "output_type": "stream",
     "text": [
      "service goes offline @ 1:19\n"
     ]
    },
    {
     "name": "stderr",
     "output_type": "stream",
     "text": [
      "\r",
      "[=============================           ] 37/50 ( 74%) 13 to go"
     ]
    },
    {
     "name": "stdout",
     "output_type": "stream",
     "text": [
      "service goes offline @ 1:20\n"
     ]
    },
    {
     "name": "stderr",
     "output_type": "stream",
     "text": [
      "\r",
      "[==============================          ] 38/50 ( 76%) 12 to go"
     ]
    },
    {
     "name": "stdout",
     "output_type": "stream",
     "text": [
      "service goes offline @ 1:20\n"
     ]
    },
    {
     "name": "stderr",
     "output_type": "stream",
     "text": [
      "\r",
      "[===============================         ] 39/50 ( 78%) 11 to go"
     ]
    },
    {
     "name": "stdout",
     "output_type": "stream",
     "text": [
      "service goes offline @ 1:21\n"
     ]
    },
    {
     "name": "stderr",
     "output_type": "stream",
     "text": [
      "\r",
      "[================================        ] 40/50 ( 80%) 10 to go"
     ]
    },
    {
     "name": "stdout",
     "output_type": "stream",
     "text": [
      "service goes offline @ 1:21\n"
     ]
    },
    {
     "name": "stderr",
     "output_type": "stream",
     "text": [
      "\r",
      "[================================        ] 41/50 ( 82%)  9 to go"
     ]
    },
    {
     "name": "stdout",
     "output_type": "stream",
     "text": [
      "service goes offline @ 1:22\n"
     ]
    },
    {
     "name": "stderr",
     "output_type": "stream",
     "text": [
      "\r",
      "[=================================       ] 42/50 ( 84%)  8 to go"
     ]
    },
    {
     "name": "stdout",
     "output_type": "stream",
     "text": [
      "service goes offline @ 1:22\n"
     ]
    },
    {
     "name": "stderr",
     "output_type": "stream",
     "text": [
      "\r",
      "[==================================      ] 43/50 ( 86%)  7 to go"
     ]
    },
    {
     "name": "stdout",
     "output_type": "stream",
     "text": [
      "service goes offline @ 1:23\n"
     ]
    },
    {
     "name": "stderr",
     "output_type": "stream",
     "text": [
      "\r",
      "[===================================     ] 44/50 ( 88%)  6 to go"
     ]
    },
    {
     "name": "stdout",
     "output_type": "stream",
     "text": [
      "service goes offline @ 1:24\n"
     ]
    },
    {
     "name": "stderr",
     "output_type": "stream",
     "text": [
      "\r",
      "[====================================    ] 45/50 ( 90%)  5 to go"
     ]
    },
    {
     "name": "stdout",
     "output_type": "stream",
     "text": [
      "service goes offline @ 1:24\n"
     ]
    },
    {
     "name": "stderr",
     "output_type": "stream",
     "text": [
      "\r",
      "[====================================    ] 46/50 ( 92%)  4 to go"
     ]
    },
    {
     "name": "stdout",
     "output_type": "stream",
     "text": [
      "service goes offline @ 1:25\n"
     ]
    },
    {
     "name": "stderr",
     "output_type": "stream",
     "text": [
      "\r",
      "[=====================================   ] 47/50 ( 94%)  3 to go"
     ]
    },
    {
     "name": "stdout",
     "output_type": "stream",
     "text": [
      "service goes offline @ 1:25\n"
     ]
    },
    {
     "name": "stderr",
     "output_type": "stream",
     "text": [
      "\r",
      "[======================================  ] 48/50 ( 96%)  2 to go"
     ]
    },
    {
     "name": "stdout",
     "output_type": "stream",
     "text": [
      "service goes offline @ 1:26\n"
     ]
    },
    {
     "name": "stderr",
     "output_type": "stream",
     "text": [
      "\r",
      "[======================================= ] 49/50 ( 98%)  1 to go"
     ]
    },
    {
     "name": "stdout",
     "output_type": "stream",
     "text": [
      "service goes offline @ 1:26\n"
     ]
    },
    {
     "name": "stderr",
     "output_type": "stream",
     "text": [
      "\r",
      "[========================================] 50/50 (100%)  0 to go"
     ]
    },
    {
     "name": "stdout",
     "output_type": "stream",
     "text": [
      "service goes offline @ 1:27\n"
     ]
    },
    {
     "name": "stderr",
     "output_type": "stream",
     "text": [
      "\r",
      "[========================================] 50/50 (100%)  0 to go\n",
      "\r",
      "[                                        ]  1/50 (  2%) 49 to go"
     ]
    },
    {
     "name": "stdout",
     "output_type": "stream",
     "text": [
      "Data_38 collected, writting to file: output/Dec13_38\n",
      "output/Dec13_38 is written @ 2017-12-13 01:27:31.060177\n",
      "service goes offline @ 1:27\n"
     ]
    },
    {
     "name": "stderr",
     "output_type": "stream",
     "text": [
      "\r",
      "[=                                       ]  2/50 (  4%) 48 to go"
     ]
    },
    {
     "name": "stdout",
     "output_type": "stream",
     "text": [
      "service goes offline @ 1:28\n"
     ]
    },
    {
     "name": "stderr",
     "output_type": "stream",
     "text": [
      "\r",
      "[==                                      ]  3/50 (  6%) 47 to go"
     ]
    },
    {
     "name": "stdout",
     "output_type": "stream",
     "text": [
      "service goes offline @ 1:28\n"
     ]
    },
    {
     "name": "stderr",
     "output_type": "stream",
     "text": [
      "\r",
      "[===                                     ]  4/50 (  8%) 46 to go"
     ]
    },
    {
     "name": "stdout",
     "output_type": "stream",
     "text": [
      "service goes offline @ 1:29\n"
     ]
    },
    {
     "name": "stderr",
     "output_type": "stream",
     "text": [
      "\r",
      "[====                                    ]  5/50 ( 10%) 45 to go"
     ]
    },
    {
     "name": "stdout",
     "output_type": "stream",
     "text": [
      "service goes offline @ 1:29\n"
     ]
    },
    {
     "name": "stderr",
     "output_type": "stream",
     "text": [
      "\r",
      "[====                                    ]  6/50 ( 12%) 44 to go"
     ]
    },
    {
     "name": "stdout",
     "output_type": "stream",
     "text": [
      "service goes offline @ 1:30\n"
     ]
    },
    {
     "name": "stderr",
     "output_type": "stream",
     "text": [
      "\r",
      "[=====                                   ]  7/50 ( 14%) 43 to go"
     ]
    },
    {
     "name": "stdout",
     "output_type": "stream",
     "text": [
      "service goes offline @ 1:30\n"
     ]
    },
    {
     "name": "stderr",
     "output_type": "stream",
     "text": [
      "\r",
      "[======                                  ]  8/50 ( 16%) 42 to go"
     ]
    },
    {
     "name": "stdout",
     "output_type": "stream",
     "text": [
      "service goes offline @ 1:31\n"
     ]
    },
    {
     "name": "stderr",
     "output_type": "stream",
     "text": [
      "\r",
      "[=======                                 ]  9/50 ( 18%) 41 to go"
     ]
    },
    {
     "name": "stdout",
     "output_type": "stream",
     "text": [
      "service goes offline @ 1:31\n"
     ]
    },
    {
     "name": "stderr",
     "output_type": "stream",
     "text": [
      "\r",
      "[========                                ] 10/50 ( 20%) 40 to go"
     ]
    },
    {
     "name": "stdout",
     "output_type": "stream",
     "text": [
      "service goes offline @ 1:32\n"
     ]
    },
    {
     "name": "stderr",
     "output_type": "stream",
     "text": [
      "\r",
      "[========                                ] 11/50 ( 22%) 39 to go"
     ]
    },
    {
     "name": "stdout",
     "output_type": "stream",
     "text": [
      "service goes offline @ 1:32\n"
     ]
    },
    {
     "name": "stderr",
     "output_type": "stream",
     "text": [
      "[======================                  ] 28/50 ( 56%) 22 to go"
     ]
    },
    {
     "name": "stdout",
     "output_type": "stream",
     "text": [
      "service goes offline @ 1:41\n"
     ]
    },
    {
     "name": "stderr",
     "output_type": "stream",
     "text": [
      "\r",
      "[=======================                 ] 29/50 ( 57%) 21 to go"
     ]
    },
    {
     "name": "stdout",
     "output_type": "stream",
     "text": [
      "service goes offline @ 1:41\n"
     ]
    },
    {
     "name": "stderr",
     "output_type": "stream",
     "text": [
      "\r",
      "[========================                ] 30/50 ( 60%) 20 to go"
     ]
    },
    {
     "name": "stdout",
     "output_type": "stream",
     "text": [
      "service goes offline @ 1:42\n"
     ]
    },
    {
     "name": "stderr",
     "output_type": "stream",
     "text": [
      "\r",
      "[========================                ] 31/50 ( 62%) 19 to go"
     ]
    },
    {
     "name": "stdout",
     "output_type": "stream",
     "text": [
      "service goes offline @ 1:42\n"
     ]
    },
    {
     "name": "stderr",
     "output_type": "stream",
     "text": [
      "\r",
      "[=========================               ] 32/50 ( 64%) 18 to go"
     ]
    },
    {
     "name": "stdout",
     "output_type": "stream",
     "text": [
      "service goes offline @ 1:43\n"
     ]
    },
    {
     "name": "stderr",
     "output_type": "stream",
     "text": [
      "\r",
      "[==========================              ] 33/50 ( 66%) 17 to go"
     ]
    },
    {
     "name": "stdout",
     "output_type": "stream",
     "text": [
      "service goes offline @ 1:43\n"
     ]
    },
    {
     "name": "stderr",
     "output_type": "stream",
     "text": [
      "\r",
      "[===========================             ] 34/50 ( 68%) 16 to go"
     ]
    },
    {
     "name": "stdout",
     "output_type": "stream",
     "text": [
      "service goes offline @ 1:44\n"
     ]
    },
    {
     "name": "stderr",
     "output_type": "stream",
     "text": [
      "\r",
      "[============================            ] 35/50 ( 70%) 15 to go"
     ]
    },
    {
     "name": "stdout",
     "output_type": "stream",
     "text": [
      "service goes offline @ 1:44\n"
     ]
    },
    {
     "name": "stderr",
     "output_type": "stream",
     "text": [
      "\r",
      "[============================            ] 36/50 ( 72%) 14 to go"
     ]
    },
    {
     "name": "stdout",
     "output_type": "stream",
     "text": [
      "service goes offline @ 1:45\n"
     ]
    },
    {
     "name": "stderr",
     "output_type": "stream",
     "text": [
      "\r",
      "[=============================           ] 37/50 ( 74%) 13 to go"
     ]
    },
    {
     "name": "stdout",
     "output_type": "stream",
     "text": [
      "service goes offline @ 1:45\n"
     ]
    },
    {
     "name": "stderr",
     "output_type": "stream",
     "text": [
      "\r",
      "[==============================          ] 38/50 ( 76%) 12 to go"
     ]
    },
    {
     "name": "stdout",
     "output_type": "stream",
     "text": [
      "service goes offline @ 1:46\n"
     ]
    },
    {
     "name": "stderr",
     "output_type": "stream",
     "text": [
      "\r",
      "[===============================         ] 39/50 ( 78%) 11 to go"
     ]
    },
    {
     "name": "stdout",
     "output_type": "stream",
     "text": [
      "service goes offline @ 1:46\n"
     ]
    },
    {
     "name": "stderr",
     "output_type": "stream",
     "text": [
      "\r",
      "[================================        ] 40/50 ( 80%) 10 to go"
     ]
    },
    {
     "name": "stdout",
     "output_type": "stream",
     "text": [
      "service goes offline @ 1:47\n"
     ]
    },
    {
     "name": "stderr",
     "output_type": "stream",
     "text": [
      "\r",
      "[================================        ] 41/50 ( 82%)  9 to go"
     ]
    },
    {
     "name": "stdout",
     "output_type": "stream",
     "text": [
      "service goes offline @ 1:47\n"
     ]
    },
    {
     "name": "stderr",
     "output_type": "stream",
     "text": [
      "\r",
      "[=================================       ] 42/50 ( 84%)  8 to go"
     ]
    },
    {
     "name": "stdout",
     "output_type": "stream",
     "text": [
      "service goes offline @ 1:48\n"
     ]
    },
    {
     "name": "stderr",
     "output_type": "stream",
     "text": [
      "\r",
      "[==================================      ] 43/50 ( 86%)  7 to go"
     ]
    },
    {
     "name": "stdout",
     "output_type": "stream",
     "text": [
      "service goes offline @ 1:48\n"
     ]
    },
    {
     "name": "stderr",
     "output_type": "stream",
     "text": [
      "\r",
      "[===================================     ] 44/50 ( 88%)  6 to go"
     ]
    },
    {
     "name": "stdout",
     "output_type": "stream",
     "text": [
      "service goes offline @ 1:49\n"
     ]
    },
    {
     "name": "stderr",
     "output_type": "stream",
     "text": [
      "\r",
      "[====================================    ] 45/50 ( 90%)  5 to go"
     ]
    },
    {
     "name": "stdout",
     "output_type": "stream",
     "text": [
      "service goes offline @ 1:49\n"
     ]
    },
    {
     "name": "stderr",
     "output_type": "stream",
     "text": [
      "\r",
      "[====================================    ] 46/50 ( 92%)  4 to go"
     ]
    },
    {
     "name": "stdout",
     "output_type": "stream",
     "text": [
      "service goes offline @ 1:50\n"
     ]
    },
    {
     "name": "stderr",
     "output_type": "stream",
     "text": [
      "\r",
      "[=====================================   ] 47/50 ( 94%)  3 to go"
     ]
    },
    {
     "name": "stdout",
     "output_type": "stream",
     "text": [
      "service goes offline @ 1:50\n"
     ]
    },
    {
     "name": "stderr",
     "output_type": "stream",
     "text": [
      "\r",
      "[======================================  ] 48/50 ( 96%)  2 to go"
     ]
    },
    {
     "name": "stdout",
     "output_type": "stream",
     "text": [
      "service goes offline @ 1:51\n"
     ]
    },
    {
     "name": "stderr",
     "output_type": "stream",
     "text": [
      "\r",
      "[======================================= ] 49/50 ( 98%)  1 to go"
     ]
    },
    {
     "name": "stdout",
     "output_type": "stream",
     "text": [
      "service goes offline @ 1:51\n"
     ]
    },
    {
     "name": "stderr",
     "output_type": "stream",
     "text": [
      "\r",
      "[========================================] 50/50 (100%)  0 to go"
     ]
    },
    {
     "name": "stdout",
     "output_type": "stream",
     "text": [
      "service goes offline @ 1:52\n"
     ]
    },
    {
     "name": "stderr",
     "output_type": "stream",
     "text": [
      "\r",
      "[========================================] 50/50 (100%)  0 to go\n",
      "\r",
      "[                                        ]  1/50 (  2%) 49 to go"
     ]
    },
    {
     "name": "stdout",
     "output_type": "stream",
     "text": [
      "Data_39 collected, writting to file: output/Dec13_39\n",
      "output/Dec13_39 is written @ 2017-12-13 01:52:39.404554\n",
      "service goes offline @ 1:52\n"
     ]
    },
    {
     "name": "stderr",
     "output_type": "stream",
     "text": [
      "\r",
      "[=                                       ]  2/50 (  4%) 48 to go"
     ]
    },
    {
     "name": "stdout",
     "output_type": "stream",
     "text": [
      "service goes offline @ 1:53\n"
     ]
    },
    {
     "name": "stderr",
     "output_type": "stream",
     "text": [
      "\r",
      "[==                                      ]  3/50 (  6%) 47 to go"
     ]
    },
    {
     "name": "stdout",
     "output_type": "stream",
     "text": [
      "service goes offline @ 1:53\n"
     ]
    },
    {
     "name": "stderr",
     "output_type": "stream",
     "text": [
      "\r",
      "[===                                     ]  4/50 (  8%) 46 to go"
     ]
    },
    {
     "name": "stdout",
     "output_type": "stream",
     "text": [
      "service goes offline @ 1:54\n"
     ]
    },
    {
     "name": "stderr",
     "output_type": "stream",
     "text": [
      "\r",
      "[====                                    ]  5/50 ( 10%) 45 to go"
     ]
    },
    {
     "name": "stdout",
     "output_type": "stream",
     "text": [
      "service goes offline @ 1:54\n"
     ]
    },
    {
     "name": "stderr",
     "output_type": "stream",
     "text": [
      "\r",
      "[====                                    ]  6/50 ( 12%) 44 to go"
     ]
    },
    {
     "name": "stdout",
     "output_type": "stream",
     "text": [
      "service goes offline @ 1:55\n"
     ]
    },
    {
     "name": "stderr",
     "output_type": "stream",
     "text": [
      "\r",
      "[=====                                   ]  7/50 ( 14%) 43 to go"
     ]
    },
    {
     "name": "stdout",
     "output_type": "stream",
     "text": [
      "service goes offline @ 1:55\n"
     ]
    },
    {
     "name": "stderr",
     "output_type": "stream",
     "text": [
      "\r",
      "[======                                  ]  8/50 ( 16%) 42 to go"
     ]
    },
    {
     "name": "stdout",
     "output_type": "stream",
     "text": [
      "service goes offline @ 1:56\n"
     ]
    },
    {
     "name": "stderr",
     "output_type": "stream",
     "text": [
      "\r",
      "[=======                                 ]  9/50 ( 18%) 41 to go"
     ]
    },
    {
     "name": "stdout",
     "output_type": "stream",
     "text": [
      "service goes offline @ 1:56\n"
     ]
    },
    {
     "name": "stderr",
     "output_type": "stream",
     "text": [
      "\r",
      "[========                                ] 10/50 ( 20%) 40 to go"
     ]
    },
    {
     "name": "stdout",
     "output_type": "stream",
     "text": [
      "service goes offline @ 1:57\n"
     ]
    },
    {
     "name": "stderr",
     "output_type": "stream",
     "text": [
      "\r",
      "[========                                ] 11/50 ( 22%) 39 to go"
     ]
    },
    {
     "name": "stdout",
     "output_type": "stream",
     "text": [
      "service goes offline @ 1:57\n"
     ]
    },
    {
     "name": "stderr",
     "output_type": "stream",
     "text": [
      "\r",
      "[=========                               ] 12/50 ( 24%) 38 to go"
     ]
    },
    {
     "name": "stdout",
     "output_type": "stream",
     "text": [
      "service goes offline @ 1:58\n"
     ]
    },
    {
     "name": "stderr",
     "output_type": "stream",
     "text": [
      "\r",
      "[==========                              ] 13/50 ( 26%) 37 to go"
     ]
    },
    {
     "name": "stdout",
     "output_type": "stream",
     "text": [
      "service goes offline @ 1:58\n"
     ]
    },
    {
     "name": "stderr",
     "output_type": "stream",
     "text": [
      "\r",
      "[===========                             ] 14/50 ( 28%) 36 to go"
     ]
    },
    {
     "name": "stdout",
     "output_type": "stream",
     "text": [
      "service goes offline @ 1:59\n"
     ]
    },
    {
     "name": "stderr",
     "output_type": "stream",
     "text": [
      "\r",
      "[============                            ] 15/50 ( 30%) 35 to go"
     ]
    },
    {
     "name": "stdout",
     "output_type": "stream",
     "text": [
      "service goes offline @ 1:59\n"
     ]
    },
    {
     "name": "stderr",
     "output_type": "stream",
     "text": [
      "\r",
      "[============                            ] 16/50 ( 32%) 34 to go"
     ]
    },
    {
     "name": "stdout",
     "output_type": "stream",
     "text": [
      "service goes offline @ 2:0\n"
     ]
    },
    {
     "name": "stderr",
     "output_type": "stream",
     "text": [
      "\r",
      "[=============                           ] 17/50 ( 34%) 33 to go"
     ]
    },
    {
     "name": "stdout",
     "output_type": "stream",
     "text": [
      "service goes offline @ 2:0\n"
     ]
    },
    {
     "name": "stderr",
     "output_type": "stream",
     "text": [
      "\r",
      "[==============                          ] 18/50 ( 36%) 32 to go"
     ]
    },
    {
     "name": "stdout",
     "output_type": "stream",
     "text": [
      "service goes offline @ 2:1\n"
     ]
    },
    {
     "name": "stderr",
     "output_type": "stream",
     "text": [
      "\r",
      "[===============                         ] 19/50 ( 38%) 31 to go"
     ]
    },
    {
     "name": "stdout",
     "output_type": "stream",
     "text": [
      "service goes offline @ 2:1\n"
     ]
    },
    {
     "name": "stderr",
     "output_type": "stream",
     "text": [
      "\r",
      "[================                        ] 20/50 ( 40%) 30 to go"
     ]
    },
    {
     "name": "stdout",
     "output_type": "stream",
     "text": [
      "service goes offline @ 2:2\n"
     ]
    },
    {
     "name": "stderr",
     "output_type": "stream",
     "text": [
      "\r",
      "[================                        ] 21/50 ( 42%) 29 to go"
     ]
    },
    {
     "name": "stdout",
     "output_type": "stream",
     "text": [
      "service goes offline @ 2:2\n"
     ]
    },
    {
     "name": "stderr",
     "output_type": "stream",
     "text": [
      "\r",
      "[=================                       ] 22/50 ( 44%) 28 to go"
     ]
    },
    {
     "name": "stdout",
     "output_type": "stream",
     "text": [
      "service goes offline @ 2:3\n"
     ]
    },
    {
     "name": "stderr",
     "output_type": "stream",
     "text": [
      "\r",
      "[==================                      ] 23/50 ( 46%) 27 to go"
     ]
    },
    {
     "name": "stdout",
     "output_type": "stream",
     "text": [
      "service goes offline @ 2:3\n"
     ]
    },
    {
     "name": "stderr",
     "output_type": "stream",
     "text": [
      "\r",
      "[===================                     ] 24/50 ( 48%) 26 to go"
     ]
    },
    {
     "name": "stdout",
     "output_type": "stream",
     "text": [
      "service goes offline @ 2:4\n"
     ]
    },
    {
     "name": "stderr",
     "output_type": "stream",
     "text": [
      "\r",
      "[====================                    ] 25/50 ( 50%) 25 to go"
     ]
    },
    {
     "name": "stdout",
     "output_type": "stream",
     "text": [
      "service goes offline @ 2:4\n"
     ]
    },
    {
     "name": "stderr",
     "output_type": "stream",
     "text": [
      "\r",
      "[====================                    ] 26/50 ( 52%) 24 to go"
     ]
    },
    {
     "name": "stdout",
     "output_type": "stream",
     "text": [
      "service goes offline @ 2:5\n"
     ]
    },
    {
     "name": "stderr",
     "output_type": "stream",
     "text": [
      "\r",
      "[=====================                   ] 27/50 ( 54%) 23 to go"
     ]
    },
    {
     "name": "stdout",
     "output_type": "stream",
     "text": [
      "service goes offline @ 2:5\n"
     ]
    },
    {
     "name": "stderr",
     "output_type": "stream",
     "text": [
      "\r",
      "[======================                  ] 28/50 ( 56%) 22 to go"
     ]
    },
    {
     "name": "stdout",
     "output_type": "stream",
     "text": [
      "service goes offline @ 2:6\n"
     ]
    },
    {
     "name": "stderr",
     "output_type": "stream",
     "text": [
      "\r",
      "[=======================                 ] 29/50 ( 57%) 21 to go"
     ]
    },
    {
     "name": "stdout",
     "output_type": "stream",
     "text": [
      "service goes offline @ 2:6\n"
     ]
    },
    {
     "name": "stderr",
     "output_type": "stream",
     "text": [
      "\r",
      "[========================                ] 30/50 ( 60%) 20 to go"
     ]
    },
    {
     "name": "stdout",
     "output_type": "stream",
     "text": [
      "service goes offline @ 2:7\n"
     ]
    },
    {
     "name": "stderr",
     "output_type": "stream",
     "text": [
      "\r",
      "[========================                ] 31/50 ( 62%) 19 to go"
     ]
    },
    {
     "name": "stdout",
     "output_type": "stream",
     "text": [
      "service goes offline @ 2:7\n"
     ]
    },
    {
     "name": "stderr",
     "output_type": "stream",
     "text": [
      "\r",
      "[=========================               ] 32/50 ( 64%) 18 to go"
     ]
    },
    {
     "name": "stdout",
     "output_type": "stream",
     "text": [
      "service goes offline @ 2:8\n"
     ]
    },
    {
     "name": "stderr",
     "output_type": "stream",
     "text": [
      "\r",
      "[==========================              ] 33/50 ( 66%) 17 to go"
     ]
    },
    {
     "name": "stdout",
     "output_type": "stream",
     "text": [
      "service goes offline @ 2:8\n"
     ]
    },
    {
     "name": "stderr",
     "output_type": "stream",
     "text": [
      "\r",
      "[===========================             ] 34/50 ( 68%) 16 to go"
     ]
    },
    {
     "name": "stdout",
     "output_type": "stream",
     "text": [
      "service goes offline @ 2:9\n"
     ]
    },
    {
     "name": "stderr",
     "output_type": "stream",
     "text": [
      "\r",
      "[============================            ] 35/50 ( 70%) 15 to go"
     ]
    },
    {
     "name": "stdout",
     "output_type": "stream",
     "text": [
      "service goes offline @ 2:9\n"
     ]
    },
    {
     "name": "stderr",
     "output_type": "stream",
     "text": [
      "\r",
      "[============================            ] 36/50 ( 72%) 14 to go"
     ]
    },
    {
     "name": "stdout",
     "output_type": "stream",
     "text": [
      "service goes offline @ 2:10\n"
     ]
    },
    {
     "name": "stderr",
     "output_type": "stream",
     "text": [
      "\r",
      "[=============================           ] 37/50 ( 74%) 13 to go"
     ]
    },
    {
     "name": "stdout",
     "output_type": "stream",
     "text": [
      "service goes offline @ 2:10\n"
     ]
    },
    {
     "name": "stderr",
     "output_type": "stream",
     "text": [
      "\r",
      "[==============================          ] 38/50 ( 76%) 12 to go"
     ]
    },
    {
     "name": "stdout",
     "output_type": "stream",
     "text": [
      "service goes offline @ 2:11\n"
     ]
    },
    {
     "name": "stderr",
     "output_type": "stream",
     "text": [
      "\r",
      "[===============================         ] 39/50 ( 78%) 11 to go"
     ]
    },
    {
     "name": "stdout",
     "output_type": "stream",
     "text": [
      "service goes offline @ 2:11\n"
     ]
    },
    {
     "name": "stderr",
     "output_type": "stream",
     "text": [
      "\r",
      "[================================        ] 40/50 ( 80%) 10 to go"
     ]
    },
    {
     "name": "stdout",
     "output_type": "stream",
     "text": [
      "service goes offline @ 2:12\n"
     ]
    },
    {
     "name": "stderr",
     "output_type": "stream",
     "text": [
      "\r",
      "[================================        ] 41/50 ( 82%)  9 to go"
     ]
    },
    {
     "name": "stdout",
     "output_type": "stream",
     "text": [
      "service goes offline @ 2:12\n"
     ]
    },
    {
     "name": "stderr",
     "output_type": "stream",
     "text": [
      "\r",
      "[=================================       ] 42/50 ( 84%)  8 to go"
     ]
    },
    {
     "name": "stdout",
     "output_type": "stream",
     "text": [
      "service goes offline @ 2:13\n"
     ]
    },
    {
     "name": "stderr",
     "output_type": "stream",
     "text": [
      "\r",
      "[==================================      ] 43/50 ( 86%)  7 to go"
     ]
    },
    {
     "name": "stdout",
     "output_type": "stream",
     "text": [
      "service goes offline @ 2:13\n"
     ]
    },
    {
     "name": "stderr",
     "output_type": "stream",
     "text": [
      "\r",
      "[===================================     ] 44/50 ( 88%)  6 to go"
     ]
    },
    {
     "name": "stdout",
     "output_type": "stream",
     "text": [
      "service goes offline @ 2:14\n"
     ]
    },
    {
     "name": "stderr",
     "output_type": "stream",
     "text": [
      "\r",
      "[====================================    ] 45/50 ( 90%)  5 to go"
     ]
    },
    {
     "name": "stdout",
     "output_type": "stream",
     "text": [
      "service goes offline @ 2:14\n"
     ]
    },
    {
     "name": "stderr",
     "output_type": "stream",
     "text": [
      "\r",
      "[====================================    ] 46/50 ( 92%)  4 to go"
     ]
    },
    {
     "name": "stdout",
     "output_type": "stream",
     "text": [
      "service goes offline @ 2:15\n"
     ]
    },
    {
     "name": "stderr",
     "output_type": "stream",
     "text": [
      "\r",
      "[=====================================   ] 47/50 ( 94%)  3 to go"
     ]
    },
    {
     "name": "stdout",
     "output_type": "stream",
     "text": [
      "service goes offline @ 2:15\n"
     ]
    },
    {
     "name": "stderr",
     "output_type": "stream",
     "text": [
      "\r",
      "[======================================  ] 48/50 ( 96%)  2 to go"
     ]
    },
    {
     "name": "stdout",
     "output_type": "stream",
     "text": [
      "service goes offline @ 2:16\n"
     ]
    },
    {
     "name": "stderr",
     "output_type": "stream",
     "text": [
      "\r",
      "[======================================= ] 49/50 ( 98%)  1 to go"
     ]
    },
    {
     "name": "stdout",
     "output_type": "stream",
     "text": [
      "service goes offline @ 2:16\n"
     ]
    },
    {
     "name": "stderr",
     "output_type": "stream",
     "text": [
      "\r",
      "[========================================] 50/50 (100%)  0 to go"
     ]
    },
    {
     "name": "stdout",
     "output_type": "stream",
     "text": [
      "service goes offline @ 2:17\n"
     ]
    },
    {
     "name": "stderr",
     "output_type": "stream",
     "text": [
      "\r",
      "[========================================] 50/50 (100%)  0 to go\n",
      "\r",
      "[                                        ]  1/50 (  2%) 49 to go"
     ]
    },
    {
     "name": "stdout",
     "output_type": "stream",
     "text": [
      "Data_40 collected, writting to file: output/Dec13_40\n",
      "output/Dec13_40 is written @ 2017-12-13 02:17:48.746203\n",
      "service goes offline @ 2:17\n"
     ]
    },
    {
     "name": "stderr",
     "output_type": "stream",
     "text": [
      "\r",
      "[=                                       ]  2/50 (  4%) 48 to go"
     ]
    },
    {
     "name": "stdout",
     "output_type": "stream",
     "text": [
      "service goes offline @ 2:18\n"
     ]
    },
    {
     "name": "stderr",
     "output_type": "stream",
     "text": [
      "\r",
      "[==                                      ]  3/50 (  6%) 47 to go"
     ]
    },
    {
     "name": "stdout",
     "output_type": "stream",
     "text": [
      "service goes offline @ 2:18\n"
     ]
    },
    {
     "name": "stderr",
     "output_type": "stream",
     "text": [
      "\r",
      "[===                                     ]  4/50 (  8%) 46 to go"
     ]
    },
    {
     "name": "stdout",
     "output_type": "stream",
     "text": [
      "service goes offline @ 2:19\n"
     ]
    },
    {
     "name": "stderr",
     "output_type": "stream",
     "text": [
      "\r",
      "[====                                    ]  5/50 ( 10%) 45 to go"
     ]
    },
    {
     "name": "stdout",
     "output_type": "stream",
     "text": [
      "service goes offline @ 2:19\n"
     ]
    },
    {
     "name": "stderr",
     "output_type": "stream",
     "text": [
      "\r",
      "[====                                    ]  6/50 ( 12%) 44 to go"
     ]
    },
    {
     "name": "stdout",
     "output_type": "stream",
     "text": [
      "service goes offline @ 2:20\n"
     ]
    },
    {
     "name": "stderr",
     "output_type": "stream",
     "text": [
      "\r",
      "[=====                                   ]  7/50 ( 14%) 43 to go"
     ]
    },
    {
     "name": "stdout",
     "output_type": "stream",
     "text": [
      "service goes offline @ 2:20\n"
     ]
    },
    {
     "name": "stderr",
     "output_type": "stream",
     "text": [
      "\r",
      "[======                                  ]  8/50 ( 16%) 42 to go"
     ]
    },
    {
     "name": "stdout",
     "output_type": "stream",
     "text": [
      "service goes offline @ 2:21\n"
     ]
    },
    {
     "name": "stderr",
     "output_type": "stream",
     "text": [
      "\r",
      "[=======                                 ]  9/50 ( 18%) 41 to go"
     ]
    },
    {
     "name": "stdout",
     "output_type": "stream",
     "text": [
      "service goes offline @ 2:21\n"
     ]
    },
    {
     "name": "stderr",
     "output_type": "stream",
     "text": [
      "\r",
      "[========                                ] 10/50 ( 20%) 40 to go"
     ]
    },
    {
     "name": "stdout",
     "output_type": "stream",
     "text": [
      "service goes offline @ 2:22\n"
     ]
    },
    {
     "name": "stderr",
     "output_type": "stream",
     "text": [
      "\r",
      "[========                                ] 11/50 ( 22%) 39 to go"
     ]
    },
    {
     "name": "stdout",
     "output_type": "stream",
     "text": [
      "service goes offline @ 2:22\n"
     ]
    },
    {
     "name": "stderr",
     "output_type": "stream",
     "text": [
      "\r",
      "[=========                               ] 12/50 ( 24%) 38 to go"
     ]
    },
    {
     "name": "stdout",
     "output_type": "stream",
     "text": [
      "service goes offline @ 2:23\n"
     ]
    },
    {
     "name": "stderr",
     "output_type": "stream",
     "text": [
      "\r",
      "[==========                              ] 13/50 ( 26%) 37 to go"
     ]
    },
    {
     "name": "stdout",
     "output_type": "stream",
     "text": [
      "service goes offline @ 2:23\n"
     ]
    },
    {
     "name": "stderr",
     "output_type": "stream",
     "text": [
      "\r",
      "[===========                             ] 14/50 ( 28%) 36 to go"
     ]
    },
    {
     "name": "stdout",
     "output_type": "stream",
     "text": [
      "service goes offline @ 2:24\n"
     ]
    },
    {
     "name": "stderr",
     "output_type": "stream",
     "text": [
      "\r",
      "[============                            ] 15/50 ( 30%) 35 to go"
     ]
    },
    {
     "name": "stdout",
     "output_type": "stream",
     "text": [
      "service goes offline @ 2:24\n"
     ]
    },
    {
     "name": "stderr",
     "output_type": "stream",
     "text": [
      "\r",
      "[============                            ] 16/50 ( 32%) 34 to go"
     ]
    },
    {
     "name": "stdout",
     "output_type": "stream",
     "text": [
      "service goes offline @ 2:25\n"
     ]
    },
    {
     "name": "stderr",
     "output_type": "stream",
     "text": [
      "\r",
      "[=============                           ] 17/50 ( 34%) 33 to go"
     ]
    },
    {
     "name": "stdout",
     "output_type": "stream",
     "text": [
      "service goes offline @ 2:25\n"
     ]
    },
    {
     "name": "stderr",
     "output_type": "stream",
     "text": [
      "\r",
      "[==============                          ] 18/50 ( 36%) 32 to go"
     ]
    },
    {
     "name": "stdout",
     "output_type": "stream",
     "text": [
      "service goes offline @ 2:26\n"
     ]
    },
    {
     "name": "stderr",
     "output_type": "stream",
     "text": [
      "\r",
      "[===============                         ] 19/50 ( 38%) 31 to go"
     ]
    },
    {
     "name": "stdout",
     "output_type": "stream",
     "text": [
      "service goes offline @ 2:26\n"
     ]
    },
    {
     "name": "stderr",
     "output_type": "stream",
     "text": [
      "\r",
      "[================                        ] 20/50 ( 40%) 30 to go"
     ]
    },
    {
     "name": "stdout",
     "output_type": "stream",
     "text": [
      "service goes offline @ 2:27\n"
     ]
    },
    {
     "name": "stderr",
     "output_type": "stream",
     "text": [
      "\r",
      "[================                        ] 21/50 ( 42%) 29 to go"
     ]
    },
    {
     "name": "stdout",
     "output_type": "stream",
     "text": [
      "service goes offline @ 2:27\n"
     ]
    },
    {
     "name": "stderr",
     "output_type": "stream",
     "text": [
      "\r",
      "[=================                       ] 22/50 ( 44%) 28 to go"
     ]
    },
    {
     "name": "stdout",
     "output_type": "stream",
     "text": [
      "service goes offline @ 2:28\n"
     ]
    },
    {
     "name": "stderr",
     "output_type": "stream",
     "text": [
      "\r",
      "[==================                      ] 23/50 ( 46%) 27 to go"
     ]
    },
    {
     "name": "stdout",
     "output_type": "stream",
     "text": [
      "service goes offline @ 2:28\n"
     ]
    },
    {
     "name": "stderr",
     "output_type": "stream",
     "text": [
      "\r",
      "[===================                     ] 24/50 ( 48%) 26 to go"
     ]
    },
    {
     "name": "stdout",
     "output_type": "stream",
     "text": [
      "service goes offline @ 2:29\n"
     ]
    },
    {
     "name": "stderr",
     "output_type": "stream",
     "text": [
      "\r",
      "[====================                    ] 25/50 ( 50%) 25 to go"
     ]
    },
    {
     "name": "stdout",
     "output_type": "stream",
     "text": [
      "service goes offline @ 2:29\n"
     ]
    },
    {
     "name": "stderr",
     "output_type": "stream",
     "text": [
      "\r",
      "[====================                    ] 26/50 ( 52%) 24 to go"
     ]
    },
    {
     "name": "stdout",
     "output_type": "stream",
     "text": [
      "service goes offline @ 2:30\n"
     ]
    },
    {
     "name": "stderr",
     "output_type": "stream",
     "text": [
      "\r",
      "[=====================                   ] 27/50 ( 54%) 23 to go"
     ]
    },
    {
     "name": "stdout",
     "output_type": "stream",
     "text": [
      "service goes offline @ 2:30\n"
     ]
    },
    {
     "name": "stderr",
     "output_type": "stream",
     "text": [
      "\r",
      "[======================                  ] 28/50 ( 56%) 22 to go"
     ]
    },
    {
     "name": "stdout",
     "output_type": "stream",
     "text": [
      "service goes offline @ 2:31\n"
     ]
    },
    {
     "name": "stderr",
     "output_type": "stream",
     "text": [
      "\r",
      "[=======================                 ] 29/50 ( 57%) 21 to go"
     ]
    },
    {
     "name": "stdout",
     "output_type": "stream",
     "text": [
      "service goes offline @ 2:31\n"
     ]
    },
    {
     "name": "stderr",
     "output_type": "stream",
     "text": [
      "\r",
      "[========================                ] 30/50 ( 60%) 20 to go"
     ]
    },
    {
     "name": "stdout",
     "output_type": "stream",
     "text": [
      "service goes offline @ 2:32\n"
     ]
    },
    {
     "name": "stderr",
     "output_type": "stream",
     "text": [
      "\r",
      "[========================                ] 31/50 ( 62%) 19 to go"
     ]
    },
    {
     "name": "stdout",
     "output_type": "stream",
     "text": [
      "service goes offline @ 2:32\n"
     ]
    },
    {
     "name": "stderr",
     "output_type": "stream",
     "text": [
      "\r",
      "[=========================               ] 32/50 ( 64%) 18 to go"
     ]
    },
    {
     "name": "stdout",
     "output_type": "stream",
     "text": [
      "service goes offline @ 2:33\n"
     ]
    },
    {
     "name": "stderr",
     "output_type": "stream",
     "text": [
      "\r",
      "[==========================              ] 33/50 ( 66%) 17 to go"
     ]
    },
    {
     "name": "stdout",
     "output_type": "stream",
     "text": [
      "service goes offline @ 2:33\n"
     ]
    },
    {
     "name": "stderr",
     "output_type": "stream",
     "text": [
      "\r",
      "[===========================             ] 34/50 ( 68%) 16 to go"
     ]
    },
    {
     "name": "stdout",
     "output_type": "stream",
     "text": [
      "service goes offline @ 2:34\n"
     ]
    },
    {
     "name": "stderr",
     "output_type": "stream",
     "text": [
      "\r",
      "[============================            ] 35/50 ( 70%) 15 to go"
     ]
    },
    {
     "name": "stdout",
     "output_type": "stream",
     "text": [
      "service goes offline @ 2:34\n"
     ]
    },
    {
     "name": "stderr",
     "output_type": "stream",
     "text": [
      "\r",
      "[============================            ] 36/50 ( 72%) 14 to go"
     ]
    },
    {
     "name": "stdout",
     "output_type": "stream",
     "text": [
      "service goes offline @ 2:35\n"
     ]
    },
    {
     "name": "stderr",
     "output_type": "stream",
     "text": [
      "\r",
      "[=============================           ] 37/50 ( 74%) 13 to go"
     ]
    },
    {
     "name": "stdout",
     "output_type": "stream",
     "text": [
      "service goes offline @ 2:35\n"
     ]
    },
    {
     "name": "stderr",
     "output_type": "stream",
     "text": [
      "\r",
      "[==============================          ] 38/50 ( 76%) 12 to go"
     ]
    },
    {
     "name": "stdout",
     "output_type": "stream",
     "text": [
      "service goes offline @ 2:36\n"
     ]
    },
    {
     "name": "stderr",
     "output_type": "stream",
     "text": [
      "\r",
      "[===============================         ] 39/50 ( 78%) 11 to go"
     ]
    },
    {
     "name": "stdout",
     "output_type": "stream",
     "text": [
      "service goes offline @ 2:36\n"
     ]
    },
    {
     "name": "stderr",
     "output_type": "stream",
     "text": [
      "\r",
      "[================================        ] 40/50 ( 80%) 10 to go"
     ]
    },
    {
     "name": "stdout",
     "output_type": "stream",
     "text": [
      "service goes offline @ 2:37\n"
     ]
    },
    {
     "name": "stderr",
     "output_type": "stream",
     "text": [
      "\r",
      "[================================        ] 41/50 ( 82%)  9 to go"
     ]
    },
    {
     "name": "stdout",
     "output_type": "stream",
     "text": [
      "service goes offline @ 2:37\n"
     ]
    },
    {
     "name": "stderr",
     "output_type": "stream",
     "text": [
      "\r",
      "[=================================       ] 42/50 ( 84%)  8 to go"
     ]
    },
    {
     "name": "stdout",
     "output_type": "stream",
     "text": [
      "service goes offline @ 2:38\n"
     ]
    },
    {
     "name": "stderr",
     "output_type": "stream",
     "text": [
      "\r",
      "[==================================      ] 43/50 ( 86%)  7 to go"
     ]
    },
    {
     "name": "stdout",
     "output_type": "stream",
     "text": [
      "service goes offline @ 2:38\n"
     ]
    },
    {
     "name": "stderr",
     "output_type": "stream",
     "text": [
      "\r",
      "[===================================     ] 44/50 ( 88%)  6 to go"
     ]
    },
    {
     "name": "stdout",
     "output_type": "stream",
     "text": [
      "service goes offline @ 2:39\n"
     ]
    },
    {
     "name": "stderr",
     "output_type": "stream",
     "text": [
      "\r",
      "[====================================    ] 45/50 ( 90%)  5 to go"
     ]
    },
    {
     "name": "stdout",
     "output_type": "stream",
     "text": [
      "service goes offline @ 2:39\n"
     ]
    },
    {
     "name": "stderr",
     "output_type": "stream",
     "text": [
      "\r",
      "[====================================    ] 46/50 ( 92%)  4 to go"
     ]
    },
    {
     "name": "stdout",
     "output_type": "stream",
     "text": [
      "service goes offline @ 2:40\n"
     ]
    },
    {
     "name": "stderr",
     "output_type": "stream",
     "text": [
      "\r",
      "[=====================================   ] 47/50 ( 94%)  3 to go"
     ]
    },
    {
     "name": "stdout",
     "output_type": "stream",
     "text": [
      "service goes offline @ 2:40\n"
     ]
    },
    {
     "name": "stderr",
     "output_type": "stream",
     "text": [
      "\r",
      "[======================================  ] 48/50 ( 96%)  2 to go"
     ]
    },
    {
     "name": "stdout",
     "output_type": "stream",
     "text": [
      "service goes offline @ 2:41\n"
     ]
    },
    {
     "name": "stderr",
     "output_type": "stream",
     "text": [
      "\r",
      "[======================================= ] 49/50 ( 98%)  1 to go"
     ]
    },
    {
     "name": "stdout",
     "output_type": "stream",
     "text": [
      "service goes offline @ 2:41\n"
     ]
    },
    {
     "name": "stderr",
     "output_type": "stream",
     "text": [
      "\r",
      "[========================================] 50/50 (100%)  0 to go"
     ]
    },
    {
     "name": "stdout",
     "output_type": "stream",
     "text": [
      "service goes offline @ 2:42\n"
     ]
    },
    {
     "name": "stderr",
     "output_type": "stream",
     "text": [
      "\r",
      "[========================================] 50/50 (100%)  0 to go\n",
      "\r",
      "[                                        ]  1/50 (  2%) 49 to go"
     ]
    },
    {
     "name": "stdout",
     "output_type": "stream",
     "text": [
      "Data_41 collected, writting to file: output/Dec13_41\n",
      "output/Dec13_41 is written @ 2017-12-13 02:42:57.353814\n",
      "service goes offline @ 2:42\n"
     ]
    },
    {
     "name": "stderr",
     "output_type": "stream",
     "text": [
      "\r",
      "[=                                       ]  2/50 (  4%) 48 to go"
     ]
    },
    {
     "name": "stdout",
     "output_type": "stream",
     "text": [
      "service goes offline @ 2:43\n"
     ]
    },
    {
     "name": "stderr",
     "output_type": "stream",
     "text": [
      "\r",
      "[==                                      ]  3/50 (  6%) 47 to go"
     ]
    },
    {
     "name": "stdout",
     "output_type": "stream",
     "text": [
      "service goes offline @ 2:43\n"
     ]
    },
    {
     "name": "stderr",
     "output_type": "stream",
     "text": [
      "\r",
      "[===                                     ]  4/50 (  8%) 46 to go"
     ]
    },
    {
     "name": "stdout",
     "output_type": "stream",
     "text": [
      "service goes offline @ 2:44\n"
     ]
    },
    {
     "name": "stderr",
     "output_type": "stream",
     "text": [
      "\r",
      "[====                                    ]  5/50 ( 10%) 45 to go"
     ]
    },
    {
     "name": "stdout",
     "output_type": "stream",
     "text": [
      "service goes offline @ 2:44\n"
     ]
    },
    {
     "name": "stderr",
     "output_type": "stream",
     "text": [
      "\r",
      "[====                                    ]  6/50 ( 12%) 44 to go"
     ]
    },
    {
     "name": "stdout",
     "output_type": "stream",
     "text": [
      "service goes offline @ 2:45\n"
     ]
    },
    {
     "name": "stderr",
     "output_type": "stream",
     "text": [
      "\r",
      "[=====                                   ]  7/50 ( 14%) 43 to go"
     ]
    },
    {
     "name": "stdout",
     "output_type": "stream",
     "text": [
      "service goes offline @ 2:45\n"
     ]
    },
    {
     "name": "stderr",
     "output_type": "stream",
     "text": [
      "\r",
      "[======                                  ]  8/50 ( 16%) 42 to go"
     ]
    },
    {
     "name": "stdout",
     "output_type": "stream",
     "text": [
      "service goes offline @ 2:46\n"
     ]
    },
    {
     "name": "stderr",
     "output_type": "stream",
     "text": [
      "\r",
      "[=======                                 ]  9/50 ( 18%) 41 to go"
     ]
    },
    {
     "name": "stdout",
     "output_type": "stream",
     "text": [
      "service goes offline @ 2:46\n"
     ]
    },
    {
     "name": "stderr",
     "output_type": "stream",
     "text": [
      "\r",
      "[========                                ] 10/50 ( 20%) 40 to go"
     ]
    },
    {
     "name": "stdout",
     "output_type": "stream",
     "text": [
      "service goes offline @ 2:47\n"
     ]
    },
    {
     "name": "stderr",
     "output_type": "stream",
     "text": [
      "\r",
      "[========                                ] 11/50 ( 22%) 39 to go"
     ]
    },
    {
     "name": "stdout",
     "output_type": "stream",
     "text": [
      "service goes offline @ 2:47\n"
     ]
    },
    {
     "name": "stderr",
     "output_type": "stream",
     "text": [
      "\r",
      "[=========                               ] 12/50 ( 24%) 38 to go"
     ]
    },
    {
     "name": "stdout",
     "output_type": "stream",
     "text": [
      "service goes offline @ 2:48\n"
     ]
    },
    {
     "name": "stderr",
     "output_type": "stream",
     "text": [
      "\r",
      "[==========                              ] 13/50 ( 26%) 37 to go"
     ]
    },
    {
     "name": "stdout",
     "output_type": "stream",
     "text": [
      "service goes offline @ 2:48\n"
     ]
    },
    {
     "name": "stderr",
     "output_type": "stream",
     "text": [
      "\r",
      "[===========                             ] 14/50 ( 28%) 36 to go"
     ]
    },
    {
     "name": "stdout",
     "output_type": "stream",
     "text": [
      "service goes offline @ 2:49\n"
     ]
    },
    {
     "name": "stderr",
     "output_type": "stream",
     "text": [
      "\r",
      "[============                            ] 15/50 ( 30%) 35 to go"
     ]
    },
    {
     "name": "stdout",
     "output_type": "stream",
     "text": [
      "service goes offline @ 2:50\n"
     ]
    },
    {
     "name": "stderr",
     "output_type": "stream",
     "text": [
      "\r",
      "[============                            ] 16/50 ( 32%) 34 to go"
     ]
    },
    {
     "name": "stdout",
     "output_type": "stream",
     "text": [
      "service goes offline @ 2:50\n"
     ]
    },
    {
     "name": "stderr",
     "output_type": "stream",
     "text": [
      "\r",
      "[=============                           ] 17/50 ( 34%) 33 to go"
     ]
    },
    {
     "name": "stdout",
     "output_type": "stream",
     "text": [
      "service goes offline @ 2:51\n"
     ]
    },
    {
     "name": "stderr",
     "output_type": "stream",
     "text": [
      "\r",
      "[==============                          ] 18/50 ( 36%) 32 to go"
     ]
    },
    {
     "name": "stdout",
     "output_type": "stream",
     "text": [
      "service goes offline @ 2:51\n"
     ]
    },
    {
     "name": "stderr",
     "output_type": "stream",
     "text": [
      "\r",
      "[===============                         ] 19/50 ( 38%) 31 to go"
     ]
    },
    {
     "name": "stdout",
     "output_type": "stream",
     "text": [
      "service goes offline @ 2:52\n"
     ]
    },
    {
     "name": "stderr",
     "output_type": "stream",
     "text": [
      "\r",
      "[================                        ] 20/50 ( 40%) 30 to go"
     ]
    },
    {
     "name": "stdout",
     "output_type": "stream",
     "text": [
      "service goes offline @ 2:52\n"
     ]
    },
    {
     "name": "stderr",
     "output_type": "stream",
     "text": [
      "\r",
      "[================                        ] 21/50 ( 42%) 29 to go"
     ]
    },
    {
     "name": "stdout",
     "output_type": "stream",
     "text": [
      "service goes offline @ 2:53\n"
     ]
    },
    {
     "name": "stderr",
     "output_type": "stream",
     "text": [
      "\r",
      "[=================                       ] 22/50 ( 44%) 28 to go"
     ]
    },
    {
     "name": "stdout",
     "output_type": "stream",
     "text": [
      "service goes offline @ 2:53\n"
     ]
    },
    {
     "name": "stderr",
     "output_type": "stream",
     "text": [
      "\r",
      "[==================                      ] 23/50 ( 46%) 27 to go"
     ]
    },
    {
     "name": "stdout",
     "output_type": "stream",
     "text": [
      "service goes offline @ 2:54\n"
     ]
    },
    {
     "name": "stderr",
     "output_type": "stream",
     "text": [
      "\r",
      "[===================                     ] 24/50 ( 48%) 26 to go"
     ]
    },
    {
     "name": "stdout",
     "output_type": "stream",
     "text": [
      "service goes offline @ 2:54\n"
     ]
    },
    {
     "name": "stderr",
     "output_type": "stream",
     "text": [
      "\r",
      "[====================                    ] 25/50 ( 50%) 25 to go"
     ]
    },
    {
     "name": "stdout",
     "output_type": "stream",
     "text": [
      "service goes offline @ 2:55\n"
     ]
    },
    {
     "name": "stderr",
     "output_type": "stream",
     "text": [
      "\r",
      "[====================                    ] 26/50 ( 52%) 24 to go"
     ]
    },
    {
     "name": "stdout",
     "output_type": "stream",
     "text": [
      "service goes offline @ 2:55\n"
     ]
    },
    {
     "name": "stderr",
     "output_type": "stream",
     "text": [
      "\r",
      "[=====================                   ] 27/50 ( 54%) 23 to go"
     ]
    },
    {
     "name": "stdout",
     "output_type": "stream",
     "text": [
      "service goes offline @ 2:56\n"
     ]
    },
    {
     "name": "stderr",
     "output_type": "stream",
     "text": [
      "\r",
      "[======================                  ] 28/50 ( 56%) 22 to go"
     ]
    },
    {
     "name": "stdout",
     "output_type": "stream",
     "text": [
      "service goes offline @ 2:56\n"
     ]
    },
    {
     "name": "stderr",
     "output_type": "stream",
     "text": [
      "\r",
      "[=======================                 ] 29/50 ( 57%) 21 to go"
     ]
    },
    {
     "name": "stdout",
     "output_type": "stream",
     "text": [
      "service goes offline @ 2:57\n"
     ]
    },
    {
     "name": "stderr",
     "output_type": "stream",
     "text": [
      "\r",
      "[========================                ] 30/50 ( 60%) 20 to go"
     ]
    },
    {
     "name": "stdout",
     "output_type": "stream",
     "text": [
      "service goes offline @ 2:57\n"
     ]
    },
    {
     "name": "stderr",
     "output_type": "stream",
     "text": [
      "\r",
      "[========================                ] 31/50 ( 62%) 19 to go"
     ]
    },
    {
     "name": "stdout",
     "output_type": "stream",
     "text": [
      "service goes offline @ 2:58\n"
     ]
    },
    {
     "name": "stderr",
     "output_type": "stream",
     "text": [
      "\r",
      "[=========================               ] 32/50 ( 64%) 18 to go"
     ]
    },
    {
     "name": "stdout",
     "output_type": "stream",
     "text": [
      "service goes offline @ 2:58\n"
     ]
    },
    {
     "name": "stderr",
     "output_type": "stream",
     "text": [
      "\r",
      "[==========================              ] 33/50 ( 66%) 17 to go"
     ]
    },
    {
     "name": "stdout",
     "output_type": "stream",
     "text": [
      "service goes offline @ 2:59\n"
     ]
    },
    {
     "name": "stderr",
     "output_type": "stream",
     "text": [
      "\r",
      "[===========================             ] 34/50 ( 68%) 16 to go"
     ]
    },
    {
     "name": "stdout",
     "output_type": "stream",
     "text": [
      "service goes offline @ 2:59\n"
     ]
    },
    {
     "name": "stderr",
     "output_type": "stream",
     "text": [
      "\r",
      "[============================            ] 35/50 ( 70%) 15 to go"
     ]
    },
    {
     "name": "stdout",
     "output_type": "stream",
     "text": [
      "service goes offline @ 3:0\n"
     ]
    },
    {
     "name": "stderr",
     "output_type": "stream",
     "text": [
      "\r",
      "[============================            ] 36/50 ( 72%) 14 to go"
     ]
    },
    {
     "name": "stdout",
     "output_type": "stream",
     "text": [
      "service goes offline @ 3:0\n"
     ]
    },
    {
     "name": "stderr",
     "output_type": "stream",
     "text": [
      "\r",
      "[=============================           ] 37/50 ( 74%) 13 to go"
     ]
    },
    {
     "name": "stdout",
     "output_type": "stream",
     "text": [
      "service goes offline @ 3:1\n"
     ]
    },
    {
     "name": "stderr",
     "output_type": "stream",
     "text": [
      "\r",
      "[==============================          ] 38/50 ( 76%) 12 to go"
     ]
    },
    {
     "name": "stdout",
     "output_type": "stream",
     "text": [
      "service goes offline @ 3:1\n"
     ]
    },
    {
     "name": "stderr",
     "output_type": "stream",
     "text": [
      "\r",
      "[===============================         ] 39/50 ( 78%) 11 to go"
     ]
    },
    {
     "name": "stdout",
     "output_type": "stream",
     "text": [
      "service goes offline @ 3:2\n"
     ]
    },
    {
     "name": "stderr",
     "output_type": "stream",
     "text": [
      "\r",
      "[================================        ] 40/50 ( 80%) 10 to go"
     ]
    },
    {
     "name": "stdout",
     "output_type": "stream",
     "text": [
      "service goes offline @ 3:2\n"
     ]
    },
    {
     "name": "stderr",
     "output_type": "stream",
     "text": [
      "\r",
      "[================================        ] 41/50 ( 82%)  9 to go"
     ]
    },
    {
     "name": "stdout",
     "output_type": "stream",
     "text": [
      "service goes offline @ 3:3\n"
     ]
    },
    {
     "name": "stderr",
     "output_type": "stream",
     "text": [
      "\r",
      "[=================================       ] 42/50 ( 84%)  8 to go"
     ]
    },
    {
     "name": "stdout",
     "output_type": "stream",
     "text": [
      "service goes offline @ 3:3\n"
     ]
    },
    {
     "name": "stderr",
     "output_type": "stream",
     "text": [
      "\r",
      "[==================================      ] 43/50 ( 86%)  7 to go"
     ]
    },
    {
     "name": "stdout",
     "output_type": "stream",
     "text": [
      "service goes offline @ 3:4\n"
     ]
    },
    {
     "name": "stderr",
     "output_type": "stream",
     "text": [
      "\r",
      "[===================================     ] 44/50 ( 88%)  6 to go"
     ]
    },
    {
     "name": "stdout",
     "output_type": "stream",
     "text": [
      "service goes offline @ 3:4\n"
     ]
    },
    {
     "name": "stderr",
     "output_type": "stream",
     "text": [
      "\r",
      "[====================================    ] 45/50 ( 90%)  5 to go"
     ]
    },
    {
     "name": "stdout",
     "output_type": "stream",
     "text": [
      "service goes offline @ 3:5\n"
     ]
    },
    {
     "name": "stderr",
     "output_type": "stream",
     "text": [
      "\r",
      "[====================================    ] 46/50 ( 92%)  4 to go"
     ]
    },
    {
     "name": "stdout",
     "output_type": "stream",
     "text": [
      "service goes offline @ 3:5\n"
     ]
    },
    {
     "name": "stderr",
     "output_type": "stream",
     "text": [
      "\r",
      "[=====================================   ] 47/50 ( 94%)  3 to go"
     ]
    },
    {
     "name": "stdout",
     "output_type": "stream",
     "text": [
      "service goes offline @ 3:6\n"
     ]
    },
    {
     "name": "stderr",
     "output_type": "stream",
     "text": [
      "\r",
      "[======================================  ] 48/50 ( 96%)  2 to go"
     ]
    },
    {
     "name": "stdout",
     "output_type": "stream",
     "text": [
      "service goes offline @ 3:6\n"
     ]
    },
    {
     "name": "stderr",
     "output_type": "stream",
     "text": [
      "\r",
      "[======================================= ] 49/50 ( 98%)  1 to go"
     ]
    },
    {
     "name": "stdout",
     "output_type": "stream",
     "text": [
      "service goes offline @ 3:7\n"
     ]
    },
    {
     "name": "stderr",
     "output_type": "stream",
     "text": [
      "\r",
      "[========================================] 50/50 (100%)  0 to go"
     ]
    },
    {
     "name": "stdout",
     "output_type": "stream",
     "text": [
      "service goes offline @ 3:7\n"
     ]
    },
    {
     "name": "stderr",
     "output_type": "stream",
     "text": [
      "\r",
      "[========================================] 50/50 (100%)  0 to go\n",
      "\r",
      "[                                        ]  1/50 (  2%) 49 to go"
     ]
    },
    {
     "name": "stdout",
     "output_type": "stream",
     "text": [
      "Data_42 collected, writting to file: output/Dec13_42\n",
      "output/Dec13_42 is written @ 2017-12-13 03:08:05.652614\n",
      "service goes offline @ 3:8\n"
     ]
    },
    {
     "name": "stderr",
     "output_type": "stream",
     "text": [
      "\r",
      "[=                                       ]  2/50 (  4%) 48 to go"
     ]
    },
    {
     "name": "stdout",
     "output_type": "stream",
     "text": [
      "service goes offline @ 3:8\n"
     ]
    },
    {
     "name": "stderr",
     "output_type": "stream",
     "text": [
      "\r",
      "[==                                      ]  3/50 (  6%) 47 to go"
     ]
    },
    {
     "name": "stdout",
     "output_type": "stream",
     "text": [
      "service goes offline @ 3:9\n"
     ]
    },
    {
     "name": "stderr",
     "output_type": "stream",
     "text": [
      "\r",
      "[===                                     ]  4/50 (  8%) 46 to go"
     ]
    },
    {
     "name": "stdout",
     "output_type": "stream",
     "text": [
      "service goes offline @ 3:9\n"
     ]
    },
    {
     "name": "stderr",
     "output_type": "stream",
     "text": [
      "\r",
      "[====                                    ]  5/50 ( 10%) 45 to go"
     ]
    },
    {
     "name": "stdout",
     "output_type": "stream",
     "text": [
      "service goes offline @ 3:10\n"
     ]
    },
    {
     "name": "stderr",
     "output_type": "stream",
     "text": [
      "\r",
      "[====                                    ]  6/50 ( 12%) 44 to go"
     ]
    },
    {
     "name": "stdout",
     "output_type": "stream",
     "text": [
      "service goes offline @ 3:10\n"
     ]
    },
    {
     "name": "stderr",
     "output_type": "stream",
     "text": [
      "\r",
      "[=====                                   ]  7/50 ( 14%) 43 to go"
     ]
    },
    {
     "name": "stdout",
     "output_type": "stream",
     "text": [
      "service goes offline @ 3:11\n"
     ]
    },
    {
     "name": "stderr",
     "output_type": "stream",
     "text": [
      "\r",
      "[======                                  ]  8/50 ( 16%) 42 to go"
     ]
    },
    {
     "name": "stdout",
     "output_type": "stream",
     "text": [
      "service goes offline @ 3:11\n"
     ]
    },
    {
     "name": "stderr",
     "output_type": "stream",
     "text": [
      "\r",
      "[=======                                 ]  9/50 ( 18%) 41 to go"
     ]
    },
    {
     "name": "stdout",
     "output_type": "stream",
     "text": [
      "service goes offline @ 3:12\n"
     ]
    },
    {
     "name": "stderr",
     "output_type": "stream",
     "text": [
      "\r",
      "[========                                ] 10/50 ( 20%) 40 to go"
     ]
    },
    {
     "name": "stdout",
     "output_type": "stream",
     "text": [
      "service goes offline @ 3:12\n"
     ]
    },
    {
     "name": "stderr",
     "output_type": "stream",
     "text": [
      "\r",
      "[========                                ] 11/50 ( 22%) 39 to go"
     ]
    },
    {
     "name": "stdout",
     "output_type": "stream",
     "text": [
      "service goes offline @ 3:13\n"
     ]
    },
    {
     "name": "stderr",
     "output_type": "stream",
     "text": [
      "\r",
      "[=========                               ] 12/50 ( 24%) 38 to go"
     ]
    },
    {
     "name": "stdout",
     "output_type": "stream",
     "text": [
      "service goes offline @ 3:13\n"
     ]
    },
    {
     "name": "stderr",
     "output_type": "stream",
     "text": [
      "\r",
      "[==========                              ] 13/50 ( 26%) 37 to go"
     ]
    },
    {
     "name": "stdout",
     "output_type": "stream",
     "text": [
      "service goes offline @ 3:14\n"
     ]
    },
    {
     "name": "stderr",
     "output_type": "stream",
     "text": [
      "\r",
      "[===========                             ] 14/50 ( 28%) 36 to go"
     ]
    },
    {
     "name": "stdout",
     "output_type": "stream",
     "text": [
      "service goes offline @ 3:14\n"
     ]
    },
    {
     "name": "stderr",
     "output_type": "stream",
     "text": [
      "\r",
      "[============                            ] 15/50 ( 30%) 35 to go"
     ]
    },
    {
     "name": "stdout",
     "output_type": "stream",
     "text": [
      "service goes offline @ 3:15\n"
     ]
    },
    {
     "name": "stderr",
     "output_type": "stream",
     "text": [
      "\r",
      "[============                            ] 16/50 ( 32%) 34 to go"
     ]
    },
    {
     "name": "stdout",
     "output_type": "stream",
     "text": [
      "service goes offline @ 3:15\n"
     ]
    },
    {
     "name": "stderr",
     "output_type": "stream",
     "text": [
      "\r",
      "[=============                           ] 17/50 ( 34%) 33 to go"
     ]
    },
    {
     "name": "stdout",
     "output_type": "stream",
     "text": [
      "service goes offline @ 3:16\n"
     ]
    },
    {
     "name": "stderr",
     "output_type": "stream",
     "text": [
      "\r",
      "[==============                          ] 18/50 ( 36%) 32 to go"
     ]
    },
    {
     "name": "stdout",
     "output_type": "stream",
     "text": [
      "service goes offline @ 3:16\n"
     ]
    },
    {
     "name": "stderr",
     "output_type": "stream",
     "text": [
      "\r",
      "[===============                         ] 19/50 ( 38%) 31 to go"
     ]
    },
    {
     "name": "stdout",
     "output_type": "stream",
     "text": [
      "service goes offline @ 3:17\n"
     ]
    },
    {
     "name": "stderr",
     "output_type": "stream",
     "text": [
      "\r",
      "[================                        ] 20/50 ( 40%) 30 to go"
     ]
    },
    {
     "name": "stdout",
     "output_type": "stream",
     "text": [
      "service goes offline @ 3:17\n"
     ]
    },
    {
     "name": "stderr",
     "output_type": "stream",
     "text": [
      "\r",
      "[================                        ] 21/50 ( 42%) 29 to go"
     ]
    },
    {
     "name": "stdout",
     "output_type": "stream",
     "text": [
      "service goes offline @ 3:18\n"
     ]
    },
    {
     "name": "stderr",
     "output_type": "stream",
     "text": [
      "\r",
      "[=================                       ] 22/50 ( 44%) 28 to go"
     ]
    },
    {
     "name": "stdout",
     "output_type": "stream",
     "text": [
      "service goes offline @ 3:18\n"
     ]
    },
    {
     "name": "stderr",
     "output_type": "stream",
     "text": [
      "\r",
      "[==================                      ] 23/50 ( 46%) 27 to go"
     ]
    },
    {
     "name": "stdout",
     "output_type": "stream",
     "text": [
      "service goes offline @ 3:19\n"
     ]
    },
    {
     "name": "stderr",
     "output_type": "stream",
     "text": [
      "\r",
      "[===================                     ] 24/50 ( 48%) 26 to go"
     ]
    },
    {
     "name": "stdout",
     "output_type": "stream",
     "text": [
      "service goes offline @ 3:19\n"
     ]
    },
    {
     "name": "stderr",
     "output_type": "stream",
     "text": [
      "\r",
      "[====================                    ] 25/50 ( 50%) 25 to go"
     ]
    },
    {
     "name": "stdout",
     "output_type": "stream",
     "text": [
      "service goes offline @ 3:20\n"
     ]
    },
    {
     "name": "stderr",
     "output_type": "stream",
     "text": [
      "\r",
      "[====================                    ] 26/50 ( 52%) 24 to go"
     ]
    },
    {
     "name": "stdout",
     "output_type": "stream",
     "text": [
      "service goes offline @ 3:20\n"
     ]
    },
    {
     "name": "stderr",
     "output_type": "stream",
     "text": [
      "\r",
      "[=====================                   ] 27/50 ( 54%) 23 to go"
     ]
    },
    {
     "name": "stdout",
     "output_type": "stream",
     "text": [
      "service goes offline @ 3:21\n"
     ]
    },
    {
     "name": "stderr",
     "output_type": "stream",
     "text": [
      "\r",
      "[======================                  ] 28/50 ( 56%) 22 to go"
     ]
    },
    {
     "name": "stdout",
     "output_type": "stream",
     "text": [
      "service goes offline @ 3:21\n"
     ]
    },
    {
     "name": "stderr",
     "output_type": "stream",
     "text": [
      "\r",
      "[=======================                 ] 29/50 ( 57%) 21 to go"
     ]
    },
    {
     "name": "stdout",
     "output_type": "stream",
     "text": [
      "service goes offline @ 3:22\n"
     ]
    },
    {
     "name": "stderr",
     "output_type": "stream",
     "text": [
      "\r",
      "[========================                ] 30/50 ( 60%) 20 to go"
     ]
    },
    {
     "name": "stdout",
     "output_type": "stream",
     "text": [
      "service goes offline @ 3:22\n"
     ]
    },
    {
     "name": "stderr",
     "output_type": "stream",
     "text": [
      "\r",
      "[========================                ] 31/50 ( 62%) 19 to go"
     ]
    },
    {
     "name": "stdout",
     "output_type": "stream",
     "text": [
      "service goes offline @ 3:23\n"
     ]
    },
    {
     "name": "stderr",
     "output_type": "stream",
     "text": [
      "\r",
      "[=========================               ] 32/50 ( 64%) 18 to go"
     ]
    },
    {
     "name": "stdout",
     "output_type": "stream",
     "text": [
      "service goes offline @ 3:23\n"
     ]
    },
    {
     "name": "stderr",
     "output_type": "stream",
     "text": [
      "\r",
      "[==========================              ] 33/50 ( 66%) 17 to go"
     ]
    },
    {
     "name": "stdout",
     "output_type": "stream",
     "text": [
      "service goes offline @ 3:24\n"
     ]
    },
    {
     "name": "stderr",
     "output_type": "stream",
     "text": [
      "\r",
      "[===========================             ] 34/50 ( 68%) 16 to go"
     ]
    },
    {
     "name": "stdout",
     "output_type": "stream",
     "text": [
      "service goes offline @ 3:24\n"
     ]
    },
    {
     "name": "stderr",
     "output_type": "stream",
     "text": [
      "\r",
      "[============================            ] 35/50 ( 70%) 15 to go"
     ]
    },
    {
     "name": "stdout",
     "output_type": "stream",
     "text": [
      "service goes offline @ 3:25\n"
     ]
    },
    {
     "name": "stderr",
     "output_type": "stream",
     "text": [
      "\r",
      "[============================            ] 36/50 ( 72%) 14 to go"
     ]
    },
    {
     "name": "stdout",
     "output_type": "stream",
     "text": [
      "service goes offline @ 3:25\n"
     ]
    },
    {
     "name": "stderr",
     "output_type": "stream",
     "text": [
      "\r",
      "[=============================           ] 37/50 ( 74%) 13 to go"
     ]
    },
    {
     "name": "stdout",
     "output_type": "stream",
     "text": [
      "service goes offline @ 3:26\n"
     ]
    },
    {
     "name": "stderr",
     "output_type": "stream",
     "text": [
      "\r",
      "[==============================          ] 38/50 ( 76%) 12 to go"
     ]
    },
    {
     "name": "stdout",
     "output_type": "stream",
     "text": [
      "service goes offline @ 3:26\n"
     ]
    },
    {
     "name": "stderr",
     "output_type": "stream",
     "text": [
      "\r",
      "[===============================         ] 39/50 ( 78%) 11 to go"
     ]
    },
    {
     "name": "stdout",
     "output_type": "stream",
     "text": [
      "service goes offline @ 3:27\n"
     ]
    },
    {
     "name": "stderr",
     "output_type": "stream",
     "text": [
      "\r",
      "[================================        ] 40/50 ( 80%) 10 to go"
     ]
    },
    {
     "name": "stdout",
     "output_type": "stream",
     "text": [
      "service goes offline @ 3:27\n"
     ]
    },
    {
     "name": "stderr",
     "output_type": "stream",
     "text": [
      "\r",
      "[================================        ] 41/50 ( 82%)  9 to go"
     ]
    },
    {
     "name": "stdout",
     "output_type": "stream",
     "text": [
      "service goes offline @ 3:28\n"
     ]
    },
    {
     "name": "stderr",
     "output_type": "stream",
     "text": [
      "\r",
      "[=================================       ] 42/50 ( 84%)  8 to go"
     ]
    },
    {
     "name": "stdout",
     "output_type": "stream",
     "text": [
      "service goes offline @ 3:28\n"
     ]
    },
    {
     "name": "stderr",
     "output_type": "stream",
     "text": [
      "\r",
      "[==================================      ] 43/50 ( 86%)  7 to go"
     ]
    },
    {
     "name": "stdout",
     "output_type": "stream",
     "text": [
      "service goes offline @ 3:29\n"
     ]
    },
    {
     "name": "stderr",
     "output_type": "stream",
     "text": [
      "\r",
      "[===================================     ] 44/50 ( 88%)  6 to go"
     ]
    },
    {
     "name": "stdout",
     "output_type": "stream",
     "text": [
      "service goes offline @ 3:29\n"
     ]
    },
    {
     "name": "stderr",
     "output_type": "stream",
     "text": [
      "\r",
      "[====================================    ] 45/50 ( 90%)  5 to go"
     ]
    },
    {
     "name": "stdout",
     "output_type": "stream",
     "text": [
      "service goes offline @ 3:30\n"
     ]
    },
    {
     "name": "stderr",
     "output_type": "stream",
     "text": [
      "\r",
      "[====================================    ] 46/50 ( 92%)  4 to go"
     ]
    },
    {
     "name": "stdout",
     "output_type": "stream",
     "text": [
      "service goes offline @ 3:30\n"
     ]
    },
    {
     "name": "stderr",
     "output_type": "stream",
     "text": [
      "\r",
      "[=====================================   ] 47/50 ( 94%)  3 to go"
     ]
    },
    {
     "name": "stdout",
     "output_type": "stream",
     "text": [
      "service goes offline @ 3:31\n"
     ]
    },
    {
     "name": "stderr",
     "output_type": "stream",
     "text": [
      "\r",
      "[======================================  ] 48/50 ( 96%)  2 to go"
     ]
    },
    {
     "name": "stdout",
     "output_type": "stream",
     "text": [
      "service goes offline @ 3:31\n"
     ]
    },
    {
     "name": "stderr",
     "output_type": "stream",
     "text": [
      "\r",
      "[======================================= ] 49/50 ( 98%)  1 to go"
     ]
    },
    {
     "name": "stdout",
     "output_type": "stream",
     "text": [
      "service goes offline @ 3:32\n"
     ]
    },
    {
     "name": "stderr",
     "output_type": "stream",
     "text": [
      "\r",
      "[========================================] 50/50 (100%)  0 to go"
     ]
    },
    {
     "name": "stdout",
     "output_type": "stream",
     "text": [
      "service goes offline @ 3:32\n"
     ]
    },
    {
     "name": "stderr",
     "output_type": "stream",
     "text": [
      "\r",
      "[========================================] 50/50 (100%)  0 to go\n",
      "\r",
      "[                                        ]  1/50 (  2%) 49 to go"
     ]
    },
    {
     "name": "stdout",
     "output_type": "stream",
     "text": [
      "Data_43 collected, writting to file: output/Dec13_43\n",
      "output/Dec13_43 is written @ 2017-12-13 03:33:15.783090\n",
      "service goes offline @ 3:33\n"
     ]
    },
    {
     "name": "stderr",
     "output_type": "stream",
     "text": [
      "\r",
      "[=                                       ]  2/50 (  4%) 48 to go"
     ]
    },
    {
     "name": "stdout",
     "output_type": "stream",
     "text": [
      "service goes offline @ 3:33\n"
     ]
    },
    {
     "name": "stderr",
     "output_type": "stream",
     "text": [
      "\r",
      "[==                                      ]  3/50 (  6%) 47 to go"
     ]
    },
    {
     "name": "stdout",
     "output_type": "stream",
     "text": [
      "service goes offline @ 3:34\n"
     ]
    },
    {
     "name": "stderr",
     "output_type": "stream",
     "text": [
      "\r",
      "[===                                     ]  4/50 (  8%) 46 to go"
     ]
    },
    {
     "name": "stdout",
     "output_type": "stream",
     "text": [
      "service goes offline @ 3:34\n"
     ]
    },
    {
     "name": "stderr",
     "output_type": "stream",
     "text": [
      "\r",
      "[====                                    ]  5/50 ( 10%) 45 to go"
     ]
    },
    {
     "name": "stdout",
     "output_type": "stream",
     "text": [
      "service goes offline @ 3:35\n"
     ]
    },
    {
     "name": "stderr",
     "output_type": "stream",
     "text": [
      "\r",
      "[====                                    ]  6/50 ( 12%) 44 to go"
     ]
    },
    {
     "name": "stdout",
     "output_type": "stream",
     "text": [
      "service goes offline @ 3:35\n"
     ]
    },
    {
     "name": "stderr",
     "output_type": "stream",
     "text": [
      "\r",
      "[=====                                   ]  7/50 ( 14%) 43 to go"
     ]
    },
    {
     "name": "stdout",
     "output_type": "stream",
     "text": [
      "service goes offline @ 3:36\n"
     ]
    },
    {
     "name": "stderr",
     "output_type": "stream",
     "text": [
      "\r",
      "[======                                  ]  8/50 ( 16%) 42 to go"
     ]
    },
    {
     "name": "stdout",
     "output_type": "stream",
     "text": [
      "service goes offline @ 3:36\n"
     ]
    },
    {
     "name": "stderr",
     "output_type": "stream",
     "text": [
      "\r",
      "[=======                                 ]  9/50 ( 18%) 41 to go"
     ]
    },
    {
     "name": "stdout",
     "output_type": "stream",
     "text": [
      "service goes offline @ 3:37\n"
     ]
    },
    {
     "name": "stderr",
     "output_type": "stream",
     "text": [
      "\r",
      "[========                                ] 10/50 ( 20%) 40 to go"
     ]
    },
    {
     "name": "stdout",
     "output_type": "stream",
     "text": [
      "service goes offline @ 3:37\n"
     ]
    },
    {
     "name": "stderr",
     "output_type": "stream",
     "text": [
      "\r",
      "[========                                ] 11/50 ( 22%) 39 to go"
     ]
    },
    {
     "name": "stdout",
     "output_type": "stream",
     "text": [
      "service goes offline @ 3:38\n"
     ]
    },
    {
     "name": "stderr",
     "output_type": "stream",
     "text": [
      "\r",
      "[=========                               ] 12/50 ( 24%) 38 to go"
     ]
    },
    {
     "name": "stdout",
     "output_type": "stream",
     "text": [
      "service goes offline @ 3:38\n"
     ]
    },
    {
     "name": "stderr",
     "output_type": "stream",
     "text": [
      "\r",
      "[==========                              ] 13/50 ( 26%) 37 to go"
     ]
    },
    {
     "name": "stdout",
     "output_type": "stream",
     "text": [
      "service goes offline @ 3:39\n"
     ]
    },
    {
     "name": "stderr",
     "output_type": "stream",
     "text": [
      "\r",
      "[===========                             ] 14/50 ( 28%) 36 to go"
     ]
    },
    {
     "name": "stdout",
     "output_type": "stream",
     "text": [
      "service goes offline @ 3:39\n"
     ]
    },
    {
     "name": "stderr",
     "output_type": "stream",
     "text": [
      "\r",
      "[============                            ] 15/50 ( 30%) 35 to go"
     ]
    },
    {
     "name": "stdout",
     "output_type": "stream",
     "text": [
      "service goes offline @ 3:40\n"
     ]
    },
    {
     "name": "stderr",
     "output_type": "stream",
     "text": [
      "\r",
      "[============                            ] 16/50 ( 32%) 34 to go"
     ]
    },
    {
     "name": "stdout",
     "output_type": "stream",
     "text": [
      "service goes offline @ 3:40\n"
     ]
    },
    {
     "name": "stderr",
     "output_type": "stream",
     "text": [
      "\r",
      "[=============                           ] 17/50 ( 34%) 33 to go"
     ]
    },
    {
     "name": "stdout",
     "output_type": "stream",
     "text": [
      "service goes offline @ 3:41\n"
     ]
    },
    {
     "name": "stderr",
     "output_type": "stream",
     "text": [
      "\r",
      "[==============                          ] 18/50 ( 36%) 32 to go"
     ]
    },
    {
     "name": "stdout",
     "output_type": "stream",
     "text": [
      "service goes offline @ 3:41\n"
     ]
    },
    {
     "name": "stderr",
     "output_type": "stream",
     "text": [
      "\r",
      "[===============                         ] 19/50 ( 38%) 31 to go"
     ]
    },
    {
     "name": "stdout",
     "output_type": "stream",
     "text": [
      "service goes offline @ 3:42\n"
     ]
    },
    {
     "name": "stderr",
     "output_type": "stream",
     "text": [
      "\r",
      "[================                        ] 20/50 ( 40%) 30 to go"
     ]
    },
    {
     "name": "stdout",
     "output_type": "stream",
     "text": [
      "service goes offline @ 3:42\n"
     ]
    },
    {
     "name": "stderr",
     "output_type": "stream",
     "text": [
      "\r",
      "[================                        ] 21/50 ( 42%) 29 to go"
     ]
    },
    {
     "name": "stdout",
     "output_type": "stream",
     "text": [
      "service goes offline @ 3:43\n"
     ]
    },
    {
     "name": "stderr",
     "output_type": "stream",
     "text": [
      "\r",
      "[=================                       ] 22/50 ( 44%) 28 to go"
     ]
    },
    {
     "name": "stdout",
     "output_type": "stream",
     "text": [
      "service goes offline @ 3:43\n"
     ]
    },
    {
     "name": "stderr",
     "output_type": "stream",
     "text": [
      "\r",
      "[==================                      ] 23/50 ( 46%) 27 to go"
     ]
    },
    {
     "name": "stdout",
     "output_type": "stream",
     "text": [
      "service goes offline @ 3:44\n"
     ]
    },
    {
     "name": "stderr",
     "output_type": "stream",
     "text": [
      "\r",
      "[===================                     ] 24/50 ( 48%) 26 to go"
     ]
    },
    {
     "name": "stdout",
     "output_type": "stream",
     "text": [
      "service goes offline @ 3:44\n"
     ]
    },
    {
     "name": "stderr",
     "output_type": "stream",
     "text": [
      "\r",
      "[====================                    ] 25/50 ( 50%) 25 to go"
     ]
    },
    {
     "name": "stdout",
     "output_type": "stream",
     "text": [
      "service goes offline @ 3:45\n"
     ]
    },
    {
     "name": "stderr",
     "output_type": "stream",
     "text": [
      "\r",
      "[====================                    ] 26/50 ( 52%) 24 to go"
     ]
    },
    {
     "name": "stdout",
     "output_type": "stream",
     "text": [
      "service goes offline @ 3:45\n"
     ]
    },
    {
     "name": "stderr",
     "output_type": "stream",
     "text": [
      "\r",
      "[=====================                   ] 27/50 ( 54%) 23 to go"
     ]
    },
    {
     "name": "stdout",
     "output_type": "stream",
     "text": [
      "service goes offline @ 3:46\n"
     ]
    },
    {
     "name": "stderr",
     "output_type": "stream",
     "text": [
      "\r",
      "[======================                  ] 28/50 ( 56%) 22 to go"
     ]
    },
    {
     "name": "stdout",
     "output_type": "stream",
     "text": [
      "service goes offline @ 3:46\n"
     ]
    },
    {
     "name": "stderr",
     "output_type": "stream",
     "text": [
      "\r",
      "[=======================                 ] 29/50 ( 57%) 21 to go"
     ]
    },
    {
     "name": "stdout",
     "output_type": "stream",
     "text": [
      "service goes offline @ 3:47\n"
     ]
    },
    {
     "name": "stderr",
     "output_type": "stream",
     "text": [
      "\r",
      "[========================                ] 30/50 ( 60%) 20 to go"
     ]
    },
    {
     "name": "stdout",
     "output_type": "stream",
     "text": [
      "service goes offline @ 3:47\n"
     ]
    },
    {
     "name": "stderr",
     "output_type": "stream",
     "text": [
      "\r",
      "[========================                ] 31/50 ( 62%) 19 to go"
     ]
    },
    {
     "name": "stdout",
     "output_type": "stream",
     "text": [
      "service goes offline @ 3:48\n"
     ]
    },
    {
     "name": "stderr",
     "output_type": "stream",
     "text": [
      "\r",
      "[=========================               ] 32/50 ( 64%) 18 to go"
     ]
    },
    {
     "name": "stdout",
     "output_type": "stream",
     "text": [
      "service goes offline @ 3:48\n"
     ]
    },
    {
     "name": "stderr",
     "output_type": "stream",
     "text": [
      "\r",
      "[==========================              ] 33/50 ( 66%) 17 to go"
     ]
    },
    {
     "name": "stdout",
     "output_type": "stream",
     "text": [
      "service goes offline @ 3:49\n"
     ]
    },
    {
     "name": "stderr",
     "output_type": "stream",
     "text": [
      "\r",
      "[===========================             ] 34/50 ( 68%) 16 to go"
     ]
    },
    {
     "name": "stdout",
     "output_type": "stream",
     "text": [
      "service goes offline @ 3:49\n"
     ]
    },
    {
     "name": "stderr",
     "output_type": "stream",
     "text": [
      "\r",
      "[============================            ] 35/50 ( 70%) 15 to go"
     ]
    },
    {
     "name": "stdout",
     "output_type": "stream",
     "text": [
      "service goes offline @ 3:50\n"
     ]
    },
    {
     "name": "stderr",
     "output_type": "stream",
     "text": [
      "\r",
      "[============================            ] 36/50 ( 72%) 14 to go"
     ]
    },
    {
     "name": "stdout",
     "output_type": "stream",
     "text": [
      "service goes offline @ 3:50\n"
     ]
    },
    {
     "name": "stderr",
     "output_type": "stream",
     "text": [
      "\r",
      "[=============================           ] 37/50 ( 74%) 13 to go"
     ]
    },
    {
     "name": "stdout",
     "output_type": "stream",
     "text": [
      "service goes offline @ 3:51\n"
     ]
    },
    {
     "name": "stderr",
     "output_type": "stream",
     "text": [
      "\r",
      "[==============================          ] 38/50 ( 76%) 12 to go"
     ]
    },
    {
     "name": "stdout",
     "output_type": "stream",
     "text": [
      "service goes offline @ 3:51\n"
     ]
    },
    {
     "name": "stderr",
     "output_type": "stream",
     "text": [
      "\r",
      "[===============================         ] 39/50 ( 78%) 11 to go"
     ]
    },
    {
     "name": "stdout",
     "output_type": "stream",
     "text": [
      "service goes offline @ 3:52\n"
     ]
    },
    {
     "name": "stderr",
     "output_type": "stream",
     "text": [
      "\r",
      "[================================        ] 40/50 ( 80%) 10 to go"
     ]
    },
    {
     "name": "stdout",
     "output_type": "stream",
     "text": [
      "service goes offline @ 3:52\n"
     ]
    },
    {
     "name": "stderr",
     "output_type": "stream",
     "text": [
      "\r",
      "[================================        ] 41/50 ( 82%)  9 to go"
     ]
    },
    {
     "name": "stdout",
     "output_type": "stream",
     "text": [
      "service goes offline @ 3:53\n"
     ]
    },
    {
     "name": "stderr",
     "output_type": "stream",
     "text": [
      "\r",
      "[=================================       ] 42/50 ( 84%)  8 to go"
     ]
    },
    {
     "name": "stdout",
     "output_type": "stream",
     "text": [
      "service goes offline @ 3:53\n"
     ]
    },
    {
     "name": "stderr",
     "output_type": "stream",
     "text": [
      "\r",
      "[==================================      ] 43/50 ( 86%)  7 to go"
     ]
    },
    {
     "name": "stdout",
     "output_type": "stream",
     "text": [
      "service goes offline @ 3:54\n"
     ]
    },
    {
     "name": "stderr",
     "output_type": "stream",
     "text": [
      "\r",
      "[===================================     ] 44/50 ( 88%)  6 to go"
     ]
    },
    {
     "name": "stdout",
     "output_type": "stream",
     "text": [
      "service goes offline @ 3:54\n"
     ]
    },
    {
     "name": "stderr",
     "output_type": "stream",
     "text": [
      "\r",
      "[====================================    ] 45/50 ( 90%)  5 to go"
     ]
    },
    {
     "name": "stdout",
     "output_type": "stream",
     "text": [
      "service goes offline @ 3:55\n"
     ]
    },
    {
     "name": "stderr",
     "output_type": "stream",
     "text": [
      "\r",
      "[====================================    ] 46/50 ( 92%)  4 to go"
     ]
    },
    {
     "name": "stdout",
     "output_type": "stream",
     "text": [
      "service goes offline @ 3:55\n"
     ]
    },
    {
     "name": "stderr",
     "output_type": "stream",
     "text": [
      "\r",
      "[=====================================   ] 47/50 ( 94%)  3 to go"
     ]
    },
    {
     "name": "stdout",
     "output_type": "stream",
     "text": [
      "service goes offline @ 3:56\n"
     ]
    },
    {
     "name": "stderr",
     "output_type": "stream",
     "text": [
      "\r",
      "[======================================  ] 48/50 ( 96%)  2 to go"
     ]
    },
    {
     "name": "stdout",
     "output_type": "stream",
     "text": [
      "service goes offline @ 3:56\n"
     ]
    },
    {
     "name": "stderr",
     "output_type": "stream",
     "text": [
      "\r",
      "[======================================= ] 49/50 ( 98%)  1 to go"
     ]
    },
    {
     "name": "stdout",
     "output_type": "stream",
     "text": [
      "service goes offline @ 3:57\n"
     ]
    },
    {
     "name": "stderr",
     "output_type": "stream",
     "text": [
      "\r",
      "[========================================] 50/50 (100%)  0 to go"
     ]
    },
    {
     "name": "stdout",
     "output_type": "stream",
     "text": [
      "service goes offline @ 3:57\n"
     ]
    },
    {
     "name": "stderr",
     "output_type": "stream",
     "text": [
      "\r",
      "[========================================] 50/50 (100%)  0 to go\n",
      "\r",
      "[                                        ]  1/50 (  2%) 49 to go"
     ]
    },
    {
     "name": "stdout",
     "output_type": "stream",
     "text": [
      "Data_44 collected, writting to file: output/Dec13_44\n",
      "output/Dec13_44 is written @ 2017-12-13 03:58:24.216825\n",
      "service goes offline @ 3:58\n"
     ]
    },
    {
     "name": "stderr",
     "output_type": "stream",
     "text": [
      "\r",
      "[=                                       ]  2/50 (  4%) 48 to go"
     ]
    },
    {
     "name": "stdout",
     "output_type": "stream",
     "text": [
      "service goes offline @ 3:58\n"
     ]
    },
    {
     "name": "stderr",
     "output_type": "stream",
     "text": [
      "\r",
      "[==                                      ]  3/50 (  6%) 47 to go"
     ]
    },
    {
     "name": "stdout",
     "output_type": "stream",
     "text": [
      "service goes offline @ 3:59\n"
     ]
    },
    {
     "name": "stderr",
     "output_type": "stream",
     "text": [
      "\r",
      "[===                                     ]  4/50 (  8%) 46 to go"
     ]
    },
    {
     "name": "stdout",
     "output_type": "stream",
     "text": [
      "service goes offline @ 3:59\n"
     ]
    },
    {
     "name": "stderr",
     "output_type": "stream",
     "text": [
      "\r",
      "[====                                    ]  5/50 ( 10%) 45 to go"
     ]
    },
    {
     "name": "stdout",
     "output_type": "stream",
     "text": [
      "service goes offline @ 4:1\n"
     ]
    },
    {
     "name": "stderr",
     "output_type": "stream",
     "text": [
      "\r",
      "[====                                    ]  6/50 ( 12%) 44 to go"
     ]
    },
    {
     "name": "stdout",
     "output_type": "stream",
     "text": [
      "service goes offline @ 4:1\n"
     ]
    },
    {
     "name": "stderr",
     "output_type": "stream",
     "text": [
      "\r",
      "[=====                                   ]  7/50 ( 14%) 43 to go"
     ]
    },
    {
     "name": "stdout",
     "output_type": "stream",
     "text": [
      "service goes offline @ 4:2\n"
     ]
    },
    {
     "name": "stderr",
     "output_type": "stream",
     "text": [
      "\r",
      "[======                                  ]  8/50 ( 16%) 42 to go"
     ]
    },
    {
     "name": "stdout",
     "output_type": "stream",
     "text": [
      "service goes offline @ 4:2\n"
     ]
    },
    {
     "name": "stderr",
     "output_type": "stream",
     "text": [
      "\r",
      "[=======                                 ]  9/50 ( 18%) 41 to go"
     ]
    },
    {
     "name": "stdout",
     "output_type": "stream",
     "text": [
      "service goes offline @ 4:3\n"
     ]
    },
    {
     "name": "stderr",
     "output_type": "stream",
     "text": [
      "[========================================] 50/50 (100%)  0 to go\n",
      "[                                        ]  1/50 (  2%) 49 to go"
     ]
    },
    {
     "name": "stdout",
     "output_type": "stream",
     "text": [
      "Data_45 collected, writting to file: output/Dec13_45\n",
      "output/Dec13_45 is written @ 2017-12-13 04:24:25.705242\n"
     ]
    },
    {
     "name": "stderr",
     "output_type": "stream",
     "text": [
      "[========================================] 50/50 (100%)  0 to go\n",
      "[                                        ]  1/50 (  2%) 49 to go"
     ]
    },
    {
     "name": "stdout",
     "output_type": "stream",
     "text": [
      "Data_46 collected, writting to file: output/Dec13_46\n",
      "output/Dec13_46 is written @ 2017-12-13 04:49:34.838230\n"
     ]
    },
    {
     "name": "stderr",
     "output_type": "stream",
     "text": [
      "[========================================] 50/50 (100%)  0 to go\n",
      "[                                        ]  1/50 (  2%) 49 to go"
     ]
    },
    {
     "name": "stdout",
     "output_type": "stream",
     "text": [
      "Data_47 collected, writting to file: output/Dec13_47\n",
      "output/Dec13_47 is written @ 2017-12-13 05:15:07.490406\n"
     ]
    },
    {
     "name": "stderr",
     "output_type": "stream",
     "text": [
      "[========================================] 50/50 (100%)  0 to go\n",
      "[                                        ]  1/50 (  2%) 49 to go"
     ]
    },
    {
     "name": "stdout",
     "output_type": "stream",
     "text": [
      "Data_48 collected, writting to file: output/Dec13_48\n",
      "output/Dec13_48 is written @ 2017-12-13 05:40:19.684153\n"
     ]
    },
    {
     "name": "stderr",
     "output_type": "stream",
     "text": [
      "[========================================] 50/50 (100%)  0 to go\n",
      "[                                        ]  1/50 (  2%) 49 to go"
     ]
    },
    {
     "name": "stdout",
     "output_type": "stream",
     "text": [
      "Data_49 collected, writting to file: output/Dec13_49\n",
      "output/Dec13_49 is written @ 2017-12-13 06:05:33.137175\n"
     ]
    },
    {
     "name": "stderr",
     "output_type": "stream",
     "text": [
      "[========================================] 50/50 (100%)  0 to go\n",
      "[                                        ]  1/50 (  2%) 49 to go"
     ]
    },
    {
     "name": "stdout",
     "output_type": "stream",
     "text": [
      "Data_50 collected, writting to file: output/Dec13_50\n",
      "output/Dec13_50 is written @ 2017-12-13 06:30:47.597550\n"
     ]
    },
    {
     "name": "stderr",
     "output_type": "stream",
     "text": [
      "[========================================] 50/50 (100%)  0 to go\n",
      "[                                        ]  1/50 (  2%) 49 to go"
     ]
    },
    {
     "name": "stdout",
     "output_type": "stream",
     "text": [
      "Data_51 collected, writting to file: output/Dec13_51\n",
      "output/Dec13_51 is written @ 2017-12-13 06:56:02.416627\n"
     ]
    },
    {
     "name": "stderr",
     "output_type": "stream",
     "text": [
      "[========================================] 50/50 (100%)  0 to go\n",
      "[                                        ]  1/50 (  2%) 49 to go"
     ]
    },
    {
     "name": "stdout",
     "output_type": "stream",
     "text": [
      "Data_52 collected, writting to file: output/Dec13_52\n",
      "output/Dec13_52 is written @ 2017-12-13 07:21:19.478910\n"
     ]
    },
    {
     "name": "stderr",
     "output_type": "stream",
     "text": [
      "[========================================] 50/50 (100%)  0 to go\n",
      "[                                        ]  1/50 (  2%) 49 to go"
     ]
    },
    {
     "name": "stdout",
     "output_type": "stream",
     "text": [
      "Data_53 collected, writting to file: output/Dec13_53\n",
      "output/Dec13_53 is written @ 2017-12-13 07:46:40.690176\n"
     ]
    },
    {
     "name": "stderr",
     "output_type": "stream",
     "text": [
      "[========================================] 50/50 (100%)  0 to go\n",
      "[                                        ]  1/50 (  2%) 49 to go"
     ]
    },
    {
     "name": "stdout",
     "output_type": "stream",
     "text": [
      "Data_54 collected, writting to file: output/Dec13_54\n",
      "output/Dec13_54 is written @ 2017-12-13 08:11:54.444997\n"
     ]
    },
    {
     "name": "stderr",
     "output_type": "stream",
     "text": [
      "[========================================] 50/50 (100%)  0 to go\n",
      "[                                        ]  1/50 (  2%) 49 to go"
     ]
    },
    {
     "name": "stdout",
     "output_type": "stream",
     "text": [
      "Data_55 collected, writting to file: output/Dec13_55\n",
      "output/Dec13_55 is written @ 2017-12-13 08:37:13.262109\n"
     ]
    },
    {
     "name": "stderr",
     "output_type": "stream",
     "text": [
      "[===                                     ]  4/50 (  8%) 46 to go"
     ]
    },
    {
     "name": "stdout",
     "output_type": "stream",
     "text": [
      "service goes offline @ 8:38\n"
     ]
    },
    {
     "name": "stderr",
     "output_type": "stream",
     "text": [
      "[========================================] 50/50 (100%)  0 to go\n",
      "[                                        ]  1/50 (  2%) 49 to go"
     ]
    },
    {
     "name": "stdout",
     "output_type": "stream",
     "text": [
      "Data_56 collected, writting to file: output/Dec13_56\n",
      "output/Dec13_56 is written @ 2017-12-13 09:02:30.445300\n"
     ]
    },
    {
     "name": "stderr",
     "output_type": "stream",
     "text": [
      "[========================================] 50/50 (100%)  0 to go\n",
      "[                                        ]  1/50 (  2%) 49 to go"
     ]
    },
    {
     "name": "stdout",
     "output_type": "stream",
     "text": [
      "Data_57 collected, writting to file: output/Dec13_57\n",
      "output/Dec13_57 is written @ 2017-12-13 09:27:56.641361\n"
     ]
    },
    {
     "name": "stderr",
     "output_type": "stream",
     "text": [
      "[========================================] 50/50 (100%)  0 to go\n",
      "[                                        ]  1/50 (  2%) 49 to go"
     ]
    },
    {
     "name": "stdout",
     "output_type": "stream",
     "text": [
      "Data_58 collected, writting to file: output/Dec13_58\n",
      "output/Dec13_58 is written @ 2017-12-13 09:53:10.288642\n"
     ]
    },
    {
     "name": "stderr",
     "output_type": "stream",
     "text": [
      "[========================================] 50/50 (100%)  0 to go\n",
      "[                                        ]  1/50 (  2%) 49 to go"
     ]
    },
    {
     "name": "stdout",
     "output_type": "stream",
     "text": [
      "Data_59 collected, writting to file: output/Dec13_59\n",
      "output/Dec13_59 is written @ 2017-12-13 10:18:24.942349\n"
     ]
    },
    {
     "name": "stderr",
     "output_type": "stream",
     "text": [
      "[========================================] 50/50 (100%)  0 to go\n",
      "[                                        ]  1/50 (  2%) 49 to go"
     ]
    },
    {
     "name": "stdout",
     "output_type": "stream",
     "text": [
      "Data_60 collected, writting to file: output/Dec13_60\n",
      "output/Dec13_60 is written @ 2017-12-13 10:43:38.441867\n"
     ]
    },
    {
     "name": "stderr",
     "output_type": "stream",
     "text": [
      "[========================================] 50/50 (100%)  0 to go\n",
      "[                                        ]  1/50 (  2%) 49 to go"
     ]
    },
    {
     "name": "stdout",
     "output_type": "stream",
     "text": [
      "Data_61 collected, writting to file: output/Dec13_61\n",
      "output/Dec13_61 is written @ 2017-12-13 11:08:54.924662\n"
     ]
    },
    {
     "name": "stderr",
     "output_type": "stream",
     "text": [
      "[========================================] 50/50 (100%)  0 to go\n",
      "[                                        ]  1/50 (  2%) 49 to go"
     ]
    },
    {
     "name": "stdout",
     "output_type": "stream",
     "text": [
      "Data_62 collected, writting to file: output/Dec13_62\n",
      "output/Dec13_62 is written @ 2017-12-13 11:34:07.217794\n"
     ]
    },
    {
     "name": "stderr",
     "output_type": "stream",
     "text": [
      "[========================================] 50/50 (100%)  0 to go\n",
      "[                                        ]  1/50 (  2%) 49 to go"
     ]
    },
    {
     "name": "stdout",
     "output_type": "stream",
     "text": [
      "Data_63 collected, writting to file: output/Dec13_63\n",
      "output/Dec13_63 is written @ 2017-12-13 11:59:20.484843\n"
     ]
    },
    {
     "name": "stderr",
     "output_type": "stream",
     "text": [
      "[========================================] 50/50 (100%)  0 to go\n",
      "[                                        ]  1/50 (  2%) 49 to go"
     ]
    },
    {
     "name": "stdout",
     "output_type": "stream",
     "text": [
      "Data_64 collected, writting to file: output/Dec13_64\n",
      "output/Dec13_64 is written @ 2017-12-13 12:24:34.174011\n"
     ]
    },
    {
     "name": "stderr",
     "output_type": "stream",
     "text": [
      "[==================================      ] 43/50 ( 86%)  7 to go"
     ]
    },
    {
     "name": "stdout",
     "output_type": "stream",
     "text": [
      "service goes offline @ 12:45\n"
     ]
    },
    {
     "name": "stderr",
     "output_type": "stream",
     "text": [
      "[========================================] 50/50 (100%)  0 to go\n",
      "[                                        ]  1/50 (  2%) 49 to go"
     ]
    },
    {
     "name": "stdout",
     "output_type": "stream",
     "text": [
      "Data_65 collected, writting to file: output/Dec13_65\n",
      "output/Dec13_65 is written @ 2017-12-13 12:49:46.810202\n"
     ]
    },
    {
     "name": "stderr",
     "output_type": "stream",
     "text": [
      "[========================================] 50/50 (100%)  0 to go\n",
      "[                                        ]  1/50 (  2%) 49 to go"
     ]
    },
    {
     "name": "stdout",
     "output_type": "stream",
     "text": [
      "Data_66 collected, writting to file: output/Dec13_66\n",
      "output/Dec13_66 is written @ 2017-12-13 13:15:00.081982\n"
     ]
    },
    {
     "name": "stderr",
     "output_type": "stream",
     "text": [
      "[========================================] 50/50 (100%)  0 to go\n",
      "[                                        ]  1/50 (  2%) 49 to go"
     ]
    },
    {
     "name": "stdout",
     "output_type": "stream",
     "text": [
      "Data_67 collected, writting to file: output/Dec13_67\n",
      "output/Dec13_67 is written @ 2017-12-13 13:40:10.717493\n"
     ]
    },
    {
     "name": "stderr",
     "output_type": "stream",
     "text": [
      "[====================================    ] 46/50 ( 92%)  4 to go"
     ]
    },
    {
     "name": "stdout",
     "output_type": "stream",
     "text": [
      "service goes offline @ 14:2\n"
     ]
    },
    {
     "name": "stderr",
     "output_type": "stream",
     "text": [
      "[========================================] 50/50 (100%)  0 to go\n",
      "[                                        ]  1/50 (  2%) 49 to go"
     ]
    },
    {
     "name": "stdout",
     "output_type": "stream",
     "text": [
      "Data_68 collected, writting to file: output/Dec13_68\n",
      "output/Dec13_68 is written @ 2017-12-13 14:05:21.120426\n"
     ]
    },
    {
     "name": "stderr",
     "output_type": "stream",
     "text": [
      "[=============================           ] 37/50 ( 74%) 13 to go"
     ]
    },
    {
     "name": "stdout",
     "output_type": "stream",
     "text": [
      "service goes offline @ 14:23\n"
     ]
    },
    {
     "name": "stderr",
     "output_type": "stream",
     "text": [
      "[========================================] 50/50 (100%)  0 to go\n",
      "[                                        ]  1/50 (  2%) 49 to go"
     ]
    },
    {
     "name": "stdout",
     "output_type": "stream",
     "text": [
      "Data_69 collected, writting to file: output/Dec13_69\n",
      "output/Dec13_69 is written @ 2017-12-13 14:30:34.115773\n"
     ]
    },
    {
     "name": "stderr",
     "output_type": "stream",
     "text": [
      "[========================================] 50/50 (100%)  0 to go\n",
      "[                                        ]  1/50 (  2%) 49 to go"
     ]
    },
    {
     "name": "stdout",
     "output_type": "stream",
     "text": [
      "Data_70 collected, writting to file: output/Dec13_70\n",
      "output/Dec13_70 is written @ 2017-12-13 14:55:47.067817\n"
     ]
    },
    {
     "name": "stderr",
     "output_type": "stream",
     "text": [
      "[========================================] 50/50 (100%)  0 to go\n",
      "[                                        ]  1/50 (  2%) 49 to go"
     ]
    },
    {
     "name": "stdout",
     "output_type": "stream",
     "text": [
      "Data_71 collected, writting to file: output/Dec13_71\n",
      "output/Dec13_71 is written @ 2017-12-13 15:21:01.937447\n"
     ]
    },
    {
     "name": "stderr",
     "output_type": "stream",
     "text": [
      "[========================================] 50/50 (100%)  0 to go\n",
      "[                                        ]  1/50 (  2%) 49 to go"
     ]
    },
    {
     "name": "stdout",
     "output_type": "stream",
     "text": [
      "Data_72 collected, writting to file: output/Dec13_72\n",
      "output/Dec13_72 is written @ 2017-12-13 15:46:12.879362\n"
     ]
    },
    {
     "name": "stderr",
     "output_type": "stream",
     "text": [
      "[=================================       ] 42/50 ( 84%)  8 to go"
     ]
    },
    {
     "name": "stdout",
     "output_type": "stream",
     "text": [
      "service goes offline @ 16:6\n"
     ]
    },
    {
     "name": "stderr",
     "output_type": "stream",
     "text": [
      "[========================================] 50/50 (100%)  0 to go\n",
      "[                                        ]  1/50 (  2%) 49 to go"
     ]
    },
    {
     "name": "stdout",
     "output_type": "stream",
     "text": [
      "Data_73 collected, writting to file: output/Dec13_73\n",
      "output/Dec13_73 is written @ 2017-12-13 16:11:27.363140\n"
     ]
    },
    {
     "name": "stderr",
     "output_type": "stream",
     "text": [
      "[============================            ] 35/50 ( 70%) 15 to go"
     ]
    },
    {
     "name": "stdout",
     "output_type": "stream",
     "text": [
      "service goes offline @ 16:28\n"
     ]
    },
    {
     "name": "stderr",
     "output_type": "stream",
     "text": [
      "[========================================] 50/50 (100%)  0 to go\n",
      "[                                        ]  1/50 (  2%) 49 to go"
     ]
    },
    {
     "name": "stdout",
     "output_type": "stream",
     "text": [
      "Data_74 collected, writting to file: output/Dec13_74\n",
      "output/Dec13_74 is written @ 2017-12-13 16:36:46.056104\n"
     ]
    },
    {
     "name": "stderr",
     "output_type": "stream",
     "text": [
      "[==============================          ] 38/50 ( 76%) 12 to go"
     ]
    },
    {
     "name": "stdout",
     "output_type": "stream",
     "text": [
      "service goes offline @ 16:55\n"
     ]
    },
    {
     "name": "stderr",
     "output_type": "stream",
     "text": [
      "[========================================] 50/50 (100%)  0 to go\n",
      "[                                        ]  1/50 (  2%) 49 to go"
     ]
    },
    {
     "name": "stdout",
     "output_type": "stream",
     "text": [
      "Data_75 collected, writting to file: output/Dec13_75\n",
      "output/Dec13_75 is written @ 2017-12-13 17:02:02.637536\n"
     ]
    },
    {
     "name": "stderr",
     "output_type": "stream",
     "text": [
      "[=========================               ] 32/50 ( 64%) 18 to go"
     ]
    },
    {
     "name": "stdout",
     "output_type": "stream",
     "text": [
      "service goes offline @ 17:17\n"
     ]
    },
    {
     "name": "stderr",
     "output_type": "stream",
     "text": [
      "[========================================] 50/50 (100%)  0 to go\n",
      "[                                        ]  1/50 (  2%) 49 to go"
     ]
    },
    {
     "name": "stdout",
     "output_type": "stream",
     "text": [
      "Data_76 collected, writting to file: output/Dec13_76\n",
      "output/Dec13_76 is written @ 2017-12-13 17:27:21.229330\n"
     ]
    },
    {
     "name": "stderr",
     "output_type": "stream",
     "text": [
      "[========================================] 50/50 (100%)  0 to go\n",
      "[                                        ]  1/50 (  2%) 49 to go"
     ]
    },
    {
     "name": "stdout",
     "output_type": "stream",
     "text": [
      "Data_77 collected, writting to file: output/Dec13_77\n",
      "output/Dec13_77 is written @ 2017-12-13 17:52:41.341191\n"
     ]
    },
    {
     "name": "stderr",
     "output_type": "stream",
     "text": [
      "[========================================] 50/50 (100%)  0 to go\n",
      "[                                        ]  1/50 (  2%) 49 to go"
     ]
    },
    {
     "name": "stdout",
     "output_type": "stream",
     "text": [
      "Data_78 collected, writting to file: output/Dec13_78\n",
      "output/Dec13_78 is written @ 2017-12-13 18:17:56.539677\n"
     ]
    },
    {
     "name": "stderr",
     "output_type": "stream",
     "text": [
      "[========================================] 50/50 (100%)  0 to go\n",
      "[                                        ]  1/50 (  2%) 49 to go"
     ]
    },
    {
     "name": "stdout",
     "output_type": "stream",
     "text": [
      "Data_79 collected, writting to file: output/Dec13_79\n",
      "output/Dec13_79 is written @ 2017-12-13 18:43:13.635334\n"
     ]
    },
    {
     "name": "stderr",
     "output_type": "stream",
     "text": [
      "[========================================] 50/50 (100%)  0 to go\n",
      "[                                        ]  1/50 (  2%) 49 to go"
     ]
    },
    {
     "name": "stdout",
     "output_type": "stream",
     "text": [
      "Data_80 collected, writting to file: output/Dec13_80\n",
      "output/Dec13_80 is written @ 2017-12-13 19:08:30.578586\n"
     ]
    },
    {
     "name": "stderr",
     "output_type": "stream",
     "text": [
      "[========================================] 50/50 (100%)  0 to go\n",
      "[                                        ]  1/50 (  2%) 49 to go"
     ]
    },
    {
     "name": "stdout",
     "output_type": "stream",
     "text": [
      "Data_81 collected, writting to file: output/Dec13_81\n",
      "output/Dec13_81 is written @ 2017-12-13 19:33:42.023371\n"
     ]
    },
    {
     "name": "stderr",
     "output_type": "stream",
     "text": [
      "[========================================] 50/50 (100%)  0 to go\n",
      "[                                        ]  1/50 (  2%) 49 to go"
     ]
    },
    {
     "name": "stdout",
     "output_type": "stream",
     "text": [
      "Data_82 collected, writting to file: output/Dec13_82\n",
      "output/Dec13_82 is written @ 2017-12-13 19:58:52.391025\n"
     ]
    },
    {
     "name": "stderr",
     "output_type": "stream",
     "text": [
      "[============================            ] 36/50 ( 72%) 14 to go"
     ]
    },
    {
     "name": "stdout",
     "output_type": "stream",
     "text": [
      "service goes offline @ 20:16\n"
     ]
    },
    {
     "name": "stderr",
     "output_type": "stream",
     "text": [
      "[========================================] 50/50 (100%)  0 to go\n",
      "[                                        ]  1/50 (  2%) 49 to go"
     ]
    },
    {
     "name": "stdout",
     "output_type": "stream",
     "text": [
      "Data_83 collected, writting to file: output/Dec13_83\n",
      "output/Dec13_83 is written @ 2017-12-13 20:24:04.937636\n"
     ]
    },
    {
     "name": "stderr",
     "output_type": "stream",
     "text": [
      "[========================================] 50/50 (100%)  0 to go\n",
      "[                                        ]  1/50 (  2%) 49 to go"
     ]
    },
    {
     "name": "stdout",
     "output_type": "stream",
     "text": [
      "Data_84 collected, writting to file: output/Dec13_84\n",
      "output/Dec13_84 is written @ 2017-12-13 20:49:16.818899\n"
     ]
    },
    {
     "name": "stderr",
     "output_type": "stream",
     "text": [
      "[========================================] 50/50 (100%)  0 to go\n",
      "[                                        ]  1/50 (  2%) 49 to go"
     ]
    },
    {
     "name": "stdout",
     "output_type": "stream",
     "text": [
      "Data_85 collected, writting to file: output/Dec13_85\n",
      "output/Dec13_85 is written @ 2017-12-13 21:14:29.069314\n"
     ]
    },
    {
     "name": "stderr",
     "output_type": "stream",
     "text": [
      "[========================================] 50/50 (100%)  0 to go\n",
      "[                                        ]  1/50 (  2%) 49 to go"
     ]
    },
    {
     "name": "stdout",
     "output_type": "stream",
     "text": [
      "Data_86 collected, writting to file: output/Dec13_86\n",
      "output/Dec13_86 is written @ 2017-12-13 21:39:39.672223\n"
     ]
    },
    {
     "name": "stderr",
     "output_type": "stream",
     "text": [
      "[========================================] 50/50 (100%)  0 to go\n",
      "[                                        ]  1/50 (  2%) 49 to go"
     ]
    },
    {
     "name": "stdout",
     "output_type": "stream",
     "text": [
      "Data_87 collected, writting to file: output/Dec13_87\n",
      "output/Dec13_87 is written @ 2017-12-13 22:04:48.415944\n"
     ]
    },
    {
     "name": "stderr",
     "output_type": "stream",
     "text": [
      "[========================================] 50/50 (100%)  0 to go\n",
      "[                                        ]  1/50 (  2%) 49 to go"
     ]
    },
    {
     "name": "stdout",
     "output_type": "stream",
     "text": [
      "Data_88 collected, writting to file: output/Dec13_88\n",
      "output/Dec13_88 is written @ 2017-12-13 22:29:58.214017\n"
     ]
    },
    {
     "name": "stderr",
     "output_type": "stream",
     "text": [
      "[========================                ] 30/50 ( 60%) 20 to go"
     ]
    },
    {
     "name": "stdout",
     "output_type": "stream",
     "text": [
      "service goes offline @ 22:44\n"
     ]
    },
    {
     "name": "stderr",
     "output_type": "stream",
     "text": [
      "[========================================] 50/50 (100%)  0 to go\n",
      "[                                        ]  1/50 (  2%) 49 to go"
     ]
    },
    {
     "name": "stdout",
     "output_type": "stream",
     "text": [
      "Data_89 collected, writting to file: output/Dec13_89\n",
      "output/Dec13_89 is written @ 2017-12-13 22:55:08.512386\n"
     ]
    },
    {
     "name": "stderr",
     "output_type": "stream",
     "text": [
      "[====                                    ]  5/50 ( 10%) 45 to go"
     ]
    },
    {
     "name": "stdout",
     "output_type": "stream",
     "text": [
      "service goes offline @ 22:57\n"
     ]
    },
    {
     "name": "stderr",
     "output_type": "stream",
     "text": [
      "[========================================] 50/50 (100%)  0 to go\n",
      "[                                        ]  1/50 (  2%) 49 to go"
     ]
    },
    {
     "name": "stdout",
     "output_type": "stream",
     "text": [
      "Data_90 collected, writting to file: output/Dec13_90\n",
      "output/Dec13_90 is written @ 2017-12-13 23:20:21.042073\n"
     ]
    },
    {
     "name": "stderr",
     "output_type": "stream",
     "text": [
      "[========================================] 50/50 (100%)  0 to go\n",
      "[                                        ]  1/50 (  2%) 49 to go"
     ]
    },
    {
     "name": "stdout",
     "output_type": "stream",
     "text": [
      "Data_91 collected, writting to file: output/Dec13_91\n",
      "output/Dec13_91 is written @ 2017-12-13 23:45:37.016916\n"
     ]
    },
    {
     "name": "stderr",
     "output_type": "stream",
     "text": [
      "[========================================] 50/50 (100%)  0 to go\n",
      "[                                        ]  1/50 (  2%) 49 to go"
     ]
    },
    {
     "name": "stdout",
     "output_type": "stream",
     "text": [
      "Data_92 collected, writting to file: output/Dec13_92\n",
      "output/Dec13_92 is written @ 2017-12-14 00:10:48.076356\n"
     ]
    },
    {
     "name": "stderr",
     "output_type": "stream",
     "text": [
      "[========================================] 50/50 (100%)  0 to go\n",
      "[                                        ]  1/50 (  2%) 49 to go"
     ]
    },
    {
     "name": "stdout",
     "output_type": "stream",
     "text": [
      "Data_93 collected, writting to file: output/Dec14_93\n",
      "output/Dec14_93 is written @ 2017-12-14 00:35:57.572151\n"
     ]
    },
    {
     "name": "stderr",
     "output_type": "stream",
     "text": [
      "[========================================] 50/50 (100%)  0 to go\n",
      "[                                        ]  1/50 (  2%) 49 to go"
     ]
    },
    {
     "name": "stdout",
     "output_type": "stream",
     "text": [
      "Data_94 collected, writting to file: output/Dec14_94\n",
      "output/Dec14_94 is written @ 2017-12-14 01:01:05.578064\n"
     ]
    },
    {
     "name": "stderr",
     "output_type": "stream",
     "text": [
      "[=======                                 ]  9/50 ( 18%) 41 to go"
     ]
    },
    {
     "name": "stdout",
     "output_type": "stream",
     "text": [
      "service goes offline @ 1:5\n"
     ]
    },
    {
     "name": "stderr",
     "output_type": "stream",
     "text": [
      "\r",
      "[========                                ] 10/50 ( 20%) 40 to go"
     ]
    },
    {
     "name": "stdout",
     "output_type": "stream",
     "text": [
      "service goes offline @ 1:5\n"
     ]
    },
    {
     "name": "stderr",
     "output_type": "stream",
     "text": [
      "\r",
      "[========                                ] 11/50 ( 22%) 39 to go"
     ]
    },
    {
     "name": "stdout",
     "output_type": "stream",
     "text": [
      "service goes offline @ 1:6\n"
     ]
    },
    {
     "name": "stderr",
     "output_type": "stream",
     "text": [
      "\r",
      "[=========                               ] 12/50 ( 24%) 38 to go"
     ]
    },
    {
     "name": "stdout",
     "output_type": "stream",
     "text": [
      "service goes offline @ 1:6\n"
     ]
    },
    {
     "name": "stderr",
     "output_type": "stream",
     "text": [
      "\r",
      "[==========                              ] 13/50 ( 26%) 37 to go"
     ]
    },
    {
     "name": "stdout",
     "output_type": "stream",
     "text": [
      "service goes offline @ 1:7\n"
     ]
    },
    {
     "name": "stderr",
     "output_type": "stream",
     "text": [
      "\r",
      "[===========                             ] 14/50 ( 28%) 36 to go"
     ]
    },
    {
     "name": "stdout",
     "output_type": "stream",
     "text": [
      "service goes offline @ 1:7\n"
     ]
    },
    {
     "name": "stderr",
     "output_type": "stream",
     "text": [
      "\r",
      "[============                            ] 15/50 ( 30%) 35 to go"
     ]
    },
    {
     "name": "stdout",
     "output_type": "stream",
     "text": [
      "service goes offline @ 1:8\n"
     ]
    },
    {
     "name": "stderr",
     "output_type": "stream",
     "text": [
      "\r",
      "[============                            ] 16/50 ( 32%) 34 to go"
     ]
    },
    {
     "name": "stdout",
     "output_type": "stream",
     "text": [
      "service goes offline @ 1:8\n"
     ]
    },
    {
     "name": "stderr",
     "output_type": "stream",
     "text": [
      "\r",
      "[=============                           ] 17/50 ( 34%) 33 to go"
     ]
    },
    {
     "name": "stdout",
     "output_type": "stream",
     "text": [
      "service goes offline @ 1:9\n"
     ]
    },
    {
     "name": "stderr",
     "output_type": "stream",
     "text": [
      "\r",
      "[==============                          ] 18/50 ( 36%) 32 to go"
     ]
    },
    {
     "name": "stdout",
     "output_type": "stream",
     "text": [
      "service goes offline @ 1:9\n"
     ]
    },
    {
     "name": "stderr",
     "output_type": "stream",
     "text": [
      "\r",
      "[===============                         ] 19/50 ( 38%) 31 to go"
     ]
    },
    {
     "name": "stdout",
     "output_type": "stream",
     "text": [
      "service goes offline @ 1:10\n"
     ]
    },
    {
     "name": "stderr",
     "output_type": "stream",
     "text": [
      "\r",
      "[================                        ] 20/50 ( 40%) 30 to go"
     ]
    },
    {
     "name": "stdout",
     "output_type": "stream",
     "text": [
      "service goes offline @ 1:10\n"
     ]
    },
    {
     "name": "stderr",
     "output_type": "stream",
     "text": [
      "\r",
      "[================                        ] 21/50 ( 42%) 29 to go"
     ]
    },
    {
     "name": "stdout",
     "output_type": "stream",
     "text": [
      "service goes offline @ 1:11\n"
     ]
    },
    {
     "name": "stderr",
     "output_type": "stream",
     "text": [
      "\r",
      "[=================                       ] 22/50 ( 44%) 28 to go"
     ]
    },
    {
     "name": "stdout",
     "output_type": "stream",
     "text": [
      "service goes offline @ 1:11\n"
     ]
    },
    {
     "name": "stderr",
     "output_type": "stream",
     "text": [
      "\r",
      "[==================                      ] 23/50 ( 46%) 27 to go"
     ]
    },
    {
     "name": "stdout",
     "output_type": "stream",
     "text": [
      "service goes offline @ 1:12\n"
     ]
    },
    {
     "name": "stderr",
     "output_type": "stream",
     "text": [
      "\r",
      "[===================                     ] 24/50 ( 48%) 26 to go"
     ]
    },
    {
     "name": "stdout",
     "output_type": "stream",
     "text": [
      "service goes offline @ 1:12\n"
     ]
    },
    {
     "name": "stderr",
     "output_type": "stream",
     "text": [
      "\r",
      "[====================                    ] 25/50 ( 50%) 25 to go"
     ]
    },
    {
     "name": "stdout",
     "output_type": "stream",
     "text": [
      "service goes offline @ 1:13\n"
     ]
    },
    {
     "name": "stderr",
     "output_type": "stream",
     "text": [
      "\r",
      "[====================                    ] 26/50 ( 52%) 24 to go"
     ]
    },
    {
     "name": "stdout",
     "output_type": "stream",
     "text": [
      "service goes offline @ 1:13\n"
     ]
    },
    {
     "name": "stderr",
     "output_type": "stream",
     "text": [
      "\r",
      "[=====================                   ] 27/50 ( 54%) 23 to go"
     ]
    },
    {
     "name": "stdout",
     "output_type": "stream",
     "text": [
      "service goes offline @ 1:14\n"
     ]
    },
    {
     "name": "stderr",
     "output_type": "stream",
     "text": [
      "\r",
      "[======================                  ] 28/50 ( 56%) 22 to go"
     ]
    },
    {
     "name": "stdout",
     "output_type": "stream",
     "text": [
      "service goes offline @ 1:14\n"
     ]
    },
    {
     "name": "stderr",
     "output_type": "stream",
     "text": [
      "\r",
      "[=======================                 ] 29/50 ( 57%) 21 to go"
     ]
    },
    {
     "name": "stdout",
     "output_type": "stream",
     "text": [
      "service goes offline @ 1:15\n"
     ]
    },
    {
     "name": "stderr",
     "output_type": "stream",
     "text": [
      "\r",
      "[========================                ] 30/50 ( 60%) 20 to go"
     ]
    },
    {
     "name": "stdout",
     "output_type": "stream",
     "text": [
      "service goes offline @ 1:15\n"
     ]
    },
    {
     "name": "stderr",
     "output_type": "stream",
     "text": [
      "\r",
      "[========================                ] 31/50 ( 62%) 19 to go"
     ]
    },
    {
     "name": "stdout",
     "output_type": "stream",
     "text": [
      "service goes offline @ 1:16\n"
     ]
    },
    {
     "name": "stderr",
     "output_type": "stream",
     "text": [
      "\r",
      "[=========================               ] 32/50 ( 64%) 18 to go"
     ]
    },
    {
     "name": "stdout",
     "output_type": "stream",
     "text": [
      "service goes offline @ 1:16\n"
     ]
    },
    {
     "name": "stderr",
     "output_type": "stream",
     "text": [
      "\r",
      "[==========================              ] 33/50 ( 66%) 17 to go"
     ]
    },
    {
     "name": "stdout",
     "output_type": "stream",
     "text": [
      "service goes offline @ 1:17\n"
     ]
    },
    {
     "name": "stderr",
     "output_type": "stream",
     "text": [
      "\r",
      "[===========================             ] 34/50 ( 68%) 16 to go"
     ]
    },
    {
     "name": "stdout",
     "output_type": "stream",
     "text": [
      "service goes offline @ 1:17\n"
     ]
    },
    {
     "name": "stderr",
     "output_type": "stream",
     "text": [
      "\r",
      "[============================            ] 35/50 ( 70%) 15 to go"
     ]
    },
    {
     "name": "stdout",
     "output_type": "stream",
     "text": [
      "service goes offline @ 1:18\n"
     ]
    },
    {
     "name": "stderr",
     "output_type": "stream",
     "text": [
      "\r",
      "[============================            ] 36/50 ( 72%) 14 to go"
     ]
    },
    {
     "name": "stdout",
     "output_type": "stream",
     "text": [
      "service goes offline @ 1:18\n"
     ]
    },
    {
     "name": "stderr",
     "output_type": "stream",
     "text": [
      "\r",
      "[=============================           ] 37/50 ( 74%) 13 to go"
     ]
    },
    {
     "name": "stdout",
     "output_type": "stream",
     "text": [
      "service goes offline @ 1:19\n"
     ]
    },
    {
     "name": "stderr",
     "output_type": "stream",
     "text": [
      "\r",
      "[==============================          ] 38/50 ( 76%) 12 to go"
     ]
    },
    {
     "name": "stdout",
     "output_type": "stream",
     "text": [
      "service goes offline @ 1:19\n"
     ]
    },
    {
     "name": "stderr",
     "output_type": "stream",
     "text": [
      "\r",
      "[===============================         ] 39/50 ( 78%) 11 to go"
     ]
    },
    {
     "name": "stdout",
     "output_type": "stream",
     "text": [
      "service goes offline @ 1:20\n"
     ]
    },
    {
     "name": "stderr",
     "output_type": "stream",
     "text": [
      "[====================================    ] 45/50 ( 90%)  5 to go"
     ]
    },
    {
     "name": "stdout",
     "output_type": "stream",
     "text": [
      "service goes offline @ 1:23\n"
     ]
    },
    {
     "name": "stderr",
     "output_type": "stream",
     "text": [
      "\r",
      "[====================================    ] 46/50 ( 92%)  4 to go"
     ]
    },
    {
     "name": "stdout",
     "output_type": "stream",
     "text": [
      "service goes offline @ 1:23\n"
     ]
    },
    {
     "name": "stderr",
     "output_type": "stream",
     "text": [
      "\r",
      "[=====================================   ] 47/50 ( 94%)  3 to go"
     ]
    },
    {
     "name": "stdout",
     "output_type": "stream",
     "text": [
      "service goes offline @ 1:24\n"
     ]
    },
    {
     "name": "stderr",
     "output_type": "stream",
     "text": [
      "\r",
      "[======================================  ] 48/50 ( 96%)  2 to go"
     ]
    },
    {
     "name": "stdout",
     "output_type": "stream",
     "text": [
      "service goes offline @ 1:24\n"
     ]
    },
    {
     "name": "stderr",
     "output_type": "stream",
     "text": [
      "\r",
      "[======================================= ] 49/50 ( 98%)  1 to go"
     ]
    },
    {
     "name": "stdout",
     "output_type": "stream",
     "text": [
      "service goes offline @ 1:25\n"
     ]
    },
    {
     "name": "stderr",
     "output_type": "stream",
     "text": [
      "\r",
      "[========================================] 50/50 (100%)  0 to go"
     ]
    },
    {
     "name": "stdout",
     "output_type": "stream",
     "text": [
      "service goes offline @ 1:25\n"
     ]
    },
    {
     "name": "stderr",
     "output_type": "stream",
     "text": [
      "\r",
      "[========================================] 50/50 (100%)  0 to go\n",
      "\r",
      "[                                        ]  1/50 (  2%) 49 to go"
     ]
    },
    {
     "name": "stdout",
     "output_type": "stream",
     "text": [
      "Data_95 collected, writting to file: output/Dec14_95\n",
      "output/Dec14_95 is written @ 2017-12-14 01:26:15.315586\n",
      "service goes offline @ 1:26\n"
     ]
    },
    {
     "name": "stderr",
     "output_type": "stream",
     "text": [
      "\r",
      "[=                                       ]  2/50 (  4%) 48 to go"
     ]
    },
    {
     "name": "stdout",
     "output_type": "stream",
     "text": [
      "service goes offline @ 1:26\n"
     ]
    },
    {
     "name": "stderr",
     "output_type": "stream",
     "text": [
      "\r",
      "[==                                      ]  3/50 (  6%) 47 to go"
     ]
    },
    {
     "name": "stdout",
     "output_type": "stream",
     "text": [
      "service goes offline @ 1:27\n"
     ]
    },
    {
     "name": "stderr",
     "output_type": "stream",
     "text": [
      "\r",
      "[===                                     ]  4/50 (  8%) 46 to go"
     ]
    },
    {
     "name": "stdout",
     "output_type": "stream",
     "text": [
      "service goes offline @ 1:27\n"
     ]
    },
    {
     "name": "stderr",
     "output_type": "stream",
     "text": [
      "\r",
      "[====                                    ]  5/50 ( 10%) 45 to go"
     ]
    },
    {
     "name": "stdout",
     "output_type": "stream",
     "text": [
      "service goes offline @ 1:28\n"
     ]
    },
    {
     "name": "stderr",
     "output_type": "stream",
     "text": [
      "\r",
      "[====                                    ]  6/50 ( 12%) 44 to go"
     ]
    },
    {
     "name": "stdout",
     "output_type": "stream",
     "text": [
      "service goes offline @ 1:28\n"
     ]
    },
    {
     "name": "stderr",
     "output_type": "stream",
     "text": [
      "\r",
      "[=====                                   ]  7/50 ( 14%) 43 to go"
     ]
    },
    {
     "name": "stdout",
     "output_type": "stream",
     "text": [
      "service goes offline @ 1:29\n"
     ]
    },
    {
     "name": "stderr",
     "output_type": "stream",
     "text": [
      "\r",
      "[======                                  ]  8/50 ( 16%) 42 to go"
     ]
    },
    {
     "name": "stdout",
     "output_type": "stream",
     "text": [
      "service goes offline @ 1:29\n"
     ]
    },
    {
     "name": "stderr",
     "output_type": "stream",
     "text": [
      "\r",
      "[=======                                 ]  9/50 ( 18%) 41 to go"
     ]
    },
    {
     "name": "stdout",
     "output_type": "stream",
     "text": [
      "service goes offline @ 1:30\n"
     ]
    },
    {
     "name": "stderr",
     "output_type": "stream",
     "text": [
      "\r",
      "[========                                ] 10/50 ( 20%) 40 to go"
     ]
    },
    {
     "name": "stdout",
     "output_type": "stream",
     "text": [
      "service goes offline @ 1:30\n"
     ]
    },
    {
     "name": "stderr",
     "output_type": "stream",
     "text": [
      "\r",
      "[========                                ] 11/50 ( 22%) 39 to go"
     ]
    },
    {
     "name": "stdout",
     "output_type": "stream",
     "text": [
      "service goes offline @ 1:31\n"
     ]
    },
    {
     "name": "stderr",
     "output_type": "stream",
     "text": [
      "\r",
      "[=========                               ] 12/50 ( 24%) 38 to go"
     ]
    },
    {
     "name": "stdout",
     "output_type": "stream",
     "text": [
      "service goes offline @ 1:31\n"
     ]
    },
    {
     "name": "stderr",
     "output_type": "stream",
     "text": [
      "\r",
      "[==========                              ] 13/50 ( 26%) 37 to go"
     ]
    },
    {
     "name": "stdout",
     "output_type": "stream",
     "text": [
      "service goes offline @ 1:32\n"
     ]
    },
    {
     "name": "stderr",
     "output_type": "stream",
     "text": [
      "\r",
      "[===========                             ] 14/50 ( 28%) 36 to go"
     ]
    },
    {
     "name": "stdout",
     "output_type": "stream",
     "text": [
      "service goes offline @ 1:32\n"
     ]
    },
    {
     "name": "stderr",
     "output_type": "stream",
     "text": [
      "\r",
      "[============                            ] 15/50 ( 30%) 35 to go"
     ]
    },
    {
     "name": "stdout",
     "output_type": "stream",
     "text": [
      "service goes offline @ 1:33\n"
     ]
    },
    {
     "name": "stderr",
     "output_type": "stream",
     "text": [
      "\r",
      "[============                            ] 16/50 ( 32%) 34 to go"
     ]
    },
    {
     "name": "stdout",
     "output_type": "stream",
     "text": [
      "service goes offline @ 1:33\n"
     ]
    },
    {
     "name": "stderr",
     "output_type": "stream",
     "text": [
      "\r",
      "[=============                           ] 17/50 ( 34%) 33 to go"
     ]
    },
    {
     "name": "stdout",
     "output_type": "stream",
     "text": [
      "service goes offline @ 1:34\n"
     ]
    },
    {
     "name": "stderr",
     "output_type": "stream",
     "text": [
      "\r",
      "[==============                          ] 18/50 ( 36%) 32 to go"
     ]
    },
    {
     "name": "stdout",
     "output_type": "stream",
     "text": [
      "service goes offline @ 1:34\n"
     ]
    },
    {
     "name": "stderr",
     "output_type": "stream",
     "text": [
      "\r",
      "[===============                         ] 19/50 ( 38%) 31 to go"
     ]
    },
    {
     "name": "stdout",
     "output_type": "stream",
     "text": [
      "service goes offline @ 1:35\n"
     ]
    },
    {
     "name": "stderr",
     "output_type": "stream",
     "text": [
      "\r",
      "[================                        ] 20/50 ( 40%) 30 to go"
     ]
    },
    {
     "name": "stdout",
     "output_type": "stream",
     "text": [
      "service goes offline @ 1:35\n"
     ]
    },
    {
     "name": "stderr",
     "output_type": "stream",
     "text": [
      "\r",
      "[================                        ] 21/50 ( 42%) 29 to go"
     ]
    },
    {
     "name": "stdout",
     "output_type": "stream",
     "text": [
      "service goes offline @ 1:36\n"
     ]
    },
    {
     "name": "stderr",
     "output_type": "stream",
     "text": [
      "\r",
      "[=================                       ] 22/50 ( 44%) 28 to go"
     ]
    },
    {
     "name": "stdout",
     "output_type": "stream",
     "text": [
      "service goes offline @ 1:36\n"
     ]
    },
    {
     "name": "stderr",
     "output_type": "stream",
     "text": [
      "\r",
      "[==================                      ] 23/50 ( 46%) 27 to go"
     ]
    },
    {
     "name": "stdout",
     "output_type": "stream",
     "text": [
      "service goes offline @ 1:37\n"
     ]
    },
    {
     "name": "stderr",
     "output_type": "stream",
     "text": [
      "\r",
      "[===================                     ] 24/50 ( 48%) 26 to go"
     ]
    },
    {
     "name": "stdout",
     "output_type": "stream",
     "text": [
      "service goes offline @ 1:37\n"
     ]
    },
    {
     "name": "stderr",
     "output_type": "stream",
     "text": [
      "\r",
      "[====================                    ] 25/50 ( 50%) 25 to go"
     ]
    },
    {
     "name": "stdout",
     "output_type": "stream",
     "text": [
      "service goes offline @ 1:38\n"
     ]
    },
    {
     "name": "stderr",
     "output_type": "stream",
     "text": [
      "\r",
      "[====================                    ] 26/50 ( 52%) 24 to go"
     ]
    },
    {
     "name": "stdout",
     "output_type": "stream",
     "text": [
      "service goes offline @ 1:38\n"
     ]
    },
    {
     "name": "stderr",
     "output_type": "stream",
     "text": [
      "\r",
      "[=====================                   ] 27/50 ( 54%) 23 to go"
     ]
    },
    {
     "name": "stdout",
     "output_type": "stream",
     "text": [
      "service goes offline @ 1:39\n"
     ]
    },
    {
     "name": "stderr",
     "output_type": "stream",
     "text": [
      "\r",
      "[======================                  ] 28/50 ( 56%) 22 to go"
     ]
    },
    {
     "name": "stdout",
     "output_type": "stream",
     "text": [
      "service goes offline @ 1:39\n"
     ]
    },
    {
     "name": "stderr",
     "output_type": "stream",
     "text": [
      "\r",
      "[=======================                 ] 29/50 ( 57%) 21 to go"
     ]
    },
    {
     "name": "stdout",
     "output_type": "stream",
     "text": [
      "service goes offline @ 1:40\n"
     ]
    },
    {
     "name": "stderr",
     "output_type": "stream",
     "text": [
      "\r",
      "[========================                ] 30/50 ( 60%) 20 to go"
     ]
    },
    {
     "name": "stdout",
     "output_type": "stream",
     "text": [
      "service goes offline @ 1:40\n"
     ]
    },
    {
     "name": "stderr",
     "output_type": "stream",
     "text": [
      "\r",
      "[========================                ] 31/50 ( 62%) 19 to go"
     ]
    },
    {
     "name": "stdout",
     "output_type": "stream",
     "text": [
      "service goes offline @ 1:41\n"
     ]
    },
    {
     "name": "stderr",
     "output_type": "stream",
     "text": [
      "\r",
      "[=========================               ] 32/50 ( 64%) 18 to go"
     ]
    },
    {
     "name": "stdout",
     "output_type": "stream",
     "text": [
      "service goes offline @ 1:41\n"
     ]
    },
    {
     "name": "stderr",
     "output_type": "stream",
     "text": [
      "\r",
      "[==========================              ] 33/50 ( 66%) 17 to go"
     ]
    },
    {
     "name": "stdout",
     "output_type": "stream",
     "text": [
      "service goes offline @ 1:42\n"
     ]
    },
    {
     "name": "stderr",
     "output_type": "stream",
     "text": [
      "\r",
      "[===========================             ] 34/50 ( 68%) 16 to go"
     ]
    },
    {
     "name": "stdout",
     "output_type": "stream",
     "text": [
      "service goes offline @ 1:42\n"
     ]
    },
    {
     "name": "stderr",
     "output_type": "stream",
     "text": [
      "\r",
      "[============================            ] 35/50 ( 70%) 15 to go"
     ]
    },
    {
     "name": "stdout",
     "output_type": "stream",
     "text": [
      "service goes offline @ 1:43\n"
     ]
    },
    {
     "name": "stderr",
     "output_type": "stream",
     "text": [
      "\r",
      "[============================            ] 36/50 ( 72%) 14 to go"
     ]
    },
    {
     "name": "stdout",
     "output_type": "stream",
     "text": [
      "service goes offline @ 1:43\n"
     ]
    },
    {
     "name": "stderr",
     "output_type": "stream",
     "text": [
      "\r",
      "[=============================           ] 37/50 ( 74%) 13 to go"
     ]
    },
    {
     "name": "stdout",
     "output_type": "stream",
     "text": [
      "service goes offline @ 1:44\n"
     ]
    },
    {
     "name": "stderr",
     "output_type": "stream",
     "text": [
      "\r",
      "[==============================          ] 38/50 ( 76%) 12 to go"
     ]
    },
    {
     "name": "stdout",
     "output_type": "stream",
     "text": [
      "service goes offline @ 1:44\n"
     ]
    },
    {
     "name": "stderr",
     "output_type": "stream",
     "text": [
      "\r",
      "[===============================         ] 39/50 ( 78%) 11 to go"
     ]
    },
    {
     "name": "stdout",
     "output_type": "stream",
     "text": [
      "service goes offline @ 1:45\n"
     ]
    },
    {
     "name": "stderr",
     "output_type": "stream",
     "text": [
      "\r",
      "[================================        ] 40/50 ( 80%) 10 to go"
     ]
    },
    {
     "name": "stdout",
     "output_type": "stream",
     "text": [
      "service goes offline @ 1:45\n"
     ]
    },
    {
     "name": "stderr",
     "output_type": "stream",
     "text": [
      "\r",
      "[================================        ] 41/50 ( 82%)  9 to go"
     ]
    },
    {
     "name": "stdout",
     "output_type": "stream",
     "text": [
      "service goes offline @ 1:46\n"
     ]
    },
    {
     "name": "stderr",
     "output_type": "stream",
     "text": [
      "\r",
      "[=================================       ] 42/50 ( 84%)  8 to go"
     ]
    },
    {
     "name": "stdout",
     "output_type": "stream",
     "text": [
      "service goes offline @ 1:46\n"
     ]
    },
    {
     "name": "stderr",
     "output_type": "stream",
     "text": [
      "\r",
      "[==================================      ] 43/50 ( 86%)  7 to go"
     ]
    },
    {
     "name": "stdout",
     "output_type": "stream",
     "text": [
      "service goes offline @ 1:47\n"
     ]
    },
    {
     "name": "stderr",
     "output_type": "stream",
     "text": [
      "\r",
      "[===================================     ] 44/50 ( 88%)  6 to go"
     ]
    },
    {
     "name": "stdout",
     "output_type": "stream",
     "text": [
      "service goes offline @ 1:47\n"
     ]
    },
    {
     "name": "stderr",
     "output_type": "stream",
     "text": [
      "\r",
      "[====================================    ] 45/50 ( 90%)  5 to go"
     ]
    },
    {
     "name": "stdout",
     "output_type": "stream",
     "text": [
      "service goes offline @ 1:48\n"
     ]
    },
    {
     "name": "stderr",
     "output_type": "stream",
     "text": [
      "\r",
      "[====================================    ] 46/50 ( 92%)  4 to go"
     ]
    },
    {
     "name": "stdout",
     "output_type": "stream",
     "text": [
      "service goes offline @ 1:48\n"
     ]
    },
    {
     "name": "stderr",
     "output_type": "stream",
     "text": [
      "\r",
      "[=====================================   ] 47/50 ( 94%)  3 to go"
     ]
    },
    {
     "name": "stdout",
     "output_type": "stream",
     "text": [
      "service goes offline @ 1:49\n"
     ]
    },
    {
     "name": "stderr",
     "output_type": "stream",
     "text": [
      "\r",
      "[======================================  ] 48/50 ( 96%)  2 to go"
     ]
    },
    {
     "name": "stdout",
     "output_type": "stream",
     "text": [
      "service goes offline @ 1:49\n"
     ]
    },
    {
     "name": "stderr",
     "output_type": "stream",
     "text": [
      "\r",
      "[======================================= ] 49/50 ( 98%)  1 to go"
     ]
    },
    {
     "name": "stdout",
     "output_type": "stream",
     "text": [
      "service goes offline @ 1:50\n"
     ]
    },
    {
     "name": "stderr",
     "output_type": "stream",
     "text": [
      "\r",
      "[========================================] 50/50 (100%)  0 to go"
     ]
    },
    {
     "name": "stdout",
     "output_type": "stream",
     "text": [
      "service goes offline @ 1:50\n"
     ]
    },
    {
     "name": "stderr",
     "output_type": "stream",
     "text": [
      "\r",
      "[========================================] 50/50 (100%)  0 to go\n",
      "\r",
      "[                                        ]  1/50 (  2%) 49 to go"
     ]
    },
    {
     "name": "stdout",
     "output_type": "stream",
     "text": [
      "Data_96 collected, writting to file: output/Dec14_96\n",
      "output/Dec14_96 is written @ 2017-12-14 01:51:23.327185\n",
      "service goes offline @ 1:51\n"
     ]
    },
    {
     "name": "stderr",
     "output_type": "stream",
     "text": [
      "\r",
      "[=                                       ]  2/50 (  4%) 48 to go"
     ]
    },
    {
     "name": "stdout",
     "output_type": "stream",
     "text": [
      "service goes offline @ 1:51\n"
     ]
    },
    {
     "name": "stderr",
     "output_type": "stream",
     "text": [
      "\r",
      "[==                                      ]  3/50 (  6%) 47 to go"
     ]
    },
    {
     "name": "stdout",
     "output_type": "stream",
     "text": [
      "service goes offline @ 1:52\n"
     ]
    },
    {
     "name": "stderr",
     "output_type": "stream",
     "text": [
      "\r",
      "[===                                     ]  4/50 (  8%) 46 to go"
     ]
    },
    {
     "name": "stdout",
     "output_type": "stream",
     "text": [
      "service goes offline @ 1:52\n"
     ]
    },
    {
     "name": "stderr",
     "output_type": "stream",
     "text": [
      "\r",
      "[====                                    ]  5/50 ( 10%) 45 to go"
     ]
    },
    {
     "name": "stdout",
     "output_type": "stream",
     "text": [
      "service goes offline @ 1:53\n"
     ]
    },
    {
     "name": "stderr",
     "output_type": "stream",
     "text": [
      "\r",
      "[====                                    ]  6/50 ( 12%) 44 to go"
     ]
    },
    {
     "name": "stdout",
     "output_type": "stream",
     "text": [
      "service goes offline @ 1:53\n"
     ]
    },
    {
     "name": "stderr",
     "output_type": "stream",
     "text": [
      "\r",
      "[=====                                   ]  7/50 ( 14%) 43 to go"
     ]
    },
    {
     "name": "stdout",
     "output_type": "stream",
     "text": [
      "service goes offline @ 1:54\n"
     ]
    },
    {
     "name": "stderr",
     "output_type": "stream",
     "text": [
      "\r",
      "[======                                  ]  8/50 ( 16%) 42 to go"
     ]
    },
    {
     "name": "stdout",
     "output_type": "stream",
     "text": [
      "service goes offline @ 1:54\n"
     ]
    },
    {
     "name": "stderr",
     "output_type": "stream",
     "text": [
      "\r",
      "[=======                                 ]  9/50 ( 18%) 41 to go"
     ]
    },
    {
     "name": "stdout",
     "output_type": "stream",
     "text": [
      "service goes offline @ 1:55\n"
     ]
    },
    {
     "name": "stderr",
     "output_type": "stream",
     "text": [
      "\r",
      "[========                                ] 10/50 ( 20%) 40 to go"
     ]
    },
    {
     "name": "stdout",
     "output_type": "stream",
     "text": [
      "service goes offline @ 1:55\n"
     ]
    },
    {
     "name": "stderr",
     "output_type": "stream",
     "text": [
      "\r",
      "[========                                ] 11/50 ( 22%) 39 to go"
     ]
    },
    {
     "name": "stdout",
     "output_type": "stream",
     "text": [
      "service goes offline @ 1:56\n"
     ]
    },
    {
     "name": "stderr",
     "output_type": "stream",
     "text": [
      "\r",
      "[=========                               ] 12/50 ( 24%) 38 to go"
     ]
    },
    {
     "name": "stdout",
     "output_type": "stream",
     "text": [
      "service goes offline @ 1:56\n"
     ]
    },
    {
     "name": "stderr",
     "output_type": "stream",
     "text": [
      "\r",
      "[==========                              ] 13/50 ( 26%) 37 to go"
     ]
    },
    {
     "name": "stdout",
     "output_type": "stream",
     "text": [
      "service goes offline @ 1:57\n"
     ]
    },
    {
     "name": "stderr",
     "output_type": "stream",
     "text": [
      "\r",
      "[===========                             ] 14/50 ( 28%) 36 to go"
     ]
    },
    {
     "name": "stdout",
     "output_type": "stream",
     "text": [
      "service goes offline @ 1:57\n"
     ]
    },
    {
     "name": "stderr",
     "output_type": "stream",
     "text": [
      "\r",
      "[============                            ] 15/50 ( 30%) 35 to go"
     ]
    },
    {
     "name": "stdout",
     "output_type": "stream",
     "text": [
      "service goes offline @ 1:58\n"
     ]
    },
    {
     "name": "stderr",
     "output_type": "stream",
     "text": [
      "\r",
      "[============                            ] 16/50 ( 32%) 34 to go"
     ]
    },
    {
     "name": "stdout",
     "output_type": "stream",
     "text": [
      "service goes offline @ 1:58\n"
     ]
    },
    {
     "name": "stderr",
     "output_type": "stream",
     "text": [
      "\r",
      "[=============                           ] 17/50 ( 34%) 33 to go"
     ]
    },
    {
     "name": "stdout",
     "output_type": "stream",
     "text": [
      "service goes offline @ 1:59\n"
     ]
    },
    {
     "name": "stderr",
     "output_type": "stream",
     "text": [
      "\r",
      "[==============                          ] 18/50 ( 36%) 32 to go"
     ]
    },
    {
     "name": "stdout",
     "output_type": "stream",
     "text": [
      "service goes offline @ 1:59\n"
     ]
    },
    {
     "name": "stderr",
     "output_type": "stream",
     "text": [
      "\r",
      "[===============                         ] 19/50 ( 38%) 31 to go"
     ]
    },
    {
     "name": "stdout",
     "output_type": "stream",
     "text": [
      "service goes offline @ 2:0\n"
     ]
    },
    {
     "name": "stderr",
     "output_type": "stream",
     "text": [
      "\r",
      "[================                        ] 20/50 ( 40%) 30 to go"
     ]
    },
    {
     "name": "stdout",
     "output_type": "stream",
     "text": [
      "service goes offline @ 2:0\n"
     ]
    },
    {
     "name": "stderr",
     "output_type": "stream",
     "text": [
      "\r",
      "[================                        ] 21/50 ( 42%) 29 to go"
     ]
    },
    {
     "name": "stdout",
     "output_type": "stream",
     "text": [
      "service goes offline @ 2:1\n"
     ]
    },
    {
     "name": "stderr",
     "output_type": "stream",
     "text": [
      "\r",
      "[=================                       ] 22/50 ( 44%) 28 to go"
     ]
    },
    {
     "name": "stdout",
     "output_type": "stream",
     "text": [
      "service goes offline @ 2:1\n"
     ]
    },
    {
     "name": "stderr",
     "output_type": "stream",
     "text": [
      "\r",
      "[==================                      ] 23/50 ( 46%) 27 to go"
     ]
    },
    {
     "name": "stdout",
     "output_type": "stream",
     "text": [
      "service goes offline @ 2:2\n"
     ]
    },
    {
     "name": "stderr",
     "output_type": "stream",
     "text": [
      "\r",
      "[===================                     ] 24/50 ( 48%) 26 to go"
     ]
    },
    {
     "name": "stdout",
     "output_type": "stream",
     "text": [
      "service goes offline @ 2:2\n"
     ]
    },
    {
     "name": "stderr",
     "output_type": "stream",
     "text": [
      "\r",
      "[====================                    ] 25/50 ( 50%) 25 to go"
     ]
    },
    {
     "name": "stdout",
     "output_type": "stream",
     "text": [
      "service goes offline @ 2:3\n"
     ]
    },
    {
     "name": "stderr",
     "output_type": "stream",
     "text": [
      "\r",
      "[====================                    ] 26/50 ( 52%) 24 to go"
     ]
    },
    {
     "name": "stdout",
     "output_type": "stream",
     "text": [
      "service goes offline @ 2:3\n"
     ]
    },
    {
     "name": "stderr",
     "output_type": "stream",
     "text": [
      "\r",
      "[=====================                   ] 27/50 ( 54%) 23 to go"
     ]
    },
    {
     "name": "stdout",
     "output_type": "stream",
     "text": [
      "service goes offline @ 2:4\n"
     ]
    },
    {
     "name": "stderr",
     "output_type": "stream",
     "text": [
      "\r",
      "[======================                  ] 28/50 ( 56%) 22 to go"
     ]
    },
    {
     "name": "stdout",
     "output_type": "stream",
     "text": [
      "service goes offline @ 2:4\n"
     ]
    },
    {
     "name": "stderr",
     "output_type": "stream",
     "text": [
      "\r",
      "[=======================                 ] 29/50 ( 57%) 21 to go"
     ]
    },
    {
     "name": "stdout",
     "output_type": "stream",
     "text": [
      "service goes offline @ 2:5\n"
     ]
    },
    {
     "name": "stderr",
     "output_type": "stream",
     "text": [
      "\r",
      "[========================                ] 30/50 ( 60%) 20 to go"
     ]
    },
    {
     "name": "stdout",
     "output_type": "stream",
     "text": [
      "service goes offline @ 2:5\n"
     ]
    },
    {
     "name": "stderr",
     "output_type": "stream",
     "text": [
      "\r",
      "[========================                ] 31/50 ( 62%) 19 to go"
     ]
    },
    {
     "name": "stdout",
     "output_type": "stream",
     "text": [
      "service goes offline @ 2:6\n"
     ]
    },
    {
     "name": "stderr",
     "output_type": "stream",
     "text": [
      "\r",
      "[=========================               ] 32/50 ( 64%) 18 to go"
     ]
    },
    {
     "name": "stdout",
     "output_type": "stream",
     "text": [
      "service goes offline @ 2:6\n"
     ]
    },
    {
     "name": "stderr",
     "output_type": "stream",
     "text": [
      "\r",
      "[==========================              ] 33/50 ( 66%) 17 to go"
     ]
    },
    {
     "name": "stdout",
     "output_type": "stream",
     "text": [
      "service goes offline @ 2:7\n"
     ]
    },
    {
     "name": "stderr",
     "output_type": "stream",
     "text": [
      "\r",
      "[===========================             ] 34/50 ( 68%) 16 to go"
     ]
    },
    {
     "name": "stdout",
     "output_type": "stream",
     "text": [
      "service goes offline @ 2:7\n"
     ]
    },
    {
     "name": "stderr",
     "output_type": "stream",
     "text": [
      "\r",
      "[============================            ] 35/50 ( 70%) 15 to go"
     ]
    },
    {
     "name": "stdout",
     "output_type": "stream",
     "text": [
      "service goes offline @ 2:8\n"
     ]
    },
    {
     "name": "stderr",
     "output_type": "stream",
     "text": [
      "\r",
      "[============================            ] 36/50 ( 72%) 14 to go"
     ]
    },
    {
     "name": "stdout",
     "output_type": "stream",
     "text": [
      "service goes offline @ 2:8\n"
     ]
    },
    {
     "name": "stderr",
     "output_type": "stream",
     "text": [
      "\r",
      "[=============================           ] 37/50 ( 74%) 13 to go"
     ]
    },
    {
     "name": "stdout",
     "output_type": "stream",
     "text": [
      "service goes offline @ 2:9\n"
     ]
    },
    {
     "name": "stderr",
     "output_type": "stream",
     "text": [
      "\r",
      "[==============================          ] 38/50 ( 76%) 12 to go"
     ]
    },
    {
     "name": "stdout",
     "output_type": "stream",
     "text": [
      "service goes offline @ 2:10\n"
     ]
    },
    {
     "name": "stderr",
     "output_type": "stream",
     "text": [
      "\r",
      "[===============================         ] 39/50 ( 78%) 11 to go"
     ]
    },
    {
     "name": "stdout",
     "output_type": "stream",
     "text": [
      "service goes offline @ 2:10\n"
     ]
    },
    {
     "name": "stderr",
     "output_type": "stream",
     "text": [
      "\r",
      "[================================        ] 40/50 ( 80%) 10 to go"
     ]
    },
    {
     "name": "stdout",
     "output_type": "stream",
     "text": [
      "service goes offline @ 2:11\n"
     ]
    },
    {
     "name": "stderr",
     "output_type": "stream",
     "text": [
      "\r",
      "[================================        ] 41/50 ( 82%)  9 to go"
     ]
    },
    {
     "name": "stdout",
     "output_type": "stream",
     "text": [
      "service goes offline @ 2:11\n"
     ]
    },
    {
     "name": "stderr",
     "output_type": "stream",
     "text": [
      "\r",
      "[=================================       ] 42/50 ( 84%)  8 to go"
     ]
    },
    {
     "name": "stdout",
     "output_type": "stream",
     "text": [
      "service goes offline @ 2:12\n"
     ]
    },
    {
     "name": "stderr",
     "output_type": "stream",
     "text": [
      "\r",
      "[==================================      ] 43/50 ( 86%)  7 to go"
     ]
    },
    {
     "name": "stdout",
     "output_type": "stream",
     "text": [
      "service goes offline @ 2:12\n"
     ]
    },
    {
     "name": "stderr",
     "output_type": "stream",
     "text": [
      "\r",
      "[===================================     ] 44/50 ( 88%)  6 to go"
     ]
    },
    {
     "name": "stdout",
     "output_type": "stream",
     "text": [
      "service goes offline @ 2:13\n"
     ]
    },
    {
     "name": "stderr",
     "output_type": "stream",
     "text": [
      "\r",
      "[====================================    ] 45/50 ( 90%)  5 to go"
     ]
    },
    {
     "name": "stdout",
     "output_type": "stream",
     "text": [
      "service goes offline @ 2:13\n"
     ]
    },
    {
     "name": "stderr",
     "output_type": "stream",
     "text": [
      "\r",
      "[====================================    ] 46/50 ( 92%)  4 to go"
     ]
    },
    {
     "name": "stdout",
     "output_type": "stream",
     "text": [
      "service goes offline @ 2:14\n"
     ]
    },
    {
     "name": "stderr",
     "output_type": "stream",
     "text": [
      "\r",
      "[=====================================   ] 47/50 ( 94%)  3 to go"
     ]
    },
    {
     "name": "stdout",
     "output_type": "stream",
     "text": [
      "service goes offline @ 2:14\n"
     ]
    },
    {
     "name": "stderr",
     "output_type": "stream",
     "text": [
      "\r",
      "[======================================  ] 48/50 ( 96%)  2 to go"
     ]
    },
    {
     "name": "stdout",
     "output_type": "stream",
     "text": [
      "service goes offline @ 2:15\n"
     ]
    },
    {
     "name": "stderr",
     "output_type": "stream",
     "text": [
      "\r",
      "[======================================= ] 49/50 ( 98%)  1 to go"
     ]
    },
    {
     "name": "stdout",
     "output_type": "stream",
     "text": [
      "service goes offline @ 2:15\n"
     ]
    },
    {
     "name": "stderr",
     "output_type": "stream",
     "text": [
      "\r",
      "[========================================] 50/50 (100%)  0 to go"
     ]
    },
    {
     "name": "stdout",
     "output_type": "stream",
     "text": [
      "service goes offline @ 2:16\n"
     ]
    },
    {
     "name": "stderr",
     "output_type": "stream",
     "text": [
      "\r",
      "[========================================] 50/50 (100%)  0 to go\n",
      "\r",
      "[                                        ]  1/50 (  2%) 49 to go"
     ]
    },
    {
     "name": "stdout",
     "output_type": "stream",
     "text": [
      "Data_97 collected, writting to file: output/Dec14_97\n",
      "output/Dec14_97 is written @ 2017-12-14 02:16:32.006730\n",
      "service goes offline @ 2:16\n"
     ]
    },
    {
     "name": "stderr",
     "output_type": "stream",
     "text": [
      "\r",
      "[=                                       ]  2/50 (  4%) 48 to go"
     ]
    },
    {
     "name": "stdout",
     "output_type": "stream",
     "text": [
      "service goes offline @ 2:17\n"
     ]
    },
    {
     "name": "stderr",
     "output_type": "stream",
     "text": [
      "\r",
      "[==                                      ]  3/50 (  6%) 47 to go"
     ]
    },
    {
     "name": "stdout",
     "output_type": "stream",
     "text": [
      "service goes offline @ 2:17\n"
     ]
    },
    {
     "name": "stderr",
     "output_type": "stream",
     "text": [
      "\r",
      "[===                                     ]  4/50 (  8%) 46 to go"
     ]
    },
    {
     "name": "stdout",
     "output_type": "stream",
     "text": [
      "service goes offline @ 2:18\n"
     ]
    },
    {
     "name": "stderr",
     "output_type": "stream",
     "text": [
      "\r",
      "[====                                    ]  5/50 ( 10%) 45 to go"
     ]
    },
    {
     "name": "stdout",
     "output_type": "stream",
     "text": [
      "service goes offline @ 2:18\n"
     ]
    },
    {
     "name": "stderr",
     "output_type": "stream",
     "text": [
      "\r",
      "[====                                    ]  6/50 ( 12%) 44 to go"
     ]
    },
    {
     "name": "stdout",
     "output_type": "stream",
     "text": [
      "service goes offline @ 2:19\n"
     ]
    },
    {
     "name": "stderr",
     "output_type": "stream",
     "text": [
      "\r",
      "[=====                                   ]  7/50 ( 14%) 43 to go"
     ]
    },
    {
     "name": "stdout",
     "output_type": "stream",
     "text": [
      "service goes offline @ 2:19\n"
     ]
    },
    {
     "name": "stderr",
     "output_type": "stream",
     "text": [
      "\r",
      "[======                                  ]  8/50 ( 16%) 42 to go"
     ]
    },
    {
     "name": "stdout",
     "output_type": "stream",
     "text": [
      "service goes offline @ 2:20\n"
     ]
    },
    {
     "name": "stderr",
     "output_type": "stream",
     "text": [
      "\r",
      "[=======                                 ]  9/50 ( 18%) 41 to go"
     ]
    },
    {
     "name": "stdout",
     "output_type": "stream",
     "text": [
      "service goes offline @ 2:20\n"
     ]
    },
    {
     "name": "stderr",
     "output_type": "stream",
     "text": [
      "\r",
      "[========                                ] 10/50 ( 20%) 40 to go"
     ]
    },
    {
     "name": "stdout",
     "output_type": "stream",
     "text": [
      "service goes offline @ 2:21\n"
     ]
    },
    {
     "name": "stderr",
     "output_type": "stream",
     "text": [
      "\r",
      "[========                                ] 11/50 ( 22%) 39 to go"
     ]
    },
    {
     "name": "stdout",
     "output_type": "stream",
     "text": [
      "service goes offline @ 2:21\n"
     ]
    },
    {
     "name": "stderr",
     "output_type": "stream",
     "text": [
      "\r",
      "[=========                               ] 12/50 ( 24%) 38 to go"
     ]
    },
    {
     "name": "stdout",
     "output_type": "stream",
     "text": [
      "service goes offline @ 2:22\n"
     ]
    },
    {
     "name": "stderr",
     "output_type": "stream",
     "text": [
      "\r",
      "[==========                              ] 13/50 ( 26%) 37 to go"
     ]
    },
    {
     "name": "stdout",
     "output_type": "stream",
     "text": [
      "service goes offline @ 2:22\n"
     ]
    },
    {
     "name": "stderr",
     "output_type": "stream",
     "text": [
      "\r",
      "[===========                             ] 14/50 ( 28%) 36 to go"
     ]
    },
    {
     "name": "stdout",
     "output_type": "stream",
     "text": [
      "service goes offline @ 2:23\n"
     ]
    },
    {
     "name": "stderr",
     "output_type": "stream",
     "text": [
      "\r",
      "[============                            ] 15/50 ( 30%) 35 to go"
     ]
    },
    {
     "name": "stdout",
     "output_type": "stream",
     "text": [
      "service goes offline @ 2:23\n"
     ]
    },
    {
     "name": "stderr",
     "output_type": "stream",
     "text": [
      "\r",
      "[============                            ] 16/50 ( 32%) 34 to go"
     ]
    },
    {
     "name": "stdout",
     "output_type": "stream",
     "text": [
      "service goes offline @ 2:24\n"
     ]
    },
    {
     "name": "stderr",
     "output_type": "stream",
     "text": [
      "\r",
      "[=============                           ] 17/50 ( 34%) 33 to go"
     ]
    },
    {
     "name": "stdout",
     "output_type": "stream",
     "text": [
      "service goes offline @ 2:24\n"
     ]
    },
    {
     "name": "stderr",
     "output_type": "stream",
     "text": [
      "\r",
      "[==============                          ] 18/50 ( 36%) 32 to go"
     ]
    },
    {
     "name": "stdout",
     "output_type": "stream",
     "text": [
      "service goes offline @ 2:25\n"
     ]
    },
    {
     "name": "stderr",
     "output_type": "stream",
     "text": [
      "\r",
      "[===============                         ] 19/50 ( 38%) 31 to go"
     ]
    },
    {
     "name": "stdout",
     "output_type": "stream",
     "text": [
      "service goes offline @ 2:25\n"
     ]
    },
    {
     "name": "stderr",
     "output_type": "stream",
     "text": [
      "\r",
      "[================                        ] 20/50 ( 40%) 30 to go"
     ]
    },
    {
     "name": "stdout",
     "output_type": "stream",
     "text": [
      "service goes offline @ 2:26\n"
     ]
    },
    {
     "name": "stderr",
     "output_type": "stream",
     "text": [
      "\r",
      "[================                        ] 21/50 ( 42%) 29 to go"
     ]
    },
    {
     "name": "stdout",
     "output_type": "stream",
     "text": [
      "service goes offline @ 2:26\n"
     ]
    },
    {
     "name": "stderr",
     "output_type": "stream",
     "text": [
      "\r",
      "[=================                       ] 22/50 ( 44%) 28 to go"
     ]
    },
    {
     "name": "stdout",
     "output_type": "stream",
     "text": [
      "service goes offline @ 2:27\n"
     ]
    },
    {
     "name": "stderr",
     "output_type": "stream",
     "text": [
      "\r",
      "[==================                      ] 23/50 ( 46%) 27 to go"
     ]
    },
    {
     "name": "stdout",
     "output_type": "stream",
     "text": [
      "service goes offline @ 2:27\n"
     ]
    },
    {
     "name": "stderr",
     "output_type": "stream",
     "text": [
      "\r",
      "[===================                     ] 24/50 ( 48%) 26 to go"
     ]
    },
    {
     "name": "stdout",
     "output_type": "stream",
     "text": [
      "service goes offline @ 2:28\n"
     ]
    },
    {
     "name": "stderr",
     "output_type": "stream",
     "text": [
      "\r",
      "[====================                    ] 25/50 ( 50%) 25 to go"
     ]
    },
    {
     "name": "stdout",
     "output_type": "stream",
     "text": [
      "service goes offline @ 2:28\n"
     ]
    },
    {
     "name": "stderr",
     "output_type": "stream",
     "text": [
      "\r",
      "[====================                    ] 26/50 ( 52%) 24 to go"
     ]
    },
    {
     "name": "stdout",
     "output_type": "stream",
     "text": [
      "service goes offline @ 2:29\n"
     ]
    },
    {
     "name": "stderr",
     "output_type": "stream",
     "text": [
      "\r",
      "[=====================                   ] 27/50 ( 54%) 23 to go"
     ]
    },
    {
     "name": "stdout",
     "output_type": "stream",
     "text": [
      "service goes offline @ 2:29\n"
     ]
    },
    {
     "name": "stderr",
     "output_type": "stream",
     "text": [
      "\r",
      "[======================                  ] 28/50 ( 56%) 22 to go"
     ]
    },
    {
     "name": "stdout",
     "output_type": "stream",
     "text": [
      "service goes offline @ 2:30\n"
     ]
    },
    {
     "name": "stderr",
     "output_type": "stream",
     "text": [
      "\r",
      "[=======================                 ] 29/50 ( 57%) 21 to go"
     ]
    },
    {
     "name": "stdout",
     "output_type": "stream",
     "text": [
      "service goes offline @ 2:30\n"
     ]
    },
    {
     "name": "stderr",
     "output_type": "stream",
     "text": [
      "\r",
      "[========================                ] 30/50 ( 60%) 20 to go"
     ]
    },
    {
     "name": "stdout",
     "output_type": "stream",
     "text": [
      "service goes offline @ 2:31\n"
     ]
    },
    {
     "name": "stderr",
     "output_type": "stream",
     "text": [
      "\r",
      "[========================                ] 31/50 ( 62%) 19 to go"
     ]
    },
    {
     "name": "stdout",
     "output_type": "stream",
     "text": [
      "service goes offline @ 2:31\n"
     ]
    },
    {
     "name": "stderr",
     "output_type": "stream",
     "text": [
      "\r",
      "[=========================               ] 32/50 ( 64%) 18 to go"
     ]
    },
    {
     "name": "stdout",
     "output_type": "stream",
     "text": [
      "service goes offline @ 2:32\n"
     ]
    },
    {
     "name": "stderr",
     "output_type": "stream",
     "text": [
      "\r",
      "[==========================              ] 33/50 ( 66%) 17 to go"
     ]
    },
    {
     "name": "stdout",
     "output_type": "stream",
     "text": [
      "service goes offline @ 2:32\n"
     ]
    },
    {
     "name": "stderr",
     "output_type": "stream",
     "text": [
      "\r",
      "[===========================             ] 34/50 ( 68%) 16 to go"
     ]
    },
    {
     "name": "stdout",
     "output_type": "stream",
     "text": [
      "service goes offline @ 2:33\n"
     ]
    },
    {
     "name": "stderr",
     "output_type": "stream",
     "text": [
      "\r",
      "[============================            ] 35/50 ( 70%) 15 to go"
     ]
    },
    {
     "name": "stdout",
     "output_type": "stream",
     "text": [
      "service goes offline @ 2:33\n"
     ]
    },
    {
     "name": "stderr",
     "output_type": "stream",
     "text": [
      "\r",
      "[============================            ] 36/50 ( 72%) 14 to go"
     ]
    },
    {
     "name": "stdout",
     "output_type": "stream",
     "text": [
      "service goes offline @ 2:34\n"
     ]
    },
    {
     "name": "stderr",
     "output_type": "stream",
     "text": [
      "\r",
      "[=============================           ] 37/50 ( 74%) 13 to go"
     ]
    },
    {
     "name": "stdout",
     "output_type": "stream",
     "text": [
      "service goes offline @ 2:34\n"
     ]
    },
    {
     "name": "stderr",
     "output_type": "stream",
     "text": [
      "\r",
      "[==============================          ] 38/50 ( 76%) 12 to go"
     ]
    },
    {
     "name": "stdout",
     "output_type": "stream",
     "text": [
      "service goes offline @ 2:35\n"
     ]
    },
    {
     "name": "stderr",
     "output_type": "stream",
     "text": [
      "\r",
      "[===============================         ] 39/50 ( 78%) 11 to go"
     ]
    },
    {
     "name": "stdout",
     "output_type": "stream",
     "text": [
      "service goes offline @ 2:35\n"
     ]
    },
    {
     "name": "stderr",
     "output_type": "stream",
     "text": [
      "\r",
      "[================================        ] 40/50 ( 80%) 10 to go"
     ]
    },
    {
     "name": "stdout",
     "output_type": "stream",
     "text": [
      "service goes offline @ 2:36\n"
     ]
    },
    {
     "name": "stderr",
     "output_type": "stream",
     "text": [
      "\r",
      "[================================        ] 41/50 ( 82%)  9 to go"
     ]
    },
    {
     "name": "stdout",
     "output_type": "stream",
     "text": [
      "service goes offline @ 2:36\n"
     ]
    },
    {
     "name": "stderr",
     "output_type": "stream",
     "text": [
      "\r",
      "[=================================       ] 42/50 ( 84%)  8 to go"
     ]
    },
    {
     "name": "stdout",
     "output_type": "stream",
     "text": [
      "service goes offline @ 2:37\n"
     ]
    },
    {
     "name": "stderr",
     "output_type": "stream",
     "text": [
      "\r",
      "[==================================      ] 43/50 ( 86%)  7 to go"
     ]
    },
    {
     "name": "stdout",
     "output_type": "stream",
     "text": [
      "service goes offline @ 2:37\n"
     ]
    },
    {
     "name": "stderr",
     "output_type": "stream",
     "text": [
      "\r",
      "[===================================     ] 44/50 ( 88%)  6 to go"
     ]
    },
    {
     "name": "stdout",
     "output_type": "stream",
     "text": [
      "service goes offline @ 2:38\n"
     ]
    },
    {
     "name": "stderr",
     "output_type": "stream",
     "text": [
      "\r",
      "[====================================    ] 45/50 ( 90%)  5 to go"
     ]
    },
    {
     "name": "stdout",
     "output_type": "stream",
     "text": [
      "service goes offline @ 2:38\n"
     ]
    },
    {
     "name": "stderr",
     "output_type": "stream",
     "text": [
      "\r",
      "[====================================    ] 46/50 ( 92%)  4 to go"
     ]
    },
    {
     "name": "stdout",
     "output_type": "stream",
     "text": [
      "service goes offline @ 2:39\n"
     ]
    },
    {
     "name": "stderr",
     "output_type": "stream",
     "text": [
      "\r",
      "[=====================================   ] 47/50 ( 94%)  3 to go"
     ]
    },
    {
     "name": "stdout",
     "output_type": "stream",
     "text": [
      "service goes offline @ 2:39\n"
     ]
    },
    {
     "name": "stderr",
     "output_type": "stream",
     "text": [
      "\r",
      "[======================================  ] 48/50 ( 96%)  2 to go"
     ]
    },
    {
     "name": "stdout",
     "output_type": "stream",
     "text": [
      "service goes offline @ 2:40\n"
     ]
    },
    {
     "name": "stderr",
     "output_type": "stream",
     "text": [
      "\r",
      "[======================================= ] 49/50 ( 98%)  1 to go"
     ]
    },
    {
     "name": "stdout",
     "output_type": "stream",
     "text": [
      "service goes offline @ 2:40\n"
     ]
    },
    {
     "name": "stderr",
     "output_type": "stream",
     "text": [
      "\r",
      "[========================================] 50/50 (100%)  0 to go"
     ]
    },
    {
     "name": "stdout",
     "output_type": "stream",
     "text": [
      "service goes offline @ 2:41\n"
     ]
    },
    {
     "name": "stderr",
     "output_type": "stream",
     "text": [
      "\r",
      "[========================================] 50/50 (100%)  0 to go\n",
      "\r",
      "[                                        ]  1/50 (  2%) 49 to go"
     ]
    },
    {
     "name": "stdout",
     "output_type": "stream",
     "text": [
      "Data_98 collected, writting to file: output/Dec14_98\n",
      "output/Dec14_98 is written @ 2017-12-14 02:41:40.989730\n",
      "service goes offline @ 2:41\n"
     ]
    },
    {
     "name": "stderr",
     "output_type": "stream",
     "text": [
      "\r",
      "[=                                       ]  2/50 (  4%) 48 to go"
     ]
    },
    {
     "name": "stdout",
     "output_type": "stream",
     "text": [
      "service goes offline @ 2:42\n"
     ]
    },
    {
     "name": "stderr",
     "output_type": "stream",
     "text": [
      "\r",
      "[==                                      ]  3/50 (  6%) 47 to go"
     ]
    },
    {
     "name": "stdout",
     "output_type": "stream",
     "text": [
      "service goes offline @ 2:42\n"
     ]
    },
    {
     "name": "stderr",
     "output_type": "stream",
     "text": [
      "\r",
      "[===                                     ]  4/50 (  8%) 46 to go"
     ]
    },
    {
     "name": "stdout",
     "output_type": "stream",
     "text": [
      "service goes offline @ 2:43\n"
     ]
    },
    {
     "name": "stderr",
     "output_type": "stream",
     "text": [
      "\r",
      "[====                                    ]  5/50 ( 10%) 45 to go"
     ]
    },
    {
     "name": "stdout",
     "output_type": "stream",
     "text": [
      "service goes offline @ 2:43\n"
     ]
    },
    {
     "name": "stderr",
     "output_type": "stream",
     "text": [
      "\r",
      "[====                                    ]  6/50 ( 12%) 44 to go"
     ]
    },
    {
     "name": "stdout",
     "output_type": "stream",
     "text": [
      "service goes offline @ 2:44\n"
     ]
    },
    {
     "name": "stderr",
     "output_type": "stream",
     "text": [
      "\r",
      "[=====                                   ]  7/50 ( 14%) 43 to go"
     ]
    },
    {
     "name": "stdout",
     "output_type": "stream",
     "text": [
      "service goes offline @ 2:44\n"
     ]
    },
    {
     "name": "stderr",
     "output_type": "stream",
     "text": [
      "\r",
      "[======                                  ]  8/50 ( 16%) 42 to go"
     ]
    },
    {
     "name": "stdout",
     "output_type": "stream",
     "text": [
      "service goes offline @ 2:45\n"
     ]
    },
    {
     "name": "stderr",
     "output_type": "stream",
     "text": [
      "\r",
      "[=======                                 ]  9/50 ( 18%) 41 to go"
     ]
    },
    {
     "name": "stdout",
     "output_type": "stream",
     "text": [
      "service goes offline @ 2:45\n"
     ]
    },
    {
     "name": "stderr",
     "output_type": "stream",
     "text": [
      "\r",
      "[========                                ] 10/50 ( 20%) 40 to go"
     ]
    },
    {
     "name": "stdout",
     "output_type": "stream",
     "text": [
      "service goes offline @ 2:46\n"
     ]
    },
    {
     "name": "stderr",
     "output_type": "stream",
     "text": [
      "\r",
      "[========                                ] 11/50 ( 22%) 39 to go"
     ]
    },
    {
     "name": "stdout",
     "output_type": "stream",
     "text": [
      "service goes offline @ 2:46\n"
     ]
    },
    {
     "name": "stderr",
     "output_type": "stream",
     "text": [
      "\r",
      "[=========                               ] 12/50 ( 24%) 38 to go"
     ]
    },
    {
     "name": "stdout",
     "output_type": "stream",
     "text": [
      "service goes offline @ 2:47\n"
     ]
    },
    {
     "name": "stderr",
     "output_type": "stream",
     "text": [
      "\r",
      "[==========                              ] 13/50 ( 26%) 37 to go"
     ]
    },
    {
     "name": "stdout",
     "output_type": "stream",
     "text": [
      "service goes offline @ 2:47\n"
     ]
    },
    {
     "name": "stderr",
     "output_type": "stream",
     "text": [
      "\r",
      "[===========                             ] 14/50 ( 28%) 36 to go"
     ]
    },
    {
     "name": "stdout",
     "output_type": "stream",
     "text": [
      "service goes offline @ 2:48\n"
     ]
    },
    {
     "name": "stderr",
     "output_type": "stream",
     "text": [
      "\r",
      "[============                            ] 15/50 ( 30%) 35 to go"
     ]
    },
    {
     "name": "stdout",
     "output_type": "stream",
     "text": [
      "service goes offline @ 2:48\n"
     ]
    },
    {
     "name": "stderr",
     "output_type": "stream",
     "text": [
      "\r",
      "[============                            ] 16/50 ( 32%) 34 to go"
     ]
    },
    {
     "name": "stdout",
     "output_type": "stream",
     "text": [
      "service goes offline @ 2:49\n"
     ]
    },
    {
     "name": "stderr",
     "output_type": "stream",
     "text": [
      "\r",
      "[=============                           ] 17/50 ( 34%) 33 to go"
     ]
    },
    {
     "name": "stdout",
     "output_type": "stream",
     "text": [
      "service goes offline @ 2:49\n"
     ]
    },
    {
     "name": "stderr",
     "output_type": "stream",
     "text": [
      "\r",
      "[==============                          ] 18/50 ( 36%) 32 to go"
     ]
    },
    {
     "name": "stdout",
     "output_type": "stream",
     "text": [
      "service goes offline @ 2:50\n"
     ]
    },
    {
     "name": "stderr",
     "output_type": "stream",
     "text": [
      "\r",
      "[===============                         ] 19/50 ( 38%) 31 to go"
     ]
    },
    {
     "name": "stdout",
     "output_type": "stream",
     "text": [
      "service goes offline @ 2:50\n"
     ]
    },
    {
     "name": "stderr",
     "output_type": "stream",
     "text": [
      "\r",
      "[================                        ] 20/50 ( 40%) 30 to go"
     ]
    },
    {
     "name": "stdout",
     "output_type": "stream",
     "text": [
      "service goes offline @ 2:51\n"
     ]
    },
    {
     "name": "stderr",
     "output_type": "stream",
     "text": [
      "\r",
      "[================                        ] 21/50 ( 42%) 29 to go"
     ]
    },
    {
     "name": "stdout",
     "output_type": "stream",
     "text": [
      "service goes offline @ 2:51\n"
     ]
    },
    {
     "name": "stderr",
     "output_type": "stream",
     "text": [
      "\r",
      "[=================                       ] 22/50 ( 44%) 28 to go"
     ]
    },
    {
     "name": "stdout",
     "output_type": "stream",
     "text": [
      "service goes offline @ 2:52\n"
     ]
    },
    {
     "name": "stderr",
     "output_type": "stream",
     "text": [
      "\r",
      "[==================                      ] 23/50 ( 46%) 27 to go"
     ]
    },
    {
     "name": "stdout",
     "output_type": "stream",
     "text": [
      "service goes offline @ 2:52\n"
     ]
    },
    {
     "name": "stderr",
     "output_type": "stream",
     "text": [
      "\r",
      "[===================                     ] 24/50 ( 48%) 26 to go"
     ]
    },
    {
     "name": "stdout",
     "output_type": "stream",
     "text": [
      "service goes offline @ 2:53\n"
     ]
    },
    {
     "name": "stderr",
     "output_type": "stream",
     "text": [
      "\r",
      "[====================                    ] 25/50 ( 50%) 25 to go"
     ]
    },
    {
     "name": "stdout",
     "output_type": "stream",
     "text": [
      "service goes offline @ 2:53\n"
     ]
    },
    {
     "name": "stderr",
     "output_type": "stream",
     "text": [
      "\r",
      "[====================                    ] 26/50 ( 52%) 24 to go"
     ]
    },
    {
     "name": "stdout",
     "output_type": "stream",
     "text": [
      "service goes offline @ 2:54\n"
     ]
    },
    {
     "name": "stderr",
     "output_type": "stream",
     "text": [
      "\r",
      "[=====================                   ] 27/50 ( 54%) 23 to go"
     ]
    },
    {
     "name": "stdout",
     "output_type": "stream",
     "text": [
      "service goes offline @ 2:54\n"
     ]
    },
    {
     "name": "stderr",
     "output_type": "stream",
     "text": [
      "\r",
      "[======================                  ] 28/50 ( 56%) 22 to go"
     ]
    },
    {
     "name": "stdout",
     "output_type": "stream",
     "text": [
      "service goes offline @ 2:55\n"
     ]
    },
    {
     "name": "stderr",
     "output_type": "stream",
     "text": [
      "\r",
      "[=======================                 ] 29/50 ( 57%) 21 to go"
     ]
    },
    {
     "name": "stdout",
     "output_type": "stream",
     "text": [
      "service goes offline @ 2:55\n"
     ]
    },
    {
     "name": "stderr",
     "output_type": "stream",
     "text": [
      "\r",
      "[========================                ] 30/50 ( 60%) 20 to go"
     ]
    },
    {
     "name": "stdout",
     "output_type": "stream",
     "text": [
      "service goes offline @ 2:56\n"
     ]
    },
    {
     "name": "stderr",
     "output_type": "stream",
     "text": [
      "\r",
      "[========================                ] 31/50 ( 62%) 19 to go"
     ]
    },
    {
     "name": "stdout",
     "output_type": "stream",
     "text": [
      "service goes offline @ 2:56\n"
     ]
    },
    {
     "name": "stderr",
     "output_type": "stream",
     "text": [
      "\r",
      "[=========================               ] 32/50 ( 64%) 18 to go"
     ]
    },
    {
     "name": "stdout",
     "output_type": "stream",
     "text": [
      "service goes offline @ 2:57\n"
     ]
    },
    {
     "name": "stderr",
     "output_type": "stream",
     "text": [
      "\r",
      "[==========================              ] 33/50 ( 66%) 17 to go"
     ]
    },
    {
     "name": "stdout",
     "output_type": "stream",
     "text": [
      "service goes offline @ 2:57\n"
     ]
    },
    {
     "name": "stderr",
     "output_type": "stream",
     "text": [
      "\r",
      "[===========================             ] 34/50 ( 68%) 16 to go"
     ]
    },
    {
     "name": "stdout",
     "output_type": "stream",
     "text": [
      "service goes offline @ 2:58\n"
     ]
    },
    {
     "name": "stderr",
     "output_type": "stream",
     "text": [
      "\r",
      "[============================            ] 35/50 ( 70%) 15 to go"
     ]
    },
    {
     "name": "stdout",
     "output_type": "stream",
     "text": [
      "service goes offline @ 2:58\n"
     ]
    },
    {
     "name": "stderr",
     "output_type": "stream",
     "text": [
      "\r",
      "[============================            ] 36/50 ( 72%) 14 to go"
     ]
    },
    {
     "name": "stdout",
     "output_type": "stream",
     "text": [
      "service goes offline @ 2:59\n"
     ]
    },
    {
     "name": "stderr",
     "output_type": "stream",
     "text": [
      "\r",
      "[=============================           ] 37/50 ( 74%) 13 to go"
     ]
    },
    {
     "name": "stdout",
     "output_type": "stream",
     "text": [
      "service goes offline @ 2:59\n"
     ]
    },
    {
     "name": "stderr",
     "output_type": "stream",
     "text": [
      "\r",
      "[==============================          ] 38/50 ( 76%) 12 to go"
     ]
    },
    {
     "name": "stdout",
     "output_type": "stream",
     "text": [
      "service goes offline @ 3:0\n"
     ]
    },
    {
     "name": "stderr",
     "output_type": "stream",
     "text": [
      "\r",
      "[===============================         ] 39/50 ( 78%) 11 to go"
     ]
    },
    {
     "name": "stdout",
     "output_type": "stream",
     "text": [
      "service goes offline @ 3:0\n"
     ]
    },
    {
     "name": "stderr",
     "output_type": "stream",
     "text": [
      "\r",
      "[================================        ] 40/50 ( 80%) 10 to go"
     ]
    },
    {
     "name": "stdout",
     "output_type": "stream",
     "text": [
      "service goes offline @ 3:1\n"
     ]
    },
    {
     "name": "stderr",
     "output_type": "stream",
     "text": [
      "\r",
      "[================================        ] 41/50 ( 82%)  9 to go"
     ]
    },
    {
     "name": "stdout",
     "output_type": "stream",
     "text": [
      "service goes offline @ 3:1\n"
     ]
    },
    {
     "name": "stderr",
     "output_type": "stream",
     "text": [
      "\r",
      "[=================================       ] 42/50 ( 84%)  8 to go"
     ]
    },
    {
     "name": "stdout",
     "output_type": "stream",
     "text": [
      "service goes offline @ 3:2\n"
     ]
    },
    {
     "name": "stderr",
     "output_type": "stream",
     "text": [
      "\r",
      "[==================================      ] 43/50 ( 86%)  7 to go"
     ]
    },
    {
     "name": "stdout",
     "output_type": "stream",
     "text": [
      "service goes offline @ 3:2\n"
     ]
    },
    {
     "name": "stderr",
     "output_type": "stream",
     "text": [
      "\r",
      "[===================================     ] 44/50 ( 88%)  6 to go"
     ]
    },
    {
     "name": "stdout",
     "output_type": "stream",
     "text": [
      "service goes offline @ 3:3\n"
     ]
    },
    {
     "name": "stderr",
     "output_type": "stream",
     "text": [
      "\r",
      "[====================================    ] 45/50 ( 90%)  5 to go"
     ]
    },
    {
     "name": "stdout",
     "output_type": "stream",
     "text": [
      "service goes offline @ 3:3\n"
     ]
    },
    {
     "name": "stderr",
     "output_type": "stream",
     "text": [
      "\r",
      "[====================================    ] 46/50 ( 92%)  4 to go"
     ]
    },
    {
     "name": "stdout",
     "output_type": "stream",
     "text": [
      "service goes offline @ 3:4\n"
     ]
    },
    {
     "name": "stderr",
     "output_type": "stream",
     "text": [
      "\r",
      "[=====================================   ] 47/50 ( 94%)  3 to go"
     ]
    },
    {
     "name": "stdout",
     "output_type": "stream",
     "text": [
      "service goes offline @ 3:4\n"
     ]
    },
    {
     "name": "stderr",
     "output_type": "stream",
     "text": [
      "\r",
      "[======================================  ] 48/50 ( 96%)  2 to go"
     ]
    },
    {
     "name": "stdout",
     "output_type": "stream",
     "text": [
      "service goes offline @ 3:5\n"
     ]
    },
    {
     "name": "stderr",
     "output_type": "stream",
     "text": [
      "\r",
      "[======================================= ] 49/50 ( 98%)  1 to go"
     ]
    },
    {
     "name": "stdout",
     "output_type": "stream",
     "text": [
      "service goes offline @ 3:5\n"
     ]
    },
    {
     "name": "stderr",
     "output_type": "stream",
     "text": [
      "\r",
      "[========================================] 50/50 (100%)  0 to go"
     ]
    },
    {
     "name": "stdout",
     "output_type": "stream",
     "text": [
      "service goes offline @ 3:6\n"
     ]
    },
    {
     "name": "stderr",
     "output_type": "stream",
     "text": [
      "\r",
      "[========================================] 50/50 (100%)  0 to go\n",
      "\r",
      "[                                        ]  1/50 (  2%) 49 to go"
     ]
    },
    {
     "name": "stdout",
     "output_type": "stream",
     "text": [
      "Data_99 collected, writting to file: output/Dec14_99\n",
      "output/Dec14_99 is written @ 2017-12-14 03:06:49.766193\n",
      "service goes offline @ 3:6\n"
     ]
    },
    {
     "name": "stderr",
     "output_type": "stream",
     "text": [
      "\r",
      "[=                                       ]  2/50 (  4%) 48 to go"
     ]
    },
    {
     "name": "stdout",
     "output_type": "stream",
     "text": [
      "service goes offline @ 3:7\n"
     ]
    },
    {
     "name": "stderr",
     "output_type": "stream",
     "text": [
      "\r",
      "[==                                      ]  3/50 (  6%) 47 to go"
     ]
    },
    {
     "name": "stdout",
     "output_type": "stream",
     "text": [
      "service goes offline @ 3:7\n"
     ]
    },
    {
     "name": "stderr",
     "output_type": "stream",
     "text": [
      "\r",
      "[===                                     ]  4/50 (  8%) 46 to go"
     ]
    },
    {
     "name": "stdout",
     "output_type": "stream",
     "text": [
      "service goes offline @ 3:8\n"
     ]
    },
    {
     "name": "stderr",
     "output_type": "stream",
     "text": [
      "\r",
      "[====                                    ]  5/50 ( 10%) 45 to go"
     ]
    },
    {
     "name": "stdout",
     "output_type": "stream",
     "text": [
      "service goes offline @ 3:8\n"
     ]
    },
    {
     "name": "stderr",
     "output_type": "stream",
     "text": [
      "\r",
      "[====                                    ]  6/50 ( 12%) 44 to go"
     ]
    },
    {
     "name": "stdout",
     "output_type": "stream",
     "text": [
      "service goes offline @ 3:9\n"
     ]
    },
    {
     "name": "stderr",
     "output_type": "stream",
     "text": [
      "\r",
      "[=====                                   ]  7/50 ( 14%) 43 to go"
     ]
    },
    {
     "name": "stdout",
     "output_type": "stream",
     "text": [
      "service goes offline @ 3:9\n"
     ]
    },
    {
     "name": "stderr",
     "output_type": "stream",
     "text": [
      "\r",
      "[======                                  ]  8/50 ( 16%) 42 to go"
     ]
    },
    {
     "name": "stdout",
     "output_type": "stream",
     "text": [
      "service goes offline @ 3:10\n"
     ]
    },
    {
     "name": "stderr",
     "output_type": "stream",
     "text": [
      "\r",
      "[=======                                 ]  9/50 ( 18%) 41 to go"
     ]
    },
    {
     "name": "stdout",
     "output_type": "stream",
     "text": [
      "service goes offline @ 3:10\n"
     ]
    },
    {
     "name": "stderr",
     "output_type": "stream",
     "text": [
      "\r",
      "[========                                ] 10/50 ( 20%) 40 to go"
     ]
    },
    {
     "name": "stdout",
     "output_type": "stream",
     "text": [
      "service goes offline @ 3:11\n"
     ]
    },
    {
     "name": "stderr",
     "output_type": "stream",
     "text": [
      "\r",
      "[========                                ] 11/50 ( 22%) 39 to go"
     ]
    },
    {
     "name": "stdout",
     "output_type": "stream",
     "text": [
      "service goes offline @ 3:11\n"
     ]
    },
    {
     "name": "stderr",
     "output_type": "stream",
     "text": [
      "\r",
      "[=========                               ] 12/50 ( 24%) 38 to go"
     ]
    },
    {
     "name": "stdout",
     "output_type": "stream",
     "text": [
      "service goes offline @ 3:12\n"
     ]
    },
    {
     "name": "stderr",
     "output_type": "stream",
     "text": [
      "\r",
      "[==========                              ] 13/50 ( 26%) 37 to go"
     ]
    },
    {
     "name": "stdout",
     "output_type": "stream",
     "text": [
      "service goes offline @ 3:12\n"
     ]
    },
    {
     "name": "stderr",
     "output_type": "stream",
     "text": [
      "\r",
      "[===========                             ] 14/50 ( 28%) 36 to go"
     ]
    },
    {
     "name": "stdout",
     "output_type": "stream",
     "text": [
      "service goes offline @ 3:13\n"
     ]
    },
    {
     "name": "stderr",
     "output_type": "stream",
     "text": [
      "\r",
      "[============                            ] 15/50 ( 30%) 35 to go"
     ]
    },
    {
     "name": "stdout",
     "output_type": "stream",
     "text": [
      "service goes offline @ 3:13\n"
     ]
    },
    {
     "name": "stderr",
     "output_type": "stream",
     "text": [
      "\r",
      "[============                            ] 16/50 ( 32%) 34 to go"
     ]
    },
    {
     "name": "stdout",
     "output_type": "stream",
     "text": [
      "service goes offline @ 3:14\n"
     ]
    },
    {
     "name": "stderr",
     "output_type": "stream",
     "text": [
      "\r",
      "[=============                           ] 17/50 ( 34%) 33 to go"
     ]
    },
    {
     "name": "stdout",
     "output_type": "stream",
     "text": [
      "service goes offline @ 3:14\n"
     ]
    },
    {
     "name": "stderr",
     "output_type": "stream",
     "text": [
      "\r",
      "[==============                          ] 18/50 ( 36%) 32 to go"
     ]
    },
    {
     "name": "stdout",
     "output_type": "stream",
     "text": [
      "service goes offline @ 3:15\n"
     ]
    },
    {
     "name": "stderr",
     "output_type": "stream",
     "text": [
      "\r",
      "[===============                         ] 19/50 ( 38%) 31 to go"
     ]
    },
    {
     "name": "stdout",
     "output_type": "stream",
     "text": [
      "service goes offline @ 3:15\n"
     ]
    },
    {
     "name": "stderr",
     "output_type": "stream",
     "text": [
      "\r",
      "[================                        ] 20/50 ( 40%) 30 to go"
     ]
    },
    {
     "name": "stdout",
     "output_type": "stream",
     "text": [
      "service goes offline @ 3:16\n"
     ]
    },
    {
     "name": "stderr",
     "output_type": "stream",
     "text": [
      "\r",
      "[================                        ] 21/50 ( 42%) 29 to go"
     ]
    },
    {
     "name": "stdout",
     "output_type": "stream",
     "text": [
      "service goes offline @ 3:16\n"
     ]
    },
    {
     "name": "stderr",
     "output_type": "stream",
     "text": [
      "\r",
      "[=================                       ] 22/50 ( 44%) 28 to go"
     ]
    },
    {
     "name": "stdout",
     "output_type": "stream",
     "text": [
      "service goes offline @ 3:17\n"
     ]
    },
    {
     "name": "stderr",
     "output_type": "stream",
     "text": [
      "\r",
      "[==================                      ] 23/50 ( 46%) 27 to go"
     ]
    },
    {
     "name": "stdout",
     "output_type": "stream",
     "text": [
      "service goes offline @ 3:17\n"
     ]
    },
    {
     "name": "stderr",
     "output_type": "stream",
     "text": [
      "\r",
      "[===================                     ] 24/50 ( 48%) 26 to go"
     ]
    },
    {
     "name": "stdout",
     "output_type": "stream",
     "text": [
      "service goes offline @ 3:18\n"
     ]
    },
    {
     "name": "stderr",
     "output_type": "stream",
     "text": [
      "\r",
      "[====================                    ] 25/50 ( 50%) 25 to go"
     ]
    },
    {
     "name": "stdout",
     "output_type": "stream",
     "text": [
      "service goes offline @ 3:18\n"
     ]
    },
    {
     "name": "stderr",
     "output_type": "stream",
     "text": [
      "\r",
      "[====================                    ] 26/50 ( 52%) 24 to go"
     ]
    },
    {
     "name": "stdout",
     "output_type": "stream",
     "text": [
      "service goes offline @ 3:19\n"
     ]
    },
    {
     "name": "stderr",
     "output_type": "stream",
     "text": [
      "\r",
      "[=====================                   ] 27/50 ( 54%) 23 to go"
     ]
    },
    {
     "name": "stdout",
     "output_type": "stream",
     "text": [
      "service goes offline @ 3:19\n"
     ]
    },
    {
     "name": "stderr",
     "output_type": "stream",
     "text": [
      "\r",
      "[======================                  ] 28/50 ( 56%) 22 to go"
     ]
    },
    {
     "name": "stdout",
     "output_type": "stream",
     "text": [
      "service goes offline @ 3:20\n"
     ]
    },
    {
     "name": "stderr",
     "output_type": "stream",
     "text": [
      "\r",
      "[=======================                 ] 29/50 ( 57%) 21 to go"
     ]
    },
    {
     "name": "stdout",
     "output_type": "stream",
     "text": [
      "service goes offline @ 3:20\n"
     ]
    },
    {
     "name": "stderr",
     "output_type": "stream",
     "text": [
      "\r",
      "[========================                ] 30/50 ( 60%) 20 to go"
     ]
    },
    {
     "name": "stdout",
     "output_type": "stream",
     "text": [
      "service goes offline @ 3:21\n"
     ]
    },
    {
     "name": "stderr",
     "output_type": "stream",
     "text": [
      "\r",
      "[========================                ] 31/50 ( 62%) 19 to go"
     ]
    },
    {
     "name": "stdout",
     "output_type": "stream",
     "text": [
      "service goes offline @ 3:21\n"
     ]
    },
    {
     "name": "stderr",
     "output_type": "stream",
     "text": [
      "\r",
      "[=========================               ] 32/50 ( 64%) 18 to go"
     ]
    },
    {
     "name": "stdout",
     "output_type": "stream",
     "text": [
      "service goes offline @ 3:22\n"
     ]
    },
    {
     "name": "stderr",
     "output_type": "stream",
     "text": [
      "\r",
      "[==========================              ] 33/50 ( 66%) 17 to go"
     ]
    },
    {
     "name": "stdout",
     "output_type": "stream",
     "text": [
      "service goes offline @ 3:22\n"
     ]
    },
    {
     "name": "stderr",
     "output_type": "stream",
     "text": [
      "\r",
      "[===========================             ] 34/50 ( 68%) 16 to go"
     ]
    },
    {
     "name": "stdout",
     "output_type": "stream",
     "text": [
      "service goes offline @ 3:23\n"
     ]
    },
    {
     "name": "stderr",
     "output_type": "stream",
     "text": [
      "\r",
      "[============================            ] 35/50 ( 70%) 15 to go"
     ]
    },
    {
     "name": "stdout",
     "output_type": "stream",
     "text": [
      "service goes offline @ 3:23\n"
     ]
    },
    {
     "name": "stderr",
     "output_type": "stream",
     "text": [
      "\r",
      "[============================            ] 36/50 ( 72%) 14 to go"
     ]
    },
    {
     "name": "stdout",
     "output_type": "stream",
     "text": [
      "service goes offline @ 3:24\n"
     ]
    },
    {
     "name": "stderr",
     "output_type": "stream",
     "text": [
      "\r",
      "[=============================           ] 37/50 ( 74%) 13 to go"
     ]
    },
    {
     "name": "stdout",
     "output_type": "stream",
     "text": [
      "service goes offline @ 3:24\n"
     ]
    },
    {
     "name": "stderr",
     "output_type": "stream",
     "text": [
      "\r",
      "[==============================          ] 38/50 ( 76%) 12 to go"
     ]
    },
    {
     "name": "stdout",
     "output_type": "stream",
     "text": [
      "service goes offline @ 3:25\n"
     ]
    },
    {
     "name": "stderr",
     "output_type": "stream",
     "text": [
      "\r",
      "[===============================         ] 39/50 ( 78%) 11 to go"
     ]
    },
    {
     "name": "stdout",
     "output_type": "stream",
     "text": [
      "service goes offline @ 3:25\n"
     ]
    },
    {
     "name": "stderr",
     "output_type": "stream",
     "text": [
      "\r",
      "[================================        ] 40/50 ( 80%) 10 to go"
     ]
    },
    {
     "name": "stdout",
     "output_type": "stream",
     "text": [
      "service goes offline @ 3:26\n"
     ]
    },
    {
     "name": "stderr",
     "output_type": "stream",
     "text": [
      "\r",
      "[================================        ] 41/50 ( 82%)  9 to go"
     ]
    },
    {
     "name": "stdout",
     "output_type": "stream",
     "text": [
      "service goes offline @ 3:26\n"
     ]
    },
    {
     "name": "stderr",
     "output_type": "stream",
     "text": [
      "\r",
      "[=================================       ] 42/50 ( 84%)  8 to go"
     ]
    },
    {
     "name": "stdout",
     "output_type": "stream",
     "text": [
      "service goes offline @ 3:27\n"
     ]
    },
    {
     "name": "stderr",
     "output_type": "stream",
     "text": [
      "\r",
      "[==================================      ] 43/50 ( 86%)  7 to go"
     ]
    },
    {
     "name": "stdout",
     "output_type": "stream",
     "text": [
      "service goes offline @ 3:27\n"
     ]
    },
    {
     "name": "stderr",
     "output_type": "stream",
     "text": [
      "\r",
      "[===================================     ] 44/50 ( 88%)  6 to go"
     ]
    },
    {
     "name": "stdout",
     "output_type": "stream",
     "text": [
      "service goes offline @ 3:28\n"
     ]
    },
    {
     "name": "stderr",
     "output_type": "stream",
     "text": [
      "\r",
      "[====================================    ] 45/50 ( 90%)  5 to go"
     ]
    },
    {
     "name": "stdout",
     "output_type": "stream",
     "text": [
      "service goes offline @ 3:28\n"
     ]
    },
    {
     "name": "stderr",
     "output_type": "stream",
     "text": [
      "\r",
      "[====================================    ] 46/50 ( 92%)  4 to go"
     ]
    },
    {
     "name": "stdout",
     "output_type": "stream",
     "text": [
      "service goes offline @ 3:29\n"
     ]
    },
    {
     "name": "stderr",
     "output_type": "stream",
     "text": [
      "\r",
      "[=====================================   ] 47/50 ( 94%)  3 to go"
     ]
    },
    {
     "name": "stdout",
     "output_type": "stream",
     "text": [
      "service goes offline @ 3:29\n"
     ]
    },
    {
     "name": "stderr",
     "output_type": "stream",
     "text": [
      "\r",
      "[======================================  ] 48/50 ( 96%)  2 to go"
     ]
    },
    {
     "name": "stdout",
     "output_type": "stream",
     "text": [
      "service goes offline @ 3:30\n"
     ]
    },
    {
     "name": "stderr",
     "output_type": "stream",
     "text": [
      "\r",
      "[======================================= ] 49/50 ( 98%)  1 to go"
     ]
    },
    {
     "name": "stdout",
     "output_type": "stream",
     "text": [
      "service goes offline @ 3:30\n"
     ]
    },
    {
     "name": "stderr",
     "output_type": "stream",
     "text": [
      "\r",
      "[========================================] 50/50 (100%)  0 to go"
     ]
    },
    {
     "name": "stdout",
     "output_type": "stream",
     "text": [
      "service goes offline @ 3:31\n"
     ]
    },
    {
     "name": "stderr",
     "output_type": "stream",
     "text": [
      "\r",
      "[========================================] 50/50 (100%)  0 to go\n",
      "\r",
      "[                                        ]  1/50 (  2%) 49 to go"
     ]
    },
    {
     "name": "stdout",
     "output_type": "stream",
     "text": [
      "Data_100 collected, writting to file: output/Dec14_100\n",
      "output/Dec14_100 is written @ 2017-12-14 03:31:58.206397\n",
      "service goes offline @ 3:31\n"
     ]
    },
    {
     "name": "stderr",
     "output_type": "stream",
     "text": [
      "\r",
      "[=                                       ]  2/50 (  4%) 48 to go"
     ]
    },
    {
     "name": "stdout",
     "output_type": "stream",
     "text": [
      "service goes offline @ 3:32\n"
     ]
    },
    {
     "name": "stderr",
     "output_type": "stream",
     "text": [
      "\r",
      "[==                                      ]  3/50 (  6%) 47 to go"
     ]
    },
    {
     "name": "stdout",
     "output_type": "stream",
     "text": [
      "service goes offline @ 3:32\n"
     ]
    },
    {
     "name": "stderr",
     "output_type": "stream",
     "text": [
      "\r",
      "[===                                     ]  4/50 (  8%) 46 to go"
     ]
    },
    {
     "name": "stdout",
     "output_type": "stream",
     "text": [
      "service goes offline @ 3:33\n"
     ]
    },
    {
     "name": "stderr",
     "output_type": "stream",
     "text": [
      "\r",
      "[====                                    ]  5/50 ( 10%) 45 to go"
     ]
    },
    {
     "name": "stdout",
     "output_type": "stream",
     "text": [
      "service goes offline @ 3:34\n"
     ]
    },
    {
     "name": "stderr",
     "output_type": "stream",
     "text": [
      "\r",
      "[====                                    ]  6/50 ( 12%) 44 to go"
     ]
    },
    {
     "name": "stdout",
     "output_type": "stream",
     "text": [
      "service goes offline @ 3:34\n"
     ]
    },
    {
     "name": "stderr",
     "output_type": "stream",
     "text": [
      "\r",
      "[=====                                   ]  7/50 ( 14%) 43 to go"
     ]
    },
    {
     "name": "stdout",
     "output_type": "stream",
     "text": [
      "service goes offline @ 3:35\n"
     ]
    },
    {
     "name": "stderr",
     "output_type": "stream",
     "text": [
      "\r",
      "[======                                  ]  8/50 ( 16%) 42 to go"
     ]
    },
    {
     "name": "stdout",
     "output_type": "stream",
     "text": [
      "service goes offline @ 3:35\n"
     ]
    },
    {
     "name": "stderr",
     "output_type": "stream",
     "text": [
      "\r",
      "[=======                                 ]  9/50 ( 18%) 41 to go"
     ]
    },
    {
     "name": "stdout",
     "output_type": "stream",
     "text": [
      "service goes offline @ 3:36\n"
     ]
    },
    {
     "name": "stderr",
     "output_type": "stream",
     "text": [
      "\r",
      "[========                                ] 10/50 ( 20%) 40 to go"
     ]
    },
    {
     "name": "stdout",
     "output_type": "stream",
     "text": [
      "service goes offline @ 3:36\n"
     ]
    },
    {
     "name": "stderr",
     "output_type": "stream",
     "text": [
      "\r",
      "[========                                ] 11/50 ( 22%) 39 to go"
     ]
    },
    {
     "name": "stdout",
     "output_type": "stream",
     "text": [
      "service goes offline @ 3:37\n"
     ]
    },
    {
     "name": "stderr",
     "output_type": "stream",
     "text": [
      "\r",
      "[=========                               ] 12/50 ( 24%) 38 to go"
     ]
    },
    {
     "name": "stdout",
     "output_type": "stream",
     "text": [
      "service goes offline @ 3:37\n"
     ]
    },
    {
     "name": "stderr",
     "output_type": "stream",
     "text": [
      "\r",
      "[==========                              ] 13/50 ( 26%) 37 to go"
     ]
    },
    {
     "name": "stdout",
     "output_type": "stream",
     "text": [
      "service goes offline @ 3:38\n"
     ]
    },
    {
     "name": "stderr",
     "output_type": "stream",
     "text": [
      "\r",
      "[===========                             ] 14/50 ( 28%) 36 to go"
     ]
    },
    {
     "name": "stdout",
     "output_type": "stream",
     "text": [
      "service goes offline @ 3:38\n"
     ]
    },
    {
     "name": "stderr",
     "output_type": "stream",
     "text": [
      "\r",
      "[============                            ] 15/50 ( 30%) 35 to go"
     ]
    },
    {
     "name": "stdout",
     "output_type": "stream",
     "text": [
      "service goes offline @ 3:39\n"
     ]
    },
    {
     "name": "stderr",
     "output_type": "stream",
     "text": [
      "\r",
      "[============                            ] 16/50 ( 32%) 34 to go"
     ]
    },
    {
     "name": "stdout",
     "output_type": "stream",
     "text": [
      "service goes offline @ 3:39\n"
     ]
    },
    {
     "name": "stderr",
     "output_type": "stream",
     "text": [
      "\r",
      "[=============                           ] 17/50 ( 34%) 33 to go"
     ]
    },
    {
     "name": "stdout",
     "output_type": "stream",
     "text": [
      "service goes offline @ 3:40\n"
     ]
    },
    {
     "name": "stderr",
     "output_type": "stream",
     "text": [
      "\r",
      "[==============                          ] 18/50 ( 36%) 32 to go"
     ]
    },
    {
     "name": "stdout",
     "output_type": "stream",
     "text": [
      "service goes offline @ 3:40\n"
     ]
    },
    {
     "name": "stderr",
     "output_type": "stream",
     "text": [
      "\r",
      "[===============                         ] 19/50 ( 38%) 31 to go"
     ]
    },
    {
     "name": "stdout",
     "output_type": "stream",
     "text": [
      "service goes offline @ 3:41\n"
     ]
    },
    {
     "name": "stderr",
     "output_type": "stream",
     "text": [
      "\r",
      "[================                        ] 20/50 ( 40%) 30 to go"
     ]
    },
    {
     "name": "stdout",
     "output_type": "stream",
     "text": [
      "service goes offline @ 3:41\n"
     ]
    },
    {
     "name": "stderr",
     "output_type": "stream",
     "text": [
      "\r",
      "[================                        ] 21/50 ( 42%) 29 to go"
     ]
    },
    {
     "name": "stdout",
     "output_type": "stream",
     "text": [
      "service goes offline @ 3:42\n"
     ]
    },
    {
     "name": "stderr",
     "output_type": "stream",
     "text": [
      "\r",
      "[=================                       ] 22/50 ( 44%) 28 to go"
     ]
    },
    {
     "name": "stdout",
     "output_type": "stream",
     "text": [
      "service goes offline @ 3:42\n"
     ]
    },
    {
     "name": "stderr",
     "output_type": "stream",
     "text": [
      "\r",
      "[==================                      ] 23/50 ( 46%) 27 to go"
     ]
    },
    {
     "name": "stdout",
     "output_type": "stream",
     "text": [
      "service goes offline @ 3:43\n"
     ]
    },
    {
     "name": "stderr",
     "output_type": "stream",
     "text": [
      "\r",
      "[===================                     ] 24/50 ( 48%) 26 to go"
     ]
    },
    {
     "name": "stdout",
     "output_type": "stream",
     "text": [
      "service goes offline @ 3:43\n"
     ]
    },
    {
     "name": "stderr",
     "output_type": "stream",
     "text": [
      "\r",
      "[====================                    ] 25/50 ( 50%) 25 to go"
     ]
    },
    {
     "name": "stdout",
     "output_type": "stream",
     "text": [
      "service goes offline @ 3:44\n"
     ]
    },
    {
     "name": "stderr",
     "output_type": "stream",
     "text": [
      "\r",
      "[====================                    ] 26/50 ( 52%) 24 to go"
     ]
    },
    {
     "name": "stdout",
     "output_type": "stream",
     "text": [
      "service goes offline @ 3:44\n"
     ]
    },
    {
     "name": "stderr",
     "output_type": "stream",
     "text": [
      "\r",
      "[=====================                   ] 27/50 ( 54%) 23 to go"
     ]
    },
    {
     "name": "stdout",
     "output_type": "stream",
     "text": [
      "service goes offline @ 3:45\n"
     ]
    },
    {
     "name": "stderr",
     "output_type": "stream",
     "text": [
      "\r",
      "[======================                  ] 28/50 ( 56%) 22 to go"
     ]
    },
    {
     "name": "stdout",
     "output_type": "stream",
     "text": [
      "service goes offline @ 3:45\n"
     ]
    },
    {
     "name": "stderr",
     "output_type": "stream",
     "text": [
      "\r",
      "[=======================                 ] 29/50 ( 57%) 21 to go"
     ]
    },
    {
     "name": "stdout",
     "output_type": "stream",
     "text": [
      "service goes offline @ 3:46\n"
     ]
    },
    {
     "name": "stderr",
     "output_type": "stream",
     "text": [
      "\r",
      "[========================                ] 30/50 ( 60%) 20 to go"
     ]
    },
    {
     "name": "stdout",
     "output_type": "stream",
     "text": [
      "service goes offline @ 3:46\n"
     ]
    },
    {
     "name": "stderr",
     "output_type": "stream",
     "text": [
      "\r",
      "[========================                ] 31/50 ( 62%) 19 to go"
     ]
    },
    {
     "name": "stdout",
     "output_type": "stream",
     "text": [
      "service goes offline @ 3:47\n"
     ]
    },
    {
     "name": "stderr",
     "output_type": "stream",
     "text": [
      "\r",
      "[=========================               ] 32/50 ( 64%) 18 to go"
     ]
    },
    {
     "name": "stdout",
     "output_type": "stream",
     "text": [
      "service goes offline @ 3:47\n"
     ]
    },
    {
     "name": "stderr",
     "output_type": "stream",
     "text": [
      "\r",
      "[==========================              ] 33/50 ( 66%) 17 to go"
     ]
    },
    {
     "name": "stdout",
     "output_type": "stream",
     "text": [
      "service goes offline @ 3:48\n"
     ]
    },
    {
     "name": "stderr",
     "output_type": "stream",
     "text": [
      "\r",
      "[===========================             ] 34/50 ( 68%) 16 to go"
     ]
    },
    {
     "name": "stdout",
     "output_type": "stream",
     "text": [
      "service goes offline @ 3:48\n"
     ]
    },
    {
     "name": "stderr",
     "output_type": "stream",
     "text": [
      "\r",
      "[============================            ] 35/50 ( 70%) 15 to go"
     ]
    },
    {
     "name": "stdout",
     "output_type": "stream",
     "text": [
      "service goes offline @ 3:49\n"
     ]
    },
    {
     "name": "stderr",
     "output_type": "stream",
     "text": [
      "\r",
      "[============================            ] 36/50 ( 72%) 14 to go"
     ]
    },
    {
     "name": "stdout",
     "output_type": "stream",
     "text": [
      "service goes offline @ 3:49\n"
     ]
    },
    {
     "name": "stderr",
     "output_type": "stream",
     "text": [
      "\r",
      "[=============================           ] 37/50 ( 74%) 13 to go"
     ]
    },
    {
     "name": "stdout",
     "output_type": "stream",
     "text": [
      "service goes offline @ 3:50\n"
     ]
    },
    {
     "name": "stderr",
     "output_type": "stream",
     "text": [
      "\r",
      "[==============================          ] 38/50 ( 76%) 12 to go"
     ]
    },
    {
     "name": "stdout",
     "output_type": "stream",
     "text": [
      "service goes offline @ 3:50\n"
     ]
    },
    {
     "name": "stderr",
     "output_type": "stream",
     "text": [
      "\r",
      "[===============================         ] 39/50 ( 78%) 11 to go"
     ]
    },
    {
     "name": "stdout",
     "output_type": "stream",
     "text": [
      "service goes offline @ 3:51\n"
     ]
    },
    {
     "name": "stderr",
     "output_type": "stream",
     "text": [
      "\r",
      "[================================        ] 40/50 ( 80%) 10 to go"
     ]
    },
    {
     "name": "stdout",
     "output_type": "stream",
     "text": [
      "service goes offline @ 3:51\n"
     ]
    },
    {
     "name": "stderr",
     "output_type": "stream",
     "text": [
      "\r",
      "[================================        ] 41/50 ( 82%)  9 to go"
     ]
    },
    {
     "name": "stdout",
     "output_type": "stream",
     "text": [
      "service goes offline @ 3:52\n"
     ]
    },
    {
     "name": "stderr",
     "output_type": "stream",
     "text": [
      "\r",
      "[=================================       ] 42/50 ( 84%)  8 to go"
     ]
    },
    {
     "name": "stdout",
     "output_type": "stream",
     "text": [
      "service goes offline @ 3:52\n"
     ]
    },
    {
     "name": "stderr",
     "output_type": "stream",
     "text": [
      "\r",
      "[==================================      ] 43/50 ( 86%)  7 to go"
     ]
    },
    {
     "name": "stdout",
     "output_type": "stream",
     "text": [
      "service goes offline @ 3:53\n"
     ]
    },
    {
     "name": "stderr",
     "output_type": "stream",
     "text": [
      "\r",
      "[===================================     ] 44/50 ( 88%)  6 to go"
     ]
    },
    {
     "name": "stdout",
     "output_type": "stream",
     "text": [
      "service goes offline @ 3:53\n"
     ]
    },
    {
     "name": "stderr",
     "output_type": "stream",
     "text": [
      "\r",
      "[====================================    ] 45/50 ( 90%)  5 to go"
     ]
    },
    {
     "name": "stdout",
     "output_type": "stream",
     "text": [
      "service goes offline @ 3:54\n"
     ]
    },
    {
     "name": "stderr",
     "output_type": "stream",
     "text": [
      "\r",
      "[====================================    ] 46/50 ( 92%)  4 to go"
     ]
    },
    {
     "name": "stdout",
     "output_type": "stream",
     "text": [
      "service goes offline @ 3:54\n"
     ]
    },
    {
     "name": "stderr",
     "output_type": "stream",
     "text": [
      "\r",
      "[=====================================   ] 47/50 ( 94%)  3 to go"
     ]
    },
    {
     "name": "stdout",
     "output_type": "stream",
     "text": [
      "service goes offline @ 3:55\n"
     ]
    },
    {
     "name": "stderr",
     "output_type": "stream",
     "text": [
      "\r",
      "[======================================  ] 48/50 ( 96%)  2 to go"
     ]
    },
    {
     "name": "stdout",
     "output_type": "stream",
     "text": [
      "service goes offline @ 3:55\n"
     ]
    },
    {
     "name": "stderr",
     "output_type": "stream",
     "text": [
      "\r",
      "[======================================= ] 49/50 ( 98%)  1 to go"
     ]
    },
    {
     "name": "stdout",
     "output_type": "stream",
     "text": [
      "service goes offline @ 3:56\n"
     ]
    },
    {
     "name": "stderr",
     "output_type": "stream",
     "text": [
      "\r",
      "[========================================] 50/50 (100%)  0 to go"
     ]
    },
    {
     "name": "stdout",
     "output_type": "stream",
     "text": [
      "service goes offline @ 3:56\n"
     ]
    },
    {
     "name": "stderr",
     "output_type": "stream",
     "text": [
      "\r",
      "[========================================] 50/50 (100%)  0 to go\n",
      "\r",
      "[                                        ]  1/50 (  2%) 49 to go"
     ]
    },
    {
     "name": "stdout",
     "output_type": "stream",
     "text": [
      "Data_101 collected, writting to file: output/Dec14_101\n",
      "output/Dec14_101 is written @ 2017-12-14 03:57:09.875687\n",
      "service goes offline @ 3:57\n"
     ]
    },
    {
     "name": "stderr",
     "output_type": "stream",
     "text": [
      "\r",
      "[=                                       ]  2/50 (  4%) 48 to go"
     ]
    },
    {
     "name": "stdout",
     "output_type": "stream",
     "text": [
      "service goes offline @ 3:57\n"
     ]
    },
    {
     "name": "stderr",
     "output_type": "stream",
     "text": [
      "\r",
      "[==                                      ]  3/50 (  6%) 47 to go"
     ]
    },
    {
     "name": "stdout",
     "output_type": "stream",
     "text": [
      "service goes offline @ 3:58\n"
     ]
    },
    {
     "name": "stderr",
     "output_type": "stream",
     "text": [
      "\r",
      "[===                                     ]  4/50 (  8%) 46 to go"
     ]
    },
    {
     "name": "stdout",
     "output_type": "stream",
     "text": [
      "service goes offline @ 3:58\n"
     ]
    },
    {
     "name": "stderr",
     "output_type": "stream",
     "text": [
      "[========                                ] 10/50 ( 20%) 40 to go"
     ]
    },
    {
     "name": "stdout",
     "output_type": "stream",
     "text": [
      "service goes offline @ 4:2\n"
     ]
    },
    {
     "name": "stderr",
     "output_type": "stream",
     "text": [
      "[==================                      ] 23/50 ( 46%) 27 to go"
     ]
    },
    {
     "name": "stdout",
     "output_type": "stream",
     "text": [
      "service goes offline @ 4:8\n"
     ]
    },
    {
     "name": "stderr",
     "output_type": "stream",
     "text": [
      "\r",
      "[===================                     ] 24/50 ( 48%) 26 to go"
     ]
    },
    {
     "name": "stdout",
     "output_type": "stream",
     "text": [
      "service goes offline @ 4:9\n"
     ]
    },
    {
     "name": "stderr",
     "output_type": "stream",
     "text": [
      "\r",
      "[====================                    ] 25/50 ( 50%) 25 to go"
     ]
    },
    {
     "name": "stdout",
     "output_type": "stream",
     "text": [
      "service goes offline @ 4:9\n"
     ]
    },
    {
     "name": "stderr",
     "output_type": "stream",
     "text": [
      "\r",
      "[====================                    ] 26/50 ( 52%) 24 to go"
     ]
    },
    {
     "name": "stdout",
     "output_type": "stream",
     "text": [
      "service goes offline @ 4:10\n"
     ]
    },
    {
     "name": "stderr",
     "output_type": "stream",
     "text": [
      "\r",
      "[=====================                   ] 27/50 ( 54%) 23 to go"
     ]
    },
    {
     "name": "stdout",
     "output_type": "stream",
     "text": [
      "service goes offline @ 4:10\n"
     ]
    },
    {
     "name": "stderr",
     "output_type": "stream",
     "text": [
      "\r",
      "[======================                  ] 28/50 ( 56%) 22 to go"
     ]
    },
    {
     "name": "stdout",
     "output_type": "stream",
     "text": [
      "service goes offline @ 4:11\n"
     ]
    },
    {
     "name": "stderr",
     "output_type": "stream",
     "text": [
      "\r",
      "[=======================                 ] 29/50 ( 57%) 21 to go"
     ]
    },
    {
     "name": "stdout",
     "output_type": "stream",
     "text": [
      "service goes offline @ 4:11\n"
     ]
    },
    {
     "name": "stderr",
     "output_type": "stream",
     "text": [
      "\r",
      "[========================                ] 30/50 ( 60%) 20 to go"
     ]
    },
    {
     "name": "stdout",
     "output_type": "stream",
     "text": [
      "service goes offline @ 4:12\n"
     ]
    },
    {
     "name": "stderr",
     "output_type": "stream",
     "text": [
      "[========================================] 50/50 (100%)  0 to go\n",
      "[                                        ]  1/50 (  2%) 49 to go"
     ]
    },
    {
     "name": "stdout",
     "output_type": "stream",
     "text": [
      "Data_102 collected, writting to file: output/Dec14_102\n",
      "output/Dec14_102 is written @ 2017-12-14 04:22:52.500314\n"
     ]
    },
    {
     "name": "stderr",
     "output_type": "stream",
     "text": [
      "[========================================] 50/50 (100%)  0 to go\n",
      "[                                        ]  1/50 (  2%) 49 to go"
     ]
    },
    {
     "name": "stdout",
     "output_type": "stream",
     "text": [
      "Data_103 collected, writting to file: output/Dec14_103\n",
      "output/Dec14_103 is written @ 2017-12-14 04:48:01.600853\n"
     ]
    },
    {
     "name": "stderr",
     "output_type": "stream",
     "text": [
      "[========================================] 50/50 (100%)  0 to go\n",
      "[                                        ]  1/50 (  2%) 49 to go"
     ]
    },
    {
     "name": "stdout",
     "output_type": "stream",
     "text": [
      "Data_104 collected, writting to file: output/Dec14_104\n",
      "output/Dec14_104 is written @ 2017-12-14 05:13:12.917121\n"
     ]
    },
    {
     "name": "stderr",
     "output_type": "stream",
     "text": [
      "[========================================] 50/50 (100%)  0 to go\n",
      "[                                        ]  1/50 (  2%) 49 to go"
     ]
    },
    {
     "name": "stdout",
     "output_type": "stream",
     "text": [
      "Data_105 collected, writting to file: output/Dec14_105\n",
      "output/Dec14_105 is written @ 2017-12-14 05:38:23.755093\n"
     ]
    },
    {
     "name": "stderr",
     "output_type": "stream",
     "text": [
      "[========================================] 50/50 (100%)  0 to go\n",
      "[                                        ]  1/50 (  2%) 49 to go"
     ]
    },
    {
     "name": "stdout",
     "output_type": "stream",
     "text": [
      "Data_106 collected, writting to file: output/Dec14_106\n",
      "output/Dec14_106 is written @ 2017-12-14 06:03:34.926694\n"
     ]
    },
    {
     "name": "stderr",
     "output_type": "stream",
     "text": [
      "[========================================] 50/50 (100%)  0 to go\n",
      "[                                        ]  1/50 (  2%) 49 to go"
     ]
    },
    {
     "name": "stdout",
     "output_type": "stream",
     "text": [
      "Data_107 collected, writting to file: output/Dec14_107\n",
      "output/Dec14_107 is written @ 2017-12-14 06:28:45.389913\n"
     ]
    },
    {
     "name": "stderr",
     "output_type": "stream",
     "text": [
      "[=====================                   ] 27/50 ( 54%) 23 to go"
     ]
    },
    {
     "name": "stdout",
     "output_type": "stream",
     "text": [
      "service goes offline @ 6:41\n"
     ]
    },
    {
     "name": "stderr",
     "output_type": "stream",
     "text": [
      "[========================================] 50/50 (100%)  0 to go\n",
      "[                                        ]  1/50 (  2%) 49 to go"
     ]
    },
    {
     "name": "stdout",
     "output_type": "stream",
     "text": [
      "Data_108 collected, writting to file: output/Dec14_108\n",
      "output/Dec14_108 is written @ 2017-12-14 06:53:57.278560\n"
     ]
    },
    {
     "name": "stderr",
     "output_type": "stream",
     "text": [
      "[========================================] 50/50 (100%)  0 to go\n",
      "[                                        ]  1/50 (  2%) 49 to go"
     ]
    },
    {
     "name": "stdout",
     "output_type": "stream",
     "text": [
      "Data_109 collected, writting to file: output/Dec14_109\n",
      "output/Dec14_109 is written @ 2017-12-14 07:19:13.493845\n"
     ]
    },
    {
     "name": "stderr",
     "output_type": "stream",
     "text": [
      "[===================                     ] 24/50 ( 48%) 26 to go"
     ]
    },
    {
     "name": "stdout",
     "output_type": "stream",
     "text": [
      "service goes offline @ 7:30\n"
     ]
    },
    {
     "name": "stderr",
     "output_type": "stream",
     "text": [
      "[========================================] 50/50 (100%)  0 to go\n",
      "[                                        ]  1/50 (  2%) 49 to go"
     ]
    },
    {
     "name": "stdout",
     "output_type": "stream",
     "text": [
      "Data_110 collected, writting to file: output/Dec14_110\n",
      "output/Dec14_110 is written @ 2017-12-14 07:44:28.088666\n"
     ]
    },
    {
     "name": "stderr",
     "output_type": "stream",
     "text": [
      "[===                                     ]  4/50 (  8%) 46 to go"
     ]
    },
    {
     "name": "stdout",
     "output_type": "stream",
     "text": [
      "service goes offline @ 7:45\n"
     ]
    },
    {
     "name": "stderr",
     "output_type": "stream",
     "text": [
      "[========                                ] 11/50 ( 22%) 39 to go"
     ]
    },
    {
     "name": "stdout",
     "output_type": "stream",
     "text": [
      "service goes offline @ 7:49\n"
     ]
    },
    {
     "name": "stderr",
     "output_type": "stream",
     "text": [
      "[========================================] 50/50 (100%)  0 to go\n",
      "[                                        ]  1/50 (  2%) 49 to go"
     ]
    },
    {
     "name": "stdout",
     "output_type": "stream",
     "text": [
      "Data_111 collected, writting to file: output/Dec14_111\n",
      "output/Dec14_111 is written @ 2017-12-14 08:09:43.523948\n"
     ]
    },
    {
     "name": "stderr",
     "output_type": "stream",
     "text": [
      "[========================================] 50/50 (100%)  0 to go\n",
      "[                                        ]  1/50 (  2%) 49 to go"
     ]
    },
    {
     "name": "stdout",
     "output_type": "stream",
     "text": [
      "Data_112 collected, writting to file: output/Dec14_112\n",
      "output/Dec14_112 is written @ 2017-12-14 08:34:59.343336\n"
     ]
    },
    {
     "name": "stderr",
     "output_type": "stream",
     "text": [
      "[========================================] 50/50 (100%)  0 to go\n",
      "[                                        ]  1/50 (  2%) 49 to go"
     ]
    },
    {
     "name": "stdout",
     "output_type": "stream",
     "text": [
      "Data_113 collected, writting to file: output/Dec14_113\n",
      "output/Dec14_113 is written @ 2017-12-14 09:00:13.082345\n"
     ]
    },
    {
     "name": "stderr",
     "output_type": "stream",
     "text": [
      "[========================================] 50/50 (100%)  0 to go\n",
      "[                                        ]  1/50 (  2%) 49 to go"
     ]
    },
    {
     "name": "stdout",
     "output_type": "stream",
     "text": [
      "Data_114 collected, writting to file: output/Dec14_114\n",
      "output/Dec14_114 is written @ 2017-12-14 09:25:33.683455\n"
     ]
    },
    {
     "name": "stderr",
     "output_type": "stream",
     "text": [
      "[========================================] 50/50 (100%)  0 to go\n",
      "[                                        ]  1/50 (  2%) 49 to go"
     ]
    },
    {
     "name": "stdout",
     "output_type": "stream",
     "text": [
      "Data_115 collected, writting to file: output/Dec14_115\n",
      "output/Dec14_115 is written @ 2017-12-14 09:50:49.319849\n"
     ]
    },
    {
     "name": "stderr",
     "output_type": "stream",
     "text": [
      "[========================                ] 31/50 ( 62%) 19 to go"
     ]
    },
    {
     "name": "stdout",
     "output_type": "stream",
     "text": [
      "service goes offline @ 10:5\n"
     ]
    },
    {
     "name": "stderr",
     "output_type": "stream",
     "text": [
      "[===========================             ] 34/50 ( 68%) 16 to go"
     ]
    },
    {
     "name": "stdout",
     "output_type": "stream",
     "text": [
      "service goes offline @ 10:7\n"
     ]
    },
    {
     "name": "stderr",
     "output_type": "stream",
     "text": [
      "[========================================] 50/50 (100%)  0 to go\n",
      "[                                        ]  1/50 (  2%) 49 to go"
     ]
    },
    {
     "name": "stdout",
     "output_type": "stream",
     "text": [
      "Data_116 collected, writting to file: output/Dec14_116\n",
      "output/Dec14_116 is written @ 2017-12-14 10:16:05.291727\n"
     ]
    },
    {
     "name": "stderr",
     "output_type": "stream",
     "text": [
      "[========================================] 50/50 (100%)  0 to go\n",
      "[                                        ]  1/50 (  2%) 49 to go"
     ]
    },
    {
     "name": "stdout",
     "output_type": "stream",
     "text": [
      "Data_117 collected, writting to file: output/Dec14_117\n",
      "output/Dec14_117 is written @ 2017-12-14 10:41:20.301947\n"
     ]
    },
    {
     "name": "stderr",
     "output_type": "stream",
     "text": [
      "[========================================] 50/50 (100%)  0 to go\n",
      "[                                        ]  1/50 (  2%) 49 to go"
     ]
    },
    {
     "name": "stdout",
     "output_type": "stream",
     "text": [
      "Data_118 collected, writting to file: output/Dec14_118\n",
      "output/Dec14_118 is written @ 2017-12-14 11:06:38.663178\n"
     ]
    },
    {
     "name": "stderr",
     "output_type": "stream",
     "text": [
      "[================================        ] 41/50 ( 82%)  9 to go"
     ]
    },
    {
     "name": "stdout",
     "output_type": "stream",
     "text": [
      "service goes offline @ 11:26\n"
     ]
    },
    {
     "name": "stderr",
     "output_type": "stream",
     "text": [
      "[========================================] 50/50 (100%)  0 to go\n",
      "[                                        ]  1/50 (  2%) 49 to go"
     ]
    },
    {
     "name": "stdout",
     "output_type": "stream",
     "text": [
      "Data_119 collected, writting to file: output/Dec14_119\n",
      "output/Dec14_119 is written @ 2017-12-14 11:31:49.866354\n"
     ]
    },
    {
     "name": "stderr",
     "output_type": "stream",
     "text": [
      "[========================================] 50/50 (100%)  0 to go\n",
      "[                                        ]  1/50 (  2%) 49 to go"
     ]
    },
    {
     "name": "stdout",
     "output_type": "stream",
     "text": [
      "Data_120 collected, writting to file: output/Dec14_120\n",
      "output/Dec14_120 is written @ 2017-12-14 11:57:06.744255\n"
     ]
    },
    {
     "name": "stderr",
     "output_type": "stream",
     "text": [
      "[========================================] 50/50 (100%)  0 to go\n",
      "[                                        ]  1/50 (  2%) 49 to go"
     ]
    },
    {
     "name": "stdout",
     "output_type": "stream",
     "text": [
      "Data_121 collected, writting to file: output/Dec14_121\n",
      "output/Dec14_121 is written @ 2017-12-14 12:22:21.672261\n"
     ]
    },
    {
     "name": "stderr",
     "output_type": "stream",
     "text": [
      "[===============================         ] 39/50 ( 78%) 11 to go"
     ]
    },
    {
     "name": "stdout",
     "output_type": "stream",
     "text": [
      "service goes offline @ 12:41\n"
     ]
    },
    {
     "name": "stderr",
     "output_type": "stream",
     "text": [
      "[========================================] 50/50 (100%)  0 to go\n",
      "[                                        ]  1/50 (  2%) 49 to go"
     ]
    },
    {
     "name": "stdout",
     "output_type": "stream",
     "text": [
      "Data_122 collected, writting to file: output/Dec14_122\n",
      "output/Dec14_122 is written @ 2017-12-14 12:47:40.574085\n"
     ]
    },
    {
     "name": "stderr",
     "output_type": "stream",
     "text": [
      "[========================================] 50/50 (100%)  0 to go\n",
      "[                                        ]  1/50 (  2%) 49 to go"
     ]
    },
    {
     "name": "stdout",
     "output_type": "stream",
     "text": [
      "Data_123 collected, writting to file: output/Dec14_123\n",
      "output/Dec14_123 is written @ 2017-12-14 13:13:05.245038\n"
     ]
    },
    {
     "name": "stderr",
     "output_type": "stream",
     "text": [
      "[========================================] 50/50 (100%)  0 to go\n",
      "[                                        ]  1/50 (  2%) 49 to go"
     ]
    },
    {
     "name": "stdout",
     "output_type": "stream",
     "text": [
      "Data_124 collected, writting to file: output/Dec14_124\n",
      "output/Dec14_124 is written @ 2017-12-14 13:38:21.905579\n"
     ]
    },
    {
     "name": "stderr",
     "output_type": "stream",
     "text": [
      "[========================================] 50/50 (100%)  0 to go\n",
      "[                                        ]  1/50 (  2%) 49 to go"
     ]
    },
    {
     "name": "stdout",
     "output_type": "stream",
     "text": [
      "Data_125 collected, writting to file: output/Dec14_125\n",
      "output/Dec14_125 is written @ 2017-12-14 14:03:38.524809\n"
     ]
    },
    {
     "name": "stderr",
     "output_type": "stream",
     "text": [
      "[========================================] 50/50 (100%)  0 to go\n",
      "[                                        ]  1/50 (  2%) 49 to go"
     ]
    },
    {
     "name": "stdout",
     "output_type": "stream",
     "text": [
      "Data_126 collected, writting to file: output/Dec14_126\n",
      "output/Dec14_126 is written @ 2017-12-14 14:28:51.108027\n"
     ]
    },
    {
     "name": "stderr",
     "output_type": "stream",
     "text": [
      "[========================================] 50/50 (100%)  0 to go\n",
      "[                                        ]  1/50 (  2%) 49 to go"
     ]
    },
    {
     "name": "stdout",
     "output_type": "stream",
     "text": [
      "Data_127 collected, writting to file: output/Dec14_127\n",
      "output/Dec14_127 is written @ 2017-12-14 14:54:02.520968\n"
     ]
    },
    {
     "name": "stderr",
     "output_type": "stream",
     "text": [
      "[========================================] 50/50 (100%)  0 to go\n",
      "[                                        ]  1/50 (  2%) 49 to go"
     ]
    },
    {
     "name": "stdout",
     "output_type": "stream",
     "text": [
      "Data_128 collected, writting to file: output/Dec14_128\n",
      "output/Dec14_128 is written @ 2017-12-14 15:19:16.916871\n"
     ]
    },
    {
     "name": "stderr",
     "output_type": "stream",
     "text": [
      "[=================                       ] 22/50 ( 44%) 28 to go"
     ]
    },
    {
     "name": "stdout",
     "output_type": "stream",
     "text": [
      "service goes offline @ 15:29\n"
     ]
    },
    {
     "name": "stderr",
     "output_type": "stream",
     "text": [
      "[========================================] 50/50 (100%)  0 to go\n",
      "[                                        ]  1/50 (  2%) 49 to go"
     ]
    },
    {
     "name": "stdout",
     "output_type": "stream",
     "text": [
      "Data_129 collected, writting to file: output/Dec14_129\n",
      "output/Dec14_129 is written @ 2017-12-14 15:44:29.034708\n"
     ]
    },
    {
     "name": "stderr",
     "output_type": "stream",
     "text": [
      "[============                            ] 16/50 ( 32%) 34 to go"
     ]
    },
    {
     "name": "stdout",
     "output_type": "stream",
     "text": [
      "service goes offline @ 15:52\n"
     ]
    },
    {
     "name": "stderr",
     "output_type": "stream",
     "text": [
      "[========================================] 50/50 (100%)  0 to go\n",
      "[                                        ]  1/50 (  2%) 49 to go"
     ]
    },
    {
     "name": "stdout",
     "output_type": "stream",
     "text": [
      "Data_130 collected, writting to file: output/Dec14_130\n",
      "output/Dec14_130 is written @ 2017-12-14 16:09:41.964474\n"
     ]
    },
    {
     "name": "stderr",
     "output_type": "stream",
     "text": [
      "[========================================] 50/50 (100%)  0 to go\n",
      "[                                        ]  1/50 (  2%) 49 to go"
     ]
    },
    {
     "name": "stdout",
     "output_type": "stream",
     "text": [
      "Data_131 collected, writting to file: output/Dec14_131\n",
      "output/Dec14_131 is written @ 2017-12-14 16:34:56.491295\n"
     ]
    },
    {
     "name": "stderr",
     "output_type": "stream",
     "text": [
      "[========================================] 50/50 (100%)  0 to go\n",
      "[                                        ]  1/50 (  2%) 49 to go"
     ]
    },
    {
     "name": "stdout",
     "output_type": "stream",
     "text": [
      "Data_132 collected, writting to file: output/Dec14_132\n",
      "output/Dec14_132 is written @ 2017-12-14 17:00:15.073177\n"
     ]
    },
    {
     "name": "stderr",
     "output_type": "stream",
     "text": [
      "[========================================] 50/50 (100%)  0 to go\n",
      "[                                        ]  1/50 (  2%) 49 to go"
     ]
    },
    {
     "name": "stdout",
     "output_type": "stream",
     "text": [
      "Data_133 collected, writting to file: output/Dec14_133\n",
      "output/Dec14_133 is written @ 2017-12-14 17:25:35.076323\n"
     ]
    },
    {
     "name": "stderr",
     "output_type": "stream",
     "text": [
      "[========================================] 50/50 (100%)  0 to go\n",
      "[                                        ]  1/50 (  2%) 49 to go"
     ]
    },
    {
     "name": "stdout",
     "output_type": "stream",
     "text": [
      "Data_134 collected, writting to file: output/Dec14_134\n",
      "output/Dec14_134 is written @ 2017-12-14 17:50:55.275121\n"
     ]
    },
    {
     "name": "stderr",
     "output_type": "stream",
     "text": [
      "[========================================] 50/50 (100%)  0 to go\n",
      "[                                        ]  1/50 (  2%) 49 to go"
     ]
    },
    {
     "name": "stdout",
     "output_type": "stream",
     "text": [
      "Data_135 collected, writting to file: output/Dec14_135\n",
      "output/Dec14_135 is written @ 2017-12-14 18:16:13.340925\n"
     ]
    },
    {
     "name": "stderr",
     "output_type": "stream",
     "text": [
      "[========================================] 50/50 (100%)  0 to go\n",
      "[                                        ]  1/50 (  2%) 49 to go"
     ]
    },
    {
     "name": "stdout",
     "output_type": "stream",
     "text": [
      "Data_136 collected, writting to file: output/Dec14_136\n",
      "output/Dec14_136 is written @ 2017-12-14 18:41:31.466425\n"
     ]
    },
    {
     "name": "stderr",
     "output_type": "stream",
     "text": [
      "[========================================] 50/50 (100%)  0 to go\n",
      "[                                        ]  1/50 (  2%) 49 to go"
     ]
    },
    {
     "name": "stdout",
     "output_type": "stream",
     "text": [
      "Data_137 collected, writting to file: output/Dec14_137\n",
      "output/Dec14_137 is written @ 2017-12-14 19:06:49.225606\n"
     ]
    },
    {
     "name": "stderr",
     "output_type": "stream",
     "text": [
      "[========================================] 50/50 (100%)  0 to go\n",
      "[                                        ]  1/50 (  2%) 49 to go"
     ]
    },
    {
     "name": "stdout",
     "output_type": "stream",
     "text": [
      "Data_138 collected, writting to file: output/Dec14_138\n",
      "output/Dec14_138 is written @ 2017-12-14 19:32:04.740066\n"
     ]
    },
    {
     "name": "stderr",
     "output_type": "stream",
     "text": [
      "[========================================] 50/50 (100%)  0 to go\n",
      "[                                        ]  1/50 (  2%) 49 to go"
     ]
    },
    {
     "name": "stdout",
     "output_type": "stream",
     "text": [
      "Data_139 collected, writting to file: output/Dec14_139\n",
      "output/Dec14_139 is written @ 2017-12-14 19:57:17.635722\n"
     ]
    },
    {
     "name": "stderr",
     "output_type": "stream",
     "text": [
      "[========================================] 50/50 (100%)  0 to go\n",
      "[                                        ]  1/50 (  2%) 49 to go"
     ]
    },
    {
     "name": "stdout",
     "output_type": "stream",
     "text": [
      "Data_140 collected, writting to file: output/Dec14_140\n",
      "output/Dec14_140 is written @ 2017-12-14 20:22:28.850950\n"
     ]
    },
    {
     "name": "stderr",
     "output_type": "stream",
     "text": [
      "[============================            ] 36/50 ( 72%) 14 to go"
     ]
    },
    {
     "name": "stdout",
     "output_type": "stream",
     "text": [
      "service goes offline @ 20:40\n"
     ]
    },
    {
     "name": "stderr",
     "output_type": "stream",
     "text": [
      "[========================================] 50/50 (100%)  0 to go\n",
      "[                                        ]  1/50 (  2%) 49 to go"
     ]
    },
    {
     "name": "stdout",
     "output_type": "stream",
     "text": [
      "Data_141 collected, writting to file: output/Dec14_141\n",
      "output/Dec14_141 is written @ 2017-12-14 20:47:46.096305\n"
     ]
    },
    {
     "name": "stderr",
     "output_type": "stream",
     "text": [
      "[========================================] 50/50 (100%)  0 to go\n",
      "[                                        ]  1/50 (  2%) 49 to go"
     ]
    },
    {
     "name": "stdout",
     "output_type": "stream",
     "text": [
      "Data_142 collected, writting to file: output/Dec14_142\n",
      "output/Dec14_142 is written @ 2017-12-14 21:12:59.065578\n"
     ]
    },
    {
     "name": "stderr",
     "output_type": "stream",
     "text": [
      "[========================================] 50/50 (100%)  0 to go\n",
      "[                                        ]  1/50 (  2%) 49 to go"
     ]
    },
    {
     "name": "stdout",
     "output_type": "stream",
     "text": [
      "Data_143 collected, writting to file: output/Dec14_143\n",
      "output/Dec14_143 is written @ 2017-12-14 21:38:11.728234\n"
     ]
    },
    {
     "name": "stderr",
     "output_type": "stream",
     "text": [
      "[========================================] 50/50 (100%)  0 to go\n",
      "[                                        ]  1/50 (  2%) 49 to go"
     ]
    },
    {
     "name": "stdout",
     "output_type": "stream",
     "text": [
      "Data_144 collected, writting to file: output/Dec14_144\n",
      "output/Dec14_144 is written @ 2017-12-14 22:03:24.326516\n"
     ]
    },
    {
     "name": "stderr",
     "output_type": "stream",
     "text": [
      "[========================================] 50/50 (100%)  0 to go\n",
      "[                                        ]  1/50 (  2%) 49 to go"
     ]
    },
    {
     "name": "stdout",
     "output_type": "stream",
     "text": [
      "Data_145 collected, writting to file: output/Dec14_145\n",
      "output/Dec14_145 is written @ 2017-12-14 22:28:43.229735\n"
     ]
    },
    {
     "name": "stderr",
     "output_type": "stream",
     "text": [
      "[========================================] 50/50 (100%)  0 to go\n",
      "[                                        ]  1/50 (  2%) 49 to go"
     ]
    },
    {
     "name": "stdout",
     "output_type": "stream",
     "text": [
      "Data_146 collected, writting to file: output/Dec14_146\n",
      "output/Dec14_146 is written @ 2017-12-14 22:53:53.914861\n"
     ]
    },
    {
     "name": "stderr",
     "output_type": "stream",
     "text": [
      "[========================================] 50/50 (100%)  0 to go\n",
      "[                                        ]  1/50 (  2%) 49 to go"
     ]
    },
    {
     "name": "stdout",
     "output_type": "stream",
     "text": [
      "Data_147 collected, writting to file: output/Dec14_147\n",
      "output/Dec14_147 is written @ 2017-12-14 23:19:04.816045\n"
     ]
    },
    {
     "name": "stderr",
     "output_type": "stream",
     "text": [
      "[========================================] 50/50 (100%)  0 to go\n",
      "[                                        ]  1/50 (  2%) 49 to go"
     ]
    },
    {
     "name": "stdout",
     "output_type": "stream",
     "text": [
      "Data_148 collected, writting to file: output/Dec14_148\n",
      "output/Dec14_148 is written @ 2017-12-14 23:44:18.031911\n"
     ]
    },
    {
     "name": "stderr",
     "output_type": "stream",
     "text": [
      "[========================================] 50/50 (100%)  0 to go\n",
      "[                                        ]  1/50 (  2%) 49 to go"
     ]
    },
    {
     "name": "stdout",
     "output_type": "stream",
     "text": [
      "Data_149 collected, writting to file: output/Dec14_149\n",
      "output/Dec14_149 is written @ 2017-12-15 00:09:33.006188\n"
     ]
    },
    {
     "name": "stderr",
     "output_type": "stream",
     "text": [
      "[========================================] 50/50 (100%)  0 to go\n",
      "[                                        ]  1/50 (  2%) 49 to go"
     ]
    },
    {
     "name": "stdout",
     "output_type": "stream",
     "text": [
      "Data_150 collected, writting to file: output/Dec15_150\n",
      "output/Dec15_150 is written @ 2017-12-15 00:34:53.949369\n"
     ]
    },
    {
     "name": "stderr",
     "output_type": "stream",
     "text": [
      "[========================================] 50/50 (100%)  0 to go\n",
      "[                                        ]  1/50 (  2%) 49 to go"
     ]
    },
    {
     "name": "stdout",
     "output_type": "stream",
     "text": [
      "Data_151 collected, writting to file: output/Dec15_151\n",
      "output/Dec15_151 is written @ 2017-12-15 01:00:03.074670\n"
     ]
    },
    {
     "name": "stderr",
     "output_type": "stream",
     "text": [
      "[========                                ] 11/50 ( 22%) 39 to go"
     ]
    },
    {
     "name": "stdout",
     "output_type": "stream",
     "text": [
      "service goes offline @ 1:5\n"
     ]
    },
    {
     "name": "stderr",
     "output_type": "stream",
     "text": [
      "\r",
      "[=========                               ] 12/50 ( 24%) 38 to go"
     ]
    },
    {
     "name": "stdout",
     "output_type": "stream",
     "text": [
      "service goes offline @ 1:5\n"
     ]
    },
    {
     "name": "stderr",
     "output_type": "stream",
     "text": [
      "\r",
      "[==========                              ] 13/50 ( 26%) 37 to go"
     ]
    },
    {
     "name": "stdout",
     "output_type": "stream",
     "text": [
      "service goes offline @ 1:6\n"
     ]
    },
    {
     "name": "stderr",
     "output_type": "stream",
     "text": [
      "\r",
      "[===========                             ] 14/50 ( 28%) 36 to go"
     ]
    },
    {
     "name": "stdout",
     "output_type": "stream",
     "text": [
      "service goes offline @ 1:6\n"
     ]
    },
    {
     "name": "stderr",
     "output_type": "stream",
     "text": [
      "\r",
      "[============                            ] 15/50 ( 30%) 35 to go"
     ]
    },
    {
     "name": "stdout",
     "output_type": "stream",
     "text": [
      "service goes offline @ 1:7\n"
     ]
    },
    {
     "name": "stderr",
     "output_type": "stream",
     "text": [
      "\r",
      "[============                            ] 16/50 ( 32%) 34 to go"
     ]
    },
    {
     "name": "stdout",
     "output_type": "stream",
     "text": [
      "service goes offline @ 1:7\n"
     ]
    },
    {
     "name": "stderr",
     "output_type": "stream",
     "text": [
      "\r",
      "[=============                           ] 17/50 ( 34%) 33 to go"
     ]
    },
    {
     "name": "stdout",
     "output_type": "stream",
     "text": [
      "service goes offline @ 1:8\n"
     ]
    },
    {
     "name": "stderr",
     "output_type": "stream",
     "text": [
      "\r",
      "[==============                          ] 18/50 ( 36%) 32 to go"
     ]
    },
    {
     "name": "stdout",
     "output_type": "stream",
     "text": [
      "service goes offline @ 1:8\n"
     ]
    },
    {
     "name": "stderr",
     "output_type": "stream",
     "text": [
      "\r",
      "[===============                         ] 19/50 ( 38%) 31 to go"
     ]
    },
    {
     "name": "stdout",
     "output_type": "stream",
     "text": [
      "service goes offline @ 1:9\n"
     ]
    },
    {
     "name": "stderr",
     "output_type": "stream",
     "text": [
      "\r",
      "[================                        ] 20/50 ( 40%) 30 to go"
     ]
    },
    {
     "name": "stdout",
     "output_type": "stream",
     "text": [
      "service goes offline @ 1:9\n"
     ]
    },
    {
     "name": "stderr",
     "output_type": "stream",
     "text": [
      "\r",
      "[================                        ] 21/50 ( 42%) 29 to go"
     ]
    },
    {
     "name": "stdout",
     "output_type": "stream",
     "text": [
      "service goes offline @ 1:10\n"
     ]
    },
    {
     "name": "stderr",
     "output_type": "stream",
     "text": [
      "\r",
      "[=================                       ] 22/50 ( 44%) 28 to go"
     ]
    },
    {
     "name": "stdout",
     "output_type": "stream",
     "text": [
      "service goes offline @ 1:10\n"
     ]
    },
    {
     "name": "stderr",
     "output_type": "stream",
     "text": [
      "\r",
      "[==================                      ] 23/50 ( 46%) 27 to go"
     ]
    },
    {
     "name": "stdout",
     "output_type": "stream",
     "text": [
      "service goes offline @ 1:11\n"
     ]
    },
    {
     "name": "stderr",
     "output_type": "stream",
     "text": [
      "\r",
      "[===================                     ] 24/50 ( 48%) 26 to go"
     ]
    },
    {
     "name": "stdout",
     "output_type": "stream",
     "text": [
      "service goes offline @ 1:11\n"
     ]
    },
    {
     "name": "stderr",
     "output_type": "stream",
     "text": [
      "\r",
      "[====================                    ] 25/50 ( 50%) 25 to go"
     ]
    },
    {
     "name": "stdout",
     "output_type": "stream",
     "text": [
      "service goes offline @ 1:12\n"
     ]
    },
    {
     "name": "stderr",
     "output_type": "stream",
     "text": [
      "\r",
      "[====================                    ] 26/50 ( 52%) 24 to go"
     ]
    },
    {
     "name": "stdout",
     "output_type": "stream",
     "text": [
      "service goes offline @ 1:12\n"
     ]
    },
    {
     "name": "stderr",
     "output_type": "stream",
     "text": [
      "\r",
      "[=====================                   ] 27/50 ( 54%) 23 to go"
     ]
    },
    {
     "name": "stdout",
     "output_type": "stream",
     "text": [
      "service goes offline @ 1:13\n"
     ]
    },
    {
     "name": "stderr",
     "output_type": "stream",
     "text": [
      "\r",
      "[======================                  ] 28/50 ( 56%) 22 to go"
     ]
    },
    {
     "name": "stdout",
     "output_type": "stream",
     "text": [
      "service goes offline @ 1:13\n"
     ]
    },
    {
     "name": "stderr",
     "output_type": "stream",
     "text": [
      "\r",
      "[=======================                 ] 29/50 ( 57%) 21 to go"
     ]
    },
    {
     "name": "stdout",
     "output_type": "stream",
     "text": [
      "service goes offline @ 1:14\n"
     ]
    },
    {
     "name": "stderr",
     "output_type": "stream",
     "text": [
      "\r",
      "[========================                ] 30/50 ( 60%) 20 to go"
     ]
    },
    {
     "name": "stdout",
     "output_type": "stream",
     "text": [
      "service goes offline @ 1:14\n"
     ]
    },
    {
     "name": "stderr",
     "output_type": "stream",
     "text": [
      "\r",
      "[========================                ] 31/50 ( 62%) 19 to go"
     ]
    },
    {
     "name": "stdout",
     "output_type": "stream",
     "text": [
      "service goes offline @ 1:15\n"
     ]
    },
    {
     "name": "stderr",
     "output_type": "stream",
     "text": [
      "\r",
      "[=========================               ] 32/50 ( 64%) 18 to go"
     ]
    },
    {
     "name": "stdout",
     "output_type": "stream",
     "text": [
      "service goes offline @ 1:15\n"
     ]
    },
    {
     "name": "stderr",
     "output_type": "stream",
     "text": [
      "[=====================================   ] 47/50 ( 94%)  3 to go"
     ]
    },
    {
     "name": "stdout",
     "output_type": "stream",
     "text": [
      "service goes offline @ 1:23\n"
     ]
    },
    {
     "name": "stderr",
     "output_type": "stream",
     "text": [
      "\r",
      "[======================================  ] 48/50 ( 96%)  2 to go"
     ]
    },
    {
     "name": "stdout",
     "output_type": "stream",
     "text": [
      "service goes offline @ 1:23\n"
     ]
    },
    {
     "name": "stderr",
     "output_type": "stream",
     "text": [
      "\r",
      "[======================================= ] 49/50 ( 98%)  1 to go"
     ]
    },
    {
     "name": "stdout",
     "output_type": "stream",
     "text": [
      "service goes offline @ 1:24\n"
     ]
    },
    {
     "name": "stderr",
     "output_type": "stream",
     "text": [
      "\r",
      "[========================================] 50/50 (100%)  0 to go"
     ]
    },
    {
     "name": "stdout",
     "output_type": "stream",
     "text": [
      "service goes offline @ 1:24\n"
     ]
    },
    {
     "name": "stderr",
     "output_type": "stream",
     "text": [
      "\r",
      "[========================================] 50/50 (100%)  0 to go\n",
      "\r",
      "[                                        ]  1/50 (  2%) 49 to go"
     ]
    },
    {
     "name": "stdout",
     "output_type": "stream",
     "text": [
      "Data_152 collected, writting to file: output/Dec15_152\n",
      "output/Dec15_152 is written @ 2017-12-15 01:25:13.467980\n",
      "service goes offline @ 1:25\n"
     ]
    },
    {
     "name": "stderr",
     "output_type": "stream",
     "text": [
      "\r",
      "[=                                       ]  2/50 (  4%) 48 to go"
     ]
    },
    {
     "name": "stdout",
     "output_type": "stream",
     "text": [
      "service goes offline @ 1:25\n"
     ]
    },
    {
     "name": "stderr",
     "output_type": "stream",
     "text": [
      "\r",
      "[==                                      ]  3/50 (  6%) 47 to go"
     ]
    },
    {
     "name": "stdout",
     "output_type": "stream",
     "text": [
      "service goes offline @ 1:26\n"
     ]
    },
    {
     "name": "stderr",
     "output_type": "stream",
     "text": [
      "\r",
      "[===                                     ]  4/50 (  8%) 46 to go"
     ]
    },
    {
     "name": "stdout",
     "output_type": "stream",
     "text": [
      "service goes offline @ 1:26\n"
     ]
    },
    {
     "name": "stderr",
     "output_type": "stream",
     "text": [
      "\r",
      "[====                                    ]  5/50 ( 10%) 45 to go"
     ]
    },
    {
     "name": "stdout",
     "output_type": "stream",
     "text": [
      "service goes offline @ 1:27\n"
     ]
    },
    {
     "name": "stderr",
     "output_type": "stream",
     "text": [
      "\r",
      "[====                                    ]  6/50 ( 12%) 44 to go"
     ]
    },
    {
     "name": "stdout",
     "output_type": "stream",
     "text": [
      "service goes offline @ 1:27\n"
     ]
    },
    {
     "name": "stderr",
     "output_type": "stream",
     "text": [
      "\r",
      "[=====                                   ]  7/50 ( 14%) 43 to go"
     ]
    },
    {
     "name": "stdout",
     "output_type": "stream",
     "text": [
      "service goes offline @ 1:28\n"
     ]
    },
    {
     "name": "stderr",
     "output_type": "stream",
     "text": [
      "\r",
      "[======                                  ]  8/50 ( 16%) 42 to go"
     ]
    },
    {
     "name": "stdout",
     "output_type": "stream",
     "text": [
      "service goes offline @ 1:28\n"
     ]
    },
    {
     "name": "stderr",
     "output_type": "stream",
     "text": [
      "\r",
      "[=======                                 ]  9/50 ( 18%) 41 to go"
     ]
    },
    {
     "name": "stdout",
     "output_type": "stream",
     "text": [
      "service goes offline @ 1:29\n"
     ]
    },
    {
     "name": "stderr",
     "output_type": "stream",
     "text": [
      "\r",
      "[========                                ] 10/50 ( 20%) 40 to go"
     ]
    },
    {
     "name": "stdout",
     "output_type": "stream",
     "text": [
      "service goes offline @ 1:29\n"
     ]
    },
    {
     "name": "stderr",
     "output_type": "stream",
     "text": [
      "\r",
      "[========                                ] 11/50 ( 22%) 39 to go"
     ]
    },
    {
     "name": "stdout",
     "output_type": "stream",
     "text": [
      "service goes offline @ 1:30\n"
     ]
    },
    {
     "name": "stderr",
     "output_type": "stream",
     "text": [
      "\r",
      "[=========                               ] 12/50 ( 24%) 38 to go"
     ]
    },
    {
     "name": "stdout",
     "output_type": "stream",
     "text": [
      "service goes offline @ 1:30\n"
     ]
    },
    {
     "name": "stderr",
     "output_type": "stream",
     "text": [
      "\r",
      "[==========                              ] 13/50 ( 26%) 37 to go"
     ]
    },
    {
     "name": "stdout",
     "output_type": "stream",
     "text": [
      "service goes offline @ 1:31\n"
     ]
    },
    {
     "name": "stderr",
     "output_type": "stream",
     "text": [
      "\r",
      "[===========                             ] 14/50 ( 28%) 36 to go"
     ]
    },
    {
     "name": "stdout",
     "output_type": "stream",
     "text": [
      "service goes offline @ 1:31\n"
     ]
    },
    {
     "name": "stderr",
     "output_type": "stream",
     "text": [
      "\r",
      "[============                            ] 15/50 ( 30%) 35 to go"
     ]
    },
    {
     "name": "stdout",
     "output_type": "stream",
     "text": [
      "service goes offline @ 1:32\n"
     ]
    },
    {
     "name": "stderr",
     "output_type": "stream",
     "text": [
      "\r",
      "[============                            ] 16/50 ( 32%) 34 to go"
     ]
    },
    {
     "name": "stdout",
     "output_type": "stream",
     "text": [
      "service goes offline @ 1:32\n"
     ]
    },
    {
     "name": "stderr",
     "output_type": "stream",
     "text": [
      "\r",
      "[=============                           ] 17/50 ( 34%) 33 to go"
     ]
    },
    {
     "name": "stdout",
     "output_type": "stream",
     "text": [
      "service goes offline @ 1:33\n"
     ]
    },
    {
     "name": "stderr",
     "output_type": "stream",
     "text": [
      "\r",
      "[==============                          ] 18/50 ( 36%) 32 to go"
     ]
    },
    {
     "name": "stdout",
     "output_type": "stream",
     "text": [
      "service goes offline @ 1:33\n"
     ]
    },
    {
     "name": "stderr",
     "output_type": "stream",
     "text": [
      "\r",
      "[===============                         ] 19/50 ( 38%) 31 to go"
     ]
    },
    {
     "name": "stdout",
     "output_type": "stream",
     "text": [
      "service goes offline @ 1:34\n"
     ]
    },
    {
     "name": "stderr",
     "output_type": "stream",
     "text": [
      "\r",
      "[================                        ] 20/50 ( 40%) 30 to go"
     ]
    },
    {
     "name": "stdout",
     "output_type": "stream",
     "text": [
      "service goes offline @ 1:34\n"
     ]
    },
    {
     "name": "stderr",
     "output_type": "stream",
     "text": [
      "\r",
      "[================                        ] 21/50 ( 42%) 29 to go"
     ]
    },
    {
     "name": "stdout",
     "output_type": "stream",
     "text": [
      "service goes offline @ 1:35\n"
     ]
    },
    {
     "name": "stderr",
     "output_type": "stream",
     "text": [
      "\r",
      "[=================                       ] 22/50 ( 44%) 28 to go"
     ]
    },
    {
     "name": "stdout",
     "output_type": "stream",
     "text": [
      "service goes offline @ 1:35\n"
     ]
    },
    {
     "name": "stderr",
     "output_type": "stream",
     "text": [
      "\r",
      "[==================                      ] 23/50 ( 46%) 27 to go"
     ]
    },
    {
     "name": "stdout",
     "output_type": "stream",
     "text": [
      "service goes offline @ 1:36\n"
     ]
    },
    {
     "name": "stderr",
     "output_type": "stream",
     "text": [
      "\r",
      "[===================                     ] 24/50 ( 48%) 26 to go"
     ]
    },
    {
     "name": "stdout",
     "output_type": "stream",
     "text": [
      "service goes offline @ 1:36\n"
     ]
    },
    {
     "name": "stderr",
     "output_type": "stream",
     "text": [
      "\r",
      "[====================                    ] 25/50 ( 50%) 25 to go"
     ]
    },
    {
     "name": "stdout",
     "output_type": "stream",
     "text": [
      "service goes offline @ 1:37\n"
     ]
    },
    {
     "name": "stderr",
     "output_type": "stream",
     "text": [
      "\r",
      "[====================                    ] 26/50 ( 52%) 24 to go"
     ]
    },
    {
     "name": "stdout",
     "output_type": "stream",
     "text": [
      "service goes offline @ 1:37\n"
     ]
    },
    {
     "name": "stderr",
     "output_type": "stream",
     "text": [
      "\r",
      "[=====================                   ] 27/50 ( 54%) 23 to go"
     ]
    },
    {
     "name": "stdout",
     "output_type": "stream",
     "text": [
      "service goes offline @ 1:38\n"
     ]
    },
    {
     "name": "stderr",
     "output_type": "stream",
     "text": [
      "\r",
      "[======================                  ] 28/50 ( 56%) 22 to go"
     ]
    },
    {
     "name": "stdout",
     "output_type": "stream",
     "text": [
      "service goes offline @ 1:38\n"
     ]
    },
    {
     "name": "stderr",
     "output_type": "stream",
     "text": [
      "\r",
      "[=======================                 ] 29/50 ( 57%) 21 to go"
     ]
    },
    {
     "name": "stdout",
     "output_type": "stream",
     "text": [
      "service goes offline @ 1:39\n"
     ]
    },
    {
     "name": "stderr",
     "output_type": "stream",
     "text": [
      "\r",
      "[========================                ] 30/50 ( 60%) 20 to go"
     ]
    },
    {
     "name": "stdout",
     "output_type": "stream",
     "text": [
      "service goes offline @ 1:39\n"
     ]
    },
    {
     "name": "stderr",
     "output_type": "stream",
     "text": [
      "\r",
      "[========================                ] 31/50 ( 62%) 19 to go"
     ]
    },
    {
     "name": "stdout",
     "output_type": "stream",
     "text": [
      "service goes offline @ 1:40\n"
     ]
    },
    {
     "name": "stderr",
     "output_type": "stream",
     "text": [
      "\r",
      "[=========================               ] 32/50 ( 64%) 18 to go"
     ]
    },
    {
     "name": "stdout",
     "output_type": "stream",
     "text": [
      "service goes offline @ 1:40\n"
     ]
    },
    {
     "name": "stderr",
     "output_type": "stream",
     "text": [
      "\r",
      "[==========================              ] 33/50 ( 66%) 17 to go"
     ]
    },
    {
     "name": "stdout",
     "output_type": "stream",
     "text": [
      "service goes offline @ 1:41\n"
     ]
    },
    {
     "name": "stderr",
     "output_type": "stream",
     "text": [
      "\r",
      "[===========================             ] 34/50 ( 68%) 16 to go"
     ]
    },
    {
     "name": "stdout",
     "output_type": "stream",
     "text": [
      "service goes offline @ 1:41\n"
     ]
    },
    {
     "name": "stderr",
     "output_type": "stream",
     "text": [
      "\r",
      "[============================            ] 35/50 ( 70%) 15 to go"
     ]
    },
    {
     "name": "stdout",
     "output_type": "stream",
     "text": [
      "service goes offline @ 1:42\n"
     ]
    },
    {
     "name": "stderr",
     "output_type": "stream",
     "text": [
      "\r",
      "[============================            ] 36/50 ( 72%) 14 to go"
     ]
    },
    {
     "name": "stdout",
     "output_type": "stream",
     "text": [
      "service goes offline @ 1:42\n"
     ]
    },
    {
     "name": "stderr",
     "output_type": "stream",
     "text": [
      "\r",
      "[=============================           ] 37/50 ( 74%) 13 to go"
     ]
    },
    {
     "name": "stdout",
     "output_type": "stream",
     "text": [
      "service goes offline @ 1:43\n"
     ]
    },
    {
     "name": "stderr",
     "output_type": "stream",
     "text": [
      "\r",
      "[==============================          ] 38/50 ( 76%) 12 to go"
     ]
    },
    {
     "name": "stdout",
     "output_type": "stream",
     "text": [
      "service goes offline @ 1:43\n"
     ]
    },
    {
     "name": "stderr",
     "output_type": "stream",
     "text": [
      "\r",
      "[===============================         ] 39/50 ( 78%) 11 to go"
     ]
    },
    {
     "name": "stdout",
     "output_type": "stream",
     "text": [
      "service goes offline @ 1:44\n"
     ]
    },
    {
     "name": "stderr",
     "output_type": "stream",
     "text": [
      "\r",
      "[================================        ] 40/50 ( 80%) 10 to go"
     ]
    },
    {
     "name": "stdout",
     "output_type": "stream",
     "text": [
      "service goes offline @ 1:44\n"
     ]
    },
    {
     "name": "stderr",
     "output_type": "stream",
     "text": [
      "\r",
      "[================================        ] 41/50 ( 82%)  9 to go"
     ]
    },
    {
     "name": "stdout",
     "output_type": "stream",
     "text": [
      "service goes offline @ 1:45\n"
     ]
    },
    {
     "name": "stderr",
     "output_type": "stream",
     "text": [
      "\r",
      "[=================================       ] 42/50 ( 84%)  8 to go"
     ]
    },
    {
     "name": "stdout",
     "output_type": "stream",
     "text": [
      "service goes offline @ 1:45\n"
     ]
    },
    {
     "name": "stderr",
     "output_type": "stream",
     "text": [
      "\r",
      "[==================================      ] 43/50 ( 86%)  7 to go"
     ]
    },
    {
     "name": "stdout",
     "output_type": "stream",
     "text": [
      "service goes offline @ 1:46\n"
     ]
    },
    {
     "name": "stderr",
     "output_type": "stream",
     "text": [
      "\r",
      "[===================================     ] 44/50 ( 88%)  6 to go"
     ]
    },
    {
     "name": "stdout",
     "output_type": "stream",
     "text": [
      "service goes offline @ 1:46\n"
     ]
    },
    {
     "name": "stderr",
     "output_type": "stream",
     "text": [
      "\r",
      "[====================================    ] 45/50 ( 90%)  5 to go"
     ]
    },
    {
     "name": "stdout",
     "output_type": "stream",
     "text": [
      "service goes offline @ 1:47\n"
     ]
    },
    {
     "name": "stderr",
     "output_type": "stream",
     "text": [
      "\r",
      "[====================================    ] 46/50 ( 92%)  4 to go"
     ]
    },
    {
     "name": "stdout",
     "output_type": "stream",
     "text": [
      "service goes offline @ 1:47\n"
     ]
    },
    {
     "name": "stderr",
     "output_type": "stream",
     "text": [
      "\r",
      "[=====================================   ] 47/50 ( 94%)  3 to go"
     ]
    },
    {
     "name": "stdout",
     "output_type": "stream",
     "text": [
      "service goes offline @ 1:48\n"
     ]
    },
    {
     "name": "stderr",
     "output_type": "stream",
     "text": [
      "\r",
      "[======================================  ] 48/50 ( 96%)  2 to go"
     ]
    },
    {
     "name": "stdout",
     "output_type": "stream",
     "text": [
      "service goes offline @ 1:48\n"
     ]
    },
    {
     "name": "stderr",
     "output_type": "stream",
     "text": [
      "\r",
      "[======================================= ] 49/50 ( 98%)  1 to go"
     ]
    },
    {
     "name": "stdout",
     "output_type": "stream",
     "text": [
      "service goes offline @ 1:49\n"
     ]
    },
    {
     "name": "stderr",
     "output_type": "stream",
     "text": [
      "\r",
      "[========================================] 50/50 (100%)  0 to go"
     ]
    },
    {
     "name": "stdout",
     "output_type": "stream",
     "text": [
      "service goes offline @ 1:49\n"
     ]
    },
    {
     "name": "stderr",
     "output_type": "stream",
     "text": [
      "\r",
      "[========================================] 50/50 (100%)  0 to go\n",
      "\r",
      "[                                        ]  1/50 (  2%) 49 to go"
     ]
    },
    {
     "name": "stdout",
     "output_type": "stream",
     "text": [
      "Data_153 collected, writting to file: output/Dec15_153\n",
      "output/Dec15_153 is written @ 2017-12-15 01:50:22.435856\n",
      "service goes offline @ 1:50\n"
     ]
    },
    {
     "name": "stderr",
     "output_type": "stream",
     "text": [
      "\r",
      "[=                                       ]  2/50 (  4%) 48 to go"
     ]
    },
    {
     "name": "stdout",
     "output_type": "stream",
     "text": [
      "service goes offline @ 1:50\n"
     ]
    },
    {
     "name": "stderr",
     "output_type": "stream",
     "text": [
      "\r",
      "[==                                      ]  3/50 (  6%) 47 to go"
     ]
    },
    {
     "name": "stdout",
     "output_type": "stream",
     "text": [
      "service goes offline @ 1:51\n"
     ]
    },
    {
     "name": "stderr",
     "output_type": "stream",
     "text": [
      "\r",
      "[===                                     ]  4/50 (  8%) 46 to go"
     ]
    },
    {
     "name": "stdout",
     "output_type": "stream",
     "text": [
      "service goes offline @ 1:51\n"
     ]
    },
    {
     "name": "stderr",
     "output_type": "stream",
     "text": [
      "\r",
      "[====                                    ]  5/50 ( 10%) 45 to go"
     ]
    },
    {
     "name": "stdout",
     "output_type": "stream",
     "text": [
      "service goes offline @ 1:52\n"
     ]
    },
    {
     "name": "stderr",
     "output_type": "stream",
     "text": [
      "\r",
      "[====                                    ]  6/50 ( 12%) 44 to go"
     ]
    },
    {
     "name": "stdout",
     "output_type": "stream",
     "text": [
      "service goes offline @ 1:52\n"
     ]
    },
    {
     "name": "stderr",
     "output_type": "stream",
     "text": [
      "\r",
      "[=====                                   ]  7/50 ( 14%) 43 to go"
     ]
    },
    {
     "name": "stdout",
     "output_type": "stream",
     "text": [
      "service goes offline @ 1:53\n"
     ]
    },
    {
     "name": "stderr",
     "output_type": "stream",
     "text": [
      "\r",
      "[======                                  ]  8/50 ( 16%) 42 to go"
     ]
    },
    {
     "name": "stdout",
     "output_type": "stream",
     "text": [
      "service goes offline @ 1:53\n"
     ]
    },
    {
     "name": "stderr",
     "output_type": "stream",
     "text": [
      "\r",
      "[=======                                 ]  9/50 ( 18%) 41 to go"
     ]
    },
    {
     "name": "stdout",
     "output_type": "stream",
     "text": [
      "service goes offline @ 1:54\n"
     ]
    },
    {
     "name": "stderr",
     "output_type": "stream",
     "text": [
      "\r",
      "[========                                ] 10/50 ( 20%) 40 to go"
     ]
    },
    {
     "name": "stdout",
     "output_type": "stream",
     "text": [
      "service goes offline @ 1:54\n"
     ]
    },
    {
     "name": "stderr",
     "output_type": "stream",
     "text": [
      "\r",
      "[========                                ] 11/50 ( 22%) 39 to go"
     ]
    },
    {
     "name": "stdout",
     "output_type": "stream",
     "text": [
      "service goes offline @ 1:55\n"
     ]
    },
    {
     "name": "stderr",
     "output_type": "stream",
     "text": [
      "\r",
      "[=========                               ] 12/50 ( 24%) 38 to go"
     ]
    },
    {
     "name": "stdout",
     "output_type": "stream",
     "text": [
      "service goes offline @ 1:55\n"
     ]
    },
    {
     "name": "stderr",
     "output_type": "stream",
     "text": [
      "\r",
      "[==========                              ] 13/50 ( 26%) 37 to go"
     ]
    },
    {
     "name": "stdout",
     "output_type": "stream",
     "text": [
      "service goes offline @ 1:56\n"
     ]
    },
    {
     "name": "stderr",
     "output_type": "stream",
     "text": [
      "\r",
      "[===========                             ] 14/50 ( 28%) 36 to go"
     ]
    },
    {
     "name": "stdout",
     "output_type": "stream",
     "text": [
      "service goes offline @ 1:56\n"
     ]
    },
    {
     "name": "stderr",
     "output_type": "stream",
     "text": [
      "\r",
      "[============                            ] 15/50 ( 30%) 35 to go"
     ]
    },
    {
     "name": "stdout",
     "output_type": "stream",
     "text": [
      "service goes offline @ 1:57\n"
     ]
    },
    {
     "name": "stderr",
     "output_type": "stream",
     "text": [
      "\r",
      "[============                            ] 16/50 ( 32%) 34 to go"
     ]
    },
    {
     "name": "stdout",
     "output_type": "stream",
     "text": [
      "service goes offline @ 1:57\n"
     ]
    },
    {
     "name": "stderr",
     "output_type": "stream",
     "text": [
      "\r",
      "[=============                           ] 17/50 ( 34%) 33 to go"
     ]
    },
    {
     "name": "stdout",
     "output_type": "stream",
     "text": [
      "service goes offline @ 1:58\n"
     ]
    },
    {
     "name": "stderr",
     "output_type": "stream",
     "text": [
      "\r",
      "[==============                          ] 18/50 ( 36%) 32 to go"
     ]
    },
    {
     "name": "stdout",
     "output_type": "stream",
     "text": [
      "service goes offline @ 1:58\n"
     ]
    },
    {
     "name": "stderr",
     "output_type": "stream",
     "text": [
      "\r",
      "[===============                         ] 19/50 ( 38%) 31 to go"
     ]
    },
    {
     "name": "stdout",
     "output_type": "stream",
     "text": [
      "service goes offline @ 1:59\n"
     ]
    },
    {
     "name": "stderr",
     "output_type": "stream",
     "text": [
      "\r",
      "[================                        ] 20/50 ( 40%) 30 to go"
     ]
    },
    {
     "name": "stdout",
     "output_type": "stream",
     "text": [
      "service goes offline @ 1:59\n"
     ]
    },
    {
     "name": "stderr",
     "output_type": "stream",
     "text": [
      "\r",
      "[================                        ] 21/50 ( 42%) 29 to go"
     ]
    },
    {
     "name": "stdout",
     "output_type": "stream",
     "text": [
      "service goes offline @ 2:0\n"
     ]
    },
    {
     "name": "stderr",
     "output_type": "stream",
     "text": [
      "\r",
      "[=================                       ] 22/50 ( 44%) 28 to go"
     ]
    },
    {
     "name": "stdout",
     "output_type": "stream",
     "text": [
      "service goes offline @ 2:0\n"
     ]
    },
    {
     "name": "stderr",
     "output_type": "stream",
     "text": [
      "\r",
      "[==================                      ] 23/50 ( 46%) 27 to go"
     ]
    },
    {
     "name": "stdout",
     "output_type": "stream",
     "text": [
      "service goes offline @ 2:1\n"
     ]
    },
    {
     "name": "stderr",
     "output_type": "stream",
     "text": [
      "\r",
      "[===================                     ] 24/50 ( 48%) 26 to go"
     ]
    },
    {
     "name": "stdout",
     "output_type": "stream",
     "text": [
      "service goes offline @ 2:1\n"
     ]
    },
    {
     "name": "stderr",
     "output_type": "stream",
     "text": [
      "\r",
      "[====================                    ] 25/50 ( 50%) 25 to go"
     ]
    },
    {
     "name": "stdout",
     "output_type": "stream",
     "text": [
      "service goes offline @ 2:2\n"
     ]
    },
    {
     "name": "stderr",
     "output_type": "stream",
     "text": [
      "\r",
      "[====================                    ] 26/50 ( 52%) 24 to go"
     ]
    },
    {
     "name": "stdout",
     "output_type": "stream",
     "text": [
      "service goes offline @ 2:2\n"
     ]
    },
    {
     "name": "stderr",
     "output_type": "stream",
     "text": [
      "\r",
      "[=====================                   ] 27/50 ( 54%) 23 to go"
     ]
    },
    {
     "name": "stdout",
     "output_type": "stream",
     "text": [
      "service goes offline @ 2:3\n"
     ]
    },
    {
     "name": "stderr",
     "output_type": "stream",
     "text": [
      "\r",
      "[======================                  ] 28/50 ( 56%) 22 to go"
     ]
    },
    {
     "name": "stdout",
     "output_type": "stream",
     "text": [
      "service goes offline @ 2:3\n"
     ]
    },
    {
     "name": "stderr",
     "output_type": "stream",
     "text": [
      "\r",
      "[=======================                 ] 29/50 ( 57%) 21 to go"
     ]
    },
    {
     "name": "stdout",
     "output_type": "stream",
     "text": [
      "service goes offline @ 2:4\n"
     ]
    },
    {
     "name": "stderr",
     "output_type": "stream",
     "text": [
      "\r",
      "[========================                ] 30/50 ( 60%) 20 to go"
     ]
    },
    {
     "name": "stdout",
     "output_type": "stream",
     "text": [
      "service goes offline @ 2:4\n"
     ]
    },
    {
     "name": "stderr",
     "output_type": "stream",
     "text": [
      "\r",
      "[========================                ] 31/50 ( 62%) 19 to go"
     ]
    },
    {
     "name": "stdout",
     "output_type": "stream",
     "text": [
      "service goes offline @ 2:5\n"
     ]
    },
    {
     "name": "stderr",
     "output_type": "stream",
     "text": [
      "\r",
      "[=========================               ] 32/50 ( 64%) 18 to go"
     ]
    },
    {
     "name": "stdout",
     "output_type": "stream",
     "text": [
      "service goes offline @ 2:5\n"
     ]
    },
    {
     "name": "stderr",
     "output_type": "stream",
     "text": [
      "\r",
      "[==========================              ] 33/50 ( 66%) 17 to go"
     ]
    },
    {
     "name": "stdout",
     "output_type": "stream",
     "text": [
      "service goes offline @ 2:6\n"
     ]
    },
    {
     "name": "stderr",
     "output_type": "stream",
     "text": [
      "\r",
      "[===========================             ] 34/50 ( 68%) 16 to go"
     ]
    },
    {
     "name": "stdout",
     "output_type": "stream",
     "text": [
      "service goes offline @ 2:6\n"
     ]
    },
    {
     "name": "stderr",
     "output_type": "stream",
     "text": [
      "\r",
      "[============================            ] 35/50 ( 70%) 15 to go"
     ]
    },
    {
     "name": "stdout",
     "output_type": "stream",
     "text": [
      "service goes offline @ 2:7\n"
     ]
    },
    {
     "name": "stderr",
     "output_type": "stream",
     "text": [
      "\r",
      "[============================            ] 36/50 ( 72%) 14 to go"
     ]
    },
    {
     "name": "stdout",
     "output_type": "stream",
     "text": [
      "service goes offline @ 2:7\n"
     ]
    },
    {
     "name": "stderr",
     "output_type": "stream",
     "text": [
      "\r",
      "[=============================           ] 37/50 ( 74%) 13 to go"
     ]
    },
    {
     "name": "stdout",
     "output_type": "stream",
     "text": [
      "service goes offline @ 2:8\n"
     ]
    },
    {
     "name": "stderr",
     "output_type": "stream",
     "text": [
      "\r",
      "[==============================          ] 38/50 ( 76%) 12 to go"
     ]
    },
    {
     "name": "stdout",
     "output_type": "stream",
     "text": [
      "service goes offline @ 2:8\n"
     ]
    },
    {
     "name": "stderr",
     "output_type": "stream",
     "text": [
      "\r",
      "[===============================         ] 39/50 ( 78%) 11 to go"
     ]
    },
    {
     "name": "stdout",
     "output_type": "stream",
     "text": [
      "service goes offline @ 2:9\n"
     ]
    },
    {
     "name": "stderr",
     "output_type": "stream",
     "text": [
      "\r",
      "[================================        ] 40/50 ( 80%) 10 to go"
     ]
    },
    {
     "name": "stdout",
     "output_type": "stream",
     "text": [
      "service goes offline @ 2:9\n"
     ]
    },
    {
     "name": "stderr",
     "output_type": "stream",
     "text": [
      "\r",
      "[================================        ] 41/50 ( 82%)  9 to go"
     ]
    },
    {
     "name": "stdout",
     "output_type": "stream",
     "text": [
      "service goes offline @ 2:10\n"
     ]
    },
    {
     "name": "stderr",
     "output_type": "stream",
     "text": [
      "\r",
      "[=================================       ] 42/50 ( 84%)  8 to go"
     ]
    },
    {
     "name": "stdout",
     "output_type": "stream",
     "text": [
      "service goes offline @ 2:10\n"
     ]
    },
    {
     "name": "stderr",
     "output_type": "stream",
     "text": [
      "\r",
      "[==================================      ] 43/50 ( 86%)  7 to go"
     ]
    },
    {
     "name": "stdout",
     "output_type": "stream",
     "text": [
      "service goes offline @ 2:11\n"
     ]
    },
    {
     "name": "stderr",
     "output_type": "stream",
     "text": [
      "\r",
      "[===================================     ] 44/50 ( 88%)  6 to go"
     ]
    },
    {
     "name": "stdout",
     "output_type": "stream",
     "text": [
      "service goes offline @ 2:11\n"
     ]
    },
    {
     "name": "stderr",
     "output_type": "stream",
     "text": [
      "\r",
      "[====================================    ] 45/50 ( 90%)  5 to go"
     ]
    },
    {
     "name": "stdout",
     "output_type": "stream",
     "text": [
      "service goes offline @ 2:12\n"
     ]
    },
    {
     "name": "stderr",
     "output_type": "stream",
     "text": [
      "\r",
      "[====================================    ] 46/50 ( 92%)  4 to go"
     ]
    },
    {
     "name": "stdout",
     "output_type": "stream",
     "text": [
      "service goes offline @ 2:12\n"
     ]
    },
    {
     "name": "stderr",
     "output_type": "stream",
     "text": [
      "\r",
      "[=====================================   ] 47/50 ( 94%)  3 to go"
     ]
    },
    {
     "name": "stdout",
     "output_type": "stream",
     "text": [
      "service goes offline @ 2:13\n"
     ]
    },
    {
     "name": "stderr",
     "output_type": "stream",
     "text": [
      "\r",
      "[======================================  ] 48/50 ( 96%)  2 to go"
     ]
    },
    {
     "name": "stdout",
     "output_type": "stream",
     "text": [
      "service goes offline @ 2:14\n"
     ]
    },
    {
     "name": "stderr",
     "output_type": "stream",
     "text": [
      "\r",
      "[======================================= ] 49/50 ( 98%)  1 to go"
     ]
    },
    {
     "name": "stdout",
     "output_type": "stream",
     "text": [
      "service goes offline @ 2:14\n"
     ]
    },
    {
     "name": "stderr",
     "output_type": "stream",
     "text": [
      "\r",
      "[========================================] 50/50 (100%)  0 to go"
     ]
    },
    {
     "name": "stdout",
     "output_type": "stream",
     "text": [
      "service goes offline @ 2:15\n"
     ]
    },
    {
     "name": "stderr",
     "output_type": "stream",
     "text": [
      "\r",
      "[========================================] 50/50 (100%)  0 to go\n",
      "\r",
      "[                                        ]  1/50 (  2%) 49 to go"
     ]
    },
    {
     "name": "stdout",
     "output_type": "stream",
     "text": [
      "Data_154 collected, writting to file: output/Dec15_154\n",
      "output/Dec15_154 is written @ 2017-12-15 02:15:30.564712\n",
      "service goes offline @ 2:15\n"
     ]
    },
    {
     "name": "stderr",
     "output_type": "stream",
     "text": [
      "\r",
      "[=                                       ]  2/50 (  4%) 48 to go"
     ]
    },
    {
     "name": "stdout",
     "output_type": "stream",
     "text": [
      "service goes offline @ 2:16\n"
     ]
    },
    {
     "name": "stderr",
     "output_type": "stream",
     "text": [
      "\r",
      "[==                                      ]  3/50 (  6%) 47 to go"
     ]
    },
    {
     "name": "stdout",
     "output_type": "stream",
     "text": [
      "service goes offline @ 2:16\n"
     ]
    },
    {
     "name": "stderr",
     "output_type": "stream",
     "text": [
      "\r",
      "[===                                     ]  4/50 (  8%) 46 to go"
     ]
    },
    {
     "name": "stdout",
     "output_type": "stream",
     "text": [
      "service goes offline @ 2:17\n"
     ]
    },
    {
     "name": "stderr",
     "output_type": "stream",
     "text": [
      "\r",
      "[====                                    ]  5/50 ( 10%) 45 to go"
     ]
    },
    {
     "name": "stdout",
     "output_type": "stream",
     "text": [
      "service goes offline @ 2:17\n"
     ]
    },
    {
     "name": "stderr",
     "output_type": "stream",
     "text": [
      "\r",
      "[====                                    ]  6/50 ( 12%) 44 to go"
     ]
    },
    {
     "name": "stdout",
     "output_type": "stream",
     "text": [
      "service goes offline @ 2:18\n"
     ]
    },
    {
     "name": "stderr",
     "output_type": "stream",
     "text": [
      "\r",
      "[=====                                   ]  7/50 ( 14%) 43 to go"
     ]
    },
    {
     "name": "stdout",
     "output_type": "stream",
     "text": [
      "service goes offline @ 2:18\n"
     ]
    },
    {
     "name": "stderr",
     "output_type": "stream",
     "text": [
      "\r",
      "[======                                  ]  8/50 ( 16%) 42 to go"
     ]
    },
    {
     "name": "stdout",
     "output_type": "stream",
     "text": [
      "service goes offline @ 2:19\n"
     ]
    },
    {
     "name": "stderr",
     "output_type": "stream",
     "text": [
      "\r",
      "[=======                                 ]  9/50 ( 18%) 41 to go"
     ]
    },
    {
     "name": "stdout",
     "output_type": "stream",
     "text": [
      "service goes offline @ 2:19\n"
     ]
    },
    {
     "name": "stderr",
     "output_type": "stream",
     "text": [
      "\r",
      "[========                                ] 10/50 ( 20%) 40 to go"
     ]
    },
    {
     "name": "stdout",
     "output_type": "stream",
     "text": [
      "service goes offline @ 2:20\n"
     ]
    },
    {
     "name": "stderr",
     "output_type": "stream",
     "text": [
      "\r",
      "[========                                ] 11/50 ( 22%) 39 to go"
     ]
    },
    {
     "name": "stdout",
     "output_type": "stream",
     "text": [
      "service goes offline @ 2:20\n"
     ]
    },
    {
     "name": "stderr",
     "output_type": "stream",
     "text": [
      "\r",
      "[=========                               ] 12/50 ( 24%) 38 to go"
     ]
    },
    {
     "name": "stdout",
     "output_type": "stream",
     "text": [
      "service goes offline @ 2:21\n"
     ]
    },
    {
     "name": "stderr",
     "output_type": "stream",
     "text": [
      "\r",
      "[==========                              ] 13/50 ( 26%) 37 to go"
     ]
    },
    {
     "name": "stdout",
     "output_type": "stream",
     "text": [
      "service goes offline @ 2:21\n"
     ]
    },
    {
     "name": "stderr",
     "output_type": "stream",
     "text": [
      "\r",
      "[===========                             ] 14/50 ( 28%) 36 to go"
     ]
    },
    {
     "name": "stdout",
     "output_type": "stream",
     "text": [
      "service goes offline @ 2:22\n"
     ]
    },
    {
     "name": "stderr",
     "output_type": "stream",
     "text": [
      "\r",
      "[============                            ] 15/50 ( 30%) 35 to go"
     ]
    },
    {
     "name": "stdout",
     "output_type": "stream",
     "text": [
      "service goes offline @ 2:22\n"
     ]
    },
    {
     "name": "stderr",
     "output_type": "stream",
     "text": [
      "\r",
      "[============                            ] 16/50 ( 32%) 34 to go"
     ]
    },
    {
     "name": "stdout",
     "output_type": "stream",
     "text": [
      "service goes offline @ 2:23\n"
     ]
    },
    {
     "name": "stderr",
     "output_type": "stream",
     "text": [
      "\r",
      "[=============                           ] 17/50 ( 34%) 33 to go"
     ]
    },
    {
     "name": "stdout",
     "output_type": "stream",
     "text": [
      "service goes offline @ 2:23\n"
     ]
    },
    {
     "name": "stderr",
     "output_type": "stream",
     "text": [
      "\r",
      "[==============                          ] 18/50 ( 36%) 32 to go"
     ]
    },
    {
     "name": "stdout",
     "output_type": "stream",
     "text": [
      "service goes offline @ 2:24\n"
     ]
    },
    {
     "name": "stderr",
     "output_type": "stream",
     "text": [
      "\r",
      "[===============                         ] 19/50 ( 38%) 31 to go"
     ]
    },
    {
     "name": "stdout",
     "output_type": "stream",
     "text": [
      "service goes offline @ 2:24\n"
     ]
    },
    {
     "name": "stderr",
     "output_type": "stream",
     "text": [
      "\r",
      "[================                        ] 20/50 ( 40%) 30 to go"
     ]
    },
    {
     "name": "stdout",
     "output_type": "stream",
     "text": [
      "service goes offline @ 2:25\n"
     ]
    },
    {
     "name": "stderr",
     "output_type": "stream",
     "text": [
      "\r",
      "[================                        ] 21/50 ( 42%) 29 to go"
     ]
    },
    {
     "name": "stdout",
     "output_type": "stream",
     "text": [
      "service goes offline @ 2:25\n"
     ]
    },
    {
     "name": "stderr",
     "output_type": "stream",
     "text": [
      "\r",
      "[=================                       ] 22/50 ( 44%) 28 to go"
     ]
    },
    {
     "name": "stdout",
     "output_type": "stream",
     "text": [
      "service goes offline @ 2:26\n"
     ]
    },
    {
     "name": "stderr",
     "output_type": "stream",
     "text": [
      "\r",
      "[==================                      ] 23/50 ( 46%) 27 to go"
     ]
    },
    {
     "name": "stdout",
     "output_type": "stream",
     "text": [
      "service goes offline @ 2:26\n"
     ]
    },
    {
     "name": "stderr",
     "output_type": "stream",
     "text": [
      "\r",
      "[===================                     ] 24/50 ( 48%) 26 to go"
     ]
    },
    {
     "name": "stdout",
     "output_type": "stream",
     "text": [
      "service goes offline @ 2:27\n"
     ]
    },
    {
     "name": "stderr",
     "output_type": "stream",
     "text": [
      "\r",
      "[====================                    ] 25/50 ( 50%) 25 to go"
     ]
    },
    {
     "name": "stdout",
     "output_type": "stream",
     "text": [
      "service goes offline @ 2:27\n"
     ]
    },
    {
     "name": "stderr",
     "output_type": "stream",
     "text": [
      "\r",
      "[====================                    ] 26/50 ( 52%) 24 to go"
     ]
    },
    {
     "name": "stdout",
     "output_type": "stream",
     "text": [
      "service goes offline @ 2:28\n"
     ]
    },
    {
     "name": "stderr",
     "output_type": "stream",
     "text": [
      "\r",
      "[=====================                   ] 27/50 ( 54%) 23 to go"
     ]
    },
    {
     "name": "stdout",
     "output_type": "stream",
     "text": [
      "service goes offline @ 2:28\n"
     ]
    },
    {
     "name": "stderr",
     "output_type": "stream",
     "text": [
      "\r",
      "[======================                  ] 28/50 ( 56%) 22 to go"
     ]
    },
    {
     "name": "stdout",
     "output_type": "stream",
     "text": [
      "service goes offline @ 2:29\n"
     ]
    },
    {
     "name": "stderr",
     "output_type": "stream",
     "text": [
      "\r",
      "[=======================                 ] 29/50 ( 57%) 21 to go"
     ]
    },
    {
     "name": "stdout",
     "output_type": "stream",
     "text": [
      "service goes offline @ 2:29\n"
     ]
    },
    {
     "name": "stderr",
     "output_type": "stream",
     "text": [
      "\r",
      "[========================                ] 30/50 ( 60%) 20 to go"
     ]
    },
    {
     "name": "stdout",
     "output_type": "stream",
     "text": [
      "service goes offline @ 2:30\n"
     ]
    },
    {
     "name": "stderr",
     "output_type": "stream",
     "text": [
      "\r",
      "[========================                ] 31/50 ( 62%) 19 to go"
     ]
    },
    {
     "name": "stdout",
     "output_type": "stream",
     "text": [
      "service goes offline @ 2:30\n"
     ]
    },
    {
     "name": "stderr",
     "output_type": "stream",
     "text": [
      "\r",
      "[=========================               ] 32/50 ( 64%) 18 to go"
     ]
    },
    {
     "name": "stdout",
     "output_type": "stream",
     "text": [
      "service goes offline @ 2:31\n"
     ]
    },
    {
     "name": "stderr",
     "output_type": "stream",
     "text": [
      "\r",
      "[==========================              ] 33/50 ( 66%) 17 to go"
     ]
    },
    {
     "name": "stdout",
     "output_type": "stream",
     "text": [
      "service goes offline @ 2:31\n"
     ]
    },
    {
     "name": "stderr",
     "output_type": "stream",
     "text": [
      "\r",
      "[===========================             ] 34/50 ( 68%) 16 to go"
     ]
    },
    {
     "name": "stdout",
     "output_type": "stream",
     "text": [
      "service goes offline @ 2:32\n"
     ]
    },
    {
     "name": "stderr",
     "output_type": "stream",
     "text": [
      "\r",
      "[============================            ] 35/50 ( 70%) 15 to go"
     ]
    },
    {
     "name": "stdout",
     "output_type": "stream",
     "text": [
      "service goes offline @ 2:32\n"
     ]
    },
    {
     "name": "stderr",
     "output_type": "stream",
     "text": [
      "\r",
      "[============================            ] 36/50 ( 72%) 14 to go"
     ]
    },
    {
     "name": "stdout",
     "output_type": "stream",
     "text": [
      "service goes offline @ 2:33\n"
     ]
    },
    {
     "name": "stderr",
     "output_type": "stream",
     "text": [
      "\r",
      "[=============================           ] 37/50 ( 74%) 13 to go"
     ]
    },
    {
     "name": "stdout",
     "output_type": "stream",
     "text": [
      "service goes offline @ 2:33\n"
     ]
    },
    {
     "name": "stderr",
     "output_type": "stream",
     "text": [
      "\r",
      "[==============================          ] 38/50 ( 76%) 12 to go"
     ]
    },
    {
     "name": "stdout",
     "output_type": "stream",
     "text": [
      "service goes offline @ 2:34\n"
     ]
    },
    {
     "name": "stderr",
     "output_type": "stream",
     "text": [
      "\r",
      "[===============================         ] 39/50 ( 78%) 11 to go"
     ]
    },
    {
     "name": "stdout",
     "output_type": "stream",
     "text": [
      "service goes offline @ 2:34\n"
     ]
    },
    {
     "name": "stderr",
     "output_type": "stream",
     "text": [
      "\r",
      "[================================        ] 40/50 ( 80%) 10 to go"
     ]
    },
    {
     "name": "stdout",
     "output_type": "stream",
     "text": [
      "service goes offline @ 2:35\n"
     ]
    },
    {
     "name": "stderr",
     "output_type": "stream",
     "text": [
      "\r",
      "[================================        ] 41/50 ( 82%)  9 to go"
     ]
    },
    {
     "name": "stdout",
     "output_type": "stream",
     "text": [
      "service goes offline @ 2:35\n"
     ]
    },
    {
     "name": "stderr",
     "output_type": "stream",
     "text": [
      "\r",
      "[=================================       ] 42/50 ( 84%)  8 to go"
     ]
    },
    {
     "name": "stdout",
     "output_type": "stream",
     "text": [
      "service goes offline @ 2:36\n"
     ]
    },
    {
     "name": "stderr",
     "output_type": "stream",
     "text": [
      "\r",
      "[==================================      ] 43/50 ( 86%)  7 to go"
     ]
    },
    {
     "name": "stdout",
     "output_type": "stream",
     "text": [
      "service goes offline @ 2:36\n"
     ]
    },
    {
     "name": "stderr",
     "output_type": "stream",
     "text": [
      "\r",
      "[===================================     ] 44/50 ( 88%)  6 to go"
     ]
    },
    {
     "name": "stdout",
     "output_type": "stream",
     "text": [
      "service goes offline @ 2:37\n"
     ]
    },
    {
     "name": "stderr",
     "output_type": "stream",
     "text": [
      "\r",
      "[====================================    ] 45/50 ( 90%)  5 to go"
     ]
    },
    {
     "name": "stdout",
     "output_type": "stream",
     "text": [
      "service goes offline @ 2:37\n"
     ]
    },
    {
     "name": "stderr",
     "output_type": "stream",
     "text": [
      "\r",
      "[====================================    ] 46/50 ( 92%)  4 to go"
     ]
    },
    {
     "name": "stdout",
     "output_type": "stream",
     "text": [
      "service goes offline @ 2:38\n"
     ]
    },
    {
     "name": "stderr",
     "output_type": "stream",
     "text": [
      "\r",
      "[=====================================   ] 47/50 ( 94%)  3 to go"
     ]
    },
    {
     "name": "stdout",
     "output_type": "stream",
     "text": [
      "service goes offline @ 2:38\n"
     ]
    },
    {
     "name": "stderr",
     "output_type": "stream",
     "text": [
      "\r",
      "[======================================  ] 48/50 ( 96%)  2 to go"
     ]
    },
    {
     "name": "stdout",
     "output_type": "stream",
     "text": [
      "service goes offline @ 2:39\n"
     ]
    },
    {
     "name": "stderr",
     "output_type": "stream",
     "text": [
      "\r",
      "[======================================= ] 49/50 ( 98%)  1 to go"
     ]
    },
    {
     "name": "stdout",
     "output_type": "stream",
     "text": [
      "service goes offline @ 2:39\n"
     ]
    },
    {
     "name": "stderr",
     "output_type": "stream",
     "text": [
      "\r",
      "[========================================] 50/50 (100%)  0 to go"
     ]
    },
    {
     "name": "stdout",
     "output_type": "stream",
     "text": [
      "service goes offline @ 2:40\n"
     ]
    },
    {
     "name": "stderr",
     "output_type": "stream",
     "text": [
      "\r",
      "[========================================] 50/50 (100%)  0 to go\n",
      "\r",
      "[                                        ]  1/50 (  2%) 49 to go"
     ]
    },
    {
     "name": "stdout",
     "output_type": "stream",
     "text": [
      "Data_155 collected, writting to file: output/Dec15_155\n",
      "output/Dec15_155 is written @ 2017-12-15 02:40:40.922652\n",
      "service goes offline @ 2:40\n"
     ]
    },
    {
     "name": "stderr",
     "output_type": "stream",
     "text": [
      "\r",
      "[=                                       ]  2/50 (  4%) 48 to go"
     ]
    },
    {
     "name": "stdout",
     "output_type": "stream",
     "text": [
      "service goes offline @ 2:41\n"
     ]
    },
    {
     "name": "stderr",
     "output_type": "stream",
     "text": [
      "\r",
      "[==                                      ]  3/50 (  6%) 47 to go"
     ]
    },
    {
     "name": "stdout",
     "output_type": "stream",
     "text": [
      "service goes offline @ 2:41\n"
     ]
    },
    {
     "name": "stderr",
     "output_type": "stream",
     "text": [
      "\r",
      "[===                                     ]  4/50 (  8%) 46 to go"
     ]
    },
    {
     "name": "stdout",
     "output_type": "stream",
     "text": [
      "service goes offline @ 2:42\n"
     ]
    },
    {
     "name": "stderr",
     "output_type": "stream",
     "text": [
      "\r",
      "[====                                    ]  5/50 ( 10%) 45 to go"
     ]
    },
    {
     "name": "stdout",
     "output_type": "stream",
     "text": [
      "service goes offline @ 2:42\n"
     ]
    },
    {
     "name": "stderr",
     "output_type": "stream",
     "text": [
      "\r",
      "[====                                    ]  6/50 ( 12%) 44 to go"
     ]
    },
    {
     "name": "stdout",
     "output_type": "stream",
     "text": [
      "service goes offline @ 2:43\n"
     ]
    },
    {
     "name": "stderr",
     "output_type": "stream",
     "text": [
      "\r",
      "[=====                                   ]  7/50 ( 14%) 43 to go"
     ]
    },
    {
     "name": "stdout",
     "output_type": "stream",
     "text": [
      "service goes offline @ 2:43\n"
     ]
    },
    {
     "name": "stderr",
     "output_type": "stream",
     "text": [
      "\r",
      "[======                                  ]  8/50 ( 16%) 42 to go"
     ]
    },
    {
     "name": "stdout",
     "output_type": "stream",
     "text": [
      "service goes offline @ 2:44\n"
     ]
    },
    {
     "name": "stderr",
     "output_type": "stream",
     "text": [
      "\r",
      "[=======                                 ]  9/50 ( 18%) 41 to go"
     ]
    },
    {
     "name": "stdout",
     "output_type": "stream",
     "text": [
      "service goes offline @ 2:44\n"
     ]
    },
    {
     "name": "stderr",
     "output_type": "stream",
     "text": [
      "\r",
      "[========                                ] 10/50 ( 20%) 40 to go"
     ]
    },
    {
     "name": "stdout",
     "output_type": "stream",
     "text": [
      "service goes offline @ 2:45\n"
     ]
    },
    {
     "name": "stderr",
     "output_type": "stream",
     "text": [
      "\r",
      "[========                                ] 11/50 ( 22%) 39 to go"
     ]
    },
    {
     "name": "stdout",
     "output_type": "stream",
     "text": [
      "service goes offline @ 2:45\n"
     ]
    },
    {
     "name": "stderr",
     "output_type": "stream",
     "text": [
      "\r",
      "[=========                               ] 12/50 ( 24%) 38 to go"
     ]
    },
    {
     "name": "stdout",
     "output_type": "stream",
     "text": [
      "service goes offline @ 2:46\n"
     ]
    },
    {
     "name": "stderr",
     "output_type": "stream",
     "text": [
      "\r",
      "[==========                              ] 13/50 ( 26%) 37 to go"
     ]
    },
    {
     "name": "stdout",
     "output_type": "stream",
     "text": [
      "service goes offline @ 2:46\n"
     ]
    },
    {
     "name": "stderr",
     "output_type": "stream",
     "text": [
      "\r",
      "[===========                             ] 14/50 ( 28%) 36 to go"
     ]
    },
    {
     "name": "stdout",
     "output_type": "stream",
     "text": [
      "service goes offline @ 2:47\n"
     ]
    },
    {
     "name": "stderr",
     "output_type": "stream",
     "text": [
      "\r",
      "[============                            ] 15/50 ( 30%) 35 to go"
     ]
    },
    {
     "name": "stdout",
     "output_type": "stream",
     "text": [
      "service goes offline @ 2:47\n"
     ]
    },
    {
     "name": "stderr",
     "output_type": "stream",
     "text": [
      "\r",
      "[============                            ] 16/50 ( 32%) 34 to go"
     ]
    },
    {
     "name": "stdout",
     "output_type": "stream",
     "text": [
      "service goes offline @ 2:48\n"
     ]
    },
    {
     "name": "stderr",
     "output_type": "stream",
     "text": [
      "\r",
      "[=============                           ] 17/50 ( 34%) 33 to go"
     ]
    },
    {
     "name": "stdout",
     "output_type": "stream",
     "text": [
      "service goes offline @ 2:48\n"
     ]
    },
    {
     "name": "stderr",
     "output_type": "stream",
     "text": [
      "\r",
      "[==============                          ] 18/50 ( 36%) 32 to go"
     ]
    },
    {
     "name": "stdout",
     "output_type": "stream",
     "text": [
      "service goes offline @ 2:49\n"
     ]
    },
    {
     "name": "stderr",
     "output_type": "stream",
     "text": [
      "\r",
      "[===============                         ] 19/50 ( 38%) 31 to go"
     ]
    },
    {
     "name": "stdout",
     "output_type": "stream",
     "text": [
      "service goes offline @ 2:49\n"
     ]
    },
    {
     "name": "stderr",
     "output_type": "stream",
     "text": [
      "\r",
      "[================                        ] 20/50 ( 40%) 30 to go"
     ]
    },
    {
     "name": "stdout",
     "output_type": "stream",
     "text": [
      "service goes offline @ 2:50\n"
     ]
    },
    {
     "name": "stderr",
     "output_type": "stream",
     "text": [
      "\r",
      "[================                        ] 21/50 ( 42%) 29 to go"
     ]
    },
    {
     "name": "stdout",
     "output_type": "stream",
     "text": [
      "service goes offline @ 2:50\n"
     ]
    },
    {
     "name": "stderr",
     "output_type": "stream",
     "text": [
      "\r",
      "[=================                       ] 22/50 ( 44%) 28 to go"
     ]
    },
    {
     "name": "stdout",
     "output_type": "stream",
     "text": [
      "service goes offline @ 2:51\n"
     ]
    },
    {
     "name": "stderr",
     "output_type": "stream",
     "text": [
      "\r",
      "[==================                      ] 23/50 ( 46%) 27 to go"
     ]
    },
    {
     "name": "stdout",
     "output_type": "stream",
     "text": [
      "service goes offline @ 2:51\n"
     ]
    },
    {
     "name": "stderr",
     "output_type": "stream",
     "text": [
      "\r",
      "[===================                     ] 24/50 ( 48%) 26 to go"
     ]
    },
    {
     "name": "stdout",
     "output_type": "stream",
     "text": [
      "service goes offline @ 2:52\n"
     ]
    },
    {
     "name": "stderr",
     "output_type": "stream",
     "text": [
      "\r",
      "[====================                    ] 25/50 ( 50%) 25 to go"
     ]
    },
    {
     "name": "stdout",
     "output_type": "stream",
     "text": [
      "service goes offline @ 2:52\n"
     ]
    },
    {
     "name": "stderr",
     "output_type": "stream",
     "text": [
      "\r",
      "[====================                    ] 26/50 ( 52%) 24 to go"
     ]
    },
    {
     "name": "stdout",
     "output_type": "stream",
     "text": [
      "service goes offline @ 2:53\n"
     ]
    },
    {
     "name": "stderr",
     "output_type": "stream",
     "text": [
      "\r",
      "[=====================                   ] 27/50 ( 54%) 23 to go"
     ]
    },
    {
     "name": "stdout",
     "output_type": "stream",
     "text": [
      "service goes offline @ 2:53\n"
     ]
    },
    {
     "name": "stderr",
     "output_type": "stream",
     "text": [
      "\r",
      "[======================                  ] 28/50 ( 56%) 22 to go"
     ]
    },
    {
     "name": "stdout",
     "output_type": "stream",
     "text": [
      "service goes offline @ 2:54\n"
     ]
    },
    {
     "name": "stderr",
     "output_type": "stream",
     "text": [
      "\r",
      "[=======================                 ] 29/50 ( 57%) 21 to go"
     ]
    },
    {
     "name": "stdout",
     "output_type": "stream",
     "text": [
      "service goes offline @ 2:54\n"
     ]
    },
    {
     "name": "stderr",
     "output_type": "stream",
     "text": [
      "\r",
      "[========================                ] 30/50 ( 60%) 20 to go"
     ]
    },
    {
     "name": "stdout",
     "output_type": "stream",
     "text": [
      "service goes offline @ 2:55\n"
     ]
    },
    {
     "name": "stderr",
     "output_type": "stream",
     "text": [
      "\r",
      "[========================                ] 31/50 ( 62%) 19 to go"
     ]
    },
    {
     "name": "stdout",
     "output_type": "stream",
     "text": [
      "service goes offline @ 2:55\n"
     ]
    },
    {
     "name": "stderr",
     "output_type": "stream",
     "text": [
      "\r",
      "[=========================               ] 32/50 ( 64%) 18 to go"
     ]
    },
    {
     "name": "stdout",
     "output_type": "stream",
     "text": [
      "service goes offline @ 2:56\n"
     ]
    },
    {
     "name": "stderr",
     "output_type": "stream",
     "text": [
      "\r",
      "[==========================              ] 33/50 ( 66%) 17 to go"
     ]
    },
    {
     "name": "stdout",
     "output_type": "stream",
     "text": [
      "service goes offline @ 2:56\n"
     ]
    },
    {
     "name": "stderr",
     "output_type": "stream",
     "text": [
      "\r",
      "[===========================             ] 34/50 ( 68%) 16 to go"
     ]
    },
    {
     "name": "stdout",
     "output_type": "stream",
     "text": [
      "service goes offline @ 2:57\n"
     ]
    },
    {
     "name": "stderr",
     "output_type": "stream",
     "text": [
      "\r",
      "[============================            ] 35/50 ( 70%) 15 to go"
     ]
    },
    {
     "name": "stdout",
     "output_type": "stream",
     "text": [
      "service goes offline @ 2:57\n"
     ]
    },
    {
     "name": "stderr",
     "output_type": "stream",
     "text": [
      "\r",
      "[============================            ] 36/50 ( 72%) 14 to go"
     ]
    },
    {
     "name": "stdout",
     "output_type": "stream",
     "text": [
      "service goes offline @ 2:58\n"
     ]
    },
    {
     "name": "stderr",
     "output_type": "stream",
     "text": [
      "\r",
      "[=============================           ] 37/50 ( 74%) 13 to go"
     ]
    },
    {
     "name": "stdout",
     "output_type": "stream",
     "text": [
      "service goes offline @ 2:58\n"
     ]
    },
    {
     "name": "stderr",
     "output_type": "stream",
     "text": [
      "\r",
      "[==============================          ] 38/50 ( 76%) 12 to go"
     ]
    },
    {
     "name": "stdout",
     "output_type": "stream",
     "text": [
      "service goes offline @ 2:59\n"
     ]
    },
    {
     "name": "stderr",
     "output_type": "stream",
     "text": [
      "\r",
      "[===============================         ] 39/50 ( 78%) 11 to go"
     ]
    },
    {
     "name": "stdout",
     "output_type": "stream",
     "text": [
      "service goes offline @ 2:59\n"
     ]
    },
    {
     "name": "stderr",
     "output_type": "stream",
     "text": [
      "\r",
      "[================================        ] 40/50 ( 80%) 10 to go"
     ]
    },
    {
     "name": "stdout",
     "output_type": "stream",
     "text": [
      "service goes offline @ 3:0\n"
     ]
    },
    {
     "name": "stderr",
     "output_type": "stream",
     "text": [
      "\r",
      "[================================        ] 41/50 ( 82%)  9 to go"
     ]
    },
    {
     "name": "stdout",
     "output_type": "stream",
     "text": [
      "service goes offline @ 3:0\n"
     ]
    },
    {
     "name": "stderr",
     "output_type": "stream",
     "text": [
      "\r",
      "[=================================       ] 42/50 ( 84%)  8 to go"
     ]
    },
    {
     "name": "stdout",
     "output_type": "stream",
     "text": [
      "service goes offline @ 3:1\n"
     ]
    },
    {
     "name": "stderr",
     "output_type": "stream",
     "text": [
      "\r",
      "[==================================      ] 43/50 ( 86%)  7 to go"
     ]
    },
    {
     "name": "stdout",
     "output_type": "stream",
     "text": [
      "service goes offline @ 3:1\n"
     ]
    },
    {
     "name": "stderr",
     "output_type": "stream",
     "text": [
      "\r",
      "[===================================     ] 44/50 ( 88%)  6 to go"
     ]
    },
    {
     "name": "stdout",
     "output_type": "stream",
     "text": [
      "service goes offline @ 3:2\n"
     ]
    },
    {
     "name": "stderr",
     "output_type": "stream",
     "text": [
      "\r",
      "[====================================    ] 45/50 ( 90%)  5 to go"
     ]
    },
    {
     "name": "stdout",
     "output_type": "stream",
     "text": [
      "service goes offline @ 3:2\n"
     ]
    },
    {
     "name": "stderr",
     "output_type": "stream",
     "text": [
      "\r",
      "[====================================    ] 46/50 ( 92%)  4 to go"
     ]
    },
    {
     "name": "stdout",
     "output_type": "stream",
     "text": [
      "service goes offline @ 3:3\n"
     ]
    },
    {
     "name": "stderr",
     "output_type": "stream",
     "text": [
      "\r",
      "[=====================================   ] 47/50 ( 94%)  3 to go"
     ]
    },
    {
     "name": "stdout",
     "output_type": "stream",
     "text": [
      "service goes offline @ 3:3\n"
     ]
    },
    {
     "name": "stderr",
     "output_type": "stream",
     "text": [
      "\r",
      "[======================================  ] 48/50 ( 96%)  2 to go"
     ]
    },
    {
     "name": "stdout",
     "output_type": "stream",
     "text": [
      "service goes offline @ 3:4\n"
     ]
    },
    {
     "name": "stderr",
     "output_type": "stream",
     "text": [
      "\r",
      "[======================================= ] 49/50 ( 98%)  1 to go"
     ]
    },
    {
     "name": "stdout",
     "output_type": "stream",
     "text": [
      "service goes offline @ 3:4\n"
     ]
    },
    {
     "name": "stderr",
     "output_type": "stream",
     "text": [
      "\r",
      "[========================================] 50/50 (100%)  0 to go"
     ]
    },
    {
     "name": "stdout",
     "output_type": "stream",
     "text": [
      "service goes offline @ 3:5\n"
     ]
    },
    {
     "name": "stderr",
     "output_type": "stream",
     "text": [
      "\r",
      "[========================================] 50/50 (100%)  0 to go\n",
      "\r",
      "[                                        ]  1/50 (  2%) 49 to go"
     ]
    },
    {
     "name": "stdout",
     "output_type": "stream",
     "text": [
      "Data_156 collected, writting to file: output/Dec15_156\n",
      "output/Dec15_156 is written @ 2017-12-15 03:05:49.352737\n",
      "service goes offline @ 3:5\n"
     ]
    },
    {
     "name": "stderr",
     "output_type": "stream",
     "text": [
      "\r",
      "[=                                       ]  2/50 (  4%) 48 to go"
     ]
    },
    {
     "name": "stdout",
     "output_type": "stream",
     "text": [
      "service goes offline @ 3:6\n"
     ]
    },
    {
     "name": "stderr",
     "output_type": "stream",
     "text": [
      "\r",
      "[==                                      ]  3/50 (  6%) 47 to go"
     ]
    },
    {
     "name": "stdout",
     "output_type": "stream",
     "text": [
      "service goes offline @ 3:6\n"
     ]
    },
    {
     "name": "stderr",
     "output_type": "stream",
     "text": [
      "\r",
      "[===                                     ]  4/50 (  8%) 46 to go"
     ]
    },
    {
     "name": "stdout",
     "output_type": "stream",
     "text": [
      "service goes offline @ 3:7\n"
     ]
    },
    {
     "name": "stderr",
     "output_type": "stream",
     "text": [
      "\r",
      "[====                                    ]  5/50 ( 10%) 45 to go"
     ]
    },
    {
     "name": "stdout",
     "output_type": "stream",
     "text": [
      "service goes offline @ 3:7\n"
     ]
    },
    {
     "name": "stderr",
     "output_type": "stream",
     "text": [
      "\r",
      "[====                                    ]  6/50 ( 12%) 44 to go"
     ]
    },
    {
     "name": "stdout",
     "output_type": "stream",
     "text": [
      "service goes offline @ 3:8\n"
     ]
    },
    {
     "name": "stderr",
     "output_type": "stream",
     "text": [
      "\r",
      "[=====                                   ]  7/50 ( 14%) 43 to go"
     ]
    },
    {
     "name": "stdout",
     "output_type": "stream",
     "text": [
      "service goes offline @ 3:8\n"
     ]
    },
    {
     "name": "stderr",
     "output_type": "stream",
     "text": [
      "\r",
      "[======                                  ]  8/50 ( 16%) 42 to go"
     ]
    },
    {
     "name": "stdout",
     "output_type": "stream",
     "text": [
      "service goes offline @ 3:9\n"
     ]
    },
    {
     "name": "stderr",
     "output_type": "stream",
     "text": [
      "\r",
      "[=======                                 ]  9/50 ( 18%) 41 to go"
     ]
    },
    {
     "name": "stdout",
     "output_type": "stream",
     "text": [
      "service goes offline @ 3:9\n"
     ]
    },
    {
     "name": "stderr",
     "output_type": "stream",
     "text": [
      "\r",
      "[========                                ] 10/50 ( 20%) 40 to go"
     ]
    },
    {
     "name": "stdout",
     "output_type": "stream",
     "text": [
      "service goes offline @ 3:10\n"
     ]
    },
    {
     "name": "stderr",
     "output_type": "stream",
     "text": [
      "\r",
      "[========                                ] 11/50 ( 22%) 39 to go"
     ]
    },
    {
     "name": "stdout",
     "output_type": "stream",
     "text": [
      "service goes offline @ 3:10\n"
     ]
    },
    {
     "name": "stderr",
     "output_type": "stream",
     "text": [
      "\r",
      "[=========                               ] 12/50 ( 24%) 38 to go"
     ]
    },
    {
     "name": "stdout",
     "output_type": "stream",
     "text": [
      "service goes offline @ 3:11\n"
     ]
    },
    {
     "name": "stderr",
     "output_type": "stream",
     "text": [
      "\r",
      "[==========                              ] 13/50 ( 26%) 37 to go"
     ]
    },
    {
     "name": "stdout",
     "output_type": "stream",
     "text": [
      "service goes offline @ 3:11\n"
     ]
    },
    {
     "name": "stderr",
     "output_type": "stream",
     "text": [
      "\r",
      "[===========                             ] 14/50 ( 28%) 36 to go"
     ]
    },
    {
     "name": "stdout",
     "output_type": "stream",
     "text": [
      "service goes offline @ 3:12\n"
     ]
    },
    {
     "name": "stderr",
     "output_type": "stream",
     "text": [
      "\r",
      "[============                            ] 15/50 ( 30%) 35 to go"
     ]
    },
    {
     "name": "stdout",
     "output_type": "stream",
     "text": [
      "service goes offline @ 3:12\n"
     ]
    },
    {
     "name": "stderr",
     "output_type": "stream",
     "text": [
      "\r",
      "[============                            ] 16/50 ( 32%) 34 to go"
     ]
    },
    {
     "name": "stdout",
     "output_type": "stream",
     "text": [
      "service goes offline @ 3:13\n"
     ]
    },
    {
     "name": "stderr",
     "output_type": "stream",
     "text": [
      "\r",
      "[=============                           ] 17/50 ( 34%) 33 to go"
     ]
    },
    {
     "name": "stdout",
     "output_type": "stream",
     "text": [
      "service goes offline @ 3:13\n"
     ]
    },
    {
     "name": "stderr",
     "output_type": "stream",
     "text": [
      "\r",
      "[==============                          ] 18/50 ( 36%) 32 to go"
     ]
    },
    {
     "name": "stdout",
     "output_type": "stream",
     "text": [
      "service goes offline @ 3:14\n"
     ]
    },
    {
     "name": "stderr",
     "output_type": "stream",
     "text": [
      "\r",
      "[===============                         ] 19/50 ( 38%) 31 to go"
     ]
    },
    {
     "name": "stdout",
     "output_type": "stream",
     "text": [
      "service goes offline @ 3:14\n"
     ]
    },
    {
     "name": "stderr",
     "output_type": "stream",
     "text": [
      "\r",
      "[================                        ] 20/50 ( 40%) 30 to go"
     ]
    },
    {
     "name": "stdout",
     "output_type": "stream",
     "text": [
      "service goes offline @ 3:15\n"
     ]
    },
    {
     "name": "stderr",
     "output_type": "stream",
     "text": [
      "\r",
      "[================                        ] 21/50 ( 42%) 29 to go"
     ]
    },
    {
     "name": "stdout",
     "output_type": "stream",
     "text": [
      "service goes offline @ 3:15\n"
     ]
    },
    {
     "name": "stderr",
     "output_type": "stream",
     "text": [
      "\r",
      "[=================                       ] 22/50 ( 44%) 28 to go"
     ]
    },
    {
     "name": "stdout",
     "output_type": "stream",
     "text": [
      "service goes offline @ 3:16\n"
     ]
    },
    {
     "name": "stderr",
     "output_type": "stream",
     "text": [
      "\r",
      "[==================                      ] 23/50 ( 46%) 27 to go"
     ]
    },
    {
     "name": "stdout",
     "output_type": "stream",
     "text": [
      "service goes offline @ 3:16\n"
     ]
    },
    {
     "name": "stderr",
     "output_type": "stream",
     "text": [
      "\r",
      "[===================                     ] 24/50 ( 48%) 26 to go"
     ]
    },
    {
     "name": "stdout",
     "output_type": "stream",
     "text": [
      "service goes offline @ 3:17\n"
     ]
    },
    {
     "name": "stderr",
     "output_type": "stream",
     "text": [
      "\r",
      "[====================                    ] 25/50 ( 50%) 25 to go"
     ]
    },
    {
     "name": "stdout",
     "output_type": "stream",
     "text": [
      "service goes offline @ 3:17\n"
     ]
    },
    {
     "name": "stderr",
     "output_type": "stream",
     "text": [
      "\r",
      "[====================                    ] 26/50 ( 52%) 24 to go"
     ]
    },
    {
     "name": "stdout",
     "output_type": "stream",
     "text": [
      "service goes offline @ 3:18\n"
     ]
    },
    {
     "name": "stderr",
     "output_type": "stream",
     "text": [
      "\r",
      "[=====================                   ] 27/50 ( 54%) 23 to go"
     ]
    },
    {
     "name": "stdout",
     "output_type": "stream",
     "text": [
      "service goes offline @ 3:18\n"
     ]
    },
    {
     "name": "stderr",
     "output_type": "stream",
     "text": [
      "\r",
      "[======================                  ] 28/50 ( 56%) 22 to go"
     ]
    },
    {
     "name": "stdout",
     "output_type": "stream",
     "text": [
      "service goes offline @ 3:19\n"
     ]
    },
    {
     "name": "stderr",
     "output_type": "stream",
     "text": [
      "\r",
      "[=======================                 ] 29/50 ( 57%) 21 to go"
     ]
    },
    {
     "name": "stdout",
     "output_type": "stream",
     "text": [
      "service goes offline @ 3:19\n"
     ]
    },
    {
     "name": "stderr",
     "output_type": "stream",
     "text": [
      "\r",
      "[========================                ] 30/50 ( 60%) 20 to go"
     ]
    },
    {
     "name": "stdout",
     "output_type": "stream",
     "text": [
      "service goes offline @ 3:20\n"
     ]
    },
    {
     "name": "stderr",
     "output_type": "stream",
     "text": [
      "\r",
      "[========================                ] 31/50 ( 62%) 19 to go"
     ]
    },
    {
     "name": "stdout",
     "output_type": "stream",
     "text": [
      "service goes offline @ 3:20\n"
     ]
    },
    {
     "name": "stderr",
     "output_type": "stream",
     "text": [
      "\r",
      "[=========================               ] 32/50 ( 64%) 18 to go"
     ]
    },
    {
     "name": "stdout",
     "output_type": "stream",
     "text": [
      "service goes offline @ 3:21\n"
     ]
    },
    {
     "name": "stderr",
     "output_type": "stream",
     "text": [
      "\r",
      "[==========================              ] 33/50 ( 66%) 17 to go"
     ]
    },
    {
     "name": "stdout",
     "output_type": "stream",
     "text": [
      "service goes offline @ 3:21\n"
     ]
    },
    {
     "name": "stderr",
     "output_type": "stream",
     "text": [
      "\r",
      "[===========================             ] 34/50 ( 68%) 16 to go"
     ]
    },
    {
     "name": "stdout",
     "output_type": "stream",
     "text": [
      "service goes offline @ 3:22\n"
     ]
    },
    {
     "name": "stderr",
     "output_type": "stream",
     "text": [
      "\r",
      "[============================            ] 35/50 ( 70%) 15 to go"
     ]
    },
    {
     "name": "stdout",
     "output_type": "stream",
     "text": [
      "service goes offline @ 3:22\n"
     ]
    },
    {
     "name": "stderr",
     "output_type": "stream",
     "text": [
      "\r",
      "[============================            ] 36/50 ( 72%) 14 to go"
     ]
    },
    {
     "name": "stdout",
     "output_type": "stream",
     "text": [
      "service goes offline @ 3:23\n"
     ]
    },
    {
     "name": "stderr",
     "output_type": "stream",
     "text": [
      "\r",
      "[=============================           ] 37/50 ( 74%) 13 to go"
     ]
    },
    {
     "name": "stdout",
     "output_type": "stream",
     "text": [
      "service goes offline @ 3:23\n"
     ]
    },
    {
     "name": "stderr",
     "output_type": "stream",
     "text": [
      "\r",
      "[==============================          ] 38/50 ( 76%) 12 to go"
     ]
    },
    {
     "name": "stdout",
     "output_type": "stream",
     "text": [
      "service goes offline @ 3:24\n"
     ]
    },
    {
     "name": "stderr",
     "output_type": "stream",
     "text": [
      "\r",
      "[===============================         ] 39/50 ( 78%) 11 to go"
     ]
    },
    {
     "name": "stdout",
     "output_type": "stream",
     "text": [
      "service goes offline @ 3:25\n"
     ]
    },
    {
     "name": "stderr",
     "output_type": "stream",
     "text": [
      "\r",
      "[================================        ] 40/50 ( 80%) 10 to go"
     ]
    },
    {
     "name": "stdout",
     "output_type": "stream",
     "text": [
      "service goes offline @ 3:25\n"
     ]
    },
    {
     "name": "stderr",
     "output_type": "stream",
     "text": [
      "\r",
      "[================================        ] 41/50 ( 82%)  9 to go"
     ]
    },
    {
     "name": "stdout",
     "output_type": "stream",
     "text": [
      "service goes offline @ 3:26\n"
     ]
    },
    {
     "name": "stderr",
     "output_type": "stream",
     "text": [
      "\r",
      "[=================================       ] 42/50 ( 84%)  8 to go"
     ]
    },
    {
     "name": "stdout",
     "output_type": "stream",
     "text": [
      "service goes offline @ 3:26\n"
     ]
    },
    {
     "name": "stderr",
     "output_type": "stream",
     "text": [
      "\r",
      "[==================================      ] 43/50 ( 86%)  7 to go"
     ]
    },
    {
     "name": "stdout",
     "output_type": "stream",
     "text": [
      "service goes offline @ 3:27\n"
     ]
    },
    {
     "name": "stderr",
     "output_type": "stream",
     "text": [
      "\r",
      "[===================================     ] 44/50 ( 88%)  6 to go"
     ]
    },
    {
     "name": "stdout",
     "output_type": "stream",
     "text": [
      "service goes offline @ 3:27\n"
     ]
    },
    {
     "name": "stderr",
     "output_type": "stream",
     "text": [
      "\r",
      "[====================================    ] 45/50 ( 90%)  5 to go"
     ]
    },
    {
     "name": "stdout",
     "output_type": "stream",
     "text": [
      "service goes offline @ 3:28\n"
     ]
    },
    {
     "name": "stderr",
     "output_type": "stream",
     "text": [
      "\r",
      "[====================================    ] 46/50 ( 92%)  4 to go"
     ]
    },
    {
     "name": "stdout",
     "output_type": "stream",
     "text": [
      "service goes offline @ 3:28\n"
     ]
    },
    {
     "name": "stderr",
     "output_type": "stream",
     "text": [
      "\r",
      "[=====================================   ] 47/50 ( 94%)  3 to go"
     ]
    },
    {
     "name": "stdout",
     "output_type": "stream",
     "text": [
      "service goes offline @ 3:29\n"
     ]
    },
    {
     "name": "stderr",
     "output_type": "stream",
     "text": [
      "\r",
      "[======================================  ] 48/50 ( 96%)  2 to go"
     ]
    },
    {
     "name": "stdout",
     "output_type": "stream",
     "text": [
      "service goes offline @ 3:29\n"
     ]
    },
    {
     "name": "stderr",
     "output_type": "stream",
     "text": [
      "\r",
      "[======================================= ] 49/50 ( 98%)  1 to go"
     ]
    },
    {
     "name": "stdout",
     "output_type": "stream",
     "text": [
      "service goes offline @ 3:30\n"
     ]
    },
    {
     "name": "stderr",
     "output_type": "stream",
     "text": [
      "\r",
      "[========================================] 50/50 (100%)  0 to go"
     ]
    },
    {
     "name": "stdout",
     "output_type": "stream",
     "text": [
      "service goes offline @ 3:30\n"
     ]
    },
    {
     "name": "stderr",
     "output_type": "stream",
     "text": [
      "\r",
      "[========================================] 50/50 (100%)  0 to go\n",
      "\r",
      "[                                        ]  1/50 (  2%) 49 to go"
     ]
    },
    {
     "name": "stdout",
     "output_type": "stream",
     "text": [
      "Data_157 collected, writting to file: output/Dec15_157\n",
      "output/Dec15_157 is written @ 2017-12-15 03:31:02.346880\n",
      "service goes offline @ 3:31\n"
     ]
    },
    {
     "name": "stderr",
     "output_type": "stream",
     "text": [
      "\r",
      "[=                                       ]  2/50 (  4%) 48 to go"
     ]
    },
    {
     "name": "stdout",
     "output_type": "stream",
     "text": [
      "service goes offline @ 3:31\n"
     ]
    },
    {
     "name": "stderr",
     "output_type": "stream",
     "text": [
      "\r",
      "[==                                      ]  3/50 (  6%) 47 to go"
     ]
    },
    {
     "name": "stdout",
     "output_type": "stream",
     "text": [
      "service goes offline @ 3:32\n"
     ]
    },
    {
     "name": "stderr",
     "output_type": "stream",
     "text": [
      "\r",
      "[===                                     ]  4/50 (  8%) 46 to go"
     ]
    },
    {
     "name": "stdout",
     "output_type": "stream",
     "text": [
      "service goes offline @ 3:32\n"
     ]
    },
    {
     "name": "stderr",
     "output_type": "stream",
     "text": [
      "\r",
      "[====                                    ]  5/50 ( 10%) 45 to go"
     ]
    },
    {
     "name": "stdout",
     "output_type": "stream",
     "text": [
      "service goes offline @ 3:33\n"
     ]
    },
    {
     "name": "stderr",
     "output_type": "stream",
     "text": [
      "\r",
      "[====                                    ]  6/50 ( 12%) 44 to go"
     ]
    },
    {
     "name": "stdout",
     "output_type": "stream",
     "text": [
      "service goes offline @ 3:33\n"
     ]
    },
    {
     "name": "stderr",
     "output_type": "stream",
     "text": [
      "\r",
      "[=====                                   ]  7/50 ( 14%) 43 to go"
     ]
    },
    {
     "name": "stdout",
     "output_type": "stream",
     "text": [
      "service goes offline @ 3:34\n"
     ]
    },
    {
     "name": "stderr",
     "output_type": "stream",
     "text": [
      "\r",
      "[======                                  ]  8/50 ( 16%) 42 to go"
     ]
    },
    {
     "name": "stdout",
     "output_type": "stream",
     "text": [
      "service goes offline @ 3:34\n"
     ]
    },
    {
     "name": "stderr",
     "output_type": "stream",
     "text": [
      "\r",
      "[=======                                 ]  9/50 ( 18%) 41 to go"
     ]
    },
    {
     "name": "stdout",
     "output_type": "stream",
     "text": [
      "service goes offline @ 3:35\n"
     ]
    },
    {
     "name": "stderr",
     "output_type": "stream",
     "text": [
      "\r",
      "[========                                ] 10/50 ( 20%) 40 to go"
     ]
    },
    {
     "name": "stdout",
     "output_type": "stream",
     "text": [
      "service goes offline @ 3:35\n"
     ]
    },
    {
     "name": "stderr",
     "output_type": "stream",
     "text": [
      "\r",
      "[========                                ] 11/50 ( 22%) 39 to go"
     ]
    },
    {
     "name": "stdout",
     "output_type": "stream",
     "text": [
      "service goes offline @ 3:36\n"
     ]
    },
    {
     "name": "stderr",
     "output_type": "stream",
     "text": [
      "\r",
      "[=========                               ] 12/50 ( 24%) 38 to go"
     ]
    },
    {
     "name": "stdout",
     "output_type": "stream",
     "text": [
      "service goes offline @ 3:36\n"
     ]
    },
    {
     "name": "stderr",
     "output_type": "stream",
     "text": [
      "\r",
      "[==========                              ] 13/50 ( 26%) 37 to go"
     ]
    },
    {
     "name": "stdout",
     "output_type": "stream",
     "text": [
      "service goes offline @ 3:37\n"
     ]
    },
    {
     "name": "stderr",
     "output_type": "stream",
     "text": [
      "\r",
      "[===========                             ] 14/50 ( 28%) 36 to go"
     ]
    },
    {
     "name": "stdout",
     "output_type": "stream",
     "text": [
      "service goes offline @ 3:37\n"
     ]
    },
    {
     "name": "stderr",
     "output_type": "stream",
     "text": [
      "\r",
      "[============                            ] 15/50 ( 30%) 35 to go"
     ]
    },
    {
     "name": "stdout",
     "output_type": "stream",
     "text": [
      "service goes offline @ 3:38\n"
     ]
    },
    {
     "name": "stderr",
     "output_type": "stream",
     "text": [
      "\r",
      "[============                            ] 16/50 ( 32%) 34 to go"
     ]
    },
    {
     "name": "stdout",
     "output_type": "stream",
     "text": [
      "service goes offline @ 3:38\n"
     ]
    },
    {
     "name": "stderr",
     "output_type": "stream",
     "text": [
      "\r",
      "[=============                           ] 17/50 ( 34%) 33 to go"
     ]
    },
    {
     "name": "stdout",
     "output_type": "stream",
     "text": [
      "service goes offline @ 3:39\n"
     ]
    },
    {
     "name": "stderr",
     "output_type": "stream",
     "text": [
      "\r",
      "[==============                          ] 18/50 ( 36%) 32 to go"
     ]
    },
    {
     "name": "stdout",
     "output_type": "stream",
     "text": [
      "service goes offline @ 3:39\n"
     ]
    },
    {
     "name": "stderr",
     "output_type": "stream",
     "text": [
      "\r",
      "[===============                         ] 19/50 ( 38%) 31 to go"
     ]
    },
    {
     "name": "stdout",
     "output_type": "stream",
     "text": [
      "service goes offline @ 3:40\n"
     ]
    },
    {
     "name": "stderr",
     "output_type": "stream",
     "text": [
      "\r",
      "[================                        ] 20/50 ( 40%) 30 to go"
     ]
    },
    {
     "name": "stdout",
     "output_type": "stream",
     "text": [
      "service goes offline @ 3:40\n"
     ]
    },
    {
     "name": "stderr",
     "output_type": "stream",
     "text": [
      "\r",
      "[================                        ] 21/50 ( 42%) 29 to go"
     ]
    },
    {
     "name": "stdout",
     "output_type": "stream",
     "text": [
      "service goes offline @ 3:41\n"
     ]
    },
    {
     "name": "stderr",
     "output_type": "stream",
     "text": [
      "\r",
      "[=================                       ] 22/50 ( 44%) 28 to go"
     ]
    },
    {
     "name": "stdout",
     "output_type": "stream",
     "text": [
      "service goes offline @ 3:41\n"
     ]
    },
    {
     "name": "stderr",
     "output_type": "stream",
     "text": [
      "\r",
      "[==================                      ] 23/50 ( 46%) 27 to go"
     ]
    },
    {
     "name": "stdout",
     "output_type": "stream",
     "text": [
      "service goes offline @ 3:42\n"
     ]
    },
    {
     "name": "stderr",
     "output_type": "stream",
     "text": [
      "\r",
      "[===================                     ] 24/50 ( 48%) 26 to go"
     ]
    },
    {
     "name": "stdout",
     "output_type": "stream",
     "text": [
      "service goes offline @ 3:42\n"
     ]
    },
    {
     "name": "stderr",
     "output_type": "stream",
     "text": [
      "\r",
      "[====================                    ] 25/50 ( 50%) 25 to go"
     ]
    },
    {
     "name": "stdout",
     "output_type": "stream",
     "text": [
      "service goes offline @ 3:43\n"
     ]
    },
    {
     "name": "stderr",
     "output_type": "stream",
     "text": [
      "\r",
      "[====================                    ] 26/50 ( 52%) 24 to go"
     ]
    },
    {
     "name": "stdout",
     "output_type": "stream",
     "text": [
      "service goes offline @ 3:43\n"
     ]
    },
    {
     "name": "stderr",
     "output_type": "stream",
     "text": [
      "\r",
      "[=====================                   ] 27/50 ( 54%) 23 to go"
     ]
    },
    {
     "name": "stdout",
     "output_type": "stream",
     "text": [
      "service goes offline @ 3:44\n"
     ]
    },
    {
     "name": "stderr",
     "output_type": "stream",
     "text": [
      "\r",
      "[======================                  ] 28/50 ( 56%) 22 to go"
     ]
    },
    {
     "name": "stdout",
     "output_type": "stream",
     "text": [
      "service goes offline @ 3:44\n"
     ]
    },
    {
     "name": "stderr",
     "output_type": "stream",
     "text": [
      "\r",
      "[=======================                 ] 29/50 ( 57%) 21 to go"
     ]
    },
    {
     "name": "stdout",
     "output_type": "stream",
     "text": [
      "service goes offline @ 3:45\n"
     ]
    },
    {
     "name": "stderr",
     "output_type": "stream",
     "text": [
      "\r",
      "[========================                ] 30/50 ( 60%) 20 to go"
     ]
    },
    {
     "name": "stdout",
     "output_type": "stream",
     "text": [
      "service goes offline @ 3:45\n"
     ]
    },
    {
     "name": "stderr",
     "output_type": "stream",
     "text": [
      "\r",
      "[========================                ] 31/50 ( 62%) 19 to go"
     ]
    },
    {
     "name": "stdout",
     "output_type": "stream",
     "text": [
      "service goes offline @ 3:46\n"
     ]
    },
    {
     "name": "stderr",
     "output_type": "stream",
     "text": [
      "\r",
      "[=========================               ] 32/50 ( 64%) 18 to go"
     ]
    },
    {
     "name": "stdout",
     "output_type": "stream",
     "text": [
      "service goes offline @ 3:46\n"
     ]
    },
    {
     "name": "stderr",
     "output_type": "stream",
     "text": [
      "\r",
      "[==========================              ] 33/50 ( 66%) 17 to go"
     ]
    },
    {
     "name": "stdout",
     "output_type": "stream",
     "text": [
      "service goes offline @ 3:47\n"
     ]
    },
    {
     "name": "stderr",
     "output_type": "stream",
     "text": [
      "\r",
      "[===========================             ] 34/50 ( 68%) 16 to go"
     ]
    },
    {
     "name": "stdout",
     "output_type": "stream",
     "text": [
      "service goes offline @ 3:47\n"
     ]
    },
    {
     "name": "stderr",
     "output_type": "stream",
     "text": [
      "\r",
      "[============================            ] 35/50 ( 70%) 15 to go"
     ]
    },
    {
     "name": "stdout",
     "output_type": "stream",
     "text": [
      "service goes offline @ 3:48\n"
     ]
    },
    {
     "name": "stderr",
     "output_type": "stream",
     "text": [
      "\r",
      "[============================            ] 36/50 ( 72%) 14 to go"
     ]
    },
    {
     "name": "stdout",
     "output_type": "stream",
     "text": [
      "service goes offline @ 3:48\n"
     ]
    },
    {
     "name": "stderr",
     "output_type": "stream",
     "text": [
      "\r",
      "[=============================           ] 37/50 ( 74%) 13 to go"
     ]
    },
    {
     "name": "stdout",
     "output_type": "stream",
     "text": [
      "service goes offline @ 3:49\n"
     ]
    },
    {
     "name": "stderr",
     "output_type": "stream",
     "text": [
      "\r",
      "[==============================          ] 38/50 ( 76%) 12 to go"
     ]
    },
    {
     "name": "stdout",
     "output_type": "stream",
     "text": [
      "service goes offline @ 3:49\n"
     ]
    },
    {
     "name": "stderr",
     "output_type": "stream",
     "text": [
      "\r",
      "[===============================         ] 39/50 ( 78%) 11 to go"
     ]
    },
    {
     "name": "stdout",
     "output_type": "stream",
     "text": [
      "service goes offline @ 3:50\n"
     ]
    },
    {
     "name": "stderr",
     "output_type": "stream",
     "text": [
      "\r",
      "[================================        ] 40/50 ( 80%) 10 to go"
     ]
    },
    {
     "name": "stdout",
     "output_type": "stream",
     "text": [
      "service goes offline @ 3:50\n"
     ]
    },
    {
     "name": "stderr",
     "output_type": "stream",
     "text": [
      "\r",
      "[================================        ] 41/50 ( 82%)  9 to go"
     ]
    },
    {
     "name": "stdout",
     "output_type": "stream",
     "text": [
      "service goes offline @ 3:51\n"
     ]
    },
    {
     "name": "stderr",
     "output_type": "stream",
     "text": [
      "\r",
      "[=================================       ] 42/50 ( 84%)  8 to go"
     ]
    },
    {
     "name": "stdout",
     "output_type": "stream",
     "text": [
      "service goes offline @ 3:51\n"
     ]
    },
    {
     "name": "stderr",
     "output_type": "stream",
     "text": [
      "\r",
      "[==================================      ] 43/50 ( 86%)  7 to go"
     ]
    },
    {
     "name": "stdout",
     "output_type": "stream",
     "text": [
      "service goes offline @ 3:52\n"
     ]
    },
    {
     "name": "stderr",
     "output_type": "stream",
     "text": [
      "\r",
      "[===================================     ] 44/50 ( 88%)  6 to go"
     ]
    },
    {
     "name": "stdout",
     "output_type": "stream",
     "text": [
      "service goes offline @ 3:52\n"
     ]
    },
    {
     "name": "stderr",
     "output_type": "stream",
     "text": [
      "\r",
      "[====================================    ] 45/50 ( 90%)  5 to go"
     ]
    },
    {
     "name": "stdout",
     "output_type": "stream",
     "text": [
      "service goes offline @ 3:53\n"
     ]
    },
    {
     "name": "stderr",
     "output_type": "stream",
     "text": [
      "\r",
      "[====================================    ] 46/50 ( 92%)  4 to go"
     ]
    },
    {
     "name": "stdout",
     "output_type": "stream",
     "text": [
      "service goes offline @ 3:53\n"
     ]
    },
    {
     "name": "stderr",
     "output_type": "stream",
     "text": [
      "\r",
      "[=====================================   ] 47/50 ( 94%)  3 to go"
     ]
    },
    {
     "name": "stdout",
     "output_type": "stream",
     "text": [
      "service goes offline @ 3:54\n"
     ]
    },
    {
     "name": "stderr",
     "output_type": "stream",
     "text": [
      "\r",
      "[======================================  ] 48/50 ( 96%)  2 to go"
     ]
    },
    {
     "name": "stdout",
     "output_type": "stream",
     "text": [
      "service goes offline @ 3:54\n"
     ]
    },
    {
     "name": "stderr",
     "output_type": "stream",
     "text": [
      "\r",
      "[======================================= ] 49/50 ( 98%)  1 to go"
     ]
    },
    {
     "name": "stdout",
     "output_type": "stream",
     "text": [
      "service goes offline @ 3:55\n"
     ]
    },
    {
     "name": "stderr",
     "output_type": "stream",
     "text": [
      "\r",
      "[========================================] 50/50 (100%)  0 to go"
     ]
    },
    {
     "name": "stdout",
     "output_type": "stream",
     "text": [
      "service goes offline @ 3:55\n"
     ]
    },
    {
     "name": "stderr",
     "output_type": "stream",
     "text": [
      "\r",
      "[========================================] 50/50 (100%)  0 to go\n",
      "\r",
      "[                                        ]  1/50 (  2%) 49 to go"
     ]
    },
    {
     "name": "stdout",
     "output_type": "stream",
     "text": [
      "Data_158 collected, writting to file: output/Dec15_158\n",
      "output/Dec15_158 is written @ 2017-12-15 03:56:12.969737\n",
      "service goes offline @ 3:56\n"
     ]
    },
    {
     "name": "stderr",
     "output_type": "stream",
     "text": [
      "\r",
      "[=                                       ]  2/50 (  4%) 48 to go"
     ]
    },
    {
     "name": "stdout",
     "output_type": "stream",
     "text": [
      "service goes offline @ 3:56\n"
     ]
    },
    {
     "name": "stderr",
     "output_type": "stream",
     "text": [
      "\r",
      "[==                                      ]  3/50 (  6%) 47 to go"
     ]
    },
    {
     "name": "stdout",
     "output_type": "stream",
     "text": [
      "service goes offline @ 3:57\n"
     ]
    },
    {
     "name": "stderr",
     "output_type": "stream",
     "text": [
      "\r",
      "[===                                     ]  4/50 (  8%) 46 to go"
     ]
    },
    {
     "name": "stdout",
     "output_type": "stream",
     "text": [
      "service goes offline @ 3:57\n"
     ]
    },
    {
     "name": "stderr",
     "output_type": "stream",
     "text": [
      "\r",
      "[====                                    ]  5/50 ( 10%) 45 to go"
     ]
    },
    {
     "name": "stdout",
     "output_type": "stream",
     "text": [
      "service goes offline @ 3:58\n"
     ]
    },
    {
     "name": "stderr",
     "output_type": "stream",
     "text": [
      "\r",
      "[====                                    ]  6/50 ( 12%) 44 to go"
     ]
    },
    {
     "name": "stdout",
     "output_type": "stream",
     "text": [
      "service goes offline @ 3:58\n"
     ]
    },
    {
     "name": "stderr",
     "output_type": "stream",
     "text": [
      "\r",
      "[=====                                   ]  7/50 ( 14%) 43 to go"
     ]
    },
    {
     "name": "stdout",
     "output_type": "stream",
     "text": [
      "service goes offline @ 3:59\n"
     ]
    },
    {
     "name": "stderr",
     "output_type": "stream",
     "text": [
      "\r",
      "[======                                  ]  8/50 ( 16%) 42 to go"
     ]
    },
    {
     "name": "stdout",
     "output_type": "stream",
     "text": [
      "service goes offline @ 3:59\n"
     ]
    },
    {
     "name": "stderr",
     "output_type": "stream",
     "text": [
      "\r",
      "[=======                                 ]  9/50 ( 18%) 41 to go"
     ]
    },
    {
     "name": "stdout",
     "output_type": "stream",
     "text": [
      "service goes offline @ 4:0\n"
     ]
    },
    {
     "name": "stderr",
     "output_type": "stream",
     "text": [
      "\r",
      "[========                                ] 10/50 ( 20%) 40 to go"
     ]
    },
    {
     "name": "stdout",
     "output_type": "stream",
     "text": [
      "service goes offline @ 4:0\n"
     ]
    },
    {
     "name": "stderr",
     "output_type": "stream",
     "text": [
      "\r",
      "[========                                ] 11/50 ( 22%) 39 to go"
     ]
    },
    {
     "name": "stdout",
     "output_type": "stream",
     "text": [
      "service goes offline @ 4:1\n"
     ]
    },
    {
     "name": "stderr",
     "output_type": "stream",
     "text": [
      "\r",
      "[=========                               ] 12/50 ( 24%) 38 to go"
     ]
    },
    {
     "name": "stdout",
     "output_type": "stream",
     "text": [
      "service goes offline @ 4:1\n"
     ]
    },
    {
     "name": "stderr",
     "output_type": "stream",
     "text": [
      "\r",
      "[==========                              ] 13/50 ( 26%) 37 to go"
     ]
    },
    {
     "name": "stdout",
     "output_type": "stream",
     "text": [
      "service goes offline @ 4:2\n"
     ]
    },
    {
     "name": "stderr",
     "output_type": "stream",
     "text": [
      "\r",
      "[===========                             ] 14/50 ( 28%) 36 to go"
     ]
    },
    {
     "name": "stdout",
     "output_type": "stream",
     "text": [
      "service goes offline @ 4:2\n"
     ]
    },
    {
     "name": "stderr",
     "output_type": "stream",
     "text": [
      "\r",
      "[============                            ] 15/50 ( 30%) 35 to go"
     ]
    },
    {
     "name": "stdout",
     "output_type": "stream",
     "text": [
      "service goes offline @ 4:3\n"
     ]
    },
    {
     "name": "stderr",
     "output_type": "stream",
     "text": [
      "\r",
      "[============                            ] 16/50 ( 32%) 34 to go"
     ]
    },
    {
     "name": "stdout",
     "output_type": "stream",
     "text": [
      "service goes offline @ 4:3\n"
     ]
    },
    {
     "name": "stderr",
     "output_type": "stream",
     "text": [
      "\r",
      "[=============                           ] 17/50 ( 34%) 33 to go"
     ]
    },
    {
     "name": "stdout",
     "output_type": "stream",
     "text": [
      "service goes offline @ 4:4\n"
     ]
    },
    {
     "name": "stderr",
     "output_type": "stream",
     "text": [
      "\r",
      "[==============                          ] 18/50 ( 36%) 32 to go"
     ]
    },
    {
     "name": "stdout",
     "output_type": "stream",
     "text": [
      "service goes offline @ 4:4\n"
     ]
    },
    {
     "name": "stderr",
     "output_type": "stream",
     "text": [
      "\r",
      "[===============                         ] 19/50 ( 38%) 31 to go"
     ]
    },
    {
     "name": "stdout",
     "output_type": "stream",
     "text": [
      "service goes offline @ 4:5\n"
     ]
    },
    {
     "name": "stderr",
     "output_type": "stream",
     "text": [
      "\r",
      "[================                        ] 20/50 ( 40%) 30 to go"
     ]
    },
    {
     "name": "stdout",
     "output_type": "stream",
     "text": [
      "service goes offline @ 4:5\n"
     ]
    },
    {
     "name": "stderr",
     "output_type": "stream",
     "text": [
      "\r",
      "[================                        ] 21/50 ( 42%) 29 to go"
     ]
    },
    {
     "name": "stdout",
     "output_type": "stream",
     "text": [
      "service goes offline @ 4:6\n"
     ]
    },
    {
     "name": "stderr",
     "output_type": "stream",
     "text": [
      "\r",
      "[=================                       ] 22/50 ( 44%) 28 to go"
     ]
    },
    {
     "name": "stdout",
     "output_type": "stream",
     "text": [
      "service goes offline @ 4:6\n"
     ]
    },
    {
     "name": "stderr",
     "output_type": "stream",
     "text": [
      "\r",
      "[==================                      ] 23/50 ( 46%) 27 to go"
     ]
    },
    {
     "name": "stdout",
     "output_type": "stream",
     "text": [
      "service goes offline @ 4:7\n"
     ]
    },
    {
     "name": "stderr",
     "output_type": "stream",
     "text": [
      "\r",
      "[===================                     ] 24/50 ( 48%) 26 to go"
     ]
    },
    {
     "name": "stdout",
     "output_type": "stream",
     "text": [
      "service goes offline @ 4:7\n"
     ]
    },
    {
     "name": "stderr",
     "output_type": "stream",
     "text": [
      "\r",
      "[====================                    ] 25/50 ( 50%) 25 to go"
     ]
    },
    {
     "name": "stdout",
     "output_type": "stream",
     "text": [
      "service goes offline @ 4:8\n"
     ]
    },
    {
     "name": "stderr",
     "output_type": "stream",
     "text": [
      "\r",
      "[====================                    ] 26/50 ( 52%) 24 to go"
     ]
    },
    {
     "name": "stdout",
     "output_type": "stream",
     "text": [
      "service goes offline @ 4:8\n"
     ]
    },
    {
     "name": "stderr",
     "output_type": "stream",
     "text": [
      "\r",
      "[=====================                   ] 27/50 ( 54%) 23 to go"
     ]
    },
    {
     "name": "stdout",
     "output_type": "stream",
     "text": [
      "service goes offline @ 4:9\n"
     ]
    },
    {
     "name": "stderr",
     "output_type": "stream",
     "text": [
      "\r",
      "[======================                  ] 28/50 ( 56%) 22 to go"
     ]
    },
    {
     "name": "stdout",
     "output_type": "stream",
     "text": [
      "service goes offline @ 4:9\n"
     ]
    },
    {
     "name": "stderr",
     "output_type": "stream",
     "text": [
      "\r",
      "[=======================                 ] 29/50 ( 57%) 21 to go"
     ]
    },
    {
     "name": "stdout",
     "output_type": "stream",
     "text": [
      "service goes offline @ 4:10\n"
     ]
    },
    {
     "name": "stderr",
     "output_type": "stream",
     "text": [
      "\r",
      "[========================                ] 30/50 ( 60%) 20 to go"
     ]
    },
    {
     "name": "stdout",
     "output_type": "stream",
     "text": [
      "service goes offline @ 4:10\n"
     ]
    },
    {
     "name": "stderr",
     "output_type": "stream",
     "text": [
      "\r",
      "[========================                ] 31/50 ( 62%) 19 to go"
     ]
    },
    {
     "name": "stdout",
     "output_type": "stream",
     "text": [
      "service goes offline @ 4:11\n"
     ]
    },
    {
     "name": "stderr",
     "output_type": "stream",
     "text": [
      "\r",
      "[=========================               ] 32/50 ( 64%) 18 to go"
     ]
    },
    {
     "name": "stdout",
     "output_type": "stream",
     "text": [
      "service goes offline @ 4:11\n"
     ]
    },
    {
     "name": "stderr",
     "output_type": "stream",
     "text": [
      "\r",
      "[==========================              ] 33/50 ( 66%) 17 to go"
     ]
    },
    {
     "name": "stdout",
     "output_type": "stream",
     "text": [
      "service goes offline @ 4:12\n"
     ]
    },
    {
     "name": "stderr",
     "output_type": "stream",
     "text": [
      "\r",
      "[===========================             ] 34/50 ( 68%) 16 to go"
     ]
    },
    {
     "name": "stdout",
     "output_type": "stream",
     "text": [
      "service goes offline @ 4:12\n"
     ]
    },
    {
     "name": "stderr",
     "output_type": "stream",
     "text": [
      "\r",
      "[============================            ] 35/50 ( 70%) 15 to go"
     ]
    },
    {
     "name": "stdout",
     "output_type": "stream",
     "text": [
      "service goes offline @ 4:13\n"
     ]
    },
    {
     "name": "stderr",
     "output_type": "stream",
     "text": [
      "\r",
      "[============================            ] 36/50 ( 72%) 14 to go"
     ]
    },
    {
     "name": "stdout",
     "output_type": "stream",
     "text": [
      "service goes offline @ 4:13\n"
     ]
    },
    {
     "name": "stderr",
     "output_type": "stream",
     "text": [
      "\r",
      "[=============================           ] 37/50 ( 74%) 13 to go"
     ]
    },
    {
     "name": "stdout",
     "output_type": "stream",
     "text": [
      "service goes offline @ 4:14\n"
     ]
    },
    {
     "name": "stderr",
     "output_type": "stream",
     "text": [
      "\r",
      "[==============================          ] 38/50 ( 76%) 12 to go"
     ]
    },
    {
     "name": "stdout",
     "output_type": "stream",
     "text": [
      "service goes offline @ 4:14\n"
     ]
    },
    {
     "name": "stderr",
     "output_type": "stream",
     "text": [
      "[========================================] 50/50 (100%)  0 to go\n",
      "[                                        ]  1/50 (  2%) 49 to go"
     ]
    },
    {
     "name": "stdout",
     "output_type": "stream",
     "text": [
      "Data_159 collected, writting to file: output/Dec15_159\n",
      "output/Dec15_159 is written @ 2017-12-15 04:21:23.648384\n"
     ]
    },
    {
     "name": "stderr",
     "output_type": "stream",
     "text": [
      "[========================================] 50/50 (100%)  0 to go\n",
      "[                                        ]  1/50 (  2%) 49 to go"
     ]
    },
    {
     "name": "stdout",
     "output_type": "stream",
     "text": [
      "Data_160 collected, writting to file: output/Dec15_160\n",
      "output/Dec15_160 is written @ 2017-12-15 04:46:35.471908\n"
     ]
    },
    {
     "name": "stderr",
     "output_type": "stream",
     "text": [
      "[========================================] 50/50 (100%)  0 to go\n",
      "[                                        ]  1/50 (  2%) 49 to go"
     ]
    },
    {
     "name": "stdout",
     "output_type": "stream",
     "text": [
      "Data_161 collected, writting to file: output/Dec15_161\n",
      "output/Dec15_161 is written @ 2017-12-15 05:11:45.566150\n"
     ]
    },
    {
     "name": "stderr",
     "output_type": "stream",
     "text": [
      "[========================================] 50/50 (100%)  0 to go\n",
      "[                                        ]  1/50 (  2%) 49 to go"
     ]
    },
    {
     "name": "stdout",
     "output_type": "stream",
     "text": [
      "Data_162 collected, writting to file: output/Dec15_162\n",
      "output/Dec15_162 is written @ 2017-12-15 05:37:02.000944\n"
     ]
    },
    {
     "name": "stderr",
     "output_type": "stream",
     "text": [
      "[========================================] 50/50 (100%)  0 to go\n",
      "[                                        ]  1/50 (  2%) 49 to go"
     ]
    },
    {
     "name": "stdout",
     "output_type": "stream",
     "text": [
      "Data_163 collected, writting to file: output/Dec15_163\n",
      "output/Dec15_163 is written @ 2017-12-15 06:02:12.881107\n"
     ]
    },
    {
     "name": "stderr",
     "output_type": "stream",
     "text": [
      "[========================================] 50/50 (100%)  0 to go\n",
      "[                                        ]  1/50 (  2%) 49 to go"
     ]
    },
    {
     "name": "stdout",
     "output_type": "stream",
     "text": [
      "Data_164 collected, writting to file: output/Dec15_164\n",
      "output/Dec15_164 is written @ 2017-12-15 06:27:27.013064\n"
     ]
    },
    {
     "name": "stderr",
     "output_type": "stream",
     "text": [
      "[========================================] 50/50 (100%)  0 to go\n",
      "[                                        ]  1/50 (  2%) 49 to go"
     ]
    },
    {
     "name": "stdout",
     "output_type": "stream",
     "text": [
      "Data_165 collected, writting to file: output/Dec15_165\n",
      "output/Dec15_165 is written @ 2017-12-15 06:52:41.262991\n"
     ]
    },
    {
     "name": "stderr",
     "output_type": "stream",
     "text": [
      "[========================================] 50/50 (100%)  0 to go\n",
      "[                                        ]  1/50 (  2%) 49 to go"
     ]
    },
    {
     "name": "stdout",
     "output_type": "stream",
     "text": [
      "Data_166 collected, writting to file: output/Dec15_166\n",
      "output/Dec15_166 is written @ 2017-12-15 07:17:56.595085\n"
     ]
    },
    {
     "name": "stderr",
     "output_type": "stream",
     "text": [
      "[========================================] 50/50 (100%)  0 to go\n",
      "[                                        ]  1/50 (  2%) 49 to go"
     ]
    },
    {
     "name": "stdout",
     "output_type": "stream",
     "text": [
      "Data_167 collected, writting to file: output/Dec15_167\n",
      "output/Dec15_167 is written @ 2017-12-15 07:43:17.934723\n"
     ]
    },
    {
     "name": "stderr",
     "output_type": "stream",
     "text": [
      "[========================================] 50/50 (100%)  0 to go\n",
      "[                                        ]  1/50 (  2%) 49 to go"
     ]
    },
    {
     "name": "stdout",
     "output_type": "stream",
     "text": [
      "Data_168 collected, writting to file: output/Dec15_168\n",
      "output/Dec15_168 is written @ 2017-12-15 08:08:32.800318\n"
     ]
    },
    {
     "name": "stderr",
     "output_type": "stream",
     "text": [
      "[========================================] 50/50 (100%)  0 to go\n",
      "[                                        ]  1/50 (  2%) 49 to go"
     ]
    },
    {
     "name": "stdout",
     "output_type": "stream",
     "text": [
      "Data_169 collected, writting to file: output/Dec15_169\n",
      "output/Dec15_169 is written @ 2017-12-15 08:33:52.230559\n"
     ]
    },
    {
     "name": "stderr",
     "output_type": "stream",
     "text": [
      "[========================================] 50/50 (100%)  0 to go\n",
      "[                                        ]  1/50 (  2%) 49 to go"
     ]
    },
    {
     "name": "stdout",
     "output_type": "stream",
     "text": [
      "Data_170 collected, writting to file: output/Dec15_170\n",
      "output/Dec15_170 is written @ 2017-12-15 08:59:13.753068\n"
     ]
    },
    {
     "name": "stderr",
     "output_type": "stream",
     "text": [
      "[========================================] 50/50 (100%)  0 to go\n",
      "[                                        ]  1/50 (  2%) 49 to go"
     ]
    },
    {
     "name": "stdout",
     "output_type": "stream",
     "text": [
      "Data_171 collected, writting to file: output/Dec15_171\n",
      "output/Dec15_171 is written @ 2017-12-15 09:24:29.771445\n"
     ]
    },
    {
     "name": "stderr",
     "output_type": "stream",
     "text": [
      "[========================================] 50/50 (100%)  0 to go\n",
      "[                                        ]  1/50 (  2%) 49 to go"
     ]
    },
    {
     "name": "stdout",
     "output_type": "stream",
     "text": [
      "Data_172 collected, writting to file: output/Dec15_172\n",
      "output/Dec15_172 is written @ 2017-12-15 09:49:43.713302\n"
     ]
    },
    {
     "name": "stderr",
     "output_type": "stream",
     "text": [
      "[======================================  ] 48/50 ( 96%)  2 to go"
     ]
    },
    {
     "name": "stdout",
     "output_type": "stream",
     "text": [
      "service goes offline @ 10:13\n"
     ]
    },
    {
     "name": "stderr",
     "output_type": "stream",
     "text": [
      "[========================================] 50/50 (100%)  0 to go\n",
      "[                                        ]  1/50 (  2%) 49 to go"
     ]
    },
    {
     "name": "stdout",
     "output_type": "stream",
     "text": [
      "Data_173 collected, writting to file: output/Dec15_173\n",
      "output/Dec15_173 is written @ 2017-12-15 10:15:00.227491\n"
     ]
    },
    {
     "name": "stderr",
     "output_type": "stream",
     "text": [
      "[==                                      ]  3/50 (  6%) 47 to go"
     ]
    },
    {
     "name": "stdout",
     "output_type": "stream",
     "text": [
      "service goes offline @ 10:16\n"
     ]
    },
    {
     "name": "stderr",
     "output_type": "stream",
     "text": [
      "[=====                                   ]  7/50 ( 14%) 43 to go"
     ]
    },
    {
     "name": "stdout",
     "output_type": "stream",
     "text": [
      "service goes offline @ 10:18\n"
     ]
    },
    {
     "name": "stderr",
     "output_type": "stream",
     "text": [
      "[========================================] 50/50 (100%)  0 to go\n",
      "[                                        ]  1/50 (  2%) 49 to go"
     ]
    },
    {
     "name": "stdout",
     "output_type": "stream",
     "text": [
      "Data_174 collected, writting to file: output/Dec15_174\n",
      "output/Dec15_174 is written @ 2017-12-15 10:40:21.153205\n"
     ]
    },
    {
     "name": "stderr",
     "output_type": "stream",
     "text": [
      "[======                                  ]  8/50 ( 16%) 42 to go"
     ]
    },
    {
     "name": "stdout",
     "output_type": "stream",
     "text": [
      "service goes offline @ 10:43\n"
     ]
    },
    {
     "name": "stderr",
     "output_type": "stream",
     "text": [
      "[========================================] 50/50 (100%)  0 to go\n",
      "[                                        ]  1/50 (  2%) 49 to go"
     ]
    },
    {
     "name": "stdout",
     "output_type": "stream",
     "text": [
      "Data_175 collected, writting to file: output/Dec15_175\n",
      "output/Dec15_175 is written @ 2017-12-15 11:05:32.199491\n"
     ]
    },
    {
     "name": "stderr",
     "output_type": "stream",
     "text": [
      "[========================================] 50/50 (100%)  0 to go\n",
      "[                                        ]  1/50 (  2%) 49 to go"
     ]
    },
    {
     "name": "stdout",
     "output_type": "stream",
     "text": [
      "Data_176 collected, writting to file: output/Dec15_176\n",
      "output/Dec15_176 is written @ 2017-12-15 11:30:43.636412\n"
     ]
    },
    {
     "name": "stderr",
     "output_type": "stream",
     "text": [
      "[========================================] 50/50 (100%)  0 to go\n",
      "[                                        ]  1/50 (  2%) 49 to go"
     ]
    },
    {
     "name": "stdout",
     "output_type": "stream",
     "text": [
      "Data_177 collected, writting to file: output/Dec15_177\n",
      "output/Dec15_177 is written @ 2017-12-15 11:55:54.835735\n"
     ]
    },
    {
     "name": "stderr",
     "output_type": "stream",
     "text": [
      "[========================================] 50/50 (100%)  0 to go\n",
      "[                                        ]  1/50 (  2%) 49 to go"
     ]
    },
    {
     "name": "stdout",
     "output_type": "stream",
     "text": [
      "Data_178 collected, writting to file: output/Dec15_178\n",
      "output/Dec15_178 is written @ 2017-12-15 12:21:09.052698\n"
     ]
    },
    {
     "name": "stderr",
     "output_type": "stream",
     "text": [
      "[====                                    ]  6/50 ( 12%) 44 to go"
     ]
    },
    {
     "name": "stdout",
     "output_type": "stream",
     "text": [
      "service goes offline @ 12:23\n"
     ]
    },
    {
     "name": "stderr",
     "output_type": "stream",
     "text": [
      "[========================================] 50/50 (100%)  0 to go\n",
      "[                                        ]  1/50 (  2%) 49 to go"
     ]
    },
    {
     "name": "stdout",
     "output_type": "stream",
     "text": [
      "Data_179 collected, writting to file: output/Dec15_179\n",
      "output/Dec15_179 is written @ 2017-12-15 12:46:19.728199\n"
     ]
    },
    {
     "name": "stderr",
     "output_type": "stream",
     "text": [
      "[===================                     ] 24/50 ( 48%) 26 to go"
     ]
    },
    {
     "name": "stdout",
     "output_type": "stream",
     "text": [
      "service goes offline @ 12:57\n"
     ]
    },
    {
     "name": "stderr",
     "output_type": "stream",
     "text": [
      "[========================================] 50/50 (100%)  0 to go\n",
      "[                                        ]  1/50 (  2%) 49 to go"
     ]
    },
    {
     "name": "stdout",
     "output_type": "stream",
     "text": [
      "Data_180 collected, writting to file: output/Dec15_180\n",
      "output/Dec15_180 is written @ 2017-12-15 13:11:32.745158\n"
     ]
    },
    {
     "name": "stderr",
     "output_type": "stream",
     "text": [
      "[========================================] 50/50 (100%)  0 to go\n",
      "[                                        ]  1/50 (  2%) 49 to go"
     ]
    },
    {
     "name": "stdout",
     "output_type": "stream",
     "text": [
      "Data_181 collected, writting to file: output/Dec15_181\n",
      "output/Dec15_181 is written @ 2017-12-15 13:36:44.975708\n"
     ]
    },
    {
     "name": "stderr",
     "output_type": "stream",
     "text": [
      "[====                                    ]  6/50 ( 12%) 44 to go"
     ]
    },
    {
     "name": "stdout",
     "output_type": "stream",
     "text": [
      "service goes offline @ 13:39\n"
     ]
    },
    {
     "name": "stderr",
     "output_type": "stream",
     "text": [
      "[====================================    ] 46/50 ( 92%)  4 to go"
     ]
    },
    {
     "name": "stdout",
     "output_type": "stream",
     "text": [
      "service goes offline @ 13:59\n"
     ]
    },
    {
     "name": "stderr",
     "output_type": "stream",
     "text": [
      "[========================================] 50/50 (100%)  0 to go"
     ]
    },
    {
     "name": "stdout",
     "output_type": "stream",
     "text": [
      "service goes offline @ 14:1\n"
     ]
    },
    {
     "name": "stderr",
     "output_type": "stream",
     "text": [
      "\r",
      "[========================================] 50/50 (100%)  0 to go\n",
      "\r",
      "[                                        ]  1/50 (  2%) 49 to go"
     ]
    },
    {
     "name": "stdout",
     "output_type": "stream",
     "text": [
      "Data_182 collected, writting to file: output/Dec15_182\n",
      "output/Dec15_182 is written @ 2017-12-15 14:01:59.045425\n"
     ]
    },
    {
     "name": "stderr",
     "output_type": "stream",
     "text": [
      "[========================================] 50/50 (100%)  0 to go\n",
      "[                                        ]  1/50 (  2%) 49 to go"
     ]
    },
    {
     "name": "stdout",
     "output_type": "stream",
     "text": [
      "Data_183 collected, writting to file: output/Dec15_183\n",
      "output/Dec15_183 is written @ 2017-12-15 14:27:12.567252\n"
     ]
    },
    {
     "name": "stderr",
     "output_type": "stream",
     "text": [
      "[========================================] 50/50 (100%)  0 to go\n",
      "[                                        ]  1/50 (  2%) 49 to go"
     ]
    },
    {
     "name": "stdout",
     "output_type": "stream",
     "text": [
      "Data_184 collected, writting to file: output/Dec15_184\n",
      "output/Dec15_184 is written @ 2017-12-15 14:52:25.262070\n"
     ]
    },
    {
     "name": "stderr",
     "output_type": "stream",
     "text": [
      "[========================================] 50/50 (100%)  0 to go\n",
      "[                                        ]  1/50 (  2%) 49 to go"
     ]
    },
    {
     "name": "stdout",
     "output_type": "stream",
     "text": [
      "Data_185 collected, writting to file: output/Dec15_185\n",
      "output/Dec15_185 is written @ 2017-12-15 15:17:36.750278\n"
     ]
    },
    {
     "name": "stderr",
     "output_type": "stream",
     "text": [
      "[========================================] 50/50 (100%)  0 to go\n",
      "[                                        ]  1/50 (  2%) 49 to go"
     ]
    },
    {
     "name": "stdout",
     "output_type": "stream",
     "text": [
      "Data_186 collected, writting to file: output/Dec15_186\n",
      "output/Dec15_186 is written @ 2017-12-15 15:42:51.634923\n"
     ]
    },
    {
     "name": "stderr",
     "output_type": "stream",
     "text": [
      "[========================================] 50/50 (100%)  0 to go\n",
      "[                                        ]  1/50 (  2%) 49 to go"
     ]
    },
    {
     "name": "stdout",
     "output_type": "stream",
     "text": [
      "Data_187 collected, writting to file: output/Dec15_187\n",
      "output/Dec15_187 is written @ 2017-12-15 16:08:08.052550\n",
      "service goes offline @ 16:8\n"
     ]
    },
    {
     "name": "stderr",
     "output_type": "stream",
     "text": [
      "[====================                    ] 26/50 ( 52%) 24 to go"
     ]
    },
    {
     "name": "stdout",
     "output_type": "stream",
     "text": [
      "service goes offline @ 16:20\n"
     ]
    },
    {
     "name": "stderr",
     "output_type": "stream",
     "text": [
      "[========================================] 50/50 (100%)  0 to go\n",
      "[                                        ]  1/50 (  2%) 49 to go"
     ]
    },
    {
     "name": "stdout",
     "output_type": "stream",
     "text": [
      "Data_188 collected, writting to file: output/Dec15_188\n",
      "output/Dec15_188 is written @ 2017-12-15 16:33:24.322318\n"
     ]
    },
    {
     "name": "stderr",
     "output_type": "stream",
     "text": [
      "[========================================] 50/50 (100%)  0 to go\n",
      "[                                        ]  1/50 (  2%) 49 to go"
     ]
    },
    {
     "name": "stdout",
     "output_type": "stream",
     "text": [
      "Data_189 collected, writting to file: output/Dec15_189\n",
      "output/Dec15_189 is written @ 2017-12-15 16:58:38.307686\n"
     ]
    },
    {
     "name": "stderr",
     "output_type": "stream",
     "text": [
      "[=====================================   ] 47/50 ( 94%)  3 to go"
     ]
    },
    {
     "name": "stdout",
     "output_type": "stream",
     "text": [
      "service goes offline @ 17:22\n"
     ]
    },
    {
     "name": "stderr",
     "output_type": "stream",
     "text": [
      "[========================================] 50/50 (100%)  0 to go\n",
      "[                                        ]  1/50 (  2%) 49 to go"
     ]
    },
    {
     "name": "stdout",
     "output_type": "stream",
     "text": [
      "Data_190 collected, writting to file: output/Dec15_190\n",
      "output/Dec15_190 is written @ 2017-12-15 17:24:02.510268\n"
     ]
    },
    {
     "name": "stderr",
     "output_type": "stream",
     "text": [
      "[========================================] 50/50 (100%)  0 to go\n",
      "[                                        ]  1/50 (  2%) 49 to go"
     ]
    },
    {
     "name": "stdout",
     "output_type": "stream",
     "text": [
      "Data_191 collected, writting to file: output/Dec15_191\n",
      "output/Dec15_191 is written @ 2017-12-15 17:49:21.759319\n"
     ]
    },
    {
     "name": "stderr",
     "output_type": "stream",
     "text": [
      "[========================================] 50/50 (100%)  0 to go\n",
      "[                                        ]  1/50 (  2%) 49 to go"
     ]
    },
    {
     "name": "stdout",
     "output_type": "stream",
     "text": [
      "Data_192 collected, writting to file: output/Dec15_192\n",
      "output/Dec15_192 is written @ 2017-12-15 18:14:37.406381\n"
     ]
    },
    {
     "name": "stderr",
     "output_type": "stream",
     "text": [
      "[======                                  ]  8/50 ( 16%) 42 to go"
     ]
    },
    {
     "name": "stdout",
     "output_type": "stream",
     "text": [
      "service goes offline @ 18:18\n"
     ]
    },
    {
     "name": "stderr",
     "output_type": "stream",
     "text": [
      "\r",
      "[=======                                 ]  9/50 ( 18%) 41 to go"
     ]
    },
    {
     "name": "stdout",
     "output_type": "stream",
     "text": [
      "service goes offline @ 18:18\n"
     ]
    },
    {
     "name": "stderr",
     "output_type": "stream",
     "text": [
      "[========================================] 50/50 (100%)  0 to go\n",
      "[                                        ]  1/50 (  2%) 49 to go"
     ]
    },
    {
     "name": "stdout",
     "output_type": "stream",
     "text": [
      "Data_193 collected, writting to file: output/Dec15_193\n",
      "output/Dec15_193 is written @ 2017-12-15 18:39:52.342557\n"
     ]
    },
    {
     "name": "stderr",
     "output_type": "stream",
     "text": [
      "[========================================] 50/50 (100%)  0 to go\n",
      "[                                        ]  1/50 (  2%) 49 to go"
     ]
    },
    {
     "name": "stdout",
     "output_type": "stream",
     "text": [
      "Data_194 collected, writting to file: output/Dec15_194\n",
      "output/Dec15_194 is written @ 2017-12-15 19:05:06.095188\n"
     ]
    },
    {
     "name": "stderr",
     "output_type": "stream",
     "text": [
      "[========================================] 50/50 (100%)  0 to go\n",
      "[                                        ]  1/50 (  2%) 49 to go"
     ]
    },
    {
     "name": "stdout",
     "output_type": "stream",
     "text": [
      "Data_195 collected, writting to file: output/Dec15_195\n",
      "output/Dec15_195 is written @ 2017-12-15 19:30:23.820207\n"
     ]
    },
    {
     "name": "stderr",
     "output_type": "stream",
     "text": [
      "[========================================] 50/50 (100%)  0 to go\n",
      "[                                        ]  1/50 (  2%) 49 to go"
     ]
    },
    {
     "name": "stdout",
     "output_type": "stream",
     "text": [
      "Data_196 collected, writting to file: output/Dec15_196\n",
      "output/Dec15_196 is written @ 2017-12-15 19:55:34.903958\n"
     ]
    },
    {
     "name": "stderr",
     "output_type": "stream",
     "text": [
      "[========================================] 50/50 (100%)  0 to go\n",
      "[                                        ]  1/50 (  2%) 49 to go"
     ]
    },
    {
     "name": "stdout",
     "output_type": "stream",
     "text": [
      "Data_197 collected, writting to file: output/Dec15_197\n",
      "output/Dec15_197 is written @ 2017-12-15 20:20:47.678385\n"
     ]
    },
    {
     "name": "stderr",
     "output_type": "stream",
     "text": [
      "[========================================] 50/50 (100%)  0 to go\n",
      "[                                        ]  1/50 (  2%) 49 to go"
     ]
    },
    {
     "name": "stdout",
     "output_type": "stream",
     "text": [
      "Data_198 collected, writting to file: output/Dec15_198\n",
      "output/Dec15_198 is written @ 2017-12-15 20:45:58.638407\n"
     ]
    },
    {
     "name": "stderr",
     "output_type": "stream",
     "text": [
      "[========================================] 50/50 (100%)  0 to go\n",
      "[                                        ]  1/50 (  2%) 49 to go"
     ]
    },
    {
     "name": "stdout",
     "output_type": "stream",
     "text": [
      "Data_199 collected, writting to file: output/Dec15_199\n",
      "output/Dec15_199 is written @ 2017-12-15 21:11:13.036156\n"
     ]
    },
    {
     "name": "stderr",
     "output_type": "stream",
     "text": [
      "[========================================] 50/50 (100%)  0 to go\n",
      "[                                        ]  1/50 (  2%) 49 to go"
     ]
    },
    {
     "name": "stdout",
     "output_type": "stream",
     "text": [
      "Data_200 collected, writting to file: output/Dec15_200\n",
      "output/Dec15_200 is written @ 2017-12-15 21:36:32.995083\n"
     ]
    },
    {
     "name": "stderr",
     "output_type": "stream",
     "text": [
      "[========================================] 50/50 (100%)  0 to go\n",
      "[                                        ]  1/50 (  2%) 49 to go"
     ]
    },
    {
     "name": "stdout",
     "output_type": "stream",
     "text": [
      "Data_201 collected, writting to file: output/Dec15_201\n",
      "output/Dec15_201 is written @ 2017-12-15 22:01:43.192246\n"
     ]
    },
    {
     "name": "stderr",
     "output_type": "stream",
     "text": [
      "[========================================] 50/50 (100%)  0 to go\n",
      "[                                        ]  1/50 (  2%) 49 to go"
     ]
    },
    {
     "name": "stdout",
     "output_type": "stream",
     "text": [
      "Data_202 collected, writting to file: output/Dec15_202\n",
      "output/Dec15_202 is written @ 2017-12-15 22:26:53.817255\n"
     ]
    },
    {
     "name": "stderr",
     "output_type": "stream",
     "text": [
      "[================                        ] 21/50 ( 42%) 29 to go"
     ]
    },
    {
     "name": "stdout",
     "output_type": "stream",
     "text": [
      "service goes offline @ 22:36\n"
     ]
    },
    {
     "name": "stderr",
     "output_type": "stream",
     "text": [
      "[========================================] 50/50 (100%)  0 to go\n",
      "[                                        ]  1/50 (  2%) 49 to go"
     ]
    },
    {
     "name": "stdout",
     "output_type": "stream",
     "text": [
      "Data_203 collected, writting to file: output/Dec15_203\n",
      "output/Dec15_203 is written @ 2017-12-15 22:52:04.784329\n"
     ]
    },
    {
     "name": "stderr",
     "output_type": "stream",
     "text": [
      "[========================================] 50/50 (100%)  0 to go\n",
      "[                                        ]  1/50 (  2%) 49 to go"
     ]
    },
    {
     "name": "stdout",
     "output_type": "stream",
     "text": [
      "Data_204 collected, writting to file: output/Dec15_204\n",
      "output/Dec15_204 is written @ 2017-12-15 23:17:18.020501\n"
     ]
    },
    {
     "name": "stderr",
     "output_type": "stream",
     "text": [
      "[========================================] 50/50 (100%)  0 to go\n",
      "[                                        ]  1/50 (  2%) 49 to go"
     ]
    },
    {
     "name": "stdout",
     "output_type": "stream",
     "text": [
      "Data_205 collected, writting to file: output/Dec15_205\n",
      "output/Dec15_205 is written @ 2017-12-15 23:42:32.081917\n"
     ]
    },
    {
     "name": "stderr",
     "output_type": "stream",
     "text": [
      "[========================================] 50/50 (100%)  0 to go\n",
      "[                                        ]  1/50 (  2%) 49 to go"
     ]
    },
    {
     "name": "stdout",
     "output_type": "stream",
     "text": [
      "Data_206 collected, writting to file: output/Dec15_206\n",
      "output/Dec15_206 is written @ 2017-12-16 00:07:48.289703\n"
     ]
    },
    {
     "name": "stderr",
     "output_type": "stream",
     "text": [
      "[====================                    ] 25/50 ( 50%) 25 to go"
     ]
    },
    {
     "name": "stdout",
     "output_type": "stream",
     "text": [
      "service goes offline @ 0:19\n"
     ]
    },
    {
     "name": "stderr",
     "output_type": "stream",
     "text": [
      "[========================================] 50/50 (100%)  0 to go\n",
      "[                                        ]  1/50 (  2%) 49 to go"
     ]
    },
    {
     "name": "stdout",
     "output_type": "stream",
     "text": [
      "Data_207 collected, writting to file: output/Dec16_207\n",
      "output/Dec16_207 is written @ 2017-12-16 00:33:01.994963\n"
     ]
    },
    {
     "name": "stderr",
     "output_type": "stream",
     "text": [
      "[========================================] 50/50 (100%)  0 to go\n",
      "[                                        ]  1/50 (  2%) 49 to go"
     ]
    },
    {
     "name": "stdout",
     "output_type": "stream",
     "text": [
      "Data_208 collected, writting to file: output/Dec16_208\n",
      "output/Dec16_208 is written @ 2017-12-16 00:58:12.638494\n"
     ]
    },
    {
     "name": "stderr",
     "output_type": "stream",
     "text": [
      "[========                                ] 11/50 ( 22%) 39 to go"
     ]
    },
    {
     "name": "stdout",
     "output_type": "stream",
     "text": [
      "service goes offline @ 1:3\n"
     ]
    },
    {
     "name": "stderr",
     "output_type": "stream",
     "text": [
      "\r",
      "[=========                               ] 12/50 ( 24%) 38 to go"
     ]
    },
    {
     "name": "stdout",
     "output_type": "stream",
     "text": [
      "service goes offline @ 1:3\n"
     ]
    },
    {
     "name": "stderr",
     "output_type": "stream",
     "text": [
      "\r",
      "[==========                              ] 13/50 ( 26%) 37 to go"
     ]
    },
    {
     "name": "stdout",
     "output_type": "stream",
     "text": [
      "service goes offline @ 1:4\n"
     ]
    },
    {
     "name": "stderr",
     "output_type": "stream",
     "text": [
      "\r",
      "[===========                             ] 14/50 ( 28%) 36 to go"
     ]
    },
    {
     "name": "stdout",
     "output_type": "stream",
     "text": [
      "service goes offline @ 1:4\n"
     ]
    },
    {
     "name": "stderr",
     "output_type": "stream",
     "text": [
      "\r",
      "[============                            ] 15/50 ( 30%) 35 to go"
     ]
    },
    {
     "name": "stdout",
     "output_type": "stream",
     "text": [
      "service goes offline @ 1:5\n"
     ]
    },
    {
     "name": "stderr",
     "output_type": "stream",
     "text": [
      "\r",
      "[============                            ] 16/50 ( 32%) 34 to go"
     ]
    },
    {
     "name": "stdout",
     "output_type": "stream",
     "text": [
      "service goes offline @ 1:5\n"
     ]
    },
    {
     "name": "stderr",
     "output_type": "stream",
     "text": [
      "\r",
      "[=============                           ] 17/50 ( 34%) 33 to go"
     ]
    },
    {
     "name": "stdout",
     "output_type": "stream",
     "text": [
      "service goes offline @ 1:6\n"
     ]
    },
    {
     "name": "stderr",
     "output_type": "stream",
     "text": [
      "\r",
      "[==============                          ] 18/50 ( 36%) 32 to go"
     ]
    },
    {
     "name": "stdout",
     "output_type": "stream",
     "text": [
      "service goes offline @ 1:6\n"
     ]
    },
    {
     "name": "stderr",
     "output_type": "stream",
     "text": [
      "\r",
      "[===============                         ] 19/50 ( 38%) 31 to go"
     ]
    },
    {
     "name": "stdout",
     "output_type": "stream",
     "text": [
      "service goes offline @ 1:7\n"
     ]
    },
    {
     "name": "stderr",
     "output_type": "stream",
     "text": [
      "\r",
      "[================                        ] 20/50 ( 40%) 30 to go"
     ]
    },
    {
     "name": "stdout",
     "output_type": "stream",
     "text": [
      "service goes offline @ 1:7\n"
     ]
    },
    {
     "name": "stderr",
     "output_type": "stream",
     "text": [
      "\r",
      "[================                        ] 21/50 ( 42%) 29 to go"
     ]
    },
    {
     "name": "stdout",
     "output_type": "stream",
     "text": [
      "service goes offline @ 1:8\n"
     ]
    },
    {
     "name": "stderr",
     "output_type": "stream",
     "text": [
      "\r",
      "[=================                       ] 22/50 ( 44%) 28 to go"
     ]
    },
    {
     "name": "stdout",
     "output_type": "stream",
     "text": [
      "service goes offline @ 1:8\n"
     ]
    },
    {
     "name": "stderr",
     "output_type": "stream",
     "text": [
      "\r",
      "[==================                      ] 23/50 ( 46%) 27 to go"
     ]
    },
    {
     "name": "stdout",
     "output_type": "stream",
     "text": [
      "service goes offline @ 1:9\n"
     ]
    },
    {
     "name": "stderr",
     "output_type": "stream",
     "text": [
      "\r",
      "[===================                     ] 24/50 ( 48%) 26 to go"
     ]
    },
    {
     "name": "stdout",
     "output_type": "stream",
     "text": [
      "service goes offline @ 1:9\n"
     ]
    },
    {
     "name": "stderr",
     "output_type": "stream",
     "text": [
      "\r",
      "[====================                    ] 25/50 ( 50%) 25 to go"
     ]
    },
    {
     "name": "stdout",
     "output_type": "stream",
     "text": [
      "service goes offline @ 1:10\n"
     ]
    },
    {
     "name": "stderr",
     "output_type": "stream",
     "text": [
      "\r",
      "[====================                    ] 26/50 ( 52%) 24 to go"
     ]
    },
    {
     "name": "stdout",
     "output_type": "stream",
     "text": [
      "service goes offline @ 1:10\n"
     ]
    },
    {
     "name": "stderr",
     "output_type": "stream",
     "text": [
      "\r",
      "[=====================                   ] 27/50 ( 54%) 23 to go"
     ]
    },
    {
     "name": "stdout",
     "output_type": "stream",
     "text": [
      "service goes offline @ 1:11\n"
     ]
    },
    {
     "name": "stderr",
     "output_type": "stream",
     "text": [
      "\r",
      "[======================                  ] 28/50 ( 56%) 22 to go"
     ]
    },
    {
     "name": "stdout",
     "output_type": "stream",
     "text": [
      "service goes offline @ 1:11\n"
     ]
    },
    {
     "name": "stderr",
     "output_type": "stream",
     "text": [
      "\r",
      "[=======================                 ] 29/50 ( 57%) 21 to go"
     ]
    },
    {
     "name": "stdout",
     "output_type": "stream",
     "text": [
      "service goes offline @ 1:12\n"
     ]
    },
    {
     "name": "stderr",
     "output_type": "stream",
     "text": [
      "\r",
      "[========================                ] 30/50 ( 60%) 20 to go"
     ]
    },
    {
     "name": "stdout",
     "output_type": "stream",
     "text": [
      "service goes offline @ 1:12\n"
     ]
    },
    {
     "name": "stderr",
     "output_type": "stream",
     "text": [
      "\r",
      "[========================                ] 31/50 ( 62%) 19 to go"
     ]
    },
    {
     "name": "stdout",
     "output_type": "stream",
     "text": [
      "service goes offline @ 1:13\n"
     ]
    },
    {
     "name": "stderr",
     "output_type": "stream",
     "text": [
      "\r",
      "[=========================               ] 32/50 ( 64%) 18 to go"
     ]
    },
    {
     "name": "stdout",
     "output_type": "stream",
     "text": [
      "service goes offline @ 1:13\n"
     ]
    },
    {
     "name": "stderr",
     "output_type": "stream",
     "text": [
      "\r",
      "[==========================              ] 33/50 ( 66%) 17 to go"
     ]
    },
    {
     "name": "stdout",
     "output_type": "stream",
     "text": [
      "service goes offline @ 1:14\n"
     ]
    },
    {
     "name": "stderr",
     "output_type": "stream",
     "text": [
      "\r",
      "[===========================             ] 34/50 ( 68%) 16 to go"
     ]
    },
    {
     "name": "stdout",
     "output_type": "stream",
     "text": [
      "service goes offline @ 1:14\n"
     ]
    },
    {
     "name": "stderr",
     "output_type": "stream",
     "text": [
      "\r",
      "[============================            ] 35/50 ( 70%) 15 to go"
     ]
    },
    {
     "name": "stdout",
     "output_type": "stream",
     "text": [
      "service goes offline @ 1:15\n"
     ]
    },
    {
     "name": "stderr",
     "output_type": "stream",
     "text": [
      "\r",
      "[============================            ] 36/50 ( 72%) 14 to go"
     ]
    },
    {
     "name": "stdout",
     "output_type": "stream",
     "text": [
      "service goes offline @ 1:15\n"
     ]
    },
    {
     "name": "stderr",
     "output_type": "stream",
     "text": [
      "\r",
      "[=============================           ] 37/50 ( 74%) 13 to go"
     ]
    },
    {
     "name": "stdout",
     "output_type": "stream",
     "text": [
      "service goes offline @ 1:16\n"
     ]
    },
    {
     "name": "stderr",
     "output_type": "stream",
     "text": [
      "\r",
      "[==============================          ] 38/50 ( 76%) 12 to go"
     ]
    },
    {
     "name": "stdout",
     "output_type": "stream",
     "text": [
      "service goes offline @ 1:16\n"
     ]
    },
    {
     "name": "stderr",
     "output_type": "stream",
     "text": [
      "\r",
      "[===============================         ] 39/50 ( 78%) 11 to go"
     ]
    },
    {
     "name": "stdout",
     "output_type": "stream",
     "text": [
      "service goes offline @ 1:17\n"
     ]
    },
    {
     "name": "stderr",
     "output_type": "stream",
     "text": [
      "\r",
      "[================================        ] 40/50 ( 80%) 10 to go"
     ]
    },
    {
     "name": "stdout",
     "output_type": "stream",
     "text": [
      "service goes offline @ 1:17\n"
     ]
    },
    {
     "name": "stderr",
     "output_type": "stream",
     "text": [
      "\r",
      "[================================        ] 41/50 ( 82%)  9 to go"
     ]
    },
    {
     "name": "stdout",
     "output_type": "stream",
     "text": [
      "service goes offline @ 1:18\n"
     ]
    },
    {
     "name": "stderr",
     "output_type": "stream",
     "text": [
      "\r",
      "[=================================       ] 42/50 ( 84%)  8 to go"
     ]
    },
    {
     "name": "stdout",
     "output_type": "stream",
     "text": [
      "service goes offline @ 1:18\n"
     ]
    },
    {
     "name": "stderr",
     "output_type": "stream",
     "text": [
      "\r",
      "[==================================      ] 43/50 ( 86%)  7 to go"
     ]
    },
    {
     "name": "stdout",
     "output_type": "stream",
     "text": [
      "service goes offline @ 1:19\n"
     ]
    },
    {
     "name": "stderr",
     "output_type": "stream",
     "text": [
      "\r",
      "[===================================     ] 44/50 ( 88%)  6 to go"
     ]
    },
    {
     "name": "stdout",
     "output_type": "stream",
     "text": [
      "service goes offline @ 1:19\n"
     ]
    },
    {
     "name": "stderr",
     "output_type": "stream",
     "text": [
      "\r",
      "[====================================    ] 45/50 ( 90%)  5 to go"
     ]
    },
    {
     "name": "stdout",
     "output_type": "stream",
     "text": [
      "service goes offline @ 1:20\n"
     ]
    },
    {
     "name": "stderr",
     "output_type": "stream",
     "text": [
      "\r",
      "[====================================    ] 46/50 ( 92%)  4 to go"
     ]
    },
    {
     "name": "stdout",
     "output_type": "stream",
     "text": [
      "service goes offline @ 1:20\n"
     ]
    },
    {
     "name": "stderr",
     "output_type": "stream",
     "text": [
      "\r",
      "[=====================================   ] 47/50 ( 94%)  3 to go"
     ]
    },
    {
     "name": "stdout",
     "output_type": "stream",
     "text": [
      "service goes offline @ 1:21\n"
     ]
    },
    {
     "name": "stderr",
     "output_type": "stream",
     "text": [
      "\r",
      "[======================================  ] 48/50 ( 96%)  2 to go"
     ]
    },
    {
     "name": "stdout",
     "output_type": "stream",
     "text": [
      "service goes offline @ 1:21\n"
     ]
    },
    {
     "name": "stderr",
     "output_type": "stream",
     "text": [
      "\r",
      "[======================================= ] 49/50 ( 98%)  1 to go"
     ]
    },
    {
     "name": "stdout",
     "output_type": "stream",
     "text": [
      "service goes offline @ 1:22\n"
     ]
    },
    {
     "name": "stderr",
     "output_type": "stream",
     "text": [
      "\r",
      "[========================================] 50/50 (100%)  0 to go"
     ]
    },
    {
     "name": "stdout",
     "output_type": "stream",
     "text": [
      "service goes offline @ 1:22\n"
     ]
    },
    {
     "name": "stderr",
     "output_type": "stream",
     "text": [
      "\r",
      "[========================================] 50/50 (100%)  0 to go\n",
      "\r",
      "[                                        ]  1/50 (  2%) 49 to go"
     ]
    },
    {
     "name": "stdout",
     "output_type": "stream",
     "text": [
      "Data_209 collected, writting to file: output/Dec16_209\n",
      "output/Dec16_209 is written @ 2017-12-16 01:23:20.746249\n",
      "service goes offline @ 1:23\n"
     ]
    },
    {
     "name": "stderr",
     "output_type": "stream",
     "text": [
      "\r",
      "[=                                       ]  2/50 (  4%) 48 to go"
     ]
    },
    {
     "name": "stdout",
     "output_type": "stream",
     "text": [
      "service goes offline @ 1:23\n"
     ]
    },
    {
     "name": "stderr",
     "output_type": "stream",
     "text": [
      "\r",
      "[==                                      ]  3/50 (  6%) 47 to go"
     ]
    },
    {
     "name": "stdout",
     "output_type": "stream",
     "text": [
      "service goes offline @ 1:24\n"
     ]
    },
    {
     "name": "stderr",
     "output_type": "stream",
     "text": [
      "\r",
      "[===                                     ]  4/50 (  8%) 46 to go"
     ]
    },
    {
     "name": "stdout",
     "output_type": "stream",
     "text": [
      "service goes offline @ 1:24\n"
     ]
    },
    {
     "name": "stderr",
     "output_type": "stream",
     "text": [
      "\r",
      "[====                                    ]  5/50 ( 10%) 45 to go"
     ]
    },
    {
     "name": "stdout",
     "output_type": "stream",
     "text": [
      "service goes offline @ 1:25\n"
     ]
    },
    {
     "name": "stderr",
     "output_type": "stream",
     "text": [
      "\r",
      "[====                                    ]  6/50 ( 12%) 44 to go"
     ]
    },
    {
     "name": "stdout",
     "output_type": "stream",
     "text": [
      "service goes offline @ 1:25\n"
     ]
    },
    {
     "name": "stderr",
     "output_type": "stream",
     "text": [
      "\r",
      "[=====                                   ]  7/50 ( 14%) 43 to go"
     ]
    },
    {
     "name": "stdout",
     "output_type": "stream",
     "text": [
      "service goes offline @ 1:26\n"
     ]
    },
    {
     "name": "stderr",
     "output_type": "stream",
     "text": [
      "\r",
      "[======                                  ]  8/50 ( 16%) 42 to go"
     ]
    },
    {
     "name": "stdout",
     "output_type": "stream",
     "text": [
      "service goes offline @ 1:26\n"
     ]
    },
    {
     "name": "stderr",
     "output_type": "stream",
     "text": [
      "\r",
      "[=======                                 ]  9/50 ( 18%) 41 to go"
     ]
    },
    {
     "name": "stdout",
     "output_type": "stream",
     "text": [
      "service goes offline @ 1:27\n"
     ]
    },
    {
     "name": "stderr",
     "output_type": "stream",
     "text": [
      "\r",
      "[========                                ] 10/50 ( 20%) 40 to go"
     ]
    },
    {
     "name": "stdout",
     "output_type": "stream",
     "text": [
      "service goes offline @ 1:27\n"
     ]
    },
    {
     "name": "stderr",
     "output_type": "stream",
     "text": [
      "\r",
      "[========                                ] 11/50 ( 22%) 39 to go"
     ]
    },
    {
     "name": "stdout",
     "output_type": "stream",
     "text": [
      "service goes offline @ 1:28\n"
     ]
    },
    {
     "name": "stderr",
     "output_type": "stream",
     "text": [
      "\r",
      "[=========                               ] 12/50 ( 24%) 38 to go"
     ]
    },
    {
     "name": "stdout",
     "output_type": "stream",
     "text": [
      "service goes offline @ 1:28\n"
     ]
    },
    {
     "name": "stderr",
     "output_type": "stream",
     "text": [
      "\r",
      "[==========                              ] 13/50 ( 26%) 37 to go"
     ]
    },
    {
     "name": "stdout",
     "output_type": "stream",
     "text": [
      "service goes offline @ 1:29\n"
     ]
    },
    {
     "name": "stderr",
     "output_type": "stream",
     "text": [
      "\r",
      "[===========                             ] 14/50 ( 28%) 36 to go"
     ]
    },
    {
     "name": "stdout",
     "output_type": "stream",
     "text": [
      "service goes offline @ 1:29\n"
     ]
    },
    {
     "name": "stderr",
     "output_type": "stream",
     "text": [
      "\r",
      "[============                            ] 15/50 ( 30%) 35 to go"
     ]
    },
    {
     "name": "stdout",
     "output_type": "stream",
     "text": [
      "service goes offline @ 1:30\n"
     ]
    },
    {
     "name": "stderr",
     "output_type": "stream",
     "text": [
      "\r",
      "[============                            ] 16/50 ( 32%) 34 to go"
     ]
    },
    {
     "name": "stdout",
     "output_type": "stream",
     "text": [
      "service goes offline @ 1:30\n"
     ]
    },
    {
     "name": "stderr",
     "output_type": "stream",
     "text": [
      "\r",
      "[=============                           ] 17/50 ( 34%) 33 to go"
     ]
    },
    {
     "name": "stdout",
     "output_type": "stream",
     "text": [
      "service goes offline @ 1:31\n"
     ]
    },
    {
     "name": "stderr",
     "output_type": "stream",
     "text": [
      "\r",
      "[==============                          ] 18/50 ( 36%) 32 to go"
     ]
    },
    {
     "name": "stdout",
     "output_type": "stream",
     "text": [
      "service goes offline @ 1:31\n"
     ]
    },
    {
     "name": "stderr",
     "output_type": "stream",
     "text": [
      "\r",
      "[===============                         ] 19/50 ( 38%) 31 to go"
     ]
    },
    {
     "name": "stdout",
     "output_type": "stream",
     "text": [
      "service goes offline @ 1:32\n"
     ]
    },
    {
     "name": "stderr",
     "output_type": "stream",
     "text": [
      "\r",
      "[================                        ] 20/50 ( 40%) 30 to go"
     ]
    },
    {
     "name": "stdout",
     "output_type": "stream",
     "text": [
      "service goes offline @ 1:32\n"
     ]
    },
    {
     "name": "stderr",
     "output_type": "stream",
     "text": [
      "\r",
      "[================                        ] 21/50 ( 42%) 29 to go"
     ]
    },
    {
     "name": "stdout",
     "output_type": "stream",
     "text": [
      "service goes offline @ 1:33\n"
     ]
    },
    {
     "name": "stderr",
     "output_type": "stream",
     "text": [
      "\r",
      "[=================                       ] 22/50 ( 44%) 28 to go"
     ]
    },
    {
     "name": "stdout",
     "output_type": "stream",
     "text": [
      "service goes offline @ 1:33\n"
     ]
    },
    {
     "name": "stderr",
     "output_type": "stream",
     "text": [
      "\r",
      "[==================                      ] 23/50 ( 46%) 27 to go"
     ]
    },
    {
     "name": "stdout",
     "output_type": "stream",
     "text": [
      "service goes offline @ 1:34\n"
     ]
    },
    {
     "name": "stderr",
     "output_type": "stream",
     "text": [
      "\r",
      "[===================                     ] 24/50 ( 48%) 26 to go"
     ]
    },
    {
     "name": "stdout",
     "output_type": "stream",
     "text": [
      "service goes offline @ 1:34\n"
     ]
    },
    {
     "name": "stderr",
     "output_type": "stream",
     "text": [
      "\r",
      "[====================                    ] 25/50 ( 50%) 25 to go"
     ]
    },
    {
     "name": "stdout",
     "output_type": "stream",
     "text": [
      "service goes offline @ 1:35\n"
     ]
    },
    {
     "name": "stderr",
     "output_type": "stream",
     "text": [
      "\r",
      "[====================                    ] 26/50 ( 52%) 24 to go"
     ]
    },
    {
     "name": "stdout",
     "output_type": "stream",
     "text": [
      "service goes offline @ 1:35\n"
     ]
    },
    {
     "name": "stderr",
     "output_type": "stream",
     "text": [
      "\r",
      "[=====================                   ] 27/50 ( 54%) 23 to go"
     ]
    },
    {
     "name": "stdout",
     "output_type": "stream",
     "text": [
      "service goes offline @ 1:36\n"
     ]
    },
    {
     "name": "stderr",
     "output_type": "stream",
     "text": [
      "\r",
      "[======================                  ] 28/50 ( 56%) 22 to go"
     ]
    },
    {
     "name": "stdout",
     "output_type": "stream",
     "text": [
      "service goes offline @ 1:36\n"
     ]
    },
    {
     "name": "stderr",
     "output_type": "stream",
     "text": [
      "\r",
      "[=======================                 ] 29/50 ( 57%) 21 to go"
     ]
    },
    {
     "name": "stdout",
     "output_type": "stream",
     "text": [
      "service goes offline @ 1:37\n"
     ]
    },
    {
     "name": "stderr",
     "output_type": "stream",
     "text": [
      "\r",
      "[========================                ] 30/50 ( 60%) 20 to go"
     ]
    },
    {
     "name": "stdout",
     "output_type": "stream",
     "text": [
      "service goes offline @ 1:37\n"
     ]
    },
    {
     "name": "stderr",
     "output_type": "stream",
     "text": [
      "\r",
      "[========================                ] 31/50 ( 62%) 19 to go"
     ]
    },
    {
     "name": "stdout",
     "output_type": "stream",
     "text": [
      "service goes offline @ 1:38\n"
     ]
    },
    {
     "name": "stderr",
     "output_type": "stream",
     "text": [
      "\r",
      "[=========================               ] 32/50 ( 64%) 18 to go"
     ]
    },
    {
     "name": "stdout",
     "output_type": "stream",
     "text": [
      "service goes offline @ 1:38\n"
     ]
    },
    {
     "name": "stderr",
     "output_type": "stream",
     "text": [
      "\r",
      "[==========================              ] 33/50 ( 66%) 17 to go"
     ]
    },
    {
     "name": "stdout",
     "output_type": "stream",
     "text": [
      "service goes offline @ 1:39\n"
     ]
    },
    {
     "name": "stderr",
     "output_type": "stream",
     "text": [
      "\r",
      "[===========================             ] 34/50 ( 68%) 16 to go"
     ]
    },
    {
     "name": "stdout",
     "output_type": "stream",
     "text": [
      "service goes offline @ 1:39\n"
     ]
    },
    {
     "name": "stderr",
     "output_type": "stream",
     "text": [
      "\r",
      "[============================            ] 35/50 ( 70%) 15 to go"
     ]
    },
    {
     "name": "stdout",
     "output_type": "stream",
     "text": [
      "service goes offline @ 1:40\n"
     ]
    },
    {
     "name": "stderr",
     "output_type": "stream",
     "text": [
      "\r",
      "[============================            ] 36/50 ( 72%) 14 to go"
     ]
    },
    {
     "name": "stdout",
     "output_type": "stream",
     "text": [
      "service goes offline @ 1:40\n"
     ]
    },
    {
     "name": "stderr",
     "output_type": "stream",
     "text": [
      "\r",
      "[=============================           ] 37/50 ( 74%) 13 to go"
     ]
    },
    {
     "name": "stdout",
     "output_type": "stream",
     "text": [
      "service goes offline @ 1:41\n"
     ]
    },
    {
     "name": "stderr",
     "output_type": "stream",
     "text": [
      "\r",
      "[==============================          ] 38/50 ( 76%) 12 to go"
     ]
    },
    {
     "name": "stdout",
     "output_type": "stream",
     "text": [
      "service goes offline @ 1:41\n"
     ]
    },
    {
     "name": "stderr",
     "output_type": "stream",
     "text": [
      "\r",
      "[===============================         ] 39/50 ( 78%) 11 to go"
     ]
    },
    {
     "name": "stdout",
     "output_type": "stream",
     "text": [
      "service goes offline @ 1:42\n"
     ]
    },
    {
     "name": "stderr",
     "output_type": "stream",
     "text": [
      "\r",
      "[================================        ] 40/50 ( 80%) 10 to go"
     ]
    },
    {
     "name": "stdout",
     "output_type": "stream",
     "text": [
      "service goes offline @ 1:42\n"
     ]
    },
    {
     "name": "stderr",
     "output_type": "stream",
     "text": [
      "\r",
      "[================================        ] 41/50 ( 82%)  9 to go"
     ]
    },
    {
     "name": "stdout",
     "output_type": "stream",
     "text": [
      "service goes offline @ 1:43\n"
     ]
    },
    {
     "name": "stderr",
     "output_type": "stream",
     "text": [
      "\r",
      "[=================================       ] 42/50 ( 84%)  8 to go"
     ]
    },
    {
     "name": "stdout",
     "output_type": "stream",
     "text": [
      "service goes offline @ 1:43\n"
     ]
    },
    {
     "name": "stderr",
     "output_type": "stream",
     "text": [
      "\r",
      "[==================================      ] 43/50 ( 86%)  7 to go"
     ]
    },
    {
     "name": "stdout",
     "output_type": "stream",
     "text": [
      "service goes offline @ 1:44\n"
     ]
    },
    {
     "name": "stderr",
     "output_type": "stream",
     "text": [
      "\r",
      "[===================================     ] 44/50 ( 88%)  6 to go"
     ]
    },
    {
     "name": "stdout",
     "output_type": "stream",
     "text": [
      "service goes offline @ 1:44\n"
     ]
    },
    {
     "name": "stderr",
     "output_type": "stream",
     "text": [
      "\r",
      "[====================================    ] 45/50 ( 90%)  5 to go"
     ]
    },
    {
     "name": "stdout",
     "output_type": "stream",
     "text": [
      "service goes offline @ 1:45\n"
     ]
    },
    {
     "name": "stderr",
     "output_type": "stream",
     "text": [
      "\r",
      "[====================================    ] 46/50 ( 92%)  4 to go"
     ]
    },
    {
     "name": "stdout",
     "output_type": "stream",
     "text": [
      "service goes offline @ 1:45\n"
     ]
    },
    {
     "name": "stderr",
     "output_type": "stream",
     "text": [
      "\r",
      "[=====================================   ] 47/50 ( 94%)  3 to go"
     ]
    },
    {
     "name": "stdout",
     "output_type": "stream",
     "text": [
      "service goes offline @ 1:46\n"
     ]
    },
    {
     "name": "stderr",
     "output_type": "stream",
     "text": [
      "\r",
      "[======================================  ] 48/50 ( 96%)  2 to go"
     ]
    },
    {
     "name": "stdout",
     "output_type": "stream",
     "text": [
      "service goes offline @ 1:46\n"
     ]
    },
    {
     "name": "stderr",
     "output_type": "stream",
     "text": [
      "\r",
      "[======================================= ] 49/50 ( 98%)  1 to go"
     ]
    },
    {
     "name": "stdout",
     "output_type": "stream",
     "text": [
      "service goes offline @ 1:47\n"
     ]
    },
    {
     "name": "stderr",
     "output_type": "stream",
     "text": [
      "\r",
      "[========================================] 50/50 (100%)  0 to go"
     ]
    },
    {
     "name": "stdout",
     "output_type": "stream",
     "text": [
      "service goes offline @ 1:47\n"
     ]
    },
    {
     "name": "stderr",
     "output_type": "stream",
     "text": [
      "\r",
      "[========================================] 50/50 (100%)  0 to go\n",
      "\r",
      "[                                        ]  1/50 (  2%) 49 to go"
     ]
    },
    {
     "name": "stdout",
     "output_type": "stream",
     "text": [
      "Data_210 collected, writting to file: output/Dec16_210\n",
      "output/Dec16_210 is written @ 2017-12-16 01:48:29.950035\n",
      "service goes offline @ 1:48\n"
     ]
    },
    {
     "name": "stderr",
     "output_type": "stream",
     "text": [
      "\r",
      "[=                                       ]  2/50 (  4%) 48 to go"
     ]
    },
    {
     "name": "stdout",
     "output_type": "stream",
     "text": [
      "service goes offline @ 1:49\n"
     ]
    },
    {
     "name": "stderr",
     "output_type": "stream",
     "text": [
      "\r",
      "[==                                      ]  3/50 (  6%) 47 to go"
     ]
    },
    {
     "name": "stdout",
     "output_type": "stream",
     "text": [
      "service goes offline @ 1:49\n"
     ]
    },
    {
     "name": "stderr",
     "output_type": "stream",
     "text": [
      "\r",
      "[===                                     ]  4/50 (  8%) 46 to go"
     ]
    },
    {
     "name": "stdout",
     "output_type": "stream",
     "text": [
      "service goes offline @ 1:50\n"
     ]
    },
    {
     "name": "stderr",
     "output_type": "stream",
     "text": [
      "\r",
      "[====                                    ]  5/50 ( 10%) 45 to go"
     ]
    },
    {
     "name": "stdout",
     "output_type": "stream",
     "text": [
      "service goes offline @ 1:50\n"
     ]
    },
    {
     "name": "stderr",
     "output_type": "stream",
     "text": [
      "\r",
      "[====                                    ]  6/50 ( 12%) 44 to go"
     ]
    },
    {
     "name": "stdout",
     "output_type": "stream",
     "text": [
      "service goes offline @ 1:51\n"
     ]
    },
    {
     "name": "stderr",
     "output_type": "stream",
     "text": [
      "\r",
      "[=====                                   ]  7/50 ( 14%) 43 to go"
     ]
    },
    {
     "name": "stdout",
     "output_type": "stream",
     "text": [
      "service goes offline @ 1:51\n"
     ]
    },
    {
     "name": "stderr",
     "output_type": "stream",
     "text": [
      "\r",
      "[======                                  ]  8/50 ( 16%) 42 to go"
     ]
    },
    {
     "name": "stdout",
     "output_type": "stream",
     "text": [
      "service goes offline @ 1:52\n"
     ]
    },
    {
     "name": "stderr",
     "output_type": "stream",
     "text": [
      "\r",
      "[=======                                 ]  9/50 ( 18%) 41 to go"
     ]
    },
    {
     "name": "stdout",
     "output_type": "stream",
     "text": [
      "service goes offline @ 1:52\n"
     ]
    },
    {
     "name": "stderr",
     "output_type": "stream",
     "text": [
      "\r",
      "[========                                ] 10/50 ( 20%) 40 to go"
     ]
    },
    {
     "name": "stdout",
     "output_type": "stream",
     "text": [
      "service goes offline @ 1:53\n"
     ]
    },
    {
     "name": "stderr",
     "output_type": "stream",
     "text": [
      "\r",
      "[========                                ] 11/50 ( 22%) 39 to go"
     ]
    },
    {
     "name": "stdout",
     "output_type": "stream",
     "text": [
      "service goes offline @ 1:53\n"
     ]
    },
    {
     "name": "stderr",
     "output_type": "stream",
     "text": [
      "\r",
      "[=========                               ] 12/50 ( 24%) 38 to go"
     ]
    },
    {
     "name": "stdout",
     "output_type": "stream",
     "text": [
      "service goes offline @ 1:54\n"
     ]
    },
    {
     "name": "stderr",
     "output_type": "stream",
     "text": [
      "\r",
      "[==========                              ] 13/50 ( 26%) 37 to go"
     ]
    },
    {
     "name": "stdout",
     "output_type": "stream",
     "text": [
      "service goes offline @ 1:54\n"
     ]
    },
    {
     "name": "stderr",
     "output_type": "stream",
     "text": [
      "\r",
      "[===========                             ] 14/50 ( 28%) 36 to go"
     ]
    },
    {
     "name": "stdout",
     "output_type": "stream",
     "text": [
      "service goes offline @ 1:55\n"
     ]
    },
    {
     "name": "stderr",
     "output_type": "stream",
     "text": [
      "\r",
      "[============                            ] 15/50 ( 30%) 35 to go"
     ]
    },
    {
     "name": "stdout",
     "output_type": "stream",
     "text": [
      "service goes offline @ 1:55\n"
     ]
    },
    {
     "name": "stderr",
     "output_type": "stream",
     "text": [
      "\r",
      "[============                            ] 16/50 ( 32%) 34 to go"
     ]
    },
    {
     "name": "stdout",
     "output_type": "stream",
     "text": [
      "service goes offline @ 1:56\n"
     ]
    },
    {
     "name": "stderr",
     "output_type": "stream",
     "text": [
      "\r",
      "[=============                           ] 17/50 ( 34%) 33 to go"
     ]
    },
    {
     "name": "stdout",
     "output_type": "stream",
     "text": [
      "service goes offline @ 1:56\n"
     ]
    },
    {
     "name": "stderr",
     "output_type": "stream",
     "text": [
      "\r",
      "[==============                          ] 18/50 ( 36%) 32 to go"
     ]
    },
    {
     "name": "stdout",
     "output_type": "stream",
     "text": [
      "service goes offline @ 1:57\n"
     ]
    },
    {
     "name": "stderr",
     "output_type": "stream",
     "text": [
      "\r",
      "[===============                         ] 19/50 ( 38%) 31 to go"
     ]
    },
    {
     "name": "stdout",
     "output_type": "stream",
     "text": [
      "service goes offline @ 1:57\n"
     ]
    },
    {
     "name": "stderr",
     "output_type": "stream",
     "text": [
      "\r",
      "[================                        ] 20/50 ( 40%) 30 to go"
     ]
    },
    {
     "name": "stdout",
     "output_type": "stream",
     "text": [
      "service goes offline @ 1:58\n"
     ]
    },
    {
     "name": "stderr",
     "output_type": "stream",
     "text": [
      "\r",
      "[================                        ] 21/50 ( 42%) 29 to go"
     ]
    },
    {
     "name": "stdout",
     "output_type": "stream",
     "text": [
      "service goes offline @ 1:58\n"
     ]
    },
    {
     "name": "stderr",
     "output_type": "stream",
     "text": [
      "\r",
      "[=================                       ] 22/50 ( 44%) 28 to go"
     ]
    },
    {
     "name": "stdout",
     "output_type": "stream",
     "text": [
      "service goes offline @ 1:59\n"
     ]
    },
    {
     "name": "stderr",
     "output_type": "stream",
     "text": [
      "\r",
      "[==================                      ] 23/50 ( 46%) 27 to go"
     ]
    },
    {
     "name": "stdout",
     "output_type": "stream",
     "text": [
      "service goes offline @ 1:59\n"
     ]
    },
    {
     "name": "stderr",
     "output_type": "stream",
     "text": [
      "\r",
      "[===================                     ] 24/50 ( 48%) 26 to go"
     ]
    },
    {
     "name": "stdout",
     "output_type": "stream",
     "text": [
      "service goes offline @ 2:0\n"
     ]
    },
    {
     "name": "stderr",
     "output_type": "stream",
     "text": [
      "\r",
      "[====================                    ] 25/50 ( 50%) 25 to go"
     ]
    },
    {
     "name": "stdout",
     "output_type": "stream",
     "text": [
      "service goes offline @ 2:0\n"
     ]
    },
    {
     "name": "stderr",
     "output_type": "stream",
     "text": [
      "\r",
      "[====================                    ] 26/50 ( 52%) 24 to go"
     ]
    },
    {
     "name": "stdout",
     "output_type": "stream",
     "text": [
      "service goes offline @ 2:1\n"
     ]
    },
    {
     "name": "stderr",
     "output_type": "stream",
     "text": [
      "\r",
      "[=====================                   ] 27/50 ( 54%) 23 to go"
     ]
    },
    {
     "name": "stdout",
     "output_type": "stream",
     "text": [
      "service goes offline @ 2:1\n"
     ]
    },
    {
     "name": "stderr",
     "output_type": "stream",
     "text": [
      "\r",
      "[======================                  ] 28/50 ( 56%) 22 to go"
     ]
    },
    {
     "name": "stdout",
     "output_type": "stream",
     "text": [
      "service goes offline @ 2:2\n"
     ]
    },
    {
     "name": "stderr",
     "output_type": "stream",
     "text": [
      "\r",
      "[=======================                 ] 29/50 ( 57%) 21 to go"
     ]
    },
    {
     "name": "stdout",
     "output_type": "stream",
     "text": [
      "service goes offline @ 2:2\n"
     ]
    },
    {
     "name": "stderr",
     "output_type": "stream",
     "text": [
      "\r",
      "[========================                ] 30/50 ( 60%) 20 to go"
     ]
    },
    {
     "name": "stdout",
     "output_type": "stream",
     "text": [
      "service goes offline @ 2:3\n"
     ]
    },
    {
     "name": "stderr",
     "output_type": "stream",
     "text": [
      "\r",
      "[========================                ] 31/50 ( 62%) 19 to go"
     ]
    },
    {
     "name": "stdout",
     "output_type": "stream",
     "text": [
      "service goes offline @ 2:3\n"
     ]
    },
    {
     "name": "stderr",
     "output_type": "stream",
     "text": [
      "\r",
      "[=========================               ] 32/50 ( 64%) 18 to go"
     ]
    },
    {
     "name": "stdout",
     "output_type": "stream",
     "text": [
      "service goes offline @ 2:4\n"
     ]
    },
    {
     "name": "stderr",
     "output_type": "stream",
     "text": [
      "\r",
      "[==========================              ] 33/50 ( 66%) 17 to go"
     ]
    },
    {
     "name": "stdout",
     "output_type": "stream",
     "text": [
      "service goes offline @ 2:4\n"
     ]
    },
    {
     "name": "stderr",
     "output_type": "stream",
     "text": [
      "\r",
      "[===========================             ] 34/50 ( 68%) 16 to go"
     ]
    },
    {
     "name": "stdout",
     "output_type": "stream",
     "text": [
      "service goes offline @ 2:5\n"
     ]
    },
    {
     "name": "stderr",
     "output_type": "stream",
     "text": [
      "\r",
      "[============================            ] 35/50 ( 70%) 15 to go"
     ]
    },
    {
     "name": "stdout",
     "output_type": "stream",
     "text": [
      "service goes offline @ 2:5\n"
     ]
    },
    {
     "name": "stderr",
     "output_type": "stream",
     "text": [
      "\r",
      "[============================            ] 36/50 ( 72%) 14 to go"
     ]
    },
    {
     "name": "stdout",
     "output_type": "stream",
     "text": [
      "service goes offline @ 2:6\n"
     ]
    },
    {
     "name": "stderr",
     "output_type": "stream",
     "text": [
      "\r",
      "[=============================           ] 37/50 ( 74%) 13 to go"
     ]
    },
    {
     "name": "stdout",
     "output_type": "stream",
     "text": [
      "service goes offline @ 2:6\n"
     ]
    },
    {
     "name": "stderr",
     "output_type": "stream",
     "text": [
      "\r",
      "[==============================          ] 38/50 ( 76%) 12 to go"
     ]
    },
    {
     "name": "stdout",
     "output_type": "stream",
     "text": [
      "service goes offline @ 2:7\n"
     ]
    },
    {
     "name": "stderr",
     "output_type": "stream",
     "text": [
      "\r",
      "[===============================         ] 39/50 ( 78%) 11 to go"
     ]
    },
    {
     "name": "stdout",
     "output_type": "stream",
     "text": [
      "service goes offline @ 2:7\n"
     ]
    },
    {
     "name": "stderr",
     "output_type": "stream",
     "text": [
      "\r",
      "[================================        ] 40/50 ( 80%) 10 to go"
     ]
    },
    {
     "name": "stdout",
     "output_type": "stream",
     "text": [
      "service goes offline @ 2:8\n"
     ]
    },
    {
     "name": "stderr",
     "output_type": "stream",
     "text": [
      "\r",
      "[================================        ] 41/50 ( 82%)  9 to go"
     ]
    },
    {
     "name": "stdout",
     "output_type": "stream",
     "text": [
      "service goes offline @ 2:8\n"
     ]
    },
    {
     "name": "stderr",
     "output_type": "stream",
     "text": [
      "\r",
      "[=================================       ] 42/50 ( 84%)  8 to go"
     ]
    },
    {
     "name": "stdout",
     "output_type": "stream",
     "text": [
      "service goes offline @ 2:9\n"
     ]
    },
    {
     "name": "stderr",
     "output_type": "stream",
     "text": [
      "\r",
      "[==================================      ] 43/50 ( 86%)  7 to go"
     ]
    },
    {
     "name": "stdout",
     "output_type": "stream",
     "text": [
      "service goes offline @ 2:9\n"
     ]
    },
    {
     "name": "stderr",
     "output_type": "stream",
     "text": [
      "\r",
      "[===================================     ] 44/50 ( 88%)  6 to go"
     ]
    },
    {
     "name": "stdout",
     "output_type": "stream",
     "text": [
      "service goes offline @ 2:10\n"
     ]
    },
    {
     "name": "stderr",
     "output_type": "stream",
     "text": [
      "\r",
      "[====================================    ] 45/50 ( 90%)  5 to go"
     ]
    },
    {
     "name": "stdout",
     "output_type": "stream",
     "text": [
      "service goes offline @ 2:10\n"
     ]
    },
    {
     "name": "stderr",
     "output_type": "stream",
     "text": [
      "\r",
      "[====================================    ] 46/50 ( 92%)  4 to go"
     ]
    },
    {
     "name": "stdout",
     "output_type": "stream",
     "text": [
      "service goes offline @ 2:11\n"
     ]
    },
    {
     "name": "stderr",
     "output_type": "stream",
     "text": [
      "\r",
      "[=====================================   ] 47/50 ( 94%)  3 to go"
     ]
    },
    {
     "name": "stdout",
     "output_type": "stream",
     "text": [
      "service goes offline @ 2:11\n"
     ]
    },
    {
     "name": "stderr",
     "output_type": "stream",
     "text": [
      "\r",
      "[======================================  ] 48/50 ( 96%)  2 to go"
     ]
    },
    {
     "name": "stdout",
     "output_type": "stream",
     "text": [
      "service goes offline @ 2:12\n"
     ]
    },
    {
     "name": "stderr",
     "output_type": "stream",
     "text": [
      "\r",
      "[======================================= ] 49/50 ( 98%)  1 to go"
     ]
    },
    {
     "name": "stdout",
     "output_type": "stream",
     "text": [
      "service goes offline @ 2:12\n"
     ]
    },
    {
     "name": "stderr",
     "output_type": "stream",
     "text": [
      "\r",
      "[========================================] 50/50 (100%)  0 to go"
     ]
    },
    {
     "name": "stdout",
     "output_type": "stream",
     "text": [
      "service goes offline @ 2:13\n"
     ]
    },
    {
     "name": "stderr",
     "output_type": "stream",
     "text": [
      "\r",
      "[========================================] 50/50 (100%)  0 to go\n",
      "\r",
      "[                                        ]  1/50 (  2%) 49 to go"
     ]
    },
    {
     "name": "stdout",
     "output_type": "stream",
     "text": [
      "Data_211 collected, writting to file: output/Dec16_211\n",
      "output/Dec16_211 is written @ 2017-12-16 02:13:39.955263\n",
      "service goes offline @ 2:13\n"
     ]
    },
    {
     "name": "stderr",
     "output_type": "stream",
     "text": [
      "\r",
      "[=                                       ]  2/50 (  4%) 48 to go"
     ]
    },
    {
     "name": "stdout",
     "output_type": "stream",
     "text": [
      "service goes offline @ 2:14\n"
     ]
    },
    {
     "name": "stderr",
     "output_type": "stream",
     "text": [
      "\r",
      "[==                                      ]  3/50 (  6%) 47 to go"
     ]
    },
    {
     "name": "stdout",
     "output_type": "stream",
     "text": [
      "service goes offline @ 2:14\n"
     ]
    },
    {
     "name": "stderr",
     "output_type": "stream",
     "text": [
      "\r",
      "[===                                     ]  4/50 (  8%) 46 to go"
     ]
    },
    {
     "name": "stdout",
     "output_type": "stream",
     "text": [
      "service goes offline @ 2:15\n"
     ]
    },
    {
     "name": "stderr",
     "output_type": "stream",
     "text": [
      "\r",
      "[====                                    ]  5/50 ( 10%) 45 to go"
     ]
    },
    {
     "name": "stdout",
     "output_type": "stream",
     "text": [
      "service goes offline @ 2:15\n"
     ]
    },
    {
     "name": "stderr",
     "output_type": "stream",
     "text": [
      "\r",
      "[====                                    ]  6/50 ( 12%) 44 to go"
     ]
    },
    {
     "name": "stdout",
     "output_type": "stream",
     "text": [
      "service goes offline @ 2:16\n"
     ]
    },
    {
     "name": "stderr",
     "output_type": "stream",
     "text": [
      "\r",
      "[=====                                   ]  7/50 ( 14%) 43 to go"
     ]
    },
    {
     "name": "stdout",
     "output_type": "stream",
     "text": [
      "service goes offline @ 2:16\n"
     ]
    },
    {
     "name": "stderr",
     "output_type": "stream",
     "text": [
      "\r",
      "[======                                  ]  8/50 ( 16%) 42 to go"
     ]
    },
    {
     "name": "stdout",
     "output_type": "stream",
     "text": [
      "service goes offline @ 2:17\n"
     ]
    },
    {
     "name": "stderr",
     "output_type": "stream",
     "text": [
      "\r",
      "[=======                                 ]  9/50 ( 18%) 41 to go"
     ]
    },
    {
     "name": "stdout",
     "output_type": "stream",
     "text": [
      "service goes offline @ 2:17\n"
     ]
    },
    {
     "name": "stderr",
     "output_type": "stream",
     "text": [
      "\r",
      "[========                                ] 10/50 ( 20%) 40 to go"
     ]
    },
    {
     "name": "stdout",
     "output_type": "stream",
     "text": [
      "service goes offline @ 2:18\n"
     ]
    },
    {
     "name": "stderr",
     "output_type": "stream",
     "text": [
      "\r",
      "[========                                ] 11/50 ( 22%) 39 to go"
     ]
    },
    {
     "name": "stdout",
     "output_type": "stream",
     "text": [
      "service goes offline @ 2:18\n"
     ]
    },
    {
     "name": "stderr",
     "output_type": "stream",
     "text": [
      "\r",
      "[=========                               ] 12/50 ( 24%) 38 to go"
     ]
    },
    {
     "name": "stdout",
     "output_type": "stream",
     "text": [
      "service goes offline @ 2:19\n"
     ]
    },
    {
     "name": "stderr",
     "output_type": "stream",
     "text": [
      "\r",
      "[==========                              ] 13/50 ( 26%) 37 to go"
     ]
    },
    {
     "name": "stdout",
     "output_type": "stream",
     "text": [
      "service goes offline @ 2:19\n"
     ]
    },
    {
     "name": "stderr",
     "output_type": "stream",
     "text": [
      "\r",
      "[===========                             ] 14/50 ( 28%) 36 to go"
     ]
    },
    {
     "name": "stdout",
     "output_type": "stream",
     "text": [
      "service goes offline @ 2:20\n"
     ]
    },
    {
     "name": "stderr",
     "output_type": "stream",
     "text": [
      "\r",
      "[============                            ] 15/50 ( 30%) 35 to go"
     ]
    },
    {
     "name": "stdout",
     "output_type": "stream",
     "text": [
      "service goes offline @ 2:20\n"
     ]
    },
    {
     "name": "stderr",
     "output_type": "stream",
     "text": [
      "\r",
      "[============                            ] 16/50 ( 32%) 34 to go"
     ]
    },
    {
     "name": "stdout",
     "output_type": "stream",
     "text": [
      "service goes offline @ 2:21\n"
     ]
    },
    {
     "name": "stderr",
     "output_type": "stream",
     "text": [
      "\r",
      "[=============                           ] 17/50 ( 34%) 33 to go"
     ]
    },
    {
     "name": "stdout",
     "output_type": "stream",
     "text": [
      "service goes offline @ 2:21\n"
     ]
    },
    {
     "name": "stderr",
     "output_type": "stream",
     "text": [
      "\r",
      "[==============                          ] 18/50 ( 36%) 32 to go"
     ]
    },
    {
     "name": "stdout",
     "output_type": "stream",
     "text": [
      "service goes offline @ 2:22\n"
     ]
    },
    {
     "name": "stderr",
     "output_type": "stream",
     "text": [
      "\r",
      "[===============                         ] 19/50 ( 38%) 31 to go"
     ]
    },
    {
     "name": "stdout",
     "output_type": "stream",
     "text": [
      "service goes offline @ 2:22\n"
     ]
    },
    {
     "name": "stderr",
     "output_type": "stream",
     "text": [
      "\r",
      "[================                        ] 20/50 ( 40%) 30 to go"
     ]
    },
    {
     "name": "stdout",
     "output_type": "stream",
     "text": [
      "service goes offline @ 2:23\n"
     ]
    },
    {
     "name": "stderr",
     "output_type": "stream",
     "text": [
      "\r",
      "[================                        ] 21/50 ( 42%) 29 to go"
     ]
    },
    {
     "name": "stdout",
     "output_type": "stream",
     "text": [
      "service goes offline @ 2:23\n"
     ]
    },
    {
     "name": "stderr",
     "output_type": "stream",
     "text": [
      "\r",
      "[=================                       ] 22/50 ( 44%) 28 to go"
     ]
    },
    {
     "name": "stdout",
     "output_type": "stream",
     "text": [
      "service goes offline @ 2:24\n"
     ]
    },
    {
     "name": "stderr",
     "output_type": "stream",
     "text": [
      "\r",
      "[==================                      ] 23/50 ( 46%) 27 to go"
     ]
    },
    {
     "name": "stdout",
     "output_type": "stream",
     "text": [
      "service goes offline @ 2:24\n"
     ]
    },
    {
     "name": "stderr",
     "output_type": "stream",
     "text": [
      "\r",
      "[===================                     ] 24/50 ( 48%) 26 to go"
     ]
    },
    {
     "name": "stdout",
     "output_type": "stream",
     "text": [
      "service goes offline @ 2:25\n"
     ]
    },
    {
     "name": "stderr",
     "output_type": "stream",
     "text": [
      "\r",
      "[====================                    ] 25/50 ( 50%) 25 to go"
     ]
    },
    {
     "name": "stdout",
     "output_type": "stream",
     "text": [
      "service goes offline @ 2:25\n"
     ]
    },
    {
     "name": "stderr",
     "output_type": "stream",
     "text": [
      "\r",
      "[====================                    ] 26/50 ( 52%) 24 to go"
     ]
    },
    {
     "name": "stdout",
     "output_type": "stream",
     "text": [
      "service goes offline @ 2:26\n"
     ]
    },
    {
     "name": "stderr",
     "output_type": "stream",
     "text": [
      "\r",
      "[=====================                   ] 27/50 ( 54%) 23 to go"
     ]
    },
    {
     "name": "stdout",
     "output_type": "stream",
     "text": [
      "service goes offline @ 2:26\n"
     ]
    },
    {
     "name": "stderr",
     "output_type": "stream",
     "text": [
      "\r",
      "[======================                  ] 28/50 ( 56%) 22 to go"
     ]
    },
    {
     "name": "stdout",
     "output_type": "stream",
     "text": [
      "service goes offline @ 2:27\n"
     ]
    },
    {
     "name": "stderr",
     "output_type": "stream",
     "text": [
      "\r",
      "[=======================                 ] 29/50 ( 57%) 21 to go"
     ]
    },
    {
     "name": "stdout",
     "output_type": "stream",
     "text": [
      "service goes offline @ 2:27\n"
     ]
    },
    {
     "name": "stderr",
     "output_type": "stream",
     "text": [
      "\r",
      "[========================                ] 30/50 ( 60%) 20 to go"
     ]
    },
    {
     "name": "stdout",
     "output_type": "stream",
     "text": [
      "service goes offline @ 2:28\n"
     ]
    },
    {
     "name": "stderr",
     "output_type": "stream",
     "text": [
      "\r",
      "[========================                ] 31/50 ( 62%) 19 to go"
     ]
    },
    {
     "name": "stdout",
     "output_type": "stream",
     "text": [
      "service goes offline @ 2:28\n"
     ]
    },
    {
     "name": "stderr",
     "output_type": "stream",
     "text": [
      "\r",
      "[=========================               ] 32/50 ( 64%) 18 to go"
     ]
    },
    {
     "name": "stdout",
     "output_type": "stream",
     "text": [
      "service goes offline @ 2:29\n"
     ]
    },
    {
     "name": "stderr",
     "output_type": "stream",
     "text": [
      "\r",
      "[==========================              ] 33/50 ( 66%) 17 to go"
     ]
    },
    {
     "name": "stdout",
     "output_type": "stream",
     "text": [
      "service goes offline @ 2:29\n"
     ]
    },
    {
     "name": "stderr",
     "output_type": "stream",
     "text": [
      "\r",
      "[===========================             ] 34/50 ( 68%) 16 to go"
     ]
    },
    {
     "name": "stdout",
     "output_type": "stream",
     "text": [
      "service goes offline @ 2:30\n"
     ]
    },
    {
     "name": "stderr",
     "output_type": "stream",
     "text": [
      "\r",
      "[============================            ] 35/50 ( 70%) 15 to go"
     ]
    },
    {
     "name": "stdout",
     "output_type": "stream",
     "text": [
      "service goes offline @ 2:30\n"
     ]
    },
    {
     "name": "stderr",
     "output_type": "stream",
     "text": [
      "\r",
      "[============================            ] 36/50 ( 72%) 14 to go"
     ]
    },
    {
     "name": "stdout",
     "output_type": "stream",
     "text": [
      "service goes offline @ 2:31\n"
     ]
    },
    {
     "name": "stderr",
     "output_type": "stream",
     "text": [
      "\r",
      "[=============================           ] 37/50 ( 74%) 13 to go"
     ]
    },
    {
     "name": "stdout",
     "output_type": "stream",
     "text": [
      "service goes offline @ 2:31\n"
     ]
    },
    {
     "name": "stderr",
     "output_type": "stream",
     "text": [
      "\r",
      "[==============================          ] 38/50 ( 76%) 12 to go"
     ]
    },
    {
     "name": "stdout",
     "output_type": "stream",
     "text": [
      "service goes offline @ 2:32\n"
     ]
    },
    {
     "name": "stderr",
     "output_type": "stream",
     "text": [
      "\r",
      "[===============================         ] 39/50 ( 78%) 11 to go"
     ]
    },
    {
     "name": "stdout",
     "output_type": "stream",
     "text": [
      "service goes offline @ 2:32\n"
     ]
    },
    {
     "name": "stderr",
     "output_type": "stream",
     "text": [
      "\r",
      "[================================        ] 40/50 ( 80%) 10 to go"
     ]
    },
    {
     "name": "stdout",
     "output_type": "stream",
     "text": [
      "service goes offline @ 2:33\n"
     ]
    },
    {
     "name": "stderr",
     "output_type": "stream",
     "text": [
      "\r",
      "[================================        ] 41/50 ( 82%)  9 to go"
     ]
    },
    {
     "name": "stdout",
     "output_type": "stream",
     "text": [
      "service goes offline @ 2:33\n"
     ]
    },
    {
     "name": "stderr",
     "output_type": "stream",
     "text": [
      "\r",
      "[=================================       ] 42/50 ( 84%)  8 to go"
     ]
    },
    {
     "name": "stdout",
     "output_type": "stream",
     "text": [
      "service goes offline @ 2:34\n"
     ]
    },
    {
     "name": "stderr",
     "output_type": "stream",
     "text": [
      "\r",
      "[==================================      ] 43/50 ( 86%)  7 to go"
     ]
    },
    {
     "name": "stdout",
     "output_type": "stream",
     "text": [
      "service goes offline @ 2:34\n"
     ]
    },
    {
     "name": "stderr",
     "output_type": "stream",
     "text": [
      "\r",
      "[===================================     ] 44/50 ( 88%)  6 to go"
     ]
    },
    {
     "name": "stdout",
     "output_type": "stream",
     "text": [
      "service goes offline @ 2:35\n"
     ]
    },
    {
     "name": "stderr",
     "output_type": "stream",
     "text": [
      "\r",
      "[====================================    ] 45/50 ( 90%)  5 to go"
     ]
    },
    {
     "name": "stdout",
     "output_type": "stream",
     "text": [
      "service goes offline @ 2:35\n"
     ]
    },
    {
     "name": "stderr",
     "output_type": "stream",
     "text": [
      "\r",
      "[====================================    ] 46/50 ( 92%)  4 to go"
     ]
    },
    {
     "name": "stdout",
     "output_type": "stream",
     "text": [
      "service goes offline @ 2:36\n"
     ]
    },
    {
     "name": "stderr",
     "output_type": "stream",
     "text": [
      "\r",
      "[=====================================   ] 47/50 ( 94%)  3 to go"
     ]
    },
    {
     "name": "stdout",
     "output_type": "stream",
     "text": [
      "service goes offline @ 2:36\n"
     ]
    },
    {
     "name": "stderr",
     "output_type": "stream",
     "text": [
      "\r",
      "[======================================  ] 48/50 ( 96%)  2 to go"
     ]
    },
    {
     "name": "stdout",
     "output_type": "stream",
     "text": [
      "service goes offline @ 2:37\n"
     ]
    },
    {
     "name": "stderr",
     "output_type": "stream",
     "text": [
      "\r",
      "[======================================= ] 49/50 ( 98%)  1 to go"
     ]
    },
    {
     "name": "stdout",
     "output_type": "stream",
     "text": [
      "service goes offline @ 2:37\n"
     ]
    },
    {
     "name": "stderr",
     "output_type": "stream",
     "text": [
      "\r",
      "[========================================] 50/50 (100%)  0 to go"
     ]
    },
    {
     "name": "stdout",
     "output_type": "stream",
     "text": [
      "service goes offline @ 2:38\n"
     ]
    },
    {
     "name": "stderr",
     "output_type": "stream",
     "text": [
      "\r",
      "[========================================] 50/50 (100%)  0 to go\n",
      "\r",
      "[                                        ]  1/50 (  2%) 49 to go"
     ]
    },
    {
     "name": "stdout",
     "output_type": "stream",
     "text": [
      "Data_212 collected, writting to file: output/Dec16_212\n",
      "output/Dec16_212 is written @ 2017-12-16 02:38:48.829087\n",
      "service goes offline @ 2:38\n"
     ]
    },
    {
     "name": "stderr",
     "output_type": "stream",
     "text": [
      "\r",
      "[=                                       ]  2/50 (  4%) 48 to go"
     ]
    },
    {
     "name": "stdout",
     "output_type": "stream",
     "text": [
      "service goes offline @ 2:39\n"
     ]
    },
    {
     "name": "stderr",
     "output_type": "stream",
     "text": [
      "\r",
      "[==                                      ]  3/50 (  6%) 47 to go"
     ]
    },
    {
     "name": "stdout",
     "output_type": "stream",
     "text": [
      "service goes offline @ 2:39\n"
     ]
    },
    {
     "name": "stderr",
     "output_type": "stream",
     "text": [
      "\r",
      "[===                                     ]  4/50 (  8%) 46 to go"
     ]
    },
    {
     "name": "stdout",
     "output_type": "stream",
     "text": [
      "service goes offline @ 2:40\n"
     ]
    },
    {
     "name": "stderr",
     "output_type": "stream",
     "text": [
      "\r",
      "[====                                    ]  5/50 ( 10%) 45 to go"
     ]
    },
    {
     "name": "stdout",
     "output_type": "stream",
     "text": [
      "service goes offline @ 2:40\n"
     ]
    },
    {
     "name": "stderr",
     "output_type": "stream",
     "text": [
      "\r",
      "[====                                    ]  6/50 ( 12%) 44 to go"
     ]
    },
    {
     "name": "stdout",
     "output_type": "stream",
     "text": [
      "service goes offline @ 2:41\n"
     ]
    },
    {
     "name": "stderr",
     "output_type": "stream",
     "text": [
      "\r",
      "[=====                                   ]  7/50 ( 14%) 43 to go"
     ]
    },
    {
     "name": "stdout",
     "output_type": "stream",
     "text": [
      "service goes offline @ 2:41\n"
     ]
    },
    {
     "name": "stderr",
     "output_type": "stream",
     "text": [
      "\r",
      "[======                                  ]  8/50 ( 16%) 42 to go"
     ]
    },
    {
     "name": "stdout",
     "output_type": "stream",
     "text": [
      "service goes offline @ 2:42\n"
     ]
    },
    {
     "name": "stderr",
     "output_type": "stream",
     "text": [
      "\r",
      "[=======                                 ]  9/50 ( 18%) 41 to go"
     ]
    },
    {
     "name": "stdout",
     "output_type": "stream",
     "text": [
      "service goes offline @ 2:42\n"
     ]
    },
    {
     "name": "stderr",
     "output_type": "stream",
     "text": [
      "\r",
      "[========                                ] 10/50 ( 20%) 40 to go"
     ]
    },
    {
     "name": "stdout",
     "output_type": "stream",
     "text": [
      "service goes offline @ 2:43\n"
     ]
    },
    {
     "name": "stderr",
     "output_type": "stream",
     "text": [
      "\r",
      "[========                                ] 11/50 ( 22%) 39 to go"
     ]
    },
    {
     "name": "stdout",
     "output_type": "stream",
     "text": [
      "service goes offline @ 2:43\n"
     ]
    },
    {
     "name": "stderr",
     "output_type": "stream",
     "text": [
      "\r",
      "[=========                               ] 12/50 ( 24%) 38 to go"
     ]
    },
    {
     "name": "stdout",
     "output_type": "stream",
     "text": [
      "service goes offline @ 2:44\n"
     ]
    },
    {
     "name": "stderr",
     "output_type": "stream",
     "text": [
      "\r",
      "[==========                              ] 13/50 ( 26%) 37 to go"
     ]
    },
    {
     "name": "stdout",
     "output_type": "stream",
     "text": [
      "service goes offline @ 2:44\n"
     ]
    },
    {
     "name": "stderr",
     "output_type": "stream",
     "text": [
      "\r",
      "[===========                             ] 14/50 ( 28%) 36 to go"
     ]
    },
    {
     "name": "stdout",
     "output_type": "stream",
     "text": [
      "service goes offline @ 2:45\n"
     ]
    },
    {
     "name": "stderr",
     "output_type": "stream",
     "text": [
      "\r",
      "[============                            ] 15/50 ( 30%) 35 to go"
     ]
    },
    {
     "name": "stdout",
     "output_type": "stream",
     "text": [
      "service goes offline @ 2:45\n"
     ]
    },
    {
     "name": "stderr",
     "output_type": "stream",
     "text": [
      "\r",
      "[============                            ] 16/50 ( 32%) 34 to go"
     ]
    },
    {
     "name": "stdout",
     "output_type": "stream",
     "text": [
      "service goes offline @ 2:46\n"
     ]
    },
    {
     "name": "stderr",
     "output_type": "stream",
     "text": [
      "\r",
      "[=============                           ] 17/50 ( 34%) 33 to go"
     ]
    },
    {
     "name": "stdout",
     "output_type": "stream",
     "text": [
      "service goes offline @ 2:46\n"
     ]
    },
    {
     "name": "stderr",
     "output_type": "stream",
     "text": [
      "\r",
      "[==============                          ] 18/50 ( 36%) 32 to go"
     ]
    },
    {
     "name": "stdout",
     "output_type": "stream",
     "text": [
      "service goes offline @ 2:47\n"
     ]
    },
    {
     "name": "stderr",
     "output_type": "stream",
     "text": [
      "\r",
      "[===============                         ] 19/50 ( 38%) 31 to go"
     ]
    },
    {
     "name": "stdout",
     "output_type": "stream",
     "text": [
      "service goes offline @ 2:47\n"
     ]
    },
    {
     "name": "stderr",
     "output_type": "stream",
     "text": [
      "\r",
      "[================                        ] 20/50 ( 40%) 30 to go"
     ]
    },
    {
     "name": "stdout",
     "output_type": "stream",
     "text": [
      "service goes offline @ 2:48\n"
     ]
    },
    {
     "name": "stderr",
     "output_type": "stream",
     "text": [
      "\r",
      "[================                        ] 21/50 ( 42%) 29 to go"
     ]
    },
    {
     "name": "stdout",
     "output_type": "stream",
     "text": [
      "service goes offline @ 2:48\n"
     ]
    },
    {
     "name": "stderr",
     "output_type": "stream",
     "text": [
      "\r",
      "[=================                       ] 22/50 ( 44%) 28 to go"
     ]
    },
    {
     "name": "stdout",
     "output_type": "stream",
     "text": [
      "service goes offline @ 2:49\n"
     ]
    },
    {
     "name": "stderr",
     "output_type": "stream",
     "text": [
      "\r",
      "[==================                      ] 23/50 ( 46%) 27 to go"
     ]
    },
    {
     "name": "stdout",
     "output_type": "stream",
     "text": [
      "service goes offline @ 2:49\n"
     ]
    },
    {
     "name": "stderr",
     "output_type": "stream",
     "text": [
      "\r",
      "[===================                     ] 24/50 ( 48%) 26 to go"
     ]
    },
    {
     "name": "stdout",
     "output_type": "stream",
     "text": [
      "service goes offline @ 2:50\n"
     ]
    },
    {
     "name": "stderr",
     "output_type": "stream",
     "text": [
      "\r",
      "[====================                    ] 25/50 ( 50%) 25 to go"
     ]
    },
    {
     "name": "stdout",
     "output_type": "stream",
     "text": [
      "service goes offline @ 2:50\n"
     ]
    },
    {
     "name": "stderr",
     "output_type": "stream",
     "text": [
      "\r",
      "[====================                    ] 26/50 ( 52%) 24 to go"
     ]
    },
    {
     "name": "stdout",
     "output_type": "stream",
     "text": [
      "service goes offline @ 2:51\n"
     ]
    },
    {
     "name": "stderr",
     "output_type": "stream",
     "text": [
      "\r",
      "[=====================                   ] 27/50 ( 54%) 23 to go"
     ]
    },
    {
     "name": "stdout",
     "output_type": "stream",
     "text": [
      "service goes offline @ 2:51\n"
     ]
    },
    {
     "name": "stderr",
     "output_type": "stream",
     "text": [
      "\r",
      "[======================                  ] 28/50 ( 56%) 22 to go"
     ]
    },
    {
     "name": "stdout",
     "output_type": "stream",
     "text": [
      "service goes offline @ 2:52\n"
     ]
    },
    {
     "name": "stderr",
     "output_type": "stream",
     "text": [
      "\r",
      "[=======================                 ] 29/50 ( 57%) 21 to go"
     ]
    },
    {
     "name": "stdout",
     "output_type": "stream",
     "text": [
      "service goes offline @ 2:52\n"
     ]
    },
    {
     "name": "stderr",
     "output_type": "stream",
     "text": [
      "\r",
      "[========================                ] 30/50 ( 60%) 20 to go"
     ]
    },
    {
     "name": "stdout",
     "output_type": "stream",
     "text": [
      "service goes offline @ 2:53\n"
     ]
    },
    {
     "name": "stderr",
     "output_type": "stream",
     "text": [
      "\r",
      "[========================                ] 31/50 ( 62%) 19 to go"
     ]
    },
    {
     "name": "stdout",
     "output_type": "stream",
     "text": [
      "service goes offline @ 2:53\n"
     ]
    },
    {
     "name": "stderr",
     "output_type": "stream",
     "text": [
      "\r",
      "[=========================               ] 32/50 ( 64%) 18 to go"
     ]
    },
    {
     "name": "stdout",
     "output_type": "stream",
     "text": [
      "service goes offline @ 2:54\n"
     ]
    },
    {
     "name": "stderr",
     "output_type": "stream",
     "text": [
      "\r",
      "[==========================              ] 33/50 ( 66%) 17 to go"
     ]
    },
    {
     "name": "stdout",
     "output_type": "stream",
     "text": [
      "service goes offline @ 2:54\n"
     ]
    },
    {
     "name": "stderr",
     "output_type": "stream",
     "text": [
      "\r",
      "[===========================             ] 34/50 ( 68%) 16 to go"
     ]
    },
    {
     "name": "stdout",
     "output_type": "stream",
     "text": [
      "service goes offline @ 2:55\n"
     ]
    },
    {
     "name": "stderr",
     "output_type": "stream",
     "text": [
      "\r",
      "[============================            ] 35/50 ( 70%) 15 to go"
     ]
    },
    {
     "name": "stdout",
     "output_type": "stream",
     "text": [
      "service goes offline @ 2:55\n"
     ]
    },
    {
     "name": "stderr",
     "output_type": "stream",
     "text": [
      "\r",
      "[============================            ] 36/50 ( 72%) 14 to go"
     ]
    },
    {
     "name": "stdout",
     "output_type": "stream",
     "text": [
      "service goes offline @ 2:56\n"
     ]
    },
    {
     "name": "stderr",
     "output_type": "stream",
     "text": [
      "\r",
      "[=============================           ] 37/50 ( 74%) 13 to go"
     ]
    },
    {
     "name": "stdout",
     "output_type": "stream",
     "text": [
      "service goes offline @ 2:56\n"
     ]
    },
    {
     "name": "stderr",
     "output_type": "stream",
     "text": [
      "\r",
      "[==============================          ] 38/50 ( 76%) 12 to go"
     ]
    },
    {
     "name": "stdout",
     "output_type": "stream",
     "text": [
      "service goes offline @ 2:57\n"
     ]
    },
    {
     "name": "stderr",
     "output_type": "stream",
     "text": [
      "\r",
      "[===============================         ] 39/50 ( 78%) 11 to go"
     ]
    },
    {
     "name": "stdout",
     "output_type": "stream",
     "text": [
      "service goes offline @ 2:57\n"
     ]
    },
    {
     "name": "stderr",
     "output_type": "stream",
     "text": [
      "\r",
      "[================================        ] 40/50 ( 80%) 10 to go"
     ]
    },
    {
     "name": "stdout",
     "output_type": "stream",
     "text": [
      "service goes offline @ 2:58\n"
     ]
    },
    {
     "name": "stderr",
     "output_type": "stream",
     "text": [
      "\r",
      "[================================        ] 41/50 ( 82%)  9 to go"
     ]
    },
    {
     "name": "stdout",
     "output_type": "stream",
     "text": [
      "service goes offline @ 2:58\n"
     ]
    },
    {
     "name": "stderr",
     "output_type": "stream",
     "text": [
      "\r",
      "[=================================       ] 42/50 ( 84%)  8 to go"
     ]
    },
    {
     "name": "stdout",
     "output_type": "stream",
     "text": [
      "service goes offline @ 2:59\n"
     ]
    },
    {
     "name": "stderr",
     "output_type": "stream",
     "text": [
      "\r",
      "[==================================      ] 43/50 ( 86%)  7 to go"
     ]
    },
    {
     "name": "stdout",
     "output_type": "stream",
     "text": [
      "service goes offline @ 2:59\n"
     ]
    },
    {
     "name": "stderr",
     "output_type": "stream",
     "text": [
      "\r",
      "[===================================     ] 44/50 ( 88%)  6 to go"
     ]
    },
    {
     "name": "stdout",
     "output_type": "stream",
     "text": [
      "service goes offline @ 3:0\n"
     ]
    },
    {
     "name": "stderr",
     "output_type": "stream",
     "text": [
      "\r",
      "[====================================    ] 45/50 ( 90%)  5 to go"
     ]
    },
    {
     "name": "stdout",
     "output_type": "stream",
     "text": [
      "service goes offline @ 3:0\n"
     ]
    },
    {
     "name": "stderr",
     "output_type": "stream",
     "text": [
      "\r",
      "[====================================    ] 46/50 ( 92%)  4 to go"
     ]
    },
    {
     "name": "stdout",
     "output_type": "stream",
     "text": [
      "service goes offline @ 3:1\n"
     ]
    },
    {
     "name": "stderr",
     "output_type": "stream",
     "text": [
      "\r",
      "[=====================================   ] 47/50 ( 94%)  3 to go"
     ]
    },
    {
     "name": "stdout",
     "output_type": "stream",
     "text": [
      "service goes offline @ 3:1\n"
     ]
    },
    {
     "name": "stderr",
     "output_type": "stream",
     "text": [
      "\r",
      "[======================================  ] 48/50 ( 96%)  2 to go"
     ]
    },
    {
     "name": "stdout",
     "output_type": "stream",
     "text": [
      "service goes offline @ 3:2\n"
     ]
    },
    {
     "name": "stderr",
     "output_type": "stream",
     "text": [
      "\r",
      "[======================================= ] 49/50 ( 98%)  1 to go"
     ]
    },
    {
     "name": "stdout",
     "output_type": "stream",
     "text": [
      "service goes offline @ 3:2\n"
     ]
    },
    {
     "name": "stderr",
     "output_type": "stream",
     "text": [
      "\r",
      "[========================================] 50/50 (100%)  0 to go"
     ]
    },
    {
     "name": "stdout",
     "output_type": "stream",
     "text": [
      "service goes offline @ 3:3\n"
     ]
    },
    {
     "name": "stderr",
     "output_type": "stream",
     "text": [
      "\r",
      "[========================================] 50/50 (100%)  0 to go\n",
      "\r",
      "[                                        ]  1/50 (  2%) 49 to go"
     ]
    },
    {
     "name": "stdout",
     "output_type": "stream",
     "text": [
      "Data_213 collected, writting to file: output/Dec16_213\n",
      "output/Dec16_213 is written @ 2017-12-16 03:03:58.941869\n",
      "service goes offline @ 3:3\n"
     ]
    },
    {
     "name": "stderr",
     "output_type": "stream",
     "text": [
      "\r",
      "[=                                       ]  2/50 (  4%) 48 to go"
     ]
    },
    {
     "name": "stdout",
     "output_type": "stream",
     "text": [
      "service goes offline @ 3:4\n"
     ]
    },
    {
     "name": "stderr",
     "output_type": "stream",
     "text": [
      "\r",
      "[==                                      ]  3/50 (  6%) 47 to go"
     ]
    },
    {
     "name": "stdout",
     "output_type": "stream",
     "text": [
      "service goes offline @ 3:4\n"
     ]
    },
    {
     "name": "stderr",
     "output_type": "stream",
     "text": [
      "\r",
      "[===                                     ]  4/50 (  8%) 46 to go"
     ]
    },
    {
     "name": "stdout",
     "output_type": "stream",
     "text": [
      "service goes offline @ 3:5\n"
     ]
    },
    {
     "name": "stderr",
     "output_type": "stream",
     "text": [
      "\r",
      "[====                                    ]  5/50 ( 10%) 45 to go"
     ]
    },
    {
     "name": "stdout",
     "output_type": "stream",
     "text": [
      "service goes offline @ 3:6\n"
     ]
    },
    {
     "name": "stderr",
     "output_type": "stream",
     "text": [
      "\r",
      "[====                                    ]  6/50 ( 12%) 44 to go"
     ]
    },
    {
     "name": "stdout",
     "output_type": "stream",
     "text": [
      "service goes offline @ 3:6\n"
     ]
    },
    {
     "name": "stderr",
     "output_type": "stream",
     "text": [
      "\r",
      "[=====                                   ]  7/50 ( 14%) 43 to go"
     ]
    },
    {
     "name": "stdout",
     "output_type": "stream",
     "text": [
      "service goes offline @ 3:7\n"
     ]
    },
    {
     "name": "stderr",
     "output_type": "stream",
     "text": [
      "\r",
      "[======                                  ]  8/50 ( 16%) 42 to go"
     ]
    },
    {
     "name": "stdout",
     "output_type": "stream",
     "text": [
      "service goes offline @ 3:7\n"
     ]
    },
    {
     "name": "stderr",
     "output_type": "stream",
     "text": [
      "\r",
      "[=======                                 ]  9/50 ( 18%) 41 to go"
     ]
    },
    {
     "name": "stdout",
     "output_type": "stream",
     "text": [
      "service goes offline @ 3:8\n"
     ]
    },
    {
     "name": "stderr",
     "output_type": "stream",
     "text": [
      "\r",
      "[========                                ] 10/50 ( 20%) 40 to go"
     ]
    },
    {
     "name": "stdout",
     "output_type": "stream",
     "text": [
      "service goes offline @ 3:8\n"
     ]
    },
    {
     "name": "stderr",
     "output_type": "stream",
     "text": [
      "\r",
      "[========                                ] 11/50 ( 22%) 39 to go"
     ]
    },
    {
     "name": "stdout",
     "output_type": "stream",
     "text": [
      "service goes offline @ 3:9\n"
     ]
    },
    {
     "name": "stderr",
     "output_type": "stream",
     "text": [
      "\r",
      "[=========                               ] 12/50 ( 24%) 38 to go"
     ]
    },
    {
     "name": "stdout",
     "output_type": "stream",
     "text": [
      "service goes offline @ 3:9\n"
     ]
    },
    {
     "name": "stderr",
     "output_type": "stream",
     "text": [
      "\r",
      "[==========                              ] 13/50 ( 26%) 37 to go"
     ]
    },
    {
     "name": "stdout",
     "output_type": "stream",
     "text": [
      "service goes offline @ 3:10\n"
     ]
    },
    {
     "name": "stderr",
     "output_type": "stream",
     "text": [
      "\r",
      "[===========                             ] 14/50 ( 28%) 36 to go"
     ]
    },
    {
     "name": "stdout",
     "output_type": "stream",
     "text": [
      "service goes offline @ 3:10\n"
     ]
    },
    {
     "name": "stderr",
     "output_type": "stream",
     "text": [
      "\r",
      "[============                            ] 15/50 ( 30%) 35 to go"
     ]
    },
    {
     "name": "stdout",
     "output_type": "stream",
     "text": [
      "service goes offline @ 3:11\n"
     ]
    },
    {
     "name": "stderr",
     "output_type": "stream",
     "text": [
      "\r",
      "[============                            ] 16/50 ( 32%) 34 to go"
     ]
    },
    {
     "name": "stdout",
     "output_type": "stream",
     "text": [
      "service goes offline @ 3:11\n"
     ]
    },
    {
     "name": "stderr",
     "output_type": "stream",
     "text": [
      "\r",
      "[=============                           ] 17/50 ( 34%) 33 to go"
     ]
    },
    {
     "name": "stdout",
     "output_type": "stream",
     "text": [
      "service goes offline @ 3:12\n"
     ]
    },
    {
     "name": "stderr",
     "output_type": "stream",
     "text": [
      "\r",
      "[==============                          ] 18/50 ( 36%) 32 to go"
     ]
    },
    {
     "name": "stdout",
     "output_type": "stream",
     "text": [
      "service goes offline @ 3:12\n"
     ]
    },
    {
     "name": "stderr",
     "output_type": "stream",
     "text": [
      "\r",
      "[===============                         ] 19/50 ( 38%) 31 to go"
     ]
    },
    {
     "name": "stdout",
     "output_type": "stream",
     "text": [
      "service goes offline @ 3:13\n"
     ]
    },
    {
     "name": "stderr",
     "output_type": "stream",
     "text": [
      "\r",
      "[================                        ] 20/50 ( 40%) 30 to go"
     ]
    },
    {
     "name": "stdout",
     "output_type": "stream",
     "text": [
      "service goes offline @ 3:13\n"
     ]
    },
    {
     "name": "stderr",
     "output_type": "stream",
     "text": [
      "\r",
      "[================                        ] 21/50 ( 42%) 29 to go"
     ]
    },
    {
     "name": "stdout",
     "output_type": "stream",
     "text": [
      "service goes offline @ 3:14\n"
     ]
    },
    {
     "name": "stderr",
     "output_type": "stream",
     "text": [
      "\r",
      "[=================                       ] 22/50 ( 44%) 28 to go"
     ]
    },
    {
     "name": "stdout",
     "output_type": "stream",
     "text": [
      "service goes offline @ 3:14\n"
     ]
    },
    {
     "name": "stderr",
     "output_type": "stream",
     "text": [
      "\r",
      "[==================                      ] 23/50 ( 46%) 27 to go"
     ]
    },
    {
     "name": "stdout",
     "output_type": "stream",
     "text": [
      "service goes offline @ 3:15\n"
     ]
    },
    {
     "name": "stderr",
     "output_type": "stream",
     "text": [
      "\r",
      "[===================                     ] 24/50 ( 48%) 26 to go"
     ]
    },
    {
     "name": "stdout",
     "output_type": "stream",
     "text": [
      "service goes offline @ 3:15\n"
     ]
    },
    {
     "name": "stderr",
     "output_type": "stream",
     "text": [
      "\r",
      "[====================                    ] 25/50 ( 50%) 25 to go"
     ]
    },
    {
     "name": "stdout",
     "output_type": "stream",
     "text": [
      "service goes offline @ 3:16\n"
     ]
    },
    {
     "name": "stderr",
     "output_type": "stream",
     "text": [
      "\r",
      "[====================                    ] 26/50 ( 52%) 24 to go"
     ]
    },
    {
     "name": "stdout",
     "output_type": "stream",
     "text": [
      "service goes offline @ 3:16\n"
     ]
    },
    {
     "name": "stderr",
     "output_type": "stream",
     "text": [
      "\r",
      "[=====================                   ] 27/50 ( 54%) 23 to go"
     ]
    },
    {
     "name": "stdout",
     "output_type": "stream",
     "text": [
      "service goes offline @ 3:17\n"
     ]
    },
    {
     "name": "stderr",
     "output_type": "stream",
     "text": [
      "\r",
      "[======================                  ] 28/50 ( 56%) 22 to go"
     ]
    },
    {
     "name": "stdout",
     "output_type": "stream",
     "text": [
      "service goes offline @ 3:17\n"
     ]
    },
    {
     "name": "stderr",
     "output_type": "stream",
     "text": [
      "\r",
      "[=======================                 ] 29/50 ( 57%) 21 to go"
     ]
    },
    {
     "name": "stdout",
     "output_type": "stream",
     "text": [
      "service goes offline @ 3:18\n"
     ]
    },
    {
     "name": "stderr",
     "output_type": "stream",
     "text": [
      "\r",
      "[========================                ] 30/50 ( 60%) 20 to go"
     ]
    },
    {
     "name": "stdout",
     "output_type": "stream",
     "text": [
      "service goes offline @ 3:18\n"
     ]
    },
    {
     "name": "stderr",
     "output_type": "stream",
     "text": [
      "\r",
      "[========================                ] 31/50 ( 62%) 19 to go"
     ]
    },
    {
     "name": "stdout",
     "output_type": "stream",
     "text": [
      "service goes offline @ 3:19\n"
     ]
    },
    {
     "name": "stderr",
     "output_type": "stream",
     "text": [
      "\r",
      "[=========================               ] 32/50 ( 64%) 18 to go"
     ]
    },
    {
     "name": "stdout",
     "output_type": "stream",
     "text": [
      "service goes offline @ 3:19\n"
     ]
    },
    {
     "name": "stderr",
     "output_type": "stream",
     "text": [
      "\r",
      "[==========================              ] 33/50 ( 66%) 17 to go"
     ]
    },
    {
     "name": "stdout",
     "output_type": "stream",
     "text": [
      "service goes offline @ 3:20\n"
     ]
    },
    {
     "name": "stderr",
     "output_type": "stream",
     "text": [
      "\r",
      "[===========================             ] 34/50 ( 68%) 16 to go"
     ]
    },
    {
     "name": "stdout",
     "output_type": "stream",
     "text": [
      "service goes offline @ 3:20\n"
     ]
    },
    {
     "name": "stderr",
     "output_type": "stream",
     "text": [
      "\r",
      "[============================            ] 35/50 ( 70%) 15 to go"
     ]
    },
    {
     "name": "stdout",
     "output_type": "stream",
     "text": [
      "service goes offline @ 3:21\n"
     ]
    },
    {
     "name": "stderr",
     "output_type": "stream",
     "text": [
      "\r",
      "[============================            ] 36/50 ( 72%) 14 to go"
     ]
    },
    {
     "name": "stdout",
     "output_type": "stream",
     "text": [
      "service goes offline @ 3:21\n"
     ]
    },
    {
     "name": "stderr",
     "output_type": "stream",
     "text": [
      "\r",
      "[=============================           ] 37/50 ( 74%) 13 to go"
     ]
    },
    {
     "name": "stdout",
     "output_type": "stream",
     "text": [
      "service goes offline @ 3:22\n"
     ]
    },
    {
     "name": "stderr",
     "output_type": "stream",
     "text": [
      "\r",
      "[==============================          ] 38/50 ( 76%) 12 to go"
     ]
    },
    {
     "name": "stdout",
     "output_type": "stream",
     "text": [
      "service goes offline @ 3:22\n"
     ]
    },
    {
     "name": "stderr",
     "output_type": "stream",
     "text": [
      "\r",
      "[===============================         ] 39/50 ( 78%) 11 to go"
     ]
    },
    {
     "name": "stdout",
     "output_type": "stream",
     "text": [
      "service goes offline @ 3:23\n"
     ]
    },
    {
     "name": "stderr",
     "output_type": "stream",
     "text": [
      "\r",
      "[================================        ] 40/50 ( 80%) 10 to go"
     ]
    },
    {
     "name": "stdout",
     "output_type": "stream",
     "text": [
      "service goes offline @ 3:23\n"
     ]
    },
    {
     "name": "stderr",
     "output_type": "stream",
     "text": [
      "\r",
      "[================================        ] 41/50 ( 82%)  9 to go"
     ]
    },
    {
     "name": "stdout",
     "output_type": "stream",
     "text": [
      "service goes offline @ 3:24\n"
     ]
    },
    {
     "name": "stderr",
     "output_type": "stream",
     "text": [
      "\r",
      "[=================================       ] 42/50 ( 84%)  8 to go"
     ]
    },
    {
     "name": "stdout",
     "output_type": "stream",
     "text": [
      "service goes offline @ 3:24\n"
     ]
    },
    {
     "name": "stderr",
     "output_type": "stream",
     "text": [
      "\r",
      "[==================================      ] 43/50 ( 86%)  7 to go"
     ]
    },
    {
     "name": "stdout",
     "output_type": "stream",
     "text": [
      "service goes offline @ 3:25\n"
     ]
    },
    {
     "name": "stderr",
     "output_type": "stream",
     "text": [
      "\r",
      "[===================================     ] 44/50 ( 88%)  6 to go"
     ]
    },
    {
     "name": "stdout",
     "output_type": "stream",
     "text": [
      "service goes offline @ 3:25\n"
     ]
    },
    {
     "name": "stderr",
     "output_type": "stream",
     "text": [
      "\r",
      "[====================================    ] 45/50 ( 90%)  5 to go"
     ]
    },
    {
     "name": "stdout",
     "output_type": "stream",
     "text": [
      "service goes offline @ 3:26\n"
     ]
    },
    {
     "name": "stderr",
     "output_type": "stream",
     "text": [
      "\r",
      "[====================================    ] 46/50 ( 92%)  4 to go"
     ]
    },
    {
     "name": "stdout",
     "output_type": "stream",
     "text": [
      "service goes offline @ 3:26\n"
     ]
    },
    {
     "name": "stderr",
     "output_type": "stream",
     "text": [
      "\r",
      "[=====================================   ] 47/50 ( 94%)  3 to go"
     ]
    },
    {
     "name": "stdout",
     "output_type": "stream",
     "text": [
      "service goes offline @ 3:27\n"
     ]
    },
    {
     "name": "stderr",
     "output_type": "stream",
     "text": [
      "\r",
      "[======================================  ] 48/50 ( 96%)  2 to go"
     ]
    },
    {
     "name": "stdout",
     "output_type": "stream",
     "text": [
      "service goes offline @ 3:27\n"
     ]
    },
    {
     "name": "stderr",
     "output_type": "stream",
     "text": [
      "\r",
      "[======================================= ] 49/50 ( 98%)  1 to go"
     ]
    },
    {
     "name": "stdout",
     "output_type": "stream",
     "text": [
      "service goes offline @ 3:28\n"
     ]
    },
    {
     "name": "stderr",
     "output_type": "stream",
     "text": [
      "\r",
      "[========================================] 50/50 (100%)  0 to go"
     ]
    },
    {
     "name": "stdout",
     "output_type": "stream",
     "text": [
      "service goes offline @ 3:28\n"
     ]
    },
    {
     "name": "stderr",
     "output_type": "stream",
     "text": [
      "\r",
      "[========================================] 50/50 (100%)  0 to go\n",
      "\r",
      "[                                        ]  1/50 (  2%) 49 to go"
     ]
    },
    {
     "name": "stdout",
     "output_type": "stream",
     "text": [
      "Data_214 collected, writting to file: output/Dec16_214\n",
      "output/Dec16_214 is written @ 2017-12-16 03:29:11.547981\n",
      "service goes offline @ 3:29\n"
     ]
    },
    {
     "name": "stderr",
     "output_type": "stream",
     "text": [
      "\r",
      "[=                                       ]  2/50 (  4%) 48 to go"
     ]
    },
    {
     "name": "stdout",
     "output_type": "stream",
     "text": [
      "service goes offline @ 3:29\n"
     ]
    },
    {
     "name": "stderr",
     "output_type": "stream",
     "text": [
      "\r",
      "[==                                      ]  3/50 (  6%) 47 to go"
     ]
    },
    {
     "name": "stdout",
     "output_type": "stream",
     "text": [
      "service goes offline @ 3:30\n"
     ]
    },
    {
     "name": "stderr",
     "output_type": "stream",
     "text": [
      "\r",
      "[===                                     ]  4/50 (  8%) 46 to go"
     ]
    },
    {
     "name": "stdout",
     "output_type": "stream",
     "text": [
      "service goes offline @ 3:30\n"
     ]
    },
    {
     "name": "stderr",
     "output_type": "stream",
     "text": [
      "\r",
      "[====                                    ]  5/50 ( 10%) 45 to go"
     ]
    },
    {
     "name": "stdout",
     "output_type": "stream",
     "text": [
      "service goes offline @ 3:31\n"
     ]
    },
    {
     "name": "stderr",
     "output_type": "stream",
     "text": [
      "\r",
      "[====                                    ]  6/50 ( 12%) 44 to go"
     ]
    },
    {
     "name": "stdout",
     "output_type": "stream",
     "text": [
      "service goes offline @ 3:31\n"
     ]
    },
    {
     "name": "stderr",
     "output_type": "stream",
     "text": [
      "\r",
      "[=====                                   ]  7/50 ( 14%) 43 to go"
     ]
    },
    {
     "name": "stdout",
     "output_type": "stream",
     "text": [
      "service goes offline @ 3:32\n"
     ]
    },
    {
     "name": "stderr",
     "output_type": "stream",
     "text": [
      "\r",
      "[======                                  ]  8/50 ( 16%) 42 to go"
     ]
    },
    {
     "name": "stdout",
     "output_type": "stream",
     "text": [
      "service goes offline @ 3:32\n"
     ]
    },
    {
     "name": "stderr",
     "output_type": "stream",
     "text": [
      "\r",
      "[=======                                 ]  9/50 ( 18%) 41 to go"
     ]
    },
    {
     "name": "stdout",
     "output_type": "stream",
     "text": [
      "service goes offline @ 3:33\n"
     ]
    },
    {
     "name": "stderr",
     "output_type": "stream",
     "text": [
      "\r",
      "[========                                ] 10/50 ( 20%) 40 to go"
     ]
    },
    {
     "name": "stdout",
     "output_type": "stream",
     "text": [
      "service goes offline @ 3:33\n"
     ]
    },
    {
     "name": "stderr",
     "output_type": "stream",
     "text": [
      "\r",
      "[========                                ] 11/50 ( 22%) 39 to go"
     ]
    },
    {
     "name": "stdout",
     "output_type": "stream",
     "text": [
      "service goes offline @ 3:34\n"
     ]
    },
    {
     "name": "stderr",
     "output_type": "stream",
     "text": [
      "\r",
      "[=========                               ] 12/50 ( 24%) 38 to go"
     ]
    },
    {
     "name": "stdout",
     "output_type": "stream",
     "text": [
      "service goes offline @ 3:34\n"
     ]
    },
    {
     "name": "stderr",
     "output_type": "stream",
     "text": [
      "\r",
      "[==========                              ] 13/50 ( 26%) 37 to go"
     ]
    },
    {
     "name": "stdout",
     "output_type": "stream",
     "text": [
      "service goes offline @ 3:35\n"
     ]
    },
    {
     "name": "stderr",
     "output_type": "stream",
     "text": [
      "\r",
      "[===========                             ] 14/50 ( 28%) 36 to go"
     ]
    },
    {
     "name": "stdout",
     "output_type": "stream",
     "text": [
      "service goes offline @ 3:35\n"
     ]
    },
    {
     "name": "stderr",
     "output_type": "stream",
     "text": [
      "\r",
      "[============                            ] 15/50 ( 30%) 35 to go"
     ]
    },
    {
     "name": "stdout",
     "output_type": "stream",
     "text": [
      "service goes offline @ 3:36\n"
     ]
    },
    {
     "name": "stderr",
     "output_type": "stream",
     "text": [
      "\r",
      "[============                            ] 16/50 ( 32%) 34 to go"
     ]
    },
    {
     "name": "stdout",
     "output_type": "stream",
     "text": [
      "service goes offline @ 3:36\n"
     ]
    },
    {
     "name": "stderr",
     "output_type": "stream",
     "text": [
      "\r",
      "[=============                           ] 17/50 ( 34%) 33 to go"
     ]
    },
    {
     "name": "stdout",
     "output_type": "stream",
     "text": [
      "service goes offline @ 3:37\n"
     ]
    },
    {
     "name": "stderr",
     "output_type": "stream",
     "text": [
      "\r",
      "[==============                          ] 18/50 ( 36%) 32 to go"
     ]
    },
    {
     "name": "stdout",
     "output_type": "stream",
     "text": [
      "service goes offline @ 3:37\n"
     ]
    },
    {
     "name": "stderr",
     "output_type": "stream",
     "text": [
      "\r",
      "[===============                         ] 19/50 ( 38%) 31 to go"
     ]
    },
    {
     "name": "stdout",
     "output_type": "stream",
     "text": [
      "service goes offline @ 3:38\n"
     ]
    },
    {
     "name": "stderr",
     "output_type": "stream",
     "text": [
      "\r",
      "[================                        ] 20/50 ( 40%) 30 to go"
     ]
    },
    {
     "name": "stdout",
     "output_type": "stream",
     "text": [
      "service goes offline @ 3:38\n"
     ]
    },
    {
     "name": "stderr",
     "output_type": "stream",
     "text": [
      "\r",
      "[================                        ] 21/50 ( 42%) 29 to go"
     ]
    },
    {
     "name": "stdout",
     "output_type": "stream",
     "text": [
      "service goes offline @ 3:39\n"
     ]
    },
    {
     "name": "stderr",
     "output_type": "stream",
     "text": [
      "\r",
      "[=================                       ] 22/50 ( 44%) 28 to go"
     ]
    },
    {
     "name": "stdout",
     "output_type": "stream",
     "text": [
      "service goes offline @ 3:39\n"
     ]
    },
    {
     "name": "stderr",
     "output_type": "stream",
     "text": [
      "\r",
      "[==================                      ] 23/50 ( 46%) 27 to go"
     ]
    },
    {
     "name": "stdout",
     "output_type": "stream",
     "text": [
      "service goes offline @ 3:40\n"
     ]
    },
    {
     "name": "stderr",
     "output_type": "stream",
     "text": [
      "\r",
      "[===================                     ] 24/50 ( 48%) 26 to go"
     ]
    },
    {
     "name": "stdout",
     "output_type": "stream",
     "text": [
      "service goes offline @ 3:40\n"
     ]
    },
    {
     "name": "stderr",
     "output_type": "stream",
     "text": [
      "\r",
      "[====================                    ] 25/50 ( 50%) 25 to go"
     ]
    },
    {
     "name": "stdout",
     "output_type": "stream",
     "text": [
      "service goes offline @ 3:41\n"
     ]
    },
    {
     "name": "stderr",
     "output_type": "stream",
     "text": [
      "\r",
      "[====================                    ] 26/50 ( 52%) 24 to go"
     ]
    },
    {
     "name": "stdout",
     "output_type": "stream",
     "text": [
      "service goes offline @ 3:41\n"
     ]
    },
    {
     "name": "stderr",
     "output_type": "stream",
     "text": [
      "\r",
      "[=====================                   ] 27/50 ( 54%) 23 to go"
     ]
    },
    {
     "name": "stdout",
     "output_type": "stream",
     "text": [
      "service goes offline @ 3:42\n"
     ]
    },
    {
     "name": "stderr",
     "output_type": "stream",
     "text": [
      "\r",
      "[======================                  ] 28/50 ( 56%) 22 to go"
     ]
    },
    {
     "name": "stdout",
     "output_type": "stream",
     "text": [
      "service goes offline @ 3:42\n"
     ]
    },
    {
     "name": "stderr",
     "output_type": "stream",
     "text": [
      "\r",
      "[=======================                 ] 29/50 ( 57%) 21 to go"
     ]
    },
    {
     "name": "stdout",
     "output_type": "stream",
     "text": [
      "service goes offline @ 3:43\n"
     ]
    },
    {
     "name": "stderr",
     "output_type": "stream",
     "text": [
      "\r",
      "[========================                ] 30/50 ( 60%) 20 to go"
     ]
    },
    {
     "name": "stdout",
     "output_type": "stream",
     "text": [
      "service goes offline @ 3:43\n"
     ]
    },
    {
     "name": "stderr",
     "output_type": "stream",
     "text": [
      "\r",
      "[========================                ] 31/50 ( 62%) 19 to go"
     ]
    },
    {
     "name": "stdout",
     "output_type": "stream",
     "text": [
      "service goes offline @ 3:44\n"
     ]
    },
    {
     "name": "stderr",
     "output_type": "stream",
     "text": [
      "\r",
      "[=========================               ] 32/50 ( 64%) 18 to go"
     ]
    },
    {
     "name": "stdout",
     "output_type": "stream",
     "text": [
      "service goes offline @ 3:44\n"
     ]
    },
    {
     "name": "stderr",
     "output_type": "stream",
     "text": [
      "\r",
      "[==========================              ] 33/50 ( 66%) 17 to go"
     ]
    },
    {
     "name": "stdout",
     "output_type": "stream",
     "text": [
      "service goes offline @ 3:45\n"
     ]
    },
    {
     "name": "stderr",
     "output_type": "stream",
     "text": [
      "\r",
      "[===========================             ] 34/50 ( 68%) 16 to go"
     ]
    },
    {
     "name": "stdout",
     "output_type": "stream",
     "text": [
      "service goes offline @ 3:45\n"
     ]
    },
    {
     "name": "stderr",
     "output_type": "stream",
     "text": [
      "\r",
      "[============================            ] 35/50 ( 70%) 15 to go"
     ]
    },
    {
     "name": "stdout",
     "output_type": "stream",
     "text": [
      "service goes offline @ 3:46\n"
     ]
    },
    {
     "name": "stderr",
     "output_type": "stream",
     "text": [
      "\r",
      "[============================            ] 36/50 ( 72%) 14 to go"
     ]
    },
    {
     "name": "stdout",
     "output_type": "stream",
     "text": [
      "service goes offline @ 3:46\n"
     ]
    },
    {
     "name": "stderr",
     "output_type": "stream",
     "text": [
      "\r",
      "[=============================           ] 37/50 ( 74%) 13 to go"
     ]
    },
    {
     "name": "stdout",
     "output_type": "stream",
     "text": [
      "service goes offline @ 3:47\n"
     ]
    },
    {
     "name": "stderr",
     "output_type": "stream",
     "text": [
      "\r",
      "[==============================          ] 38/50 ( 76%) 12 to go"
     ]
    },
    {
     "name": "stdout",
     "output_type": "stream",
     "text": [
      "service goes offline @ 3:47\n"
     ]
    },
    {
     "name": "stderr",
     "output_type": "stream",
     "text": [
      "\r",
      "[===============================         ] 39/50 ( 78%) 11 to go"
     ]
    },
    {
     "name": "stdout",
     "output_type": "stream",
     "text": [
      "service goes offline @ 3:48\n"
     ]
    },
    {
     "name": "stderr",
     "output_type": "stream",
     "text": [
      "\r",
      "[================================        ] 40/50 ( 80%) 10 to go"
     ]
    },
    {
     "name": "stdout",
     "output_type": "stream",
     "text": [
      "service goes offline @ 3:48\n"
     ]
    },
    {
     "name": "stderr",
     "output_type": "stream",
     "text": [
      "\r",
      "[================================        ] 41/50 ( 82%)  9 to go"
     ]
    },
    {
     "name": "stdout",
     "output_type": "stream",
     "text": [
      "service goes offline @ 3:49\n"
     ]
    },
    {
     "name": "stderr",
     "output_type": "stream",
     "text": [
      "\r",
      "[=================================       ] 42/50 ( 84%)  8 to go"
     ]
    },
    {
     "name": "stdout",
     "output_type": "stream",
     "text": [
      "service goes offline @ 3:49\n"
     ]
    },
    {
     "name": "stderr",
     "output_type": "stream",
     "text": [
      "\r",
      "[==================================      ] 43/50 ( 86%)  7 to go"
     ]
    },
    {
     "name": "stdout",
     "output_type": "stream",
     "text": [
      "service goes offline @ 3:50\n"
     ]
    },
    {
     "name": "stderr",
     "output_type": "stream",
     "text": [
      "\r",
      "[===================================     ] 44/50 ( 88%)  6 to go"
     ]
    },
    {
     "name": "stdout",
     "output_type": "stream",
     "text": [
      "service goes offline @ 3:50\n"
     ]
    },
    {
     "name": "stderr",
     "output_type": "stream",
     "text": [
      "\r",
      "[====================================    ] 45/50 ( 90%)  5 to go"
     ]
    },
    {
     "name": "stdout",
     "output_type": "stream",
     "text": [
      "service goes offline @ 3:51\n"
     ]
    },
    {
     "name": "stderr",
     "output_type": "stream",
     "text": [
      "\r",
      "[====================================    ] 46/50 ( 92%)  4 to go"
     ]
    },
    {
     "name": "stdout",
     "output_type": "stream",
     "text": [
      "service goes offline @ 3:51\n"
     ]
    },
    {
     "name": "stderr",
     "output_type": "stream",
     "text": [
      "\r",
      "[=====================================   ] 47/50 ( 94%)  3 to go"
     ]
    },
    {
     "name": "stdout",
     "output_type": "stream",
     "text": [
      "service goes offline @ 3:52\n"
     ]
    },
    {
     "name": "stderr",
     "output_type": "stream",
     "text": [
      "\r",
      "[======================================  ] 48/50 ( 96%)  2 to go"
     ]
    },
    {
     "name": "stdout",
     "output_type": "stream",
     "text": [
      "service goes offline @ 3:52\n"
     ]
    },
    {
     "name": "stderr",
     "output_type": "stream",
     "text": [
      "\r",
      "[======================================= ] 49/50 ( 98%)  1 to go"
     ]
    },
    {
     "name": "stdout",
     "output_type": "stream",
     "text": [
      "service goes offline @ 3:53\n"
     ]
    },
    {
     "name": "stderr",
     "output_type": "stream",
     "text": [
      "\r",
      "[========================================] 50/50 (100%)  0 to go"
     ]
    },
    {
     "name": "stdout",
     "output_type": "stream",
     "text": [
      "service goes offline @ 3:53\n"
     ]
    },
    {
     "name": "stderr",
     "output_type": "stream",
     "text": [
      "\r",
      "[========================================] 50/50 (100%)  0 to go\n",
      "\r",
      "[                                        ]  1/50 (  2%) 49 to go"
     ]
    },
    {
     "name": "stdout",
     "output_type": "stream",
     "text": [
      "Data_215 collected, writting to file: output/Dec16_215\n",
      "output/Dec16_215 is written @ 2017-12-16 03:54:19.792699\n",
      "service goes offline @ 3:54\n"
     ]
    },
    {
     "name": "stderr",
     "output_type": "stream",
     "text": [
      "\r",
      "[=                                       ]  2/50 (  4%) 48 to go"
     ]
    },
    {
     "name": "stdout",
     "output_type": "stream",
     "text": [
      "service goes offline @ 3:54\n"
     ]
    },
    {
     "name": "stderr",
     "output_type": "stream",
     "text": [
      "\r",
      "[==                                      ]  3/50 (  6%) 47 to go"
     ]
    },
    {
     "name": "stdout",
     "output_type": "stream",
     "text": [
      "service goes offline @ 3:55\n"
     ]
    },
    {
     "name": "stderr",
     "output_type": "stream",
     "text": [
      "\r",
      "[===                                     ]  4/50 (  8%) 46 to go"
     ]
    },
    {
     "name": "stdout",
     "output_type": "stream",
     "text": [
      "service goes offline @ 3:55\n"
     ]
    },
    {
     "name": "stderr",
     "output_type": "stream",
     "text": [
      "\r",
      "[====                                    ]  5/50 ( 10%) 45 to go"
     ]
    },
    {
     "name": "stdout",
     "output_type": "stream",
     "text": [
      "service goes offline @ 3:56\n"
     ]
    },
    {
     "name": "stderr",
     "output_type": "stream",
     "text": [
      "\r",
      "[====                                    ]  6/50 ( 12%) 44 to go"
     ]
    },
    {
     "name": "stdout",
     "output_type": "stream",
     "text": [
      "service goes offline @ 3:56\n"
     ]
    },
    {
     "name": "stderr",
     "output_type": "stream",
     "text": [
      "\r",
      "[=====                                   ]  7/50 ( 14%) 43 to go"
     ]
    },
    {
     "name": "stdout",
     "output_type": "stream",
     "text": [
      "service goes offline @ 3:57\n"
     ]
    },
    {
     "name": "stderr",
     "output_type": "stream",
     "text": [
      "\r",
      "[======                                  ]  8/50 ( 16%) 42 to go"
     ]
    },
    {
     "name": "stdout",
     "output_type": "stream",
     "text": [
      "service goes offline @ 3:57\n"
     ]
    },
    {
     "name": "stderr",
     "output_type": "stream",
     "text": [
      "\r",
      "[=======                                 ]  9/50 ( 18%) 41 to go"
     ]
    },
    {
     "name": "stdout",
     "output_type": "stream",
     "text": [
      "service goes offline @ 3:58\n"
     ]
    },
    {
     "name": "stderr",
     "output_type": "stream",
     "text": [
      "\r",
      "[========                                ] 10/50 ( 20%) 40 to go"
     ]
    },
    {
     "name": "stdout",
     "output_type": "stream",
     "text": [
      "service goes offline @ 3:58\n"
     ]
    },
    {
     "name": "stderr",
     "output_type": "stream",
     "text": [
      "\r",
      "[========                                ] 11/50 ( 22%) 39 to go"
     ]
    },
    {
     "name": "stdout",
     "output_type": "stream",
     "text": [
      "service goes offline @ 3:59\n"
     ]
    },
    {
     "name": "stderr",
     "output_type": "stream",
     "text": [
      "\r",
      "[=========                               ] 12/50 ( 24%) 38 to go"
     ]
    },
    {
     "name": "stdout",
     "output_type": "stream",
     "text": [
      "service goes offline @ 3:59\n"
     ]
    },
    {
     "name": "stderr",
     "output_type": "stream",
     "text": [
      "\r",
      "[==========                              ] 13/50 ( 26%) 37 to go"
     ]
    },
    {
     "name": "stdout",
     "output_type": "stream",
     "text": [
      "service goes offline @ 4:0\n"
     ]
    },
    {
     "name": "stderr",
     "output_type": "stream",
     "text": [
      "\r",
      "[===========                             ] 14/50 ( 28%) 36 to go"
     ]
    },
    {
     "name": "stdout",
     "output_type": "stream",
     "text": [
      "service goes offline @ 4:0\n"
     ]
    },
    {
     "name": "stderr",
     "output_type": "stream",
     "text": [
      "\r",
      "[============                            ] 15/50 ( 30%) 35 to go"
     ]
    },
    {
     "name": "stdout",
     "output_type": "stream",
     "text": [
      "service goes offline @ 4:1\n"
     ]
    },
    {
     "name": "stderr",
     "output_type": "stream",
     "text": [
      "\r",
      "[============                            ] 16/50 ( 32%) 34 to go"
     ]
    },
    {
     "name": "stdout",
     "output_type": "stream",
     "text": [
      "service goes offline @ 4:1\n"
     ]
    },
    {
     "name": "stderr",
     "output_type": "stream",
     "text": [
      "\r",
      "[=============                           ] 17/50 ( 34%) 33 to go"
     ]
    },
    {
     "name": "stdout",
     "output_type": "stream",
     "text": [
      "service goes offline @ 4:2\n"
     ]
    },
    {
     "name": "stderr",
     "output_type": "stream",
     "text": [
      "\r",
      "[==============                          ] 18/50 ( 36%) 32 to go"
     ]
    },
    {
     "name": "stdout",
     "output_type": "stream",
     "text": [
      "service goes offline @ 4:2\n"
     ]
    },
    {
     "name": "stderr",
     "output_type": "stream",
     "text": [
      "\r",
      "[===============                         ] 19/50 ( 38%) 31 to go"
     ]
    },
    {
     "name": "stdout",
     "output_type": "stream",
     "text": [
      "service goes offline @ 4:3\n"
     ]
    },
    {
     "name": "stderr",
     "output_type": "stream",
     "text": [
      "\r",
      "[================                        ] 20/50 ( 40%) 30 to go"
     ]
    },
    {
     "name": "stdout",
     "output_type": "stream",
     "text": [
      "service goes offline @ 4:3\n"
     ]
    },
    {
     "name": "stderr",
     "output_type": "stream",
     "text": [
      "\r",
      "[================                        ] 21/50 ( 42%) 29 to go"
     ]
    },
    {
     "name": "stdout",
     "output_type": "stream",
     "text": [
      "service goes offline @ 4:4\n"
     ]
    },
    {
     "name": "stderr",
     "output_type": "stream",
     "text": [
      "[========================================] 50/50 (100%)  0 to go\n",
      "[                                        ]  1/50 (  2%) 49 to go"
     ]
    },
    {
     "name": "stdout",
     "output_type": "stream",
     "text": [
      "Data_216 collected, writting to file: output/Dec16_216\n",
      "output/Dec16_216 is written @ 2017-12-16 04:19:28.166080\n"
     ]
    },
    {
     "name": "stderr",
     "output_type": "stream",
     "text": [
      "[========================================] 50/50 (100%)  0 to go\n",
      "[                                        ]  1/50 (  2%) 49 to go"
     ]
    },
    {
     "name": "stdout",
     "output_type": "stream",
     "text": [
      "Data_217 collected, writting to file: output/Dec16_217\n",
      "output/Dec16_217 is written @ 2017-12-16 04:44:37.597571\n"
     ]
    },
    {
     "name": "stderr",
     "output_type": "stream",
     "text": [
      "[========================================] 50/50 (100%)  0 to go\n",
      "[                                        ]  1/50 (  2%) 49 to go"
     ]
    },
    {
     "name": "stdout",
     "output_type": "stream",
     "text": [
      "Data_218 collected, writting to file: output/Dec16_218\n",
      "output/Dec16_218 is written @ 2017-12-16 05:09:46.485446\n"
     ]
    },
    {
     "name": "stderr",
     "output_type": "stream",
     "text": [
      "[========================================] 50/50 (100%)  0 to go\n",
      "[                                        ]  1/50 (  2%) 49 to go"
     ]
    },
    {
     "name": "stdout",
     "output_type": "stream",
     "text": [
      "Data_219 collected, writting to file: output/Dec16_219\n",
      "output/Dec16_219 is written @ 2017-12-16 05:34:57.024065\n"
     ]
    },
    {
     "name": "stderr",
     "output_type": "stream",
     "text": [
      "[========================================] 50/50 (100%)  0 to go\n",
      "[                                        ]  1/50 (  2%) 49 to go"
     ]
    },
    {
     "name": "stdout",
     "output_type": "stream",
     "text": [
      "Data_220 collected, writting to file: output/Dec16_220\n",
      "output/Dec16_220 is written @ 2017-12-16 06:00:08.554607\n"
     ]
    },
    {
     "name": "stderr",
     "output_type": "stream",
     "text": [
      "[========================================] 50/50 (100%)  0 to go\n",
      "[                                        ]  1/50 (  2%) 49 to go"
     ]
    },
    {
     "name": "stdout",
     "output_type": "stream",
     "text": [
      "Data_221 collected, writting to file: output/Dec16_221\n",
      "output/Dec16_221 is written @ 2017-12-16 06:25:19.005570\n"
     ]
    },
    {
     "name": "stderr",
     "output_type": "stream",
     "text": [
      "[========================================] 50/50 (100%)  0 to go\n",
      "[                                        ]  1/50 (  2%) 49 to go"
     ]
    },
    {
     "name": "stdout",
     "output_type": "stream",
     "text": [
      "Data_222 collected, writting to file: output/Dec16_222\n",
      "output/Dec16_222 is written @ 2017-12-16 06:50:31.077588\n"
     ]
    },
    {
     "name": "stderr",
     "output_type": "stream",
     "text": [
      "[========================================] 50/50 (100%)  0 to go\n",
      "[                                        ]  1/50 (  2%) 49 to go"
     ]
    },
    {
     "name": "stdout",
     "output_type": "stream",
     "text": [
      "Data_223 collected, writting to file: output/Dec16_223\n",
      "output/Dec16_223 is written @ 2017-12-16 07:15:42.343386\n"
     ]
    },
    {
     "name": "stderr",
     "output_type": "stream",
     "text": [
      "[===============                         ] 19/50 ( 38%) 31 to go"
     ]
    },
    {
     "name": "stdout",
     "output_type": "stream",
     "text": [
      "service goes offline @ 7:24\n"
     ]
    },
    {
     "name": "stderr",
     "output_type": "stream",
     "text": [
      "[========================================] 50/50 (100%)  0 to go\n",
      "[                                        ]  1/50 (  2%) 49 to go"
     ]
    },
    {
     "name": "stdout",
     "output_type": "stream",
     "text": [
      "Data_224 collected, writting to file: output/Dec16_224\n",
      "output/Dec16_224 is written @ 2017-12-16 07:40:58.002769\n"
     ]
    },
    {
     "name": "stderr",
     "output_type": "stream",
     "text": [
      "[=====================================   ] 47/50 ( 94%)  3 to go"
     ]
    },
    {
     "name": "stdout",
     "output_type": "stream",
     "text": [
      "service goes offline @ 8:4\n"
     ]
    },
    {
     "name": "stderr",
     "output_type": "stream",
     "text": [
      "[========================================] 50/50 (100%)  0 to go\n",
      "[                                        ]  1/50 (  2%) 49 to go"
     ]
    },
    {
     "name": "stdout",
     "output_type": "stream",
     "text": [
      "Data_225 collected, writting to file: output/Dec16_225\n",
      "output/Dec16_225 is written @ 2017-12-16 08:06:08.485433\n"
     ]
    },
    {
     "name": "stderr",
     "output_type": "stream",
     "text": [
      "[========================================] 50/50 (100%)  0 to go\n",
      "[                                        ]  1/50 (  2%) 49 to go"
     ]
    },
    {
     "name": "stdout",
     "output_type": "stream",
     "text": [
      "Data_226 collected, writting to file: output/Dec16_226\n",
      "output/Dec16_226 is written @ 2017-12-16 08:31:21.331725\n"
     ]
    },
    {
     "name": "stderr",
     "output_type": "stream",
     "text": [
      "[=================                       ] 22/50 ( 44%) 28 to go"
     ]
    },
    {
     "name": "stdout",
     "output_type": "stream",
     "text": [
      "service goes offline @ 8:41\n"
     ]
    },
    {
     "name": "stderr",
     "output_type": "stream",
     "text": [
      "[========================================] 50/50 (100%)  0 to go\n",
      "[                                        ]  1/50 (  2%) 49 to go"
     ]
    },
    {
     "name": "stdout",
     "output_type": "stream",
     "text": [
      "Data_227 collected, writting to file: output/Dec16_227\n",
      "output/Dec16_227 is written @ 2017-12-16 08:56:32.045957\n"
     ]
    },
    {
     "name": "stderr",
     "output_type": "stream",
     "text": [
      "[========================================] 50/50 (100%)  0 to go\n",
      "[                                        ]  1/50 (  2%) 49 to go"
     ]
    },
    {
     "name": "stdout",
     "output_type": "stream",
     "text": [
      "Data_228 collected, writting to file: output/Dec16_228\n",
      "output/Dec16_228 is written @ 2017-12-16 09:21:44.076224\n"
     ]
    },
    {
     "name": "stderr",
     "output_type": "stream",
     "text": [
      "[========================================] 50/50 (100%)  0 to go\n",
      "[                                        ]  1/50 (  2%) 49 to go"
     ]
    },
    {
     "name": "stdout",
     "output_type": "stream",
     "text": [
      "Data_229 collected, writting to file: output/Dec16_229\n",
      "output/Dec16_229 is written @ 2017-12-16 09:47:00.801395\n"
     ]
    },
    {
     "name": "stderr",
     "output_type": "stream",
     "text": [
      "[========================================] 50/50 (100%)  0 to go\n",
      "[                                        ]  1/50 (  2%) 49 to go"
     ]
    },
    {
     "name": "stdout",
     "output_type": "stream",
     "text": [
      "Data_230 collected, writting to file: output/Dec16_230\n",
      "output/Dec16_230 is written @ 2017-12-16 10:12:13.311928\n"
     ]
    },
    {
     "name": "stderr",
     "output_type": "stream",
     "text": [
      "[========================================] 50/50 (100%)  0 to go\n",
      "[                                        ]  1/50 (  2%) 49 to go"
     ]
    },
    {
     "name": "stdout",
     "output_type": "stream",
     "text": [
      "Data_231 collected, writting to file: output/Dec16_231\n",
      "output/Dec16_231 is written @ 2017-12-16 10:37:27.759923\n"
     ]
    },
    {
     "name": "stderr",
     "output_type": "stream",
     "text": [
      "[====                                    ]  5/50 ( 10%) 45 to go"
     ]
    },
    {
     "name": "stdout",
     "output_type": "stream",
     "text": [
      "service goes offline @ 10:39\n"
     ]
    },
    {
     "name": "stderr",
     "output_type": "stream",
     "text": [
      "[========================================] 50/50 (100%)  0 to go\n",
      "[                                        ]  1/50 (  2%) 49 to go"
     ]
    },
    {
     "name": "stdout",
     "output_type": "stream",
     "text": [
      "Data_232 collected, writting to file: output/Dec16_232\n",
      "output/Dec16_232 is written @ 2017-12-16 11:02:38.221521\n"
     ]
    },
    {
     "name": "stderr",
     "output_type": "stream",
     "text": [
      "[==========                              ] 13/50 ( 26%) 37 to go"
     ]
    },
    {
     "name": "stdout",
     "output_type": "stream",
     "text": [
      "service goes offline @ 11:8\n"
     ]
    },
    {
     "name": "stderr",
     "output_type": "stream",
     "text": [
      "[========================================] 50/50 (100%)  0 to go\n",
      "[                                        ]  1/50 (  2%) 49 to go"
     ]
    },
    {
     "name": "stdout",
     "output_type": "stream",
     "text": [
      "Data_233 collected, writting to file: output/Dec16_233\n",
      "output/Dec16_233 is written @ 2017-12-16 11:27:49.059596\n"
     ]
    },
    {
     "name": "stderr",
     "output_type": "stream",
     "text": [
      "[================================        ] 40/50 ( 80%) 10 to go"
     ]
    },
    {
     "ename": "KeyboardInterrupt",
     "evalue": "",
     "output_type": "error",
     "traceback": [
      "\u001b[0;31m---------------------------------------------------------------------------\u001b[0m",
      "\u001b[0;31mKeyboardInterrupt\u001b[0m                         Traceback (most recent call last)",
      "\u001b[0;32m<ipython-input-44-50258c79cda1>\u001b[0m in \u001b[0;36m<module>\u001b[0;34m()\u001b[0m\n\u001b[1;32m     21\u001b[0m             \u001b[0mcurr\u001b[0m\u001b[0;34m+=\u001b[0m\u001b[0;36m1\u001b[0m\u001b[0;34m\u001b[0m\u001b[0m\n\u001b[1;32m     22\u001b[0m             \u001b[0mcount\u001b[0m\u001b[0;34m+=\u001b[0m\u001b[0;36m1\u001b[0m\u001b[0;34m\u001b[0m\u001b[0m\n\u001b[0;32m---> 23\u001b[0;31m             \u001b[0mtm\u001b[0m\u001b[0;34m.\u001b[0m\u001b[0msleep\u001b[0m\u001b[0;34m(\u001b[0m\u001b[0;36m30\u001b[0m\u001b[0;34m)\u001b[0m\u001b[0;34m\u001b[0m\u001b[0m\n\u001b[0m\u001b[1;32m     24\u001b[0m         \u001b[0mprogress\u001b[0m\u001b[0;34m.\u001b[0m\u001b[0mdone\u001b[0m\u001b[0;34m(\u001b[0m\u001b[0;34m)\u001b[0m\u001b[0;34m\u001b[0m\u001b[0m\n\u001b[1;32m     25\u001b[0m         \u001b[0mprint\u001b[0m\u001b[0;34m(\u001b[0m\u001b[0;34m'Data_%d collected, writting to file: '\u001b[0m \u001b[0;34m%\u001b[0m\u001b[0;34m(\u001b[0m\u001b[0mcount\u001b[0m\u001b[0;34m//\u001b[0m\u001b[0mint\u001b[0m\u001b[0;34m(\u001b[0m\u001b[0mn\u001b[0m\u001b[0;34m)\u001b[0m\u001b[0;34m-\u001b[0m\u001b[0;36m1\u001b[0m\u001b[0;34m)\u001b[0m\u001b[0;34m+\u001b[0m\u001b[0msaved_\u001b[0m \u001b[0;34m)\u001b[0m\u001b[0;34m\u001b[0m\u001b[0m\n",
      "\u001b[0;31mKeyboardInterrupt\u001b[0m: "
     ]
    }
   ],
   "source": [
    "from progressbar import*\n",
    "now = datetime.now()\n",
    "now_time = now.time()\n",
    "n,desired_stop, t_type, route_n = 50,175,'Bus',39\n",
    "#    input(\"Please enter parameters in format of: n, stop_id, type, route_n =>\").split(',')\n",
    "count = 0\n",
    "while(True):\n",
    "    if (time(4,30) <= now.time() <= time(23,59)) or (time(0,0) <= now.time() <= time(1,0)):\n",
    "        filename = 'output/'+tm.strftime(\"%b\")+str(datetime.now().day)+'_'\n",
    "        saved_ = filename+\"%d\" %(count//int(n))\n",
    "        curr = 0\n",
    "        result = {}\n",
    "        progress = ProgressBar(int(n), fmt=ProgressBar.FULL)\n",
    "        while(curr<int(n)):\n",
    "            progress.current += 1\n",
    "            progress()\n",
    "            stop_data = get_stop_info(desired_stop)\n",
    "            bus_list = get_bus_info(stop_data,t_type,route_n)\n",
    "            #print([count,bus_list])\n",
    "            result[count]={\"time\":tm.time(),\"info\":bus_list}\n",
    "            curr+=1\n",
    "            count+=1\n",
    "            tm.sleep(30)\n",
    "        progress.done()\n",
    "        print('Data_%d collected, writting to file: ' %(count//int(n)-1)+saved_ )\n",
    "        msg = writer(result,saved_)\n",
    "        if msg:\n",
    "            print(msg)"
   ]
  },
  {
   "cell_type": "code",
   "execution_count": null,
   "metadata": {
    "collapsed": false
   },
   "outputs": [],
   "source": [
    "# #by default \n",
    "# desired_stop = 175\n",
    "# t_type = 'Bus'\n",
    "# route_n = 39"
   ]
  }
 ],
 "metadata": {
  "anaconda-cloud": {},
  "kernelspec": {
   "display_name": "Python [Root]",
   "language": "python",
   "name": "Python [Root]"
  },
  "language_info": {
   "codemirror_mode": {
    "name": "ipython",
    "version": 3
   },
   "file_extension": ".py",
   "mimetype": "text/x-python",
   "name": "python",
   "nbconvert_exporter": "python",
   "pygments_lexer": "ipython3",
   "version": "3.5.2"
  }
 },
 "nbformat": 4,
 "nbformat_minor": 0
}
