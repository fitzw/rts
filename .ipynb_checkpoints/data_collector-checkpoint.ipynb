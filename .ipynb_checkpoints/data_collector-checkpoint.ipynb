{
 "cells": [
  {
   "cell_type": "code",
   "execution_count": 2,
   "metadata": {
    "collapsed": true
   },
   "outputs": [],
   "source": [
    "from bs4 import BeautifulSoup\n",
    "import sys\n",
    "import time as tm\n",
    "from datetime import datetime, time\n",
    "import os\n",
    "import requests\n",
    "import codecs\n",
    "import json\n",
    "from optparse import OptionParser\n",
    "key = 'Z4Y7a0W330WT1m6DUoHXhQ'\n",
    "#url = 'http://realtime.mbta.com/developer/api/v2/predictionsbystop?api_key=wX9NwuHnZU2ToO7GmGR9uw&stop=place-bbsta&format=json'"
   ]
  },
  {
   "cell_type": "markdown",
   "metadata": {},
   "source": [
    "* \"70154\",\"70154\",\"Copley - Inbound\",\"\",42.349974,-71.077447,\"\",\"\",0,\"place-coecl\",0\n",
    "\n",
    "* \"70155\",\"70155\",\"Copley - Outbound\",\"\",42.349974,-71.077447,\"\",\"\",0,\"place-coecl\",0"
   ]
  },
  {
   "cell_type": "markdown",
   "metadata": {},
   "source": [
    "1. * Route_type = 0 -> subway\n",
    "   * 1 -> rail way\n",
    "   * 2 -> bus\n",
    "   \n",
    "2. * 39 bus \"175\",\"175\",\"Boylston St @ Dartmouth St\",\"\",42.350011,-71.077432,\"\",\"\",0,\"\",0\n",
    "\n"
   ]
  },
  {
   "cell_type": "code",
   "execution_count": 3,
   "metadata": {
    "collapsed": false
   },
   "outputs": [],
   "source": [
    "def get_stop_info(stop_id):\n",
    "    stop = str(stop_id)\n",
    "    url = 'http://realtime.mbta.com/developer/api/v2/predictionsbystop?'\\\n",
    "          'api_key='+key+'&stop='+stop+'&format=json'\n",
    "    response = requests.get(url) \n",
    "    #text = response.text.encode('utf-8')\n",
    "    data = json.loads(response.text)\n",
    "    return data"
   ]
  },
  {
   "cell_type": "code",
   "execution_count": 7,
   "metadata": {
    "collapsed": false
   },
   "outputs": [],
   "source": [
    "#data.keys() -> ['mode', 'stop_id', 'stop_name', 'alert_headers']"
   ]
  },
  {
   "cell_type": "code",
   "execution_count": 4,
   "metadata": {
    "collapsed": false
   },
   "outputs": [],
   "source": [
    "def get_bus_info(stop_data,t_type,route_n):\n",
    "    if 'mode' not in stop_data.keys():\n",
    "        print('service goes offline @ %d:%d'%(datetime.now().hour,datetime.now().minute))\n",
    "    else:\n",
    "        for i in stop_data['mode']:\n",
    "            if i['mode_name'] == t_type:\n",
    "                for route in i['route']:\n",
    "                    if route['route_name']==str(route_n):\n",
    "                        return route['direction'][0]['trip']\n",
    "    return 'This bus is unavailable or bus id not found.'"
   ]
  },
  {
   "cell_type": "code",
   "execution_count": 10,
   "metadata": {
    "collapsed": false
   },
   "outputs": [],
   "source": [
    "#bus_data.keys() -> ['route_name', 'direction', 'route_id']"
   ]
  },
  {
   "cell_type": "code",
   "execution_count": 11,
   "metadata": {
    "collapsed": true
   },
   "outputs": [],
   "source": [
    "#bus_data['direction'][0].keys() -> ['trip', 'direction_name', 'direction_id']"
   ]
  },
  {
   "cell_type": "code",
   "execution_count": 12,
   "metadata": {
    "collapsed": false
   },
   "outputs": [],
   "source": [
    "# parser = OptionParser()\n",
    "# parser.add_option('-v', '--verbose', action='store_true')\n",
    "# parser.add_option('-o', '--output-file')\n",
    "# parser.add_option('-n', '--n_of_time', type = 'int')\n",
    "# parser.add_option('-s', '--desired_stop', type='str')\n",
    "# parser.add_option('-t', '--t_type', type='str')\n",
    "# parser.add_option('-r', '--route_n', type='int')\n",
    "# option, args = parser.parse_args()\n",
    "# if not option.output_file:\n",
    "#     print('specify input and output files')\n",
    "#     parser.print_help()\n",
    "#     sys.exit(1)\n",
    "# if not (option.desired_stop and option.t_type and option.route_n):\n",
    "#     print('specify correct input')\n",
    "#     parser.print_help()\n",
    "#     sys.exit(1)\n"
   ]
  },
  {
   "cell_type": "code",
   "execution_count": 13,
   "metadata": {
    "collapsed": false
   },
   "outputs": [],
   "source": [
    "# if __name__ == \"__main__\":\n",
    "#     desired_stop = sys.argv[1]\n",
    "#     t_type = sys.argv[2]"
   ]
  },
  {
   "cell_type": "code",
   "execution_count": 7,
   "metadata": {
    "collapsed": false
   },
   "outputs": [],
   "source": [
    "#import pickle\n",
    "def writer(data,filename):\n",
    "    with open(filename+'.txt', \"w\") as fp: \n",
    "        json.dump(data, fp)\n",
    "    #print(filename+' is written @ '+str(datetime.now()))\n",
    "    return str(filename+' is written @ '+str(datetime.now()))"
   ]
  },
  {
   "cell_type": "code",
   "execution_count": null,
   "metadata": {
    "collapsed": false
   },
   "outputs": [],
   "source": [
    "# def worker(n,desired_stop,t_type,route_n,filename):\n",
    "#     count = 0\n",
    "#     result = []\n",
    "#     progress = ProgressBar(n, fmt=ProgressBar.FULL)\n",
    "#     while(count<n):\n",
    "#         progress.current += 1\n",
    "#         progress()\n",
    "#         stop_data = get_stop_info(desired_stop)\n",
    "#         bus_list = get_bus_info(stop_data,t_type,route_n)\n",
    "#         #print([count,bus_list])\n",
    "#         result.append([count,datetime.now(),bus_list])\n",
    "#         count+=1\n",
    "#         tm.sleep(10)\n",
    "#     progress.done()\n",
    "#     writer(result,filename)\n",
    "#     return result\n",
    "        \n",
    "# #worker(1800,171,'Bus',39,'test.txt')"
   ]
  },
  {
   "cell_type": "code",
   "execution_count": 9,
   "metadata": {
    "collapsed": false
   },
   "outputs": [
    {
     "name": "stderr",
     "output_type": "stream",
     "text": [
      "[========================================] 3/3 (100%) 0 to go\n",
      "[=============                           ] 1/3 ( 33%) 2 to go"
     ]
    },
    {
     "name": "stdout",
     "output_type": "stream",
     "text": [
      "Data_0 collected, writting to file: output/Jul5_0\n",
      "output/Jul5_0 is written @ 2017-07-05 18:27:43.525341\n"
     ]
    },
    {
     "name": "stderr",
     "output_type": "stream",
     "text": [
      "[========================================] 3/3 (100%) 0 to go\n",
      "[=============                           ] 1/3 ( 33%) 2 to go"
     ]
    },
    {
     "name": "stdout",
     "output_type": "stream",
     "text": [
      "Data_1 collected, writting to file: output/Jul5_1\n",
      "output/Jul5_1 is written @ 2017-07-05 18:28:13.999364\n"
     ]
    },
    {
     "name": "stderr",
     "output_type": "stream",
     "text": [
      "[========================================] 3/3 (100%) 0 to go\n",
      "[=============                           ] 1/3 ( 33%) 2 to go"
     ]
    },
    {
     "name": "stdout",
     "output_type": "stream",
     "text": [
      "Data_2 collected, writting to file: output/Jul5_2\n",
      "output/Jul5_2 is written @ 2017-07-05 18:28:45.213084\n"
     ]
    },
    {
     "name": "stderr",
     "output_type": "stream",
     "text": [
      "[========================================] 3/3 (100%) 0 to go\n",
      "[=============                           ] 1/3 ( 33%) 2 to go"
     ]
    },
    {
     "name": "stdout",
     "output_type": "stream",
     "text": [
      "Data_3 collected, writting to file: output/Jul5_3\n",
      "output/Jul5_3 is written @ 2017-07-05 18:29:15.595573\n"
     ]
    },
    {
     "name": "stderr",
     "output_type": "stream",
     "text": [
      "[========================================] 3/3 (100%) 0 to go\n",
      "[=============                           ] 1/3 ( 33%) 2 to go"
     ]
    },
    {
     "name": "stdout",
     "output_type": "stream",
     "text": [
      "Data_4 collected, writting to file: output/Jul5_4\n",
      "output/Jul5_4 is written @ 2017-07-05 18:29:45.987205\n"
     ]
    },
    {
     "name": "stderr",
     "output_type": "stream",
     "text": [
      "[========================================] 3/3 (100%) 0 to go"
     ]
    },
    {
     "ename": "KeyboardInterrupt",
     "evalue": "",
     "output_type": "error",
     "traceback": [
      "\u001b[0;31m---------------------------------------------------------------------------\u001b[0m",
      "\u001b[0;31mKeyboardInterrupt\u001b[0m                         Traceback (most recent call last)",
      "\u001b[0;32m<ipython-input-9-c5b27f6c2ae0>\u001b[0m in \u001b[0;36m<module>\u001b[0;34m()\u001b[0m\n\u001b[1;32m     21\u001b[0m             \u001b[0mcurr\u001b[0m\u001b[0;34m+=\u001b[0m\u001b[0;36m1\u001b[0m\u001b[0;34m\u001b[0m\u001b[0m\n\u001b[1;32m     22\u001b[0m             \u001b[0mcount\u001b[0m\u001b[0;34m+=\u001b[0m\u001b[0;36m1\u001b[0m\u001b[0;34m\u001b[0m\u001b[0m\n\u001b[0;32m---> 23\u001b[0;31m             \u001b[0mtm\u001b[0m\u001b[0;34m.\u001b[0m\u001b[0msleep\u001b[0m\u001b[0;34m(\u001b[0m\u001b[0;36m10\u001b[0m\u001b[0;34m)\u001b[0m\u001b[0;34m\u001b[0m\u001b[0m\n\u001b[0m\u001b[1;32m     24\u001b[0m         \u001b[0mprogress\u001b[0m\u001b[0;34m.\u001b[0m\u001b[0mdone\u001b[0m\u001b[0;34m(\u001b[0m\u001b[0;34m)\u001b[0m\u001b[0;34m\u001b[0m\u001b[0m\n\u001b[1;32m     25\u001b[0m         \u001b[0mprint\u001b[0m\u001b[0;34m(\u001b[0m\u001b[0;34m'Data_%d collected, writting to file: '\u001b[0m \u001b[0;34m%\u001b[0m\u001b[0;34m(\u001b[0m\u001b[0mcount\u001b[0m\u001b[0;34m//\u001b[0m\u001b[0mint\u001b[0m\u001b[0;34m(\u001b[0m\u001b[0mn\u001b[0m\u001b[0;34m)\u001b[0m\u001b[0;34m-\u001b[0m\u001b[0;36m1\u001b[0m\u001b[0;34m)\u001b[0m\u001b[0;34m+\u001b[0m\u001b[0msaved_\u001b[0m \u001b[0;34m)\u001b[0m\u001b[0;34m\u001b[0m\u001b[0m\n",
      "\u001b[0;31mKeyboardInterrupt\u001b[0m: "
     ]
    }
   ],
   "source": [
    "from progressbar import*\n",
    "now = datetime.now()\n",
    "now_time = now.time()\n",
    "n,desired_stop, t_type, route_n = 30,175,'Bus',39\n",
    "#    input(\"Please enter parameters in format of: n, stop_id, type, route_n =>\").split(',')\n",
    "count = 0\n",
    "while(True):\n",
    "    if (time(4,30) <= now.time() <= time(23,59)) or (time(0,0) <= now.time() <= time(1,0)):\n",
    "        filename = 'output/'+tm.strftime(\"%b\")+str(datetime.now().day)+'_'\n",
    "        saved_ = filename+\"%d\" %(count//int(n))\n",
    "        curr = 0\n",
    "        result = {}\n",
    "        progress = ProgressBar(int(n), fmt=ProgressBar.FULL)\n",
    "        while(curr<int(n)):\n",
    "            progress.current += 1\n",
    "            progress()\n",
    "            stop_data = get_stop_info(desired_stop)\n",
    "            bus_list = get_bus_info(stop_data,t_type,route_n)\n",
    "            #print([count,bus_list])\n",
    "            result[count]={\"time\":tm.time(),\"info\":bus_list}\n",
    "            curr+=1\n",
    "            count+=1\n",
    "            tm.sleep(10)\n",
    "        progress.done()\n",
    "        print('Data_%d collected, writting to file: ' %(count//int(n)-1)+saved_ )\n",
    "        msg = writer(result,saved_)\n",
    "        if msg:\n",
    "            print(msg)"
   ]
  },
  {
   "cell_type": "code",
   "execution_count": null,
   "metadata": {
    "collapsed": false
   },
   "outputs": [],
   "source": [
    "# #by default \n",
    "# desired_stop = 175\n",
    "# t_type = 'Bus'\n",
    "# route_n = 39"
   ]
  }
 ],
 "metadata": {
  "anaconda-cloud": {},
  "kernelspec": {
   "display_name": "Python [Root]",
   "language": "python",
   "name": "Python [Root]"
  },
  "language_info": {
   "codemirror_mode": {
    "name": "ipython",
    "version": 3
   },
   "file_extension": ".py",
   "mimetype": "text/x-python",
   "name": "python",
   "nbconvert_exporter": "python",
   "pygments_lexer": "ipython3",
   "version": "3.5.2"
  }
 },
 "nbformat": 4,
 "nbformat_minor": 0
}
