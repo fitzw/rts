{
 "cells": [
  {
   "cell_type": "code",
   "execution_count": 2,
   "metadata": {
    "collapsed": true
   },
   "outputs": [],
   "source": [
    "from bs4 import BeautifulSoup\n",
    "import sys\n",
    "import time as tm\n",
    "from datetime import datetime, time\n",
    "import os\n",
    "import requests\n",
    "import codecs\n",
    "import json\n",
    "from optparse import OptionParser\n",
    "key = 'Z4Y7a0W330WT1m6DUoHXhQ'\n",
    "#url = 'http://realtime.mbta.com/developer/api/v2/predictionsbystop?api_key=wX9NwuHnZU2ToO7GmGR9uw&stop=place-bbsta&format=json'"
   ]
  },
  {
   "cell_type": "markdown",
   "metadata": {},
   "source": [
    "* \"70154\",\"70154\",\"Copley - Inbound\",\"\",42.349974,-71.077447,\"\",\"\",0,\"place-coecl\",0\n",
    "\n",
    "* \"70155\",\"70155\",\"Copley - Outbound\",\"\",42.349974,-71.077447,\"\",\"\",0,\"place-coecl\",0"
   ]
  },
  {
   "cell_type": "markdown",
   "metadata": {},
   "source": [
    "1. * Route_type = 0 -> subway\n",
    "   * 1 -> rail way\n",
    "   * 2 -> bus\n",
    "   \n",
    "2. * 39 bus \"175\",\"175\",\"Boylston St @ Dartmouth St\",\"\",42.350011,-71.077432,\"\",\"\",0,\"\",0\n",
    "\n"
   ]
  },
  {
   "cell_type": "code",
   "execution_count": 3,
   "metadata": {
    "collapsed": false
   },
   "outputs": [],
   "source": [
    "def get_stop_info(stop_id):\n",
    "    stop = str(stop_id)\n",
    "    url = 'http://realtime.mbta.com/developer/api/v2/predictionsbystop?'\\\n",
    "          'api_key='+key+'&stop='+stop+'&format=json'\n",
    "    response = requests.get(url) \n",
    "    #text = response.text.encode('utf-8')\n",
    "    data = json.loads(response.text)\n",
    "    return data"
   ]
  },
  {
   "cell_type": "code",
   "execution_count": 4,
   "metadata": {
    "collapsed": false
   },
   "outputs": [],
   "source": [
    "#data.keys() -> ['mode', 'stop_id', 'stop_name', 'alert_headers']"
   ]
  },
  {
   "cell_type": "code",
   "execution_count": 5,
   "metadata": {
    "collapsed": false
   },
   "outputs": [],
   "source": [
    "def get_bus_info(stop_data,t_type,route_n):\n",
    "    if 'mode' not in stop_data.keys():\n",
    "        print('service goes offline @ %d:%d'%(datetime.now().hour,datetime.now().minute))\n",
    "    else:\n",
    "        for i in stop_data['mode']:\n",
    "            if i['mode_name'] == t_type:\n",
    "                for route in i['route']:\n",
    "                    if route['route_name']==str(route_n):\n",
    "                        return route['direction'][0]['trip']\n",
    "    return 'This bus is unavailable or bus id not found.'"
   ]
  },
  {
   "cell_type": "code",
   "execution_count": 6,
   "metadata": {
    "collapsed": false
   },
   "outputs": [],
   "source": [
    "#bus_data.keys() -> ['route_name', 'direction', 'route_id']"
   ]
  },
  {
   "cell_type": "code",
   "execution_count": 7,
   "metadata": {
    "collapsed": true
   },
   "outputs": [],
   "source": [
    "#bus_data['direction'][0].keys() -> ['trip', 'direction_name', 'direction_id']"
   ]
  },
  {
   "cell_type": "code",
   "execution_count": 8,
   "metadata": {
    "collapsed": false
   },
   "outputs": [],
   "source": [
    "# parser = OptionParser()\n",
    "# parser.add_option('-v', '--verbose', action='store_true')\n",
    "# parser.add_option('-o', '--output-file')\n",
    "# parser.add_option('-n', '--n_of_time', type = 'int')\n",
    "# parser.add_option('-s', '--desired_stop', type='str')\n",
    "# parser.add_option('-t', '--t_type', type='str')\n",
    "# parser.add_option('-r', '--route_n', type='int')\n",
    "# option, args = parser.parse_args()\n",
    "# if not option.output_file:\n",
    "#     print('specify input and output files')\n",
    "#     parser.print_help()\n",
    "#     sys.exit(1)\n",
    "# if not (option.desired_stop and option.t_type and option.route_n):\n",
    "#     print('specify correct input')\n",
    "#     parser.print_help()\n",
    "#     sys.exit(1)\n"
   ]
  },
  {
   "cell_type": "code",
   "execution_count": 9,
   "metadata": {
    "collapsed": false
   },
   "outputs": [],
   "source": [
    "# if __name__ == \"__main__\":\n",
    "#     desired_stop = sys.argv[1]\n",
    "#     t_type = sys.argv[2]"
   ]
  },
  {
   "cell_type": "code",
   "execution_count": 10,
   "metadata": {
    "collapsed": false
   },
   "outputs": [],
   "source": [
    "#import pickle\n",
    "def writer(data,filename):\n",
    "    with open(filename+'.json', \"w\") as fp: \n",
    "        json.dump(data, fp)\n",
    "    #print(filename+' is written @ '+str(datetime.now()))\n",
    "    return str(filename+' is written @ '+str(datetime.now()))"
   ]
  },
  {
   "cell_type": "code",
   "execution_count": 11,
   "metadata": {
    "collapsed": false
   },
   "outputs": [],
   "source": [
    "# def worker(n,desired_stop,t_type,route_n,filename):\n",
    "#     count = 0\n",
    "#     result = []\n",
    "#     progress = ProgressBar(n, fmt=ProgressBar.FULL)\n",
    "#     while(count<n):\n",
    "#         progress.current += 1\n",
    "#         progress()\n",
    "#         stop_data = get_stop_info(desired_stop)\n",
    "#         bus_list = get_bus_info(stop_data,t_type,route_n)\n",
    "#         #print([count,bus_list])\n",
    "#         result.append([count,datetime.now(),bus_list])\n",
    "#         count+=1\n",
    "#         tm.sleep(10)\n",
    "#     progress.done()\n",
    "#     writer(result,filename)\n",
    "#     return result\n",
    "        \n",
    "# #worker(1800,171,'Bus',39,'test.txt')"
   ]
  },
  {
   "cell_type": "code",
   "execution_count": 12,
   "metadata": {
    "collapsed": false
   },
   "outputs": [
    {
     "name": "stderr",
     "output_type": "stream",
     "text": [
      "[=====================                   ] 27/50 ( 54%) 23 to go"
     ]
    },
    {
     "name": "stdout",
     "output_type": "stream",
     "text": [
      "service goes offline @ 13:22\n"
     ]
    },
    {
     "name": "stderr",
     "output_type": "stream",
     "text": [
      "[========================================] 50/50 (100%)  0 to go\n",
      "[                                        ]  1/50 (  2%) 49 to go"
     ]
    },
    {
     "name": "stdout",
     "output_type": "stream",
     "text": [
      "Data_0 collected, writting to file: output/Oct11_0\n",
      "output/Oct11_0 is written @ 2017-10-11 13:34:12.965065\n"
     ]
    },
    {
     "name": "stderr",
     "output_type": "stream",
     "text": [
      "[========================================] 50/50 (100%)  0 to go\n",
      "[                                        ]  1/50 (  2%) 49 to go"
     ]
    },
    {
     "name": "stdout",
     "output_type": "stream",
     "text": [
      "Data_1 collected, writting to file: output/Oct11_1\n",
      "output/Oct11_1 is written @ 2017-10-11 13:59:25.272610\n"
     ]
    },
    {
     "name": "stderr",
     "output_type": "stream",
     "text": [
      "[========================================] 50/50 (100%)  0 to go\n",
      "[                                        ]  1/50 (  2%) 49 to go"
     ]
    },
    {
     "name": "stdout",
     "output_type": "stream",
     "text": [
      "Data_2 collected, writting to file: output/Oct11_2\n",
      "output/Oct11_2 is written @ 2017-10-11 14:24:36.891777\n"
     ]
    },
    {
     "name": "stderr",
     "output_type": "stream",
     "text": [
      "[========================================] 50/50 (100%)  0 to go\n",
      "[                                        ]  1/50 (  2%) 49 to go"
     ]
    },
    {
     "name": "stdout",
     "output_type": "stream",
     "text": [
      "Data_3 collected, writting to file: output/Oct11_3\n",
      "output/Oct11_3 is written @ 2017-10-11 14:49:49.020450\n"
     ]
    },
    {
     "name": "stderr",
     "output_type": "stream",
     "text": [
      "[===============                         ] 19/50 ( 38%) 31 to go"
     ]
    },
    {
     "name": "stdout",
     "output_type": "stream",
     "text": [
      "service goes offline @ 14:58\n"
     ]
    },
    {
     "name": "stderr",
     "output_type": "stream",
     "text": [
      "[=================                       ] 22/50 ( 44%) 28 to go"
     ]
    },
    {
     "name": "stdout",
     "output_type": "stream",
     "text": [
      "service goes offline @ 15:0\n"
     ]
    },
    {
     "name": "stderr",
     "output_type": "stream",
     "text": [
      "[========================================] 50/50 (100%)  0 to go\n",
      "[                                        ]  1/50 (  2%) 49 to go"
     ]
    },
    {
     "name": "stdout",
     "output_type": "stream",
     "text": [
      "Data_4 collected, writting to file: output/Oct11_4\n",
      "output/Oct11_4 is written @ 2017-10-11 15:14:59.640203\n"
     ]
    },
    {
     "name": "stderr",
     "output_type": "stream",
     "text": [
      "[========================================] 50/50 (100%)  0 to go\n",
      "[                                        ]  1/50 (  2%) 49 to go"
     ]
    },
    {
     "name": "stdout",
     "output_type": "stream",
     "text": [
      "Data_5 collected, writting to file: output/Oct11_5\n",
      "output/Oct11_5 is written @ 2017-10-11 15:40:10.991450\n"
     ]
    },
    {
     "name": "stderr",
     "output_type": "stream",
     "text": [
      "[========================================] 50/50 (100%)  0 to go\n",
      "[                                        ]  1/50 (  2%) 49 to go"
     ]
    },
    {
     "name": "stdout",
     "output_type": "stream",
     "text": [
      "Data_6 collected, writting to file: output/Oct11_6\n",
      "output/Oct11_6 is written @ 2017-10-11 16:05:23.965494\n"
     ]
    },
    {
     "name": "stderr",
     "output_type": "stream",
     "text": [
      "[========================================] 50/50 (100%)  0 to go\n",
      "[                                        ]  1/50 (  2%) 49 to go"
     ]
    },
    {
     "name": "stdout",
     "output_type": "stream",
     "text": [
      "Data_7 collected, writting to file: output/Oct11_7\n",
      "output/Oct11_7 is written @ 2017-10-11 16:30:36.976536\n"
     ]
    },
    {
     "name": "stderr",
     "output_type": "stream",
     "text": [
      "[==========================              ] 33/50 ( 66%) 17 to go"
     ]
    },
    {
     "name": "stdout",
     "output_type": "stream",
     "text": [
      "service goes offline @ 16:46\n"
     ]
    },
    {
     "name": "stderr",
     "output_type": "stream",
     "text": [
      "[========================================] 50/50 (100%)  0 to go\n",
      "[                                        ]  1/50 (  2%) 49 to go"
     ]
    },
    {
     "name": "stdout",
     "output_type": "stream",
     "text": [
      "Data_8 collected, writting to file: output/Oct11_8\n",
      "output/Oct11_8 is written @ 2017-10-11 16:55:52.425077\n"
     ]
    },
    {
     "name": "stderr",
     "output_type": "stream",
     "text": [
      "[========================================] 50/50 (100%)  0 to go\n",
      "[                                        ]  1/50 (  2%) 49 to go"
     ]
    },
    {
     "name": "stdout",
     "output_type": "stream",
     "text": [
      "Data_9 collected, writting to file: output/Oct11_9\n",
      "output/Oct11_9 is written @ 2017-10-11 17:21:13.995167\n"
     ]
    },
    {
     "name": "stderr",
     "output_type": "stream",
     "text": [
      "[===                                     ]  4/50 (  8%) 46 to go"
     ]
    },
    {
     "name": "stdout",
     "output_type": "stream",
     "text": [
      "service goes offline @ 17:22\n"
     ]
    },
    {
     "name": "stderr",
     "output_type": "stream",
     "text": [
      "[=========================               ] 32/50 ( 64%) 18 to go"
     ]
    },
    {
     "name": "stdout",
     "output_type": "stream",
     "text": [
      "service goes offline @ 17:36\n"
     ]
    },
    {
     "name": "stderr",
     "output_type": "stream",
     "text": [
      "[===================================     ] 44/50 ( 88%)  6 to go"
     ]
    },
    {
     "name": "stdout",
     "output_type": "stream",
     "text": [
      "service goes offline @ 17:42\n"
     ]
    },
    {
     "name": "stderr",
     "output_type": "stream",
     "text": [
      "[========================================] 50/50 (100%)  0 to go\n",
      "[                                        ]  1/50 (  2%) 49 to go"
     ]
    },
    {
     "name": "stdout",
     "output_type": "stream",
     "text": [
      "Data_10 collected, writting to file: output/Oct11_10\n",
      "output/Oct11_10 is written @ 2017-10-11 17:46:28.146051\n"
     ]
    },
    {
     "name": "stderr",
     "output_type": "stream",
     "text": [
      "[========================================] 50/50 (100%)  0 to go\n",
      "[                                        ]  1/50 (  2%) 49 to go"
     ]
    },
    {
     "name": "stdout",
     "output_type": "stream",
     "text": [
      "Data_11 collected, writting to file: output/Oct11_11\n",
      "output/Oct11_11 is written @ 2017-10-11 18:11:41.949086\n"
     ]
    },
    {
     "name": "stderr",
     "output_type": "stream",
     "text": [
      "[====================================    ] 46/50 ( 92%)  4 to go"
     ]
    },
    {
     "name": "stdout",
     "output_type": "stream",
     "text": [
      "service goes offline @ 18:34\n"
     ]
    },
    {
     "name": "stderr",
     "output_type": "stream",
     "text": [
      "[========================================] 50/50 (100%)  0 to go\n",
      "[                                        ]  1/50 (  2%) 49 to go"
     ]
    },
    {
     "name": "stdout",
     "output_type": "stream",
     "text": [
      "Data_12 collected, writting to file: output/Oct11_12\n",
      "output/Oct11_12 is written @ 2017-10-11 18:36:57.279336\n"
     ]
    },
    {
     "name": "stderr",
     "output_type": "stream",
     "text": [
      "[========================================] 50/50 (100%)  0 to go\n",
      "[                                        ]  1/50 (  2%) 49 to go"
     ]
    },
    {
     "name": "stdout",
     "output_type": "stream",
     "text": [
      "Data_13 collected, writting to file: output/Oct11_13\n",
      "output/Oct11_13 is written @ 2017-10-11 19:02:09.734031\n"
     ]
    },
    {
     "name": "stderr",
     "output_type": "stream",
     "text": [
      "[======================================= ] 49/50 ( 98%)  1 to go"
     ]
    },
    {
     "name": "stdout",
     "output_type": "stream",
     "text": [
      "service goes offline @ 19:26\n"
     ]
    },
    {
     "name": "stderr",
     "output_type": "stream",
     "text": [
      "[========================================] 50/50 (100%)  0 to go\n",
      "[                                        ]  1/50 (  2%) 49 to go"
     ]
    },
    {
     "name": "stdout",
     "output_type": "stream",
     "text": [
      "Data_14 collected, writting to file: output/Oct11_14\n",
      "output/Oct11_14 is written @ 2017-10-11 19:27:23.588509\n"
     ]
    },
    {
     "name": "stderr",
     "output_type": "stream",
     "text": [
      "[========================================] 50/50 (100%)  0 to go\n",
      "[                                        ]  1/50 (  2%) 49 to go"
     ]
    },
    {
     "name": "stdout",
     "output_type": "stream",
     "text": [
      "Data_15 collected, writting to file: output/Oct11_15\n",
      "output/Oct11_15 is written @ 2017-10-11 19:52:35.432416\n"
     ]
    },
    {
     "name": "stderr",
     "output_type": "stream",
     "text": [
      "[========================================] 50/50 (100%)  0 to go\n",
      "[                                        ]  1/50 (  2%) 49 to go"
     ]
    },
    {
     "name": "stdout",
     "output_type": "stream",
     "text": [
      "Data_16 collected, writting to file: output/Oct11_16\n",
      "output/Oct11_16 is written @ 2017-10-11 20:17:48.137235\n"
     ]
    },
    {
     "name": "stderr",
     "output_type": "stream",
     "text": [
      "[========================================] 50/50 (100%)  0 to go\n",
      "[                                        ]  1/50 (  2%) 49 to go"
     ]
    },
    {
     "name": "stdout",
     "output_type": "stream",
     "text": [
      "Data_17 collected, writting to file: output/Oct11_17\n",
      "output/Oct11_17 is written @ 2017-10-11 20:42:58.681162\n"
     ]
    },
    {
     "name": "stderr",
     "output_type": "stream",
     "text": [
      "[========================================] 50/50 (100%)  0 to go\n",
      "[                                        ]  1/50 (  2%) 49 to go"
     ]
    },
    {
     "name": "stdout",
     "output_type": "stream",
     "text": [
      "Data_18 collected, writting to file: output/Oct11_18\n",
      "output/Oct11_18 is written @ 2017-10-11 21:08:08.835654\n"
     ]
    },
    {
     "name": "stderr",
     "output_type": "stream",
     "text": [
      "[========================================] 50/50 (100%)  0 to go\n",
      "[                                        ]  1/50 (  2%) 49 to go"
     ]
    },
    {
     "name": "stdout",
     "output_type": "stream",
     "text": [
      "Data_19 collected, writting to file: output/Oct11_19\n",
      "output/Oct11_19 is written @ 2017-10-11 21:33:20.174997\n"
     ]
    },
    {
     "name": "stderr",
     "output_type": "stream",
     "text": [
      "[========================================] 50/50 (100%)  0 to go\n",
      "[                                        ]  1/50 (  2%) 49 to go"
     ]
    },
    {
     "name": "stdout",
     "output_type": "stream",
     "text": [
      "Data_20 collected, writting to file: output/Oct11_20\n",
      "output/Oct11_20 is written @ 2017-10-11 21:58:31.720445\n"
     ]
    },
    {
     "name": "stderr",
     "output_type": "stream",
     "text": [
      "[========================================] 50/50 (100%)  0 to go\n",
      "[                                        ]  1/50 (  2%) 49 to go"
     ]
    },
    {
     "name": "stdout",
     "output_type": "stream",
     "text": [
      "Data_21 collected, writting to file: output/Oct11_21\n",
      "output/Oct11_21 is written @ 2017-10-11 22:23:42.972935\n"
     ]
    },
    {
     "name": "stderr",
     "output_type": "stream",
     "text": [
      "[========================================] 50/50 (100%)  0 to go\n",
      "[                                        ]  1/50 (  2%) 49 to go"
     ]
    },
    {
     "name": "stdout",
     "output_type": "stream",
     "text": [
      "Data_22 collected, writting to file: output/Oct11_22\n",
      "output/Oct11_22 is written @ 2017-10-11 22:48:54.382753\n"
     ]
    },
    {
     "name": "stderr",
     "output_type": "stream",
     "text": [
      "[========================================] 50/50 (100%)  0 to go\n",
      "[                                        ]  1/50 (  2%) 49 to go"
     ]
    },
    {
     "name": "stdout",
     "output_type": "stream",
     "text": [
      "Data_23 collected, writting to file: output/Oct11_23\n",
      "output/Oct11_23 is written @ 2017-10-11 23:14:04.929115\n"
     ]
    },
    {
     "name": "stderr",
     "output_type": "stream",
     "text": [
      "[========================================] 50/50 (100%)  0 to go\n",
      "[                                        ]  1/50 (  2%) 49 to go"
     ]
    },
    {
     "name": "stdout",
     "output_type": "stream",
     "text": [
      "Data_24 collected, writting to file: output/Oct11_24\n",
      "output/Oct11_24 is written @ 2017-10-11 23:39:15.493063\n"
     ]
    },
    {
     "name": "stderr",
     "output_type": "stream",
     "text": [
      "[========================================] 50/50 (100%)  0 to go\n",
      "[                                        ]  1/50 (  2%) 49 to go"
     ]
    },
    {
     "name": "stdout",
     "output_type": "stream",
     "text": [
      "Data_25 collected, writting to file: output/Oct11_25\n",
      "output/Oct11_25 is written @ 2017-10-12 00:04:26.113297\n"
     ]
    },
    {
     "name": "stderr",
     "output_type": "stream",
     "text": [
      "[========================================] 50/50 (100%)  0 to go\n",
      "[                                        ]  1/50 (  2%) 49 to go"
     ]
    },
    {
     "name": "stdout",
     "output_type": "stream",
     "text": [
      "Data_26 collected, writting to file: output/Oct12_26\n",
      "output/Oct12_26 is written @ 2017-10-12 00:29:37.439705\n"
     ]
    },
    {
     "name": "stderr",
     "output_type": "stream",
     "text": [
      "[========================================] 50/50 (100%)  0 to go\n",
      "[                                        ]  1/50 (  2%) 49 to go"
     ]
    },
    {
     "name": "stdout",
     "output_type": "stream",
     "text": [
      "Data_27 collected, writting to file: output/Oct12_27\n",
      "output/Oct12_27 is written @ 2017-10-12 00:54:47.638382\n"
     ]
    },
    {
     "name": "stderr",
     "output_type": "stream",
     "text": [
      "[=================                       ] 22/50 ( 44%) 28 to go"
     ]
    },
    {
     "name": "stdout",
     "output_type": "stream",
     "text": [
      "service goes offline @ 1:5\n"
     ]
    },
    {
     "name": "stderr",
     "output_type": "stream",
     "text": [
      "\r",
      "[==================                      ] 23/50 ( 46%) 27 to go"
     ]
    },
    {
     "name": "stdout",
     "output_type": "stream",
     "text": [
      "service goes offline @ 1:5\n"
     ]
    },
    {
     "name": "stderr",
     "output_type": "stream",
     "text": [
      "\r",
      "[===================                     ] 24/50 ( 48%) 26 to go"
     ]
    },
    {
     "name": "stdout",
     "output_type": "stream",
     "text": [
      "service goes offline @ 1:6\n"
     ]
    },
    {
     "name": "stderr",
     "output_type": "stream",
     "text": [
      "\r",
      "[====================                    ] 25/50 ( 50%) 25 to go"
     ]
    },
    {
     "name": "stdout",
     "output_type": "stream",
     "text": [
      "service goes offline @ 1:6\n"
     ]
    },
    {
     "name": "stderr",
     "output_type": "stream",
     "text": [
      "\r",
      "[====================                    ] 26/50 ( 52%) 24 to go"
     ]
    },
    {
     "name": "stdout",
     "output_type": "stream",
     "text": [
      "service goes offline @ 1:7\n"
     ]
    },
    {
     "name": "stderr",
     "output_type": "stream",
     "text": [
      "\r",
      "[=====================                   ] 27/50 ( 54%) 23 to go"
     ]
    },
    {
     "name": "stdout",
     "output_type": "stream",
     "text": [
      "service goes offline @ 1:7\n"
     ]
    },
    {
     "name": "stderr",
     "output_type": "stream",
     "text": [
      "\r",
      "[======================                  ] 28/50 ( 56%) 22 to go"
     ]
    },
    {
     "name": "stdout",
     "output_type": "stream",
     "text": [
      "service goes offline @ 1:8\n"
     ]
    },
    {
     "name": "stderr",
     "output_type": "stream",
     "text": [
      "\r",
      "[=======================                 ] 29/50 ( 57%) 21 to go"
     ]
    },
    {
     "name": "stdout",
     "output_type": "stream",
     "text": [
      "service goes offline @ 1:8\n"
     ]
    },
    {
     "name": "stderr",
     "output_type": "stream",
     "text": [
      "\r",
      "[========================                ] 30/50 ( 60%) 20 to go"
     ]
    },
    {
     "name": "stdout",
     "output_type": "stream",
     "text": [
      "service goes offline @ 1:9\n"
     ]
    },
    {
     "name": "stderr",
     "output_type": "stream",
     "text": [
      "\r",
      "[========================                ] 31/50 ( 62%) 19 to go"
     ]
    },
    {
     "name": "stdout",
     "output_type": "stream",
     "text": [
      "service goes offline @ 1:9\n"
     ]
    },
    {
     "name": "stderr",
     "output_type": "stream",
     "text": [
      "\r",
      "[=========================               ] 32/50 ( 64%) 18 to go"
     ]
    },
    {
     "name": "stdout",
     "output_type": "stream",
     "text": [
      "service goes offline @ 1:10\n"
     ]
    },
    {
     "name": "stderr",
     "output_type": "stream",
     "text": [
      "\r",
      "[==========================              ] 33/50 ( 66%) 17 to go"
     ]
    },
    {
     "name": "stdout",
     "output_type": "stream",
     "text": [
      "service goes offline @ 1:10\n"
     ]
    },
    {
     "name": "stderr",
     "output_type": "stream",
     "text": [
      "\r",
      "[===========================             ] 34/50 ( 68%) 16 to go"
     ]
    },
    {
     "name": "stdout",
     "output_type": "stream",
     "text": [
      "service goes offline @ 1:11\n"
     ]
    },
    {
     "name": "stderr",
     "output_type": "stream",
     "text": [
      "\r",
      "[============================            ] 35/50 ( 70%) 15 to go"
     ]
    },
    {
     "name": "stdout",
     "output_type": "stream",
     "text": [
      "service goes offline @ 1:11\n"
     ]
    },
    {
     "name": "stderr",
     "output_type": "stream",
     "text": [
      "\r",
      "[============================            ] 36/50 ( 72%) 14 to go"
     ]
    },
    {
     "name": "stdout",
     "output_type": "stream",
     "text": [
      "service goes offline @ 1:12\n"
     ]
    },
    {
     "name": "stderr",
     "output_type": "stream",
     "text": [
      "\r",
      "[=============================           ] 37/50 ( 74%) 13 to go"
     ]
    },
    {
     "name": "stdout",
     "output_type": "stream",
     "text": [
      "service goes offline @ 1:12\n"
     ]
    },
    {
     "name": "stderr",
     "output_type": "stream",
     "text": [
      "\r",
      "[==============================          ] 38/50 ( 76%) 12 to go"
     ]
    },
    {
     "name": "stdout",
     "output_type": "stream",
     "text": [
      "service goes offline @ 1:13\n"
     ]
    },
    {
     "name": "stderr",
     "output_type": "stream",
     "text": [
      "\r",
      "[===============================         ] 39/50 ( 78%) 11 to go"
     ]
    },
    {
     "name": "stdout",
     "output_type": "stream",
     "text": [
      "service goes offline @ 1:13\n"
     ]
    },
    {
     "name": "stderr",
     "output_type": "stream",
     "text": [
      "\r",
      "[================================        ] 40/50 ( 80%) 10 to go"
     ]
    },
    {
     "name": "stdout",
     "output_type": "stream",
     "text": [
      "service goes offline @ 1:14\n"
     ]
    },
    {
     "name": "stderr",
     "output_type": "stream",
     "text": [
      "\r",
      "[================================        ] 41/50 ( 82%)  9 to go"
     ]
    },
    {
     "name": "stdout",
     "output_type": "stream",
     "text": [
      "service goes offline @ 1:14\n"
     ]
    },
    {
     "name": "stderr",
     "output_type": "stream",
     "text": [
      "\r",
      "[=================================       ] 42/50 ( 84%)  8 to go"
     ]
    },
    {
     "name": "stdout",
     "output_type": "stream",
     "text": [
      "service goes offline @ 1:15\n"
     ]
    },
    {
     "name": "stderr",
     "output_type": "stream",
     "text": [
      "\r",
      "[==================================      ] 43/50 ( 86%)  7 to go"
     ]
    },
    {
     "name": "stdout",
     "output_type": "stream",
     "text": [
      "service goes offline @ 1:15\n"
     ]
    },
    {
     "name": "stderr",
     "output_type": "stream",
     "text": [
      "\r",
      "[===================================     ] 44/50 ( 88%)  6 to go"
     ]
    },
    {
     "name": "stdout",
     "output_type": "stream",
     "text": [
      "service goes offline @ 1:16\n"
     ]
    },
    {
     "name": "stderr",
     "output_type": "stream",
     "text": [
      "\r",
      "[====================================    ] 45/50 ( 90%)  5 to go"
     ]
    },
    {
     "name": "stdout",
     "output_type": "stream",
     "text": [
      "service goes offline @ 1:16\n"
     ]
    },
    {
     "name": "stderr",
     "output_type": "stream",
     "text": [
      "\r",
      "[====================================    ] 46/50 ( 92%)  4 to go"
     ]
    },
    {
     "name": "stdout",
     "output_type": "stream",
     "text": [
      "service goes offline @ 1:17\n"
     ]
    },
    {
     "name": "stderr",
     "output_type": "stream",
     "text": [
      "\r",
      "[=====================================   ] 47/50 ( 94%)  3 to go"
     ]
    },
    {
     "name": "stdout",
     "output_type": "stream",
     "text": [
      "service goes offline @ 1:17\n"
     ]
    },
    {
     "name": "stderr",
     "output_type": "stream",
     "text": [
      "\r",
      "[======================================  ] 48/50 ( 96%)  2 to go"
     ]
    },
    {
     "name": "stdout",
     "output_type": "stream",
     "text": [
      "service goes offline @ 1:18\n"
     ]
    },
    {
     "name": "stderr",
     "output_type": "stream",
     "text": [
      "\r",
      "[======================================= ] 49/50 ( 98%)  1 to go"
     ]
    },
    {
     "name": "stdout",
     "output_type": "stream",
     "text": [
      "service goes offline @ 1:18\n"
     ]
    },
    {
     "name": "stderr",
     "output_type": "stream",
     "text": [
      "\r",
      "[========================================] 50/50 (100%)  0 to go"
     ]
    },
    {
     "name": "stdout",
     "output_type": "stream",
     "text": [
      "service goes offline @ 1:19\n"
     ]
    },
    {
     "name": "stderr",
     "output_type": "stream",
     "text": [
      "\r",
      "[========================================] 50/50 (100%)  0 to go\n",
      "\r",
      "[                                        ]  1/50 (  2%) 49 to go"
     ]
    },
    {
     "name": "stdout",
     "output_type": "stream",
     "text": [
      "Data_28 collected, writting to file: output/Oct12_28\n",
      "output/Oct12_28 is written @ 2017-10-12 01:19:56.196994\n",
      "service goes offline @ 1:19\n"
     ]
    },
    {
     "name": "stderr",
     "output_type": "stream",
     "text": [
      "\r",
      "[=                                       ]  2/50 (  4%) 48 to go"
     ]
    },
    {
     "name": "stdout",
     "output_type": "stream",
     "text": [
      "service goes offline @ 1:20\n"
     ]
    },
    {
     "name": "stderr",
     "output_type": "stream",
     "text": [
      "\r",
      "[==                                      ]  3/50 (  6%) 47 to go"
     ]
    },
    {
     "name": "stdout",
     "output_type": "stream",
     "text": [
      "service goes offline @ 1:20\n"
     ]
    },
    {
     "name": "stderr",
     "output_type": "stream",
     "text": [
      "\r",
      "[===                                     ]  4/50 (  8%) 46 to go"
     ]
    },
    {
     "name": "stdout",
     "output_type": "stream",
     "text": [
      "service goes offline @ 1:21\n"
     ]
    },
    {
     "name": "stderr",
     "output_type": "stream",
     "text": [
      "\r",
      "[====                                    ]  5/50 ( 10%) 45 to go"
     ]
    },
    {
     "name": "stdout",
     "output_type": "stream",
     "text": [
      "service goes offline @ 1:21\n"
     ]
    },
    {
     "name": "stderr",
     "output_type": "stream",
     "text": [
      "\r",
      "[====                                    ]  6/50 ( 12%) 44 to go"
     ]
    },
    {
     "name": "stdout",
     "output_type": "stream",
     "text": [
      "service goes offline @ 1:22\n"
     ]
    },
    {
     "name": "stderr",
     "output_type": "stream",
     "text": [
      "\r",
      "[=====                                   ]  7/50 ( 14%) 43 to go"
     ]
    },
    {
     "name": "stdout",
     "output_type": "stream",
     "text": [
      "service goes offline @ 1:22\n"
     ]
    },
    {
     "name": "stderr",
     "output_type": "stream",
     "text": [
      "\r",
      "[======                                  ]  8/50 ( 16%) 42 to go"
     ]
    },
    {
     "name": "stdout",
     "output_type": "stream",
     "text": [
      "service goes offline @ 1:23\n"
     ]
    },
    {
     "name": "stderr",
     "output_type": "stream",
     "text": [
      "\r",
      "[=======                                 ]  9/50 ( 18%) 41 to go"
     ]
    },
    {
     "name": "stdout",
     "output_type": "stream",
     "text": [
      "service goes offline @ 1:23\n"
     ]
    },
    {
     "name": "stderr",
     "output_type": "stream",
     "text": [
      "\r",
      "[========                                ] 10/50 ( 20%) 40 to go"
     ]
    },
    {
     "name": "stdout",
     "output_type": "stream",
     "text": [
      "service goes offline @ 1:24\n"
     ]
    },
    {
     "name": "stderr",
     "output_type": "stream",
     "text": [
      "\r",
      "[========                                ] 11/50 ( 22%) 39 to go"
     ]
    },
    {
     "name": "stdout",
     "output_type": "stream",
     "text": [
      "service goes offline @ 1:24\n"
     ]
    },
    {
     "name": "stderr",
     "output_type": "stream",
     "text": [
      "\r",
      "[=========                               ] 12/50 ( 24%) 38 to go"
     ]
    },
    {
     "name": "stdout",
     "output_type": "stream",
     "text": [
      "service goes offline @ 1:25\n"
     ]
    },
    {
     "name": "stderr",
     "output_type": "stream",
     "text": [
      "\r",
      "[==========                              ] 13/50 ( 26%) 37 to go"
     ]
    },
    {
     "name": "stdout",
     "output_type": "stream",
     "text": [
      "service goes offline @ 1:25\n"
     ]
    },
    {
     "name": "stderr",
     "output_type": "stream",
     "text": [
      "\r",
      "[===========                             ] 14/50 ( 28%) 36 to go"
     ]
    },
    {
     "name": "stdout",
     "output_type": "stream",
     "text": [
      "service goes offline @ 1:26\n"
     ]
    },
    {
     "name": "stderr",
     "output_type": "stream",
     "text": [
      "\r",
      "[============                            ] 15/50 ( 30%) 35 to go"
     ]
    },
    {
     "name": "stdout",
     "output_type": "stream",
     "text": [
      "service goes offline @ 1:26\n"
     ]
    },
    {
     "name": "stderr",
     "output_type": "stream",
     "text": [
      "\r",
      "[============                            ] 16/50 ( 32%) 34 to go"
     ]
    },
    {
     "name": "stdout",
     "output_type": "stream",
     "text": [
      "service goes offline @ 1:27\n"
     ]
    },
    {
     "name": "stderr",
     "output_type": "stream",
     "text": [
      "\r",
      "[=============                           ] 17/50 ( 34%) 33 to go"
     ]
    },
    {
     "name": "stdout",
     "output_type": "stream",
     "text": [
      "service goes offline @ 1:27\n"
     ]
    },
    {
     "name": "stderr",
     "output_type": "stream",
     "text": [
      "\r",
      "[==============                          ] 18/50 ( 36%) 32 to go"
     ]
    },
    {
     "name": "stdout",
     "output_type": "stream",
     "text": [
      "service goes offline @ 1:28\n"
     ]
    },
    {
     "name": "stderr",
     "output_type": "stream",
     "text": [
      "\r",
      "[===============                         ] 19/50 ( 38%) 31 to go"
     ]
    },
    {
     "name": "stdout",
     "output_type": "stream",
     "text": [
      "service goes offline @ 1:28\n"
     ]
    },
    {
     "name": "stderr",
     "output_type": "stream",
     "text": [
      "\r",
      "[================                        ] 20/50 ( 40%) 30 to go"
     ]
    },
    {
     "name": "stdout",
     "output_type": "stream",
     "text": [
      "service goes offline @ 1:29\n"
     ]
    },
    {
     "name": "stderr",
     "output_type": "stream",
     "text": [
      "\r",
      "[================                        ] 21/50 ( 42%) 29 to go"
     ]
    },
    {
     "name": "stdout",
     "output_type": "stream",
     "text": [
      "service goes offline @ 1:30\n"
     ]
    },
    {
     "name": "stderr",
     "output_type": "stream",
     "text": [
      "\r",
      "[=================                       ] 22/50 ( 44%) 28 to go"
     ]
    },
    {
     "name": "stdout",
     "output_type": "stream",
     "text": [
      "service goes offline @ 1:30\n"
     ]
    },
    {
     "name": "stderr",
     "output_type": "stream",
     "text": [
      "\r",
      "[==================                      ] 23/50 ( 46%) 27 to go"
     ]
    },
    {
     "name": "stdout",
     "output_type": "stream",
     "text": [
      "service goes offline @ 1:31\n"
     ]
    },
    {
     "name": "stderr",
     "output_type": "stream",
     "text": [
      "\r",
      "[===================                     ] 24/50 ( 48%) 26 to go"
     ]
    },
    {
     "name": "stdout",
     "output_type": "stream",
     "text": [
      "service goes offline @ 1:31\n"
     ]
    },
    {
     "name": "stderr",
     "output_type": "stream",
     "text": [
      "\r",
      "[====================                    ] 25/50 ( 50%) 25 to go"
     ]
    },
    {
     "name": "stdout",
     "output_type": "stream",
     "text": [
      "service goes offline @ 1:32\n"
     ]
    },
    {
     "name": "stderr",
     "output_type": "stream",
     "text": [
      "\r",
      "[====================                    ] 26/50 ( 52%) 24 to go"
     ]
    },
    {
     "name": "stdout",
     "output_type": "stream",
     "text": [
      "service goes offline @ 1:32\n"
     ]
    },
    {
     "name": "stderr",
     "output_type": "stream",
     "text": [
      "\r",
      "[=====================                   ] 27/50 ( 54%) 23 to go"
     ]
    },
    {
     "name": "stdout",
     "output_type": "stream",
     "text": [
      "service goes offline @ 1:33\n"
     ]
    },
    {
     "name": "stderr",
     "output_type": "stream",
     "text": [
      "\r",
      "[======================                  ] 28/50 ( 56%) 22 to go"
     ]
    },
    {
     "name": "stdout",
     "output_type": "stream",
     "text": [
      "service goes offline @ 1:33\n"
     ]
    },
    {
     "name": "stderr",
     "output_type": "stream",
     "text": [
      "\r",
      "[=======================                 ] 29/50 ( 57%) 21 to go"
     ]
    },
    {
     "name": "stdout",
     "output_type": "stream",
     "text": [
      "service goes offline @ 1:34\n"
     ]
    },
    {
     "name": "stderr",
     "output_type": "stream",
     "text": [
      "\r",
      "[========================                ] 30/50 ( 60%) 20 to go"
     ]
    },
    {
     "name": "stdout",
     "output_type": "stream",
     "text": [
      "service goes offline @ 1:34\n"
     ]
    },
    {
     "name": "stderr",
     "output_type": "stream",
     "text": [
      "\r",
      "[========================                ] 31/50 ( 62%) 19 to go"
     ]
    },
    {
     "name": "stdout",
     "output_type": "stream",
     "text": [
      "service goes offline @ 1:35\n"
     ]
    },
    {
     "name": "stderr",
     "output_type": "stream",
     "text": [
      "\r",
      "[=========================               ] 32/50 ( 64%) 18 to go"
     ]
    },
    {
     "name": "stdout",
     "output_type": "stream",
     "text": [
      "service goes offline @ 1:35\n"
     ]
    },
    {
     "name": "stderr",
     "output_type": "stream",
     "text": [
      "\r",
      "[==========================              ] 33/50 ( 66%) 17 to go"
     ]
    },
    {
     "name": "stdout",
     "output_type": "stream",
     "text": [
      "service goes offline @ 1:36\n"
     ]
    },
    {
     "name": "stderr",
     "output_type": "stream",
     "text": [
      "\r",
      "[===========================             ] 34/50 ( 68%) 16 to go"
     ]
    },
    {
     "name": "stdout",
     "output_type": "stream",
     "text": [
      "service goes offline @ 1:36\n"
     ]
    },
    {
     "name": "stderr",
     "output_type": "stream",
     "text": [
      "\r",
      "[============================            ] 35/50 ( 70%) 15 to go"
     ]
    },
    {
     "name": "stdout",
     "output_type": "stream",
     "text": [
      "service goes offline @ 1:37\n"
     ]
    },
    {
     "name": "stderr",
     "output_type": "stream",
     "text": [
      "\r",
      "[============================            ] 36/50 ( 72%) 14 to go"
     ]
    },
    {
     "name": "stdout",
     "output_type": "stream",
     "text": [
      "service goes offline @ 1:37\n"
     ]
    },
    {
     "name": "stderr",
     "output_type": "stream",
     "text": [
      "\r",
      "[=============================           ] 37/50 ( 74%) 13 to go"
     ]
    },
    {
     "name": "stdout",
     "output_type": "stream",
     "text": [
      "service goes offline @ 1:38\n"
     ]
    },
    {
     "name": "stderr",
     "output_type": "stream",
     "text": [
      "\r",
      "[==============================          ] 38/50 ( 76%) 12 to go"
     ]
    },
    {
     "name": "stdout",
     "output_type": "stream",
     "text": [
      "service goes offline @ 1:38\n"
     ]
    },
    {
     "name": "stderr",
     "output_type": "stream",
     "text": [
      "\r",
      "[===============================         ] 39/50 ( 78%) 11 to go"
     ]
    },
    {
     "name": "stdout",
     "output_type": "stream",
     "text": [
      "service goes offline @ 1:39\n"
     ]
    },
    {
     "name": "stderr",
     "output_type": "stream",
     "text": [
      "\r",
      "[================================        ] 40/50 ( 80%) 10 to go"
     ]
    },
    {
     "name": "stdout",
     "output_type": "stream",
     "text": [
      "service goes offline @ 1:39\n"
     ]
    },
    {
     "name": "stderr",
     "output_type": "stream",
     "text": [
      "\r",
      "[================================        ] 41/50 ( 82%)  9 to go"
     ]
    },
    {
     "name": "stdout",
     "output_type": "stream",
     "text": [
      "service goes offline @ 1:40\n"
     ]
    },
    {
     "name": "stderr",
     "output_type": "stream",
     "text": [
      "\r",
      "[=================================       ] 42/50 ( 84%)  8 to go"
     ]
    },
    {
     "name": "stdout",
     "output_type": "stream",
     "text": [
      "service goes offline @ 1:40\n"
     ]
    },
    {
     "name": "stderr",
     "output_type": "stream",
     "text": [
      "\r",
      "[==================================      ] 43/50 ( 86%)  7 to go"
     ]
    },
    {
     "name": "stdout",
     "output_type": "stream",
     "text": [
      "service goes offline @ 1:41\n"
     ]
    },
    {
     "name": "stderr",
     "output_type": "stream",
     "text": [
      "\r",
      "[===================================     ] 44/50 ( 88%)  6 to go"
     ]
    },
    {
     "name": "stdout",
     "output_type": "stream",
     "text": [
      "service goes offline @ 1:41\n"
     ]
    },
    {
     "name": "stderr",
     "output_type": "stream",
     "text": [
      "\r",
      "[====================================    ] 45/50 ( 90%)  5 to go"
     ]
    },
    {
     "name": "stdout",
     "output_type": "stream",
     "text": [
      "service goes offline @ 1:42\n"
     ]
    },
    {
     "name": "stderr",
     "output_type": "stream",
     "text": [
      "\r",
      "[====================================    ] 46/50 ( 92%)  4 to go"
     ]
    },
    {
     "name": "stdout",
     "output_type": "stream",
     "text": [
      "service goes offline @ 1:42\n"
     ]
    },
    {
     "name": "stderr",
     "output_type": "stream",
     "text": [
      "\r",
      "[=====================================   ] 47/50 ( 94%)  3 to go"
     ]
    },
    {
     "name": "stdout",
     "output_type": "stream",
     "text": [
      "service goes offline @ 1:43\n"
     ]
    },
    {
     "name": "stderr",
     "output_type": "stream",
     "text": [
      "\r",
      "[======================================  ] 48/50 ( 96%)  2 to go"
     ]
    },
    {
     "name": "stdout",
     "output_type": "stream",
     "text": [
      "service goes offline @ 1:43\n"
     ]
    },
    {
     "name": "stderr",
     "output_type": "stream",
     "text": [
      "\r",
      "[======================================= ] 49/50 ( 98%)  1 to go"
     ]
    },
    {
     "name": "stdout",
     "output_type": "stream",
     "text": [
      "service goes offline @ 1:44\n"
     ]
    },
    {
     "name": "stderr",
     "output_type": "stream",
     "text": [
      "\r",
      "[========================================] 50/50 (100%)  0 to go"
     ]
    },
    {
     "name": "stdout",
     "output_type": "stream",
     "text": [
      "service goes offline @ 1:44\n"
     ]
    },
    {
     "name": "stderr",
     "output_type": "stream",
     "text": [
      "\r",
      "[========================================] 50/50 (100%)  0 to go\n",
      "\r",
      "[                                        ]  1/50 (  2%) 49 to go"
     ]
    },
    {
     "name": "stdout",
     "output_type": "stream",
     "text": [
      "Data_29 collected, writting to file: output/Oct12_29\n",
      "output/Oct12_29 is written @ 2017-10-12 01:45:05.405266\n",
      "service goes offline @ 1:45\n"
     ]
    },
    {
     "name": "stderr",
     "output_type": "stream",
     "text": [
      "\r",
      "[=                                       ]  2/50 (  4%) 48 to go"
     ]
    },
    {
     "name": "stdout",
     "output_type": "stream",
     "text": [
      "service goes offline @ 1:45\n"
     ]
    },
    {
     "name": "stderr",
     "output_type": "stream",
     "text": [
      "\r",
      "[==                                      ]  3/50 (  6%) 47 to go"
     ]
    },
    {
     "name": "stdout",
     "output_type": "stream",
     "text": [
      "service goes offline @ 1:46\n"
     ]
    },
    {
     "name": "stderr",
     "output_type": "stream",
     "text": [
      "\r",
      "[===                                     ]  4/50 (  8%) 46 to go"
     ]
    },
    {
     "name": "stdout",
     "output_type": "stream",
     "text": [
      "service goes offline @ 1:46\n"
     ]
    },
    {
     "name": "stderr",
     "output_type": "stream",
     "text": [
      "\r",
      "[====                                    ]  5/50 ( 10%) 45 to go"
     ]
    },
    {
     "name": "stdout",
     "output_type": "stream",
     "text": [
      "service goes offline @ 1:47\n"
     ]
    },
    {
     "name": "stderr",
     "output_type": "stream",
     "text": [
      "\r",
      "[====                                    ]  6/50 ( 12%) 44 to go"
     ]
    },
    {
     "name": "stdout",
     "output_type": "stream",
     "text": [
      "service goes offline @ 1:47\n"
     ]
    },
    {
     "name": "stderr",
     "output_type": "stream",
     "text": [
      "\r",
      "[=====                                   ]  7/50 ( 14%) 43 to go"
     ]
    },
    {
     "name": "stdout",
     "output_type": "stream",
     "text": [
      "service goes offline @ 1:48\n"
     ]
    },
    {
     "name": "stderr",
     "output_type": "stream",
     "text": [
      "\r",
      "[======                                  ]  8/50 ( 16%) 42 to go"
     ]
    },
    {
     "name": "stdout",
     "output_type": "stream",
     "text": [
      "service goes offline @ 1:48\n"
     ]
    },
    {
     "name": "stderr",
     "output_type": "stream",
     "text": [
      "\r",
      "[=======                                 ]  9/50 ( 18%) 41 to go"
     ]
    },
    {
     "name": "stdout",
     "output_type": "stream",
     "text": [
      "service goes offline @ 1:49\n"
     ]
    },
    {
     "name": "stderr",
     "output_type": "stream",
     "text": [
      "\r",
      "[========                                ] 10/50 ( 20%) 40 to go"
     ]
    },
    {
     "name": "stdout",
     "output_type": "stream",
     "text": [
      "service goes offline @ 1:49\n"
     ]
    },
    {
     "name": "stderr",
     "output_type": "stream",
     "text": [
      "\r",
      "[========                                ] 11/50 ( 22%) 39 to go"
     ]
    },
    {
     "name": "stdout",
     "output_type": "stream",
     "text": [
      "service goes offline @ 1:50\n"
     ]
    },
    {
     "name": "stderr",
     "output_type": "stream",
     "text": [
      "\r",
      "[=========                               ] 12/50 ( 24%) 38 to go"
     ]
    },
    {
     "name": "stdout",
     "output_type": "stream",
     "text": [
      "service goes offline @ 1:50\n"
     ]
    },
    {
     "name": "stderr",
     "output_type": "stream",
     "text": [
      "\r",
      "[==========                              ] 13/50 ( 26%) 37 to go"
     ]
    },
    {
     "name": "stdout",
     "output_type": "stream",
     "text": [
      "service goes offline @ 1:51\n"
     ]
    },
    {
     "name": "stderr",
     "output_type": "stream",
     "text": [
      "\r",
      "[===========                             ] 14/50 ( 28%) 36 to go"
     ]
    },
    {
     "name": "stdout",
     "output_type": "stream",
     "text": [
      "service goes offline @ 1:51\n"
     ]
    },
    {
     "name": "stderr",
     "output_type": "stream",
     "text": [
      "\r",
      "[============                            ] 15/50 ( 30%) 35 to go"
     ]
    },
    {
     "name": "stdout",
     "output_type": "stream",
     "text": [
      "service goes offline @ 1:52\n"
     ]
    },
    {
     "name": "stderr",
     "output_type": "stream",
     "text": [
      "\r",
      "[============                            ] 16/50 ( 32%) 34 to go"
     ]
    },
    {
     "name": "stdout",
     "output_type": "stream",
     "text": [
      "service goes offline @ 1:52\n"
     ]
    },
    {
     "name": "stderr",
     "output_type": "stream",
     "text": [
      "\r",
      "[=============                           ] 17/50 ( 34%) 33 to go"
     ]
    },
    {
     "name": "stdout",
     "output_type": "stream",
     "text": [
      "service goes offline @ 1:53\n"
     ]
    },
    {
     "name": "stderr",
     "output_type": "stream",
     "text": [
      "\r",
      "[==============                          ] 18/50 ( 36%) 32 to go"
     ]
    },
    {
     "name": "stdout",
     "output_type": "stream",
     "text": [
      "service goes offline @ 1:53\n"
     ]
    },
    {
     "name": "stderr",
     "output_type": "stream",
     "text": [
      "\r",
      "[===============                         ] 19/50 ( 38%) 31 to go"
     ]
    },
    {
     "name": "stdout",
     "output_type": "stream",
     "text": [
      "service goes offline @ 1:54\n"
     ]
    },
    {
     "name": "stderr",
     "output_type": "stream",
     "text": [
      "\r",
      "[================                        ] 20/50 ( 40%) 30 to go"
     ]
    },
    {
     "name": "stdout",
     "output_type": "stream",
     "text": [
      "service goes offline @ 1:54\n"
     ]
    },
    {
     "name": "stderr",
     "output_type": "stream",
     "text": [
      "\r",
      "[================                        ] 21/50 ( 42%) 29 to go"
     ]
    },
    {
     "name": "stdout",
     "output_type": "stream",
     "text": [
      "service goes offline @ 1:55\n"
     ]
    },
    {
     "name": "stderr",
     "output_type": "stream",
     "text": [
      "\r",
      "[=================                       ] 22/50 ( 44%) 28 to go"
     ]
    },
    {
     "name": "stdout",
     "output_type": "stream",
     "text": [
      "service goes offline @ 1:55\n"
     ]
    },
    {
     "name": "stderr",
     "output_type": "stream",
     "text": [
      "\r",
      "[==================                      ] 23/50 ( 46%) 27 to go"
     ]
    },
    {
     "name": "stdout",
     "output_type": "stream",
     "text": [
      "service goes offline @ 1:56\n"
     ]
    },
    {
     "name": "stderr",
     "output_type": "stream",
     "text": [
      "\r",
      "[===================                     ] 24/50 ( 48%) 26 to go"
     ]
    },
    {
     "name": "stdout",
     "output_type": "stream",
     "text": [
      "service goes offline @ 1:56\n"
     ]
    },
    {
     "name": "stderr",
     "output_type": "stream",
     "text": [
      "\r",
      "[====================                    ] 25/50 ( 50%) 25 to go"
     ]
    },
    {
     "name": "stdout",
     "output_type": "stream",
     "text": [
      "service goes offline @ 1:57\n"
     ]
    },
    {
     "name": "stderr",
     "output_type": "stream",
     "text": [
      "\r",
      "[====================                    ] 26/50 ( 52%) 24 to go"
     ]
    },
    {
     "name": "stdout",
     "output_type": "stream",
     "text": [
      "service goes offline @ 1:57\n"
     ]
    },
    {
     "name": "stderr",
     "output_type": "stream",
     "text": [
      "\r",
      "[=====================                   ] 27/50 ( 54%) 23 to go"
     ]
    },
    {
     "name": "stdout",
     "output_type": "stream",
     "text": [
      "service goes offline @ 1:58\n"
     ]
    },
    {
     "name": "stderr",
     "output_type": "stream",
     "text": [
      "\r",
      "[======================                  ] 28/50 ( 56%) 22 to go"
     ]
    },
    {
     "name": "stdout",
     "output_type": "stream",
     "text": [
      "service goes offline @ 1:58\n"
     ]
    },
    {
     "name": "stderr",
     "output_type": "stream",
     "text": [
      "\r",
      "[=======================                 ] 29/50 ( 57%) 21 to go"
     ]
    },
    {
     "name": "stdout",
     "output_type": "stream",
     "text": [
      "service goes offline @ 1:59\n"
     ]
    },
    {
     "name": "stderr",
     "output_type": "stream",
     "text": [
      "\r",
      "[========================                ] 30/50 ( 60%) 20 to go"
     ]
    },
    {
     "name": "stdout",
     "output_type": "stream",
     "text": [
      "service goes offline @ 1:59\n"
     ]
    },
    {
     "name": "stderr",
     "output_type": "stream",
     "text": [
      "\r",
      "[========================                ] 31/50 ( 62%) 19 to go"
     ]
    },
    {
     "name": "stdout",
     "output_type": "stream",
     "text": [
      "service goes offline @ 2:0\n"
     ]
    },
    {
     "name": "stderr",
     "output_type": "stream",
     "text": [
      "\r",
      "[=========================               ] 32/50 ( 64%) 18 to go"
     ]
    },
    {
     "name": "stdout",
     "output_type": "stream",
     "text": [
      "service goes offline @ 2:0\n"
     ]
    },
    {
     "name": "stderr",
     "output_type": "stream",
     "text": [
      "\r",
      "[==========================              ] 33/50 ( 66%) 17 to go"
     ]
    },
    {
     "name": "stdout",
     "output_type": "stream",
     "text": [
      "service goes offline @ 2:1\n"
     ]
    },
    {
     "name": "stderr",
     "output_type": "stream",
     "text": [
      "\r",
      "[===========================             ] 34/50 ( 68%) 16 to go"
     ]
    },
    {
     "name": "stdout",
     "output_type": "stream",
     "text": [
      "service goes offline @ 2:1\n"
     ]
    },
    {
     "name": "stderr",
     "output_type": "stream",
     "text": [
      "\r",
      "[============================            ] 35/50 ( 70%) 15 to go"
     ]
    },
    {
     "name": "stdout",
     "output_type": "stream",
     "text": [
      "service goes offline @ 2:2\n"
     ]
    },
    {
     "name": "stderr",
     "output_type": "stream",
     "text": [
      "\r",
      "[============================            ] 36/50 ( 72%) 14 to go"
     ]
    },
    {
     "name": "stdout",
     "output_type": "stream",
     "text": [
      "service goes offline @ 2:2\n"
     ]
    },
    {
     "name": "stderr",
     "output_type": "stream",
     "text": [
      "\r",
      "[=============================           ] 37/50 ( 74%) 13 to go"
     ]
    },
    {
     "name": "stdout",
     "output_type": "stream",
     "text": [
      "service goes offline @ 2:3\n"
     ]
    },
    {
     "name": "stderr",
     "output_type": "stream",
     "text": [
      "\r",
      "[==============================          ] 38/50 ( 76%) 12 to go"
     ]
    },
    {
     "name": "stdout",
     "output_type": "stream",
     "text": [
      "service goes offline @ 2:3\n"
     ]
    },
    {
     "name": "stderr",
     "output_type": "stream",
     "text": [
      "\r",
      "[===============================         ] 39/50 ( 78%) 11 to go"
     ]
    },
    {
     "name": "stdout",
     "output_type": "stream",
     "text": [
      "service goes offline @ 2:4\n"
     ]
    },
    {
     "name": "stderr",
     "output_type": "stream",
     "text": [
      "\r",
      "[================================        ] 40/50 ( 80%) 10 to go"
     ]
    },
    {
     "name": "stdout",
     "output_type": "stream",
     "text": [
      "service goes offline @ 2:4\n"
     ]
    },
    {
     "name": "stderr",
     "output_type": "stream",
     "text": [
      "\r",
      "[================================        ] 41/50 ( 82%)  9 to go"
     ]
    },
    {
     "name": "stdout",
     "output_type": "stream",
     "text": [
      "service goes offline @ 2:5\n"
     ]
    },
    {
     "name": "stderr",
     "output_type": "stream",
     "text": [
      "\r",
      "[=================================       ] 42/50 ( 84%)  8 to go"
     ]
    },
    {
     "name": "stdout",
     "output_type": "stream",
     "text": [
      "service goes offline @ 2:5\n"
     ]
    },
    {
     "name": "stderr",
     "output_type": "stream",
     "text": [
      "\r",
      "[==================================      ] 43/50 ( 86%)  7 to go"
     ]
    },
    {
     "name": "stdout",
     "output_type": "stream",
     "text": [
      "service goes offline @ 2:6\n"
     ]
    },
    {
     "name": "stderr",
     "output_type": "stream",
     "text": [
      "\r",
      "[===================================     ] 44/50 ( 88%)  6 to go"
     ]
    },
    {
     "name": "stdout",
     "output_type": "stream",
     "text": [
      "service goes offline @ 2:6\n"
     ]
    },
    {
     "name": "stderr",
     "output_type": "stream",
     "text": [
      "\r",
      "[====================================    ] 45/50 ( 90%)  5 to go"
     ]
    },
    {
     "name": "stdout",
     "output_type": "stream",
     "text": [
      "service goes offline @ 2:7\n"
     ]
    },
    {
     "name": "stderr",
     "output_type": "stream",
     "text": [
      "\r",
      "[====================================    ] 46/50 ( 92%)  4 to go"
     ]
    },
    {
     "name": "stdout",
     "output_type": "stream",
     "text": [
      "service goes offline @ 2:7\n"
     ]
    },
    {
     "name": "stderr",
     "output_type": "stream",
     "text": [
      "\r",
      "[=====================================   ] 47/50 ( 94%)  3 to go"
     ]
    },
    {
     "name": "stdout",
     "output_type": "stream",
     "text": [
      "service goes offline @ 2:8\n"
     ]
    },
    {
     "name": "stderr",
     "output_type": "stream",
     "text": [
      "\r",
      "[======================================  ] 48/50 ( 96%)  2 to go"
     ]
    },
    {
     "name": "stdout",
     "output_type": "stream",
     "text": [
      "service goes offline @ 2:8\n"
     ]
    },
    {
     "name": "stderr",
     "output_type": "stream",
     "text": [
      "\r",
      "[======================================= ] 49/50 ( 98%)  1 to go"
     ]
    },
    {
     "name": "stdout",
     "output_type": "stream",
     "text": [
      "service goes offline @ 2:9\n"
     ]
    },
    {
     "name": "stderr",
     "output_type": "stream",
     "text": [
      "\r",
      "[========================================] 50/50 (100%)  0 to go"
     ]
    },
    {
     "name": "stdout",
     "output_type": "stream",
     "text": [
      "service goes offline @ 2:9\n"
     ]
    },
    {
     "name": "stderr",
     "output_type": "stream",
     "text": [
      "\r",
      "[========================================] 50/50 (100%)  0 to go\n",
      "\r",
      "[                                        ]  1/50 (  2%) 49 to go"
     ]
    },
    {
     "name": "stdout",
     "output_type": "stream",
     "text": [
      "Data_30 collected, writting to file: output/Oct12_30\n",
      "output/Oct12_30 is written @ 2017-10-12 02:10:14.376503\n",
      "service goes offline @ 2:10\n"
     ]
    },
    {
     "name": "stderr",
     "output_type": "stream",
     "text": [
      "\r",
      "[=                                       ]  2/50 (  4%) 48 to go"
     ]
    },
    {
     "name": "stdout",
     "output_type": "stream",
     "text": [
      "service goes offline @ 2:10\n"
     ]
    },
    {
     "name": "stderr",
     "output_type": "stream",
     "text": [
      "\r",
      "[==                                      ]  3/50 (  6%) 47 to go"
     ]
    },
    {
     "name": "stdout",
     "output_type": "stream",
     "text": [
      "service goes offline @ 2:11\n"
     ]
    },
    {
     "name": "stderr",
     "output_type": "stream",
     "text": [
      "\r",
      "[===                                     ]  4/50 (  8%) 46 to go"
     ]
    },
    {
     "name": "stdout",
     "output_type": "stream",
     "text": [
      "service goes offline @ 2:11\n"
     ]
    },
    {
     "name": "stderr",
     "output_type": "stream",
     "text": [
      "\r",
      "[====                                    ]  5/50 ( 10%) 45 to go"
     ]
    },
    {
     "name": "stdout",
     "output_type": "stream",
     "text": [
      "service goes offline @ 2:12\n"
     ]
    },
    {
     "name": "stderr",
     "output_type": "stream",
     "text": [
      "\r",
      "[====                                    ]  6/50 ( 12%) 44 to go"
     ]
    },
    {
     "name": "stdout",
     "output_type": "stream",
     "text": [
      "service goes offline @ 2:12\n"
     ]
    },
    {
     "name": "stderr",
     "output_type": "stream",
     "text": [
      "\r",
      "[=====                                   ]  7/50 ( 14%) 43 to go"
     ]
    },
    {
     "name": "stdout",
     "output_type": "stream",
     "text": [
      "service goes offline @ 2:13\n"
     ]
    },
    {
     "name": "stderr",
     "output_type": "stream",
     "text": [
      "\r",
      "[======                                  ]  8/50 ( 16%) 42 to go"
     ]
    },
    {
     "name": "stdout",
     "output_type": "stream",
     "text": [
      "service goes offline @ 2:13\n"
     ]
    },
    {
     "name": "stderr",
     "output_type": "stream",
     "text": [
      "\r",
      "[=======                                 ]  9/50 ( 18%) 41 to go"
     ]
    },
    {
     "name": "stdout",
     "output_type": "stream",
     "text": [
      "service goes offline @ 2:14\n"
     ]
    },
    {
     "name": "stderr",
     "output_type": "stream",
     "text": [
      "\r",
      "[========                                ] 10/50 ( 20%) 40 to go"
     ]
    },
    {
     "name": "stdout",
     "output_type": "stream",
     "text": [
      "service goes offline @ 2:14\n"
     ]
    },
    {
     "name": "stderr",
     "output_type": "stream",
     "text": [
      "\r",
      "[========                                ] 11/50 ( 22%) 39 to go"
     ]
    },
    {
     "name": "stdout",
     "output_type": "stream",
     "text": [
      "service goes offline @ 2:15\n"
     ]
    },
    {
     "name": "stderr",
     "output_type": "stream",
     "text": [
      "\r",
      "[=========                               ] 12/50 ( 24%) 38 to go"
     ]
    },
    {
     "name": "stdout",
     "output_type": "stream",
     "text": [
      "service goes offline @ 2:15\n"
     ]
    },
    {
     "name": "stderr",
     "output_type": "stream",
     "text": [
      "\r",
      "[==========                              ] 13/50 ( 26%) 37 to go"
     ]
    },
    {
     "name": "stdout",
     "output_type": "stream",
     "text": [
      "service goes offline @ 2:16\n"
     ]
    },
    {
     "name": "stderr",
     "output_type": "stream",
     "text": [
      "\r",
      "[===========                             ] 14/50 ( 28%) 36 to go"
     ]
    },
    {
     "name": "stdout",
     "output_type": "stream",
     "text": [
      "service goes offline @ 2:16\n"
     ]
    },
    {
     "name": "stderr",
     "output_type": "stream",
     "text": [
      "\r",
      "[============                            ] 15/50 ( 30%) 35 to go"
     ]
    },
    {
     "name": "stdout",
     "output_type": "stream",
     "text": [
      "service goes offline @ 2:17\n"
     ]
    },
    {
     "name": "stderr",
     "output_type": "stream",
     "text": [
      "\r",
      "[============                            ] 16/50 ( 32%) 34 to go"
     ]
    },
    {
     "name": "stdout",
     "output_type": "stream",
     "text": [
      "service goes offline @ 2:17\n"
     ]
    },
    {
     "name": "stderr",
     "output_type": "stream",
     "text": [
      "\r",
      "[=============                           ] 17/50 ( 34%) 33 to go"
     ]
    },
    {
     "name": "stdout",
     "output_type": "stream",
     "text": [
      "service goes offline @ 2:18\n"
     ]
    },
    {
     "name": "stderr",
     "output_type": "stream",
     "text": [
      "\r",
      "[==============                          ] 18/50 ( 36%) 32 to go"
     ]
    },
    {
     "name": "stdout",
     "output_type": "stream",
     "text": [
      "service goes offline @ 2:18\n"
     ]
    },
    {
     "name": "stderr",
     "output_type": "stream",
     "text": [
      "\r",
      "[===============                         ] 19/50 ( 38%) 31 to go"
     ]
    },
    {
     "name": "stdout",
     "output_type": "stream",
     "text": [
      "service goes offline @ 2:19\n"
     ]
    },
    {
     "name": "stderr",
     "output_type": "stream",
     "text": [
      "\r",
      "[================                        ] 20/50 ( 40%) 30 to go"
     ]
    },
    {
     "name": "stdout",
     "output_type": "stream",
     "text": [
      "service goes offline @ 2:19\n"
     ]
    },
    {
     "name": "stderr",
     "output_type": "stream",
     "text": [
      "\r",
      "[================                        ] 21/50 ( 42%) 29 to go"
     ]
    },
    {
     "name": "stdout",
     "output_type": "stream",
     "text": [
      "service goes offline @ 2:20\n"
     ]
    },
    {
     "name": "stderr",
     "output_type": "stream",
     "text": [
      "\r",
      "[=================                       ] 22/50 ( 44%) 28 to go"
     ]
    },
    {
     "name": "stdout",
     "output_type": "stream",
     "text": [
      "service goes offline @ 2:20\n"
     ]
    },
    {
     "name": "stderr",
     "output_type": "stream",
     "text": [
      "\r",
      "[==================                      ] 23/50 ( 46%) 27 to go"
     ]
    },
    {
     "name": "stdout",
     "output_type": "stream",
     "text": [
      "service goes offline @ 2:21\n"
     ]
    },
    {
     "name": "stderr",
     "output_type": "stream",
     "text": [
      "\r",
      "[===================                     ] 24/50 ( 48%) 26 to go"
     ]
    },
    {
     "name": "stdout",
     "output_type": "stream",
     "text": [
      "service goes offline @ 2:21\n"
     ]
    },
    {
     "name": "stderr",
     "output_type": "stream",
     "text": [
      "\r",
      "[====================                    ] 25/50 ( 50%) 25 to go"
     ]
    },
    {
     "name": "stdout",
     "output_type": "stream",
     "text": [
      "service goes offline @ 2:22\n"
     ]
    },
    {
     "name": "stderr",
     "output_type": "stream",
     "text": [
      "\r",
      "[====================                    ] 26/50 ( 52%) 24 to go"
     ]
    },
    {
     "name": "stdout",
     "output_type": "stream",
     "text": [
      "service goes offline @ 2:22\n"
     ]
    },
    {
     "name": "stderr",
     "output_type": "stream",
     "text": [
      "\r",
      "[=====================                   ] 27/50 ( 54%) 23 to go"
     ]
    },
    {
     "name": "stdout",
     "output_type": "stream",
     "text": [
      "service goes offline @ 2:23\n"
     ]
    },
    {
     "name": "stderr",
     "output_type": "stream",
     "text": [
      "\r",
      "[======================                  ] 28/50 ( 56%) 22 to go"
     ]
    },
    {
     "name": "stdout",
     "output_type": "stream",
     "text": [
      "service goes offline @ 2:23\n"
     ]
    },
    {
     "name": "stderr",
     "output_type": "stream",
     "text": [
      "\r",
      "[=======================                 ] 29/50 ( 57%) 21 to go"
     ]
    },
    {
     "name": "stdout",
     "output_type": "stream",
     "text": [
      "service goes offline @ 2:24\n"
     ]
    },
    {
     "name": "stderr",
     "output_type": "stream",
     "text": [
      "\r",
      "[========================                ] 30/50 ( 60%) 20 to go"
     ]
    },
    {
     "name": "stdout",
     "output_type": "stream",
     "text": [
      "service goes offline @ 2:24\n"
     ]
    },
    {
     "name": "stderr",
     "output_type": "stream",
     "text": [
      "\r",
      "[========================                ] 31/50 ( 62%) 19 to go"
     ]
    },
    {
     "name": "stdout",
     "output_type": "stream",
     "text": [
      "service goes offline @ 2:25\n"
     ]
    },
    {
     "name": "stderr",
     "output_type": "stream",
     "text": [
      "\r",
      "[=========================               ] 32/50 ( 64%) 18 to go"
     ]
    },
    {
     "name": "stdout",
     "output_type": "stream",
     "text": [
      "service goes offline @ 2:25\n"
     ]
    },
    {
     "name": "stderr",
     "output_type": "stream",
     "text": [
      "\r",
      "[==========================              ] 33/50 ( 66%) 17 to go"
     ]
    },
    {
     "name": "stdout",
     "output_type": "stream",
     "text": [
      "service goes offline @ 2:26\n"
     ]
    },
    {
     "name": "stderr",
     "output_type": "stream",
     "text": [
      "\r",
      "[===========================             ] 34/50 ( 68%) 16 to go"
     ]
    },
    {
     "name": "stdout",
     "output_type": "stream",
     "text": [
      "service goes offline @ 2:26\n"
     ]
    },
    {
     "name": "stderr",
     "output_type": "stream",
     "text": [
      "\r",
      "[============================            ] 35/50 ( 70%) 15 to go"
     ]
    },
    {
     "name": "stdout",
     "output_type": "stream",
     "text": [
      "service goes offline @ 2:27\n"
     ]
    },
    {
     "name": "stderr",
     "output_type": "stream",
     "text": [
      "\r",
      "[============================            ] 36/50 ( 72%) 14 to go"
     ]
    },
    {
     "name": "stdout",
     "output_type": "stream",
     "text": [
      "service goes offline @ 2:27\n"
     ]
    },
    {
     "name": "stderr",
     "output_type": "stream",
     "text": [
      "\r",
      "[=============================           ] 37/50 ( 74%) 13 to go"
     ]
    },
    {
     "name": "stdout",
     "output_type": "stream",
     "text": [
      "service goes offline @ 2:28\n"
     ]
    },
    {
     "name": "stderr",
     "output_type": "stream",
     "text": [
      "\r",
      "[==============================          ] 38/50 ( 76%) 12 to go"
     ]
    },
    {
     "name": "stdout",
     "output_type": "stream",
     "text": [
      "service goes offline @ 2:28\n"
     ]
    },
    {
     "name": "stderr",
     "output_type": "stream",
     "text": [
      "\r",
      "[===============================         ] 39/50 ( 78%) 11 to go"
     ]
    },
    {
     "name": "stdout",
     "output_type": "stream",
     "text": [
      "service goes offline @ 2:29\n"
     ]
    },
    {
     "name": "stderr",
     "output_type": "stream",
     "text": [
      "\r",
      "[================================        ] 40/50 ( 80%) 10 to go"
     ]
    },
    {
     "name": "stdout",
     "output_type": "stream",
     "text": [
      "service goes offline @ 2:29\n"
     ]
    },
    {
     "name": "stderr",
     "output_type": "stream",
     "text": [
      "\r",
      "[================================        ] 41/50 ( 82%)  9 to go"
     ]
    },
    {
     "name": "stdout",
     "output_type": "stream",
     "text": [
      "service goes offline @ 2:30\n"
     ]
    },
    {
     "name": "stderr",
     "output_type": "stream",
     "text": [
      "\r",
      "[=================================       ] 42/50 ( 84%)  8 to go"
     ]
    },
    {
     "name": "stdout",
     "output_type": "stream",
     "text": [
      "service goes offline @ 2:30\n"
     ]
    },
    {
     "name": "stderr",
     "output_type": "stream",
     "text": [
      "\r",
      "[==================================      ] 43/50 ( 86%)  7 to go"
     ]
    },
    {
     "name": "stdout",
     "output_type": "stream",
     "text": [
      "service goes offline @ 2:31\n"
     ]
    },
    {
     "name": "stderr",
     "output_type": "stream",
     "text": [
      "\r",
      "[===================================     ] 44/50 ( 88%)  6 to go"
     ]
    },
    {
     "name": "stdout",
     "output_type": "stream",
     "text": [
      "service goes offline @ 2:31\n"
     ]
    },
    {
     "name": "stderr",
     "output_type": "stream",
     "text": [
      "\r",
      "[====================================    ] 45/50 ( 90%)  5 to go"
     ]
    },
    {
     "name": "stdout",
     "output_type": "stream",
     "text": [
      "service goes offline @ 2:32\n"
     ]
    },
    {
     "name": "stderr",
     "output_type": "stream",
     "text": [
      "\r",
      "[====================================    ] 46/50 ( 92%)  4 to go"
     ]
    },
    {
     "name": "stdout",
     "output_type": "stream",
     "text": [
      "service goes offline @ 2:32\n"
     ]
    },
    {
     "name": "stderr",
     "output_type": "stream",
     "text": [
      "\r",
      "[=====================================   ] 47/50 ( 94%)  3 to go"
     ]
    },
    {
     "name": "stdout",
     "output_type": "stream",
     "text": [
      "service goes offline @ 2:33\n"
     ]
    },
    {
     "name": "stderr",
     "output_type": "stream",
     "text": [
      "\r",
      "[======================================  ] 48/50 ( 96%)  2 to go"
     ]
    },
    {
     "name": "stdout",
     "output_type": "stream",
     "text": [
      "service goes offline @ 2:33\n"
     ]
    },
    {
     "name": "stderr",
     "output_type": "stream",
     "text": [
      "\r",
      "[======================================= ] 49/50 ( 98%)  1 to go"
     ]
    },
    {
     "name": "stdout",
     "output_type": "stream",
     "text": [
      "service goes offline @ 2:34\n"
     ]
    },
    {
     "name": "stderr",
     "output_type": "stream",
     "text": [
      "\r",
      "[========================================] 50/50 (100%)  0 to go"
     ]
    },
    {
     "name": "stdout",
     "output_type": "stream",
     "text": [
      "service goes offline @ 2:34\n"
     ]
    },
    {
     "name": "stderr",
     "output_type": "stream",
     "text": [
      "\r",
      "[========================================] 50/50 (100%)  0 to go\n",
      "\r",
      "[                                        ]  1/50 (  2%) 49 to go"
     ]
    },
    {
     "name": "stdout",
     "output_type": "stream",
     "text": [
      "Data_31 collected, writting to file: output/Oct12_31\n",
      "output/Oct12_31 is written @ 2017-10-12 02:35:22.950216\n",
      "service goes offline @ 2:35\n"
     ]
    },
    {
     "name": "stderr",
     "output_type": "stream",
     "text": [
      "\r",
      "[=                                       ]  2/50 (  4%) 48 to go"
     ]
    },
    {
     "name": "stdout",
     "output_type": "stream",
     "text": [
      "service goes offline @ 2:35\n"
     ]
    },
    {
     "name": "stderr",
     "output_type": "stream",
     "text": [
      "\r",
      "[==                                      ]  3/50 (  6%) 47 to go"
     ]
    },
    {
     "name": "stdout",
     "output_type": "stream",
     "text": [
      "service goes offline @ 2:36\n"
     ]
    },
    {
     "name": "stderr",
     "output_type": "stream",
     "text": [
      "\r",
      "[===                                     ]  4/50 (  8%) 46 to go"
     ]
    },
    {
     "name": "stdout",
     "output_type": "stream",
     "text": [
      "service goes offline @ 2:36\n"
     ]
    },
    {
     "name": "stderr",
     "output_type": "stream",
     "text": [
      "\r",
      "[====                                    ]  5/50 ( 10%) 45 to go"
     ]
    },
    {
     "name": "stdout",
     "output_type": "stream",
     "text": [
      "service goes offline @ 2:37\n"
     ]
    },
    {
     "name": "stderr",
     "output_type": "stream",
     "text": [
      "\r",
      "[====                                    ]  6/50 ( 12%) 44 to go"
     ]
    },
    {
     "name": "stdout",
     "output_type": "stream",
     "text": [
      "service goes offline @ 2:37\n"
     ]
    },
    {
     "name": "stderr",
     "output_type": "stream",
     "text": [
      "\r",
      "[=====                                   ]  7/50 ( 14%) 43 to go"
     ]
    },
    {
     "name": "stdout",
     "output_type": "stream",
     "text": [
      "service goes offline @ 2:38\n"
     ]
    },
    {
     "name": "stderr",
     "output_type": "stream",
     "text": [
      "\r",
      "[======                                  ]  8/50 ( 16%) 42 to go"
     ]
    },
    {
     "name": "stdout",
     "output_type": "stream",
     "text": [
      "service goes offline @ 2:38\n"
     ]
    },
    {
     "name": "stderr",
     "output_type": "stream",
     "text": [
      "\r",
      "[=======                                 ]  9/50 ( 18%) 41 to go"
     ]
    },
    {
     "name": "stdout",
     "output_type": "stream",
     "text": [
      "service goes offline @ 2:39\n"
     ]
    },
    {
     "name": "stderr",
     "output_type": "stream",
     "text": [
      "\r",
      "[========                                ] 10/50 ( 20%) 40 to go"
     ]
    },
    {
     "name": "stdout",
     "output_type": "stream",
     "text": [
      "service goes offline @ 2:39\n"
     ]
    },
    {
     "name": "stderr",
     "output_type": "stream",
     "text": [
      "\r",
      "[========                                ] 11/50 ( 22%) 39 to go"
     ]
    },
    {
     "name": "stdout",
     "output_type": "stream",
     "text": [
      "service goes offline @ 2:40\n"
     ]
    },
    {
     "name": "stderr",
     "output_type": "stream",
     "text": [
      "\r",
      "[=========                               ] 12/50 ( 24%) 38 to go"
     ]
    },
    {
     "name": "stdout",
     "output_type": "stream",
     "text": [
      "service goes offline @ 2:40\n"
     ]
    },
    {
     "name": "stderr",
     "output_type": "stream",
     "text": [
      "\r",
      "[==========                              ] 13/50 ( 26%) 37 to go"
     ]
    },
    {
     "name": "stdout",
     "output_type": "stream",
     "text": [
      "service goes offline @ 2:41\n"
     ]
    },
    {
     "name": "stderr",
     "output_type": "stream",
     "text": [
      "\r",
      "[===========                             ] 14/50 ( 28%) 36 to go"
     ]
    },
    {
     "name": "stdout",
     "output_type": "stream",
     "text": [
      "service goes offline @ 2:41\n"
     ]
    },
    {
     "name": "stderr",
     "output_type": "stream",
     "text": [
      "\r",
      "[============                            ] 15/50 ( 30%) 35 to go"
     ]
    },
    {
     "name": "stdout",
     "output_type": "stream",
     "text": [
      "service goes offline @ 2:42\n"
     ]
    },
    {
     "name": "stderr",
     "output_type": "stream",
     "text": [
      "\r",
      "[============                            ] 16/50 ( 32%) 34 to go"
     ]
    },
    {
     "name": "stdout",
     "output_type": "stream",
     "text": [
      "service goes offline @ 2:42\n"
     ]
    },
    {
     "name": "stderr",
     "output_type": "stream",
     "text": [
      "\r",
      "[=============                           ] 17/50 ( 34%) 33 to go"
     ]
    },
    {
     "name": "stdout",
     "output_type": "stream",
     "text": [
      "service goes offline @ 2:43\n"
     ]
    },
    {
     "name": "stderr",
     "output_type": "stream",
     "text": [
      "\r",
      "[==============                          ] 18/50 ( 36%) 32 to go"
     ]
    },
    {
     "name": "stdout",
     "output_type": "stream",
     "text": [
      "service goes offline @ 2:43\n"
     ]
    },
    {
     "name": "stderr",
     "output_type": "stream",
     "text": [
      "\r",
      "[===============                         ] 19/50 ( 38%) 31 to go"
     ]
    },
    {
     "name": "stdout",
     "output_type": "stream",
     "text": [
      "service goes offline @ 2:44\n"
     ]
    },
    {
     "name": "stderr",
     "output_type": "stream",
     "text": [
      "\r",
      "[================                        ] 20/50 ( 40%) 30 to go"
     ]
    },
    {
     "name": "stdout",
     "output_type": "stream",
     "text": [
      "service goes offline @ 2:44\n"
     ]
    },
    {
     "name": "stderr",
     "output_type": "stream",
     "text": [
      "\r",
      "[================                        ] 21/50 ( 42%) 29 to go"
     ]
    },
    {
     "name": "stdout",
     "output_type": "stream",
     "text": [
      "service goes offline @ 2:45\n"
     ]
    },
    {
     "name": "stderr",
     "output_type": "stream",
     "text": [
      "\r",
      "[=================                       ] 22/50 ( 44%) 28 to go"
     ]
    },
    {
     "name": "stdout",
     "output_type": "stream",
     "text": [
      "service goes offline @ 2:45\n"
     ]
    },
    {
     "name": "stderr",
     "output_type": "stream",
     "text": [
      "\r",
      "[==================                      ] 23/50 ( 46%) 27 to go"
     ]
    },
    {
     "name": "stdout",
     "output_type": "stream",
     "text": [
      "service goes offline @ 2:46\n"
     ]
    },
    {
     "name": "stderr",
     "output_type": "stream",
     "text": [
      "\r",
      "[===================                     ] 24/50 ( 48%) 26 to go"
     ]
    },
    {
     "name": "stdout",
     "output_type": "stream",
     "text": [
      "service goes offline @ 2:46\n"
     ]
    },
    {
     "name": "stderr",
     "output_type": "stream",
     "text": [
      "\r",
      "[====================                    ] 25/50 ( 50%) 25 to go"
     ]
    },
    {
     "name": "stdout",
     "output_type": "stream",
     "text": [
      "service goes offline @ 2:47\n"
     ]
    },
    {
     "name": "stderr",
     "output_type": "stream",
     "text": [
      "\r",
      "[====================                    ] 26/50 ( 52%) 24 to go"
     ]
    },
    {
     "name": "stdout",
     "output_type": "stream",
     "text": [
      "service goes offline @ 2:47\n"
     ]
    },
    {
     "name": "stderr",
     "output_type": "stream",
     "text": [
      "\r",
      "[=====================                   ] 27/50 ( 54%) 23 to go"
     ]
    },
    {
     "name": "stdout",
     "output_type": "stream",
     "text": [
      "service goes offline @ 2:48\n"
     ]
    },
    {
     "name": "stderr",
     "output_type": "stream",
     "text": [
      "\r",
      "[======================                  ] 28/50 ( 56%) 22 to go"
     ]
    },
    {
     "name": "stdout",
     "output_type": "stream",
     "text": [
      "service goes offline @ 2:48\n"
     ]
    },
    {
     "name": "stderr",
     "output_type": "stream",
     "text": [
      "\r",
      "[=======================                 ] 29/50 ( 57%) 21 to go"
     ]
    },
    {
     "name": "stdout",
     "output_type": "stream",
     "text": [
      "service goes offline @ 2:49\n"
     ]
    },
    {
     "name": "stderr",
     "output_type": "stream",
     "text": [
      "\r",
      "[========================                ] 30/50 ( 60%) 20 to go"
     ]
    },
    {
     "name": "stdout",
     "output_type": "stream",
     "text": [
      "service goes offline @ 2:49\n"
     ]
    },
    {
     "name": "stderr",
     "output_type": "stream",
     "text": [
      "\r",
      "[========================                ] 31/50 ( 62%) 19 to go"
     ]
    },
    {
     "name": "stdout",
     "output_type": "stream",
     "text": [
      "service goes offline @ 2:50\n"
     ]
    },
    {
     "name": "stderr",
     "output_type": "stream",
     "text": [
      "\r",
      "[=========================               ] 32/50 ( 64%) 18 to go"
     ]
    },
    {
     "name": "stdout",
     "output_type": "stream",
     "text": [
      "service goes offline @ 2:50\n"
     ]
    },
    {
     "name": "stderr",
     "output_type": "stream",
     "text": [
      "\r",
      "[==========================              ] 33/50 ( 66%) 17 to go"
     ]
    },
    {
     "name": "stdout",
     "output_type": "stream",
     "text": [
      "service goes offline @ 2:51\n"
     ]
    },
    {
     "name": "stderr",
     "output_type": "stream",
     "text": [
      "\r",
      "[===========================             ] 34/50 ( 68%) 16 to go"
     ]
    },
    {
     "name": "stdout",
     "output_type": "stream",
     "text": [
      "service goes offline @ 2:51\n"
     ]
    },
    {
     "name": "stderr",
     "output_type": "stream",
     "text": [
      "\r",
      "[============================            ] 35/50 ( 70%) 15 to go"
     ]
    },
    {
     "name": "stdout",
     "output_type": "stream",
     "text": [
      "service goes offline @ 2:52\n"
     ]
    },
    {
     "name": "stderr",
     "output_type": "stream",
     "text": [
      "\r",
      "[============================            ] 36/50 ( 72%) 14 to go"
     ]
    },
    {
     "name": "stdout",
     "output_type": "stream",
     "text": [
      "service goes offline @ 2:52\n"
     ]
    },
    {
     "name": "stderr",
     "output_type": "stream",
     "text": [
      "\r",
      "[=============================           ] 37/50 ( 74%) 13 to go"
     ]
    },
    {
     "name": "stdout",
     "output_type": "stream",
     "text": [
      "service goes offline @ 2:53\n"
     ]
    },
    {
     "name": "stderr",
     "output_type": "stream",
     "text": [
      "\r",
      "[==============================          ] 38/50 ( 76%) 12 to go"
     ]
    },
    {
     "name": "stdout",
     "output_type": "stream",
     "text": [
      "service goes offline @ 2:53\n"
     ]
    },
    {
     "name": "stderr",
     "output_type": "stream",
     "text": [
      "\r",
      "[===============================         ] 39/50 ( 78%) 11 to go"
     ]
    },
    {
     "name": "stdout",
     "output_type": "stream",
     "text": [
      "service goes offline @ 2:54\n"
     ]
    },
    {
     "name": "stderr",
     "output_type": "stream",
     "text": [
      "\r",
      "[================================        ] 40/50 ( 80%) 10 to go"
     ]
    },
    {
     "name": "stdout",
     "output_type": "stream",
     "text": [
      "service goes offline @ 2:54\n"
     ]
    },
    {
     "name": "stderr",
     "output_type": "stream",
     "text": [
      "\r",
      "[================================        ] 41/50 ( 82%)  9 to go"
     ]
    },
    {
     "name": "stdout",
     "output_type": "stream",
     "text": [
      "service goes offline @ 2:55\n"
     ]
    },
    {
     "name": "stderr",
     "output_type": "stream",
     "text": [
      "\r",
      "[=================================       ] 42/50 ( 84%)  8 to go"
     ]
    },
    {
     "name": "stdout",
     "output_type": "stream",
     "text": [
      "service goes offline @ 2:55\n"
     ]
    },
    {
     "name": "stderr",
     "output_type": "stream",
     "text": [
      "\r",
      "[==================================      ] 43/50 ( 86%)  7 to go"
     ]
    },
    {
     "name": "stdout",
     "output_type": "stream",
     "text": [
      "service goes offline @ 2:56\n"
     ]
    },
    {
     "name": "stderr",
     "output_type": "stream",
     "text": [
      "\r",
      "[===================================     ] 44/50 ( 88%)  6 to go"
     ]
    },
    {
     "name": "stdout",
     "output_type": "stream",
     "text": [
      "service goes offline @ 2:57\n"
     ]
    },
    {
     "name": "stderr",
     "output_type": "stream",
     "text": [
      "\r",
      "[====================================    ] 45/50 ( 90%)  5 to go"
     ]
    },
    {
     "name": "stdout",
     "output_type": "stream",
     "text": [
      "service goes offline @ 2:57\n"
     ]
    },
    {
     "name": "stderr",
     "output_type": "stream",
     "text": [
      "\r",
      "[====================================    ] 46/50 ( 92%)  4 to go"
     ]
    },
    {
     "name": "stdout",
     "output_type": "stream",
     "text": [
      "service goes offline @ 2:58\n"
     ]
    },
    {
     "name": "stderr",
     "output_type": "stream",
     "text": [
      "\r",
      "[=====================================   ] 47/50 ( 94%)  3 to go"
     ]
    },
    {
     "name": "stdout",
     "output_type": "stream",
     "text": [
      "service goes offline @ 2:58\n"
     ]
    },
    {
     "name": "stderr",
     "output_type": "stream",
     "text": [
      "\r",
      "[======================================  ] 48/50 ( 96%)  2 to go"
     ]
    },
    {
     "name": "stdout",
     "output_type": "stream",
     "text": [
      "service goes offline @ 2:59\n"
     ]
    },
    {
     "name": "stderr",
     "output_type": "stream",
     "text": [
      "\r",
      "[======================================= ] 49/50 ( 98%)  1 to go"
     ]
    },
    {
     "name": "stdout",
     "output_type": "stream",
     "text": [
      "service goes offline @ 2:59\n"
     ]
    },
    {
     "name": "stderr",
     "output_type": "stream",
     "text": [
      "\r",
      "[========================================] 50/50 (100%)  0 to go"
     ]
    },
    {
     "name": "stdout",
     "output_type": "stream",
     "text": [
      "service goes offline @ 3:0\n"
     ]
    },
    {
     "name": "stderr",
     "output_type": "stream",
     "text": [
      "\r",
      "[========================================] 50/50 (100%)  0 to go\n",
      "\r",
      "[                                        ]  1/50 (  2%) 49 to go"
     ]
    },
    {
     "name": "stdout",
     "output_type": "stream",
     "text": [
      "Data_32 collected, writting to file: output/Oct12_32\n",
      "output/Oct12_32 is written @ 2017-10-12 03:00:30.920552\n",
      "service goes offline @ 3:0\n"
     ]
    },
    {
     "name": "stderr",
     "output_type": "stream",
     "text": [
      "\r",
      "[=                                       ]  2/50 (  4%) 48 to go"
     ]
    },
    {
     "name": "stdout",
     "output_type": "stream",
     "text": [
      "service goes offline @ 3:1\n"
     ]
    },
    {
     "name": "stderr",
     "output_type": "stream",
     "text": [
      "\r",
      "[==                                      ]  3/50 (  6%) 47 to go"
     ]
    },
    {
     "name": "stdout",
     "output_type": "stream",
     "text": [
      "service goes offline @ 3:1\n"
     ]
    },
    {
     "name": "stderr",
     "output_type": "stream",
     "text": [
      "\r",
      "[===                                     ]  4/50 (  8%) 46 to go"
     ]
    },
    {
     "name": "stdout",
     "output_type": "stream",
     "text": [
      "service goes offline @ 3:2\n"
     ]
    },
    {
     "name": "stderr",
     "output_type": "stream",
     "text": [
      "\r",
      "[====                                    ]  5/50 ( 10%) 45 to go"
     ]
    },
    {
     "name": "stdout",
     "output_type": "stream",
     "text": [
      "service goes offline @ 3:2\n"
     ]
    },
    {
     "name": "stderr",
     "output_type": "stream",
     "text": [
      "\r",
      "[====                                    ]  6/50 ( 12%) 44 to go"
     ]
    },
    {
     "name": "stdout",
     "output_type": "stream",
     "text": [
      "service goes offline @ 3:3\n"
     ]
    },
    {
     "name": "stderr",
     "output_type": "stream",
     "text": [
      "\r",
      "[=====                                   ]  7/50 ( 14%) 43 to go"
     ]
    },
    {
     "name": "stdout",
     "output_type": "stream",
     "text": [
      "service goes offline @ 3:3\n"
     ]
    },
    {
     "name": "stderr",
     "output_type": "stream",
     "text": [
      "\r",
      "[======                                  ]  8/50 ( 16%) 42 to go"
     ]
    },
    {
     "name": "stdout",
     "output_type": "stream",
     "text": [
      "service goes offline @ 3:4\n"
     ]
    },
    {
     "name": "stderr",
     "output_type": "stream",
     "text": [
      "\r",
      "[=======                                 ]  9/50 ( 18%) 41 to go"
     ]
    },
    {
     "name": "stdout",
     "output_type": "stream",
     "text": [
      "service goes offline @ 3:4\n"
     ]
    },
    {
     "name": "stderr",
     "output_type": "stream",
     "text": [
      "\r",
      "[========                                ] 10/50 ( 20%) 40 to go"
     ]
    },
    {
     "name": "stdout",
     "output_type": "stream",
     "text": [
      "service goes offline @ 3:5\n"
     ]
    },
    {
     "name": "stderr",
     "output_type": "stream",
     "text": [
      "\r",
      "[========                                ] 11/50 ( 22%) 39 to go"
     ]
    },
    {
     "name": "stdout",
     "output_type": "stream",
     "text": [
      "service goes offline @ 3:5\n"
     ]
    },
    {
     "name": "stderr",
     "output_type": "stream",
     "text": [
      "\r",
      "[=========                               ] 12/50 ( 24%) 38 to go"
     ]
    },
    {
     "name": "stdout",
     "output_type": "stream",
     "text": [
      "service goes offline @ 3:6\n"
     ]
    },
    {
     "name": "stderr",
     "output_type": "stream",
     "text": [
      "\r",
      "[==========                              ] 13/50 ( 26%) 37 to go"
     ]
    },
    {
     "name": "stdout",
     "output_type": "stream",
     "text": [
      "service goes offline @ 3:6\n"
     ]
    },
    {
     "name": "stderr",
     "output_type": "stream",
     "text": [
      "\r",
      "[===========                             ] 14/50 ( 28%) 36 to go"
     ]
    },
    {
     "name": "stdout",
     "output_type": "stream",
     "text": [
      "service goes offline @ 3:7\n"
     ]
    },
    {
     "name": "stderr",
     "output_type": "stream",
     "text": [
      "\r",
      "[============                            ] 15/50 ( 30%) 35 to go"
     ]
    },
    {
     "name": "stdout",
     "output_type": "stream",
     "text": [
      "service goes offline @ 3:7\n"
     ]
    },
    {
     "name": "stderr",
     "output_type": "stream",
     "text": [
      "\r",
      "[============                            ] 16/50 ( 32%) 34 to go"
     ]
    },
    {
     "name": "stdout",
     "output_type": "stream",
     "text": [
      "service goes offline @ 3:8\n"
     ]
    },
    {
     "name": "stderr",
     "output_type": "stream",
     "text": [
      "\r",
      "[=============                           ] 17/50 ( 34%) 33 to go"
     ]
    },
    {
     "name": "stdout",
     "output_type": "stream",
     "text": [
      "service goes offline @ 3:8\n"
     ]
    },
    {
     "name": "stderr",
     "output_type": "stream",
     "text": [
      "\r",
      "[==============                          ] 18/50 ( 36%) 32 to go"
     ]
    },
    {
     "name": "stdout",
     "output_type": "stream",
     "text": [
      "service goes offline @ 3:9\n"
     ]
    },
    {
     "name": "stderr",
     "output_type": "stream",
     "text": [
      "\r",
      "[===============                         ] 19/50 ( 38%) 31 to go"
     ]
    },
    {
     "name": "stdout",
     "output_type": "stream",
     "text": [
      "service goes offline @ 3:9\n"
     ]
    },
    {
     "name": "stderr",
     "output_type": "stream",
     "text": [
      "\r",
      "[================                        ] 20/50 ( 40%) 30 to go"
     ]
    },
    {
     "name": "stdout",
     "output_type": "stream",
     "text": [
      "service goes offline @ 3:10\n"
     ]
    },
    {
     "name": "stderr",
     "output_type": "stream",
     "text": [
      "\r",
      "[================                        ] 21/50 ( 42%) 29 to go"
     ]
    },
    {
     "name": "stdout",
     "output_type": "stream",
     "text": [
      "service goes offline @ 3:10\n"
     ]
    },
    {
     "name": "stderr",
     "output_type": "stream",
     "text": [
      "\r",
      "[=================                       ] 22/50 ( 44%) 28 to go"
     ]
    },
    {
     "name": "stdout",
     "output_type": "stream",
     "text": [
      "service goes offline @ 3:11\n"
     ]
    },
    {
     "name": "stderr",
     "output_type": "stream",
     "text": [
      "\r",
      "[==================                      ] 23/50 ( 46%) 27 to go"
     ]
    },
    {
     "name": "stdout",
     "output_type": "stream",
     "text": [
      "service goes offline @ 3:11\n"
     ]
    },
    {
     "name": "stderr",
     "output_type": "stream",
     "text": [
      "\r",
      "[===================                     ] 24/50 ( 48%) 26 to go"
     ]
    },
    {
     "name": "stdout",
     "output_type": "stream",
     "text": [
      "service goes offline @ 3:12\n"
     ]
    },
    {
     "name": "stderr",
     "output_type": "stream",
     "text": [
      "\r",
      "[====================                    ] 25/50 ( 50%) 25 to go"
     ]
    },
    {
     "name": "stdout",
     "output_type": "stream",
     "text": [
      "service goes offline @ 3:12\n"
     ]
    },
    {
     "name": "stderr",
     "output_type": "stream",
     "text": [
      "\r",
      "[====================                    ] 26/50 ( 52%) 24 to go"
     ]
    },
    {
     "name": "stdout",
     "output_type": "stream",
     "text": [
      "service goes offline @ 3:13\n"
     ]
    },
    {
     "name": "stderr",
     "output_type": "stream",
     "text": [
      "\r",
      "[=====================                   ] 27/50 ( 54%) 23 to go"
     ]
    },
    {
     "name": "stdout",
     "output_type": "stream",
     "text": [
      "service goes offline @ 3:13\n"
     ]
    },
    {
     "name": "stderr",
     "output_type": "stream",
     "text": [
      "\r",
      "[======================                  ] 28/50 ( 56%) 22 to go"
     ]
    },
    {
     "name": "stdout",
     "output_type": "stream",
     "text": [
      "service goes offline @ 3:14\n"
     ]
    },
    {
     "name": "stderr",
     "output_type": "stream",
     "text": [
      "\r",
      "[=======================                 ] 29/50 ( 57%) 21 to go"
     ]
    },
    {
     "name": "stdout",
     "output_type": "stream",
     "text": [
      "service goes offline @ 3:14\n"
     ]
    },
    {
     "name": "stderr",
     "output_type": "stream",
     "text": [
      "\r",
      "[========================                ] 30/50 ( 60%) 20 to go"
     ]
    },
    {
     "name": "stdout",
     "output_type": "stream",
     "text": [
      "service goes offline @ 3:15\n"
     ]
    },
    {
     "name": "stderr",
     "output_type": "stream",
     "text": [
      "\r",
      "[========================                ] 31/50 ( 62%) 19 to go"
     ]
    },
    {
     "name": "stdout",
     "output_type": "stream",
     "text": [
      "service goes offline @ 3:15\n"
     ]
    },
    {
     "name": "stderr",
     "output_type": "stream",
     "text": [
      "\r",
      "[=========================               ] 32/50 ( 64%) 18 to go"
     ]
    },
    {
     "name": "stdout",
     "output_type": "stream",
     "text": [
      "service goes offline @ 3:16\n"
     ]
    },
    {
     "name": "stderr",
     "output_type": "stream",
     "text": [
      "\r",
      "[==========================              ] 33/50 ( 66%) 17 to go"
     ]
    },
    {
     "name": "stdout",
     "output_type": "stream",
     "text": [
      "service goes offline @ 3:16\n"
     ]
    },
    {
     "name": "stderr",
     "output_type": "stream",
     "text": [
      "\r",
      "[===========================             ] 34/50 ( 68%) 16 to go"
     ]
    },
    {
     "name": "stdout",
     "output_type": "stream",
     "text": [
      "service goes offline @ 3:17\n"
     ]
    },
    {
     "name": "stderr",
     "output_type": "stream",
     "text": [
      "\r",
      "[============================            ] 35/50 ( 70%) 15 to go"
     ]
    },
    {
     "name": "stdout",
     "output_type": "stream",
     "text": [
      "service goes offline @ 3:17\n"
     ]
    },
    {
     "name": "stderr",
     "output_type": "stream",
     "text": [
      "\r",
      "[============================            ] 36/50 ( 72%) 14 to go"
     ]
    },
    {
     "name": "stdout",
     "output_type": "stream",
     "text": [
      "service goes offline @ 3:18\n"
     ]
    },
    {
     "name": "stderr",
     "output_type": "stream",
     "text": [
      "\r",
      "[=============================           ] 37/50 ( 74%) 13 to go"
     ]
    },
    {
     "name": "stdout",
     "output_type": "stream",
     "text": [
      "service goes offline @ 3:18\n"
     ]
    },
    {
     "name": "stderr",
     "output_type": "stream",
     "text": [
      "\r",
      "[==============================          ] 38/50 ( 76%) 12 to go"
     ]
    },
    {
     "name": "stdout",
     "output_type": "stream",
     "text": [
      "service goes offline @ 3:19\n"
     ]
    },
    {
     "name": "stderr",
     "output_type": "stream",
     "text": [
      "\r",
      "[===============================         ] 39/50 ( 78%) 11 to go"
     ]
    },
    {
     "name": "stdout",
     "output_type": "stream",
     "text": [
      "service goes offline @ 3:19\n"
     ]
    },
    {
     "name": "stderr",
     "output_type": "stream",
     "text": [
      "\r",
      "[================================        ] 40/50 ( 80%) 10 to go"
     ]
    },
    {
     "name": "stdout",
     "output_type": "stream",
     "text": [
      "service goes offline @ 3:20\n"
     ]
    },
    {
     "name": "stderr",
     "output_type": "stream",
     "text": [
      "\r",
      "[================================        ] 41/50 ( 82%)  9 to go"
     ]
    },
    {
     "name": "stdout",
     "output_type": "stream",
     "text": [
      "service goes offline @ 3:20\n"
     ]
    },
    {
     "name": "stderr",
     "output_type": "stream",
     "text": [
      "\r",
      "[=================================       ] 42/50 ( 84%)  8 to go"
     ]
    },
    {
     "name": "stdout",
     "output_type": "stream",
     "text": [
      "service goes offline @ 3:21\n"
     ]
    },
    {
     "name": "stderr",
     "output_type": "stream",
     "text": [
      "\r",
      "[==================================      ] 43/50 ( 86%)  7 to go"
     ]
    },
    {
     "name": "stdout",
     "output_type": "stream",
     "text": [
      "service goes offline @ 3:21\n"
     ]
    },
    {
     "name": "stderr",
     "output_type": "stream",
     "text": [
      "\r",
      "[===================================     ] 44/50 ( 88%)  6 to go"
     ]
    },
    {
     "name": "stdout",
     "output_type": "stream",
     "text": [
      "service goes offline @ 3:22\n"
     ]
    },
    {
     "name": "stderr",
     "output_type": "stream",
     "text": [
      "\r",
      "[====================================    ] 45/50 ( 90%)  5 to go"
     ]
    },
    {
     "name": "stdout",
     "output_type": "stream",
     "text": [
      "service goes offline @ 3:22\n"
     ]
    },
    {
     "name": "stderr",
     "output_type": "stream",
     "text": [
      "\r",
      "[====================================    ] 46/50 ( 92%)  4 to go"
     ]
    },
    {
     "name": "stdout",
     "output_type": "stream",
     "text": [
      "service goes offline @ 3:23\n"
     ]
    },
    {
     "name": "stderr",
     "output_type": "stream",
     "text": [
      "\r",
      "[=====================================   ] 47/50 ( 94%)  3 to go"
     ]
    },
    {
     "name": "stdout",
     "output_type": "stream",
     "text": [
      "service goes offline @ 3:23\n"
     ]
    },
    {
     "name": "stderr",
     "output_type": "stream",
     "text": [
      "\r",
      "[======================================  ] 48/50 ( 96%)  2 to go"
     ]
    },
    {
     "name": "stdout",
     "output_type": "stream",
     "text": [
      "service goes offline @ 3:24\n"
     ]
    },
    {
     "name": "stderr",
     "output_type": "stream",
     "text": [
      "\r",
      "[======================================= ] 49/50 ( 98%)  1 to go"
     ]
    },
    {
     "name": "stdout",
     "output_type": "stream",
     "text": [
      "service goes offline @ 3:24\n"
     ]
    },
    {
     "name": "stderr",
     "output_type": "stream",
     "text": [
      "\r",
      "[========================================] 50/50 (100%)  0 to go"
     ]
    },
    {
     "name": "stdout",
     "output_type": "stream",
     "text": [
      "service goes offline @ 3:25\n"
     ]
    },
    {
     "name": "stderr",
     "output_type": "stream",
     "text": [
      "\r",
      "[========================================] 50/50 (100%)  0 to go\n",
      "\r",
      "[                                        ]  1/50 (  2%) 49 to go"
     ]
    },
    {
     "name": "stdout",
     "output_type": "stream",
     "text": [
      "Data_33 collected, writting to file: output/Oct12_33\n",
      "output/Oct12_33 is written @ 2017-10-12 03:25:38.676146\n",
      "service goes offline @ 3:25\n"
     ]
    },
    {
     "name": "stderr",
     "output_type": "stream",
     "text": [
      "\r",
      "[=                                       ]  2/50 (  4%) 48 to go"
     ]
    },
    {
     "name": "stdout",
     "output_type": "stream",
     "text": [
      "service goes offline @ 3:26\n"
     ]
    },
    {
     "name": "stderr",
     "output_type": "stream",
     "text": [
      "\r",
      "[==                                      ]  3/50 (  6%) 47 to go"
     ]
    },
    {
     "name": "stdout",
     "output_type": "stream",
     "text": [
      "service goes offline @ 3:26\n"
     ]
    },
    {
     "name": "stderr",
     "output_type": "stream",
     "text": [
      "\r",
      "[===                                     ]  4/50 (  8%) 46 to go"
     ]
    },
    {
     "name": "stdout",
     "output_type": "stream",
     "text": [
      "service goes offline @ 3:27\n"
     ]
    },
    {
     "name": "stderr",
     "output_type": "stream",
     "text": [
      "\r",
      "[====                                    ]  5/50 ( 10%) 45 to go"
     ]
    },
    {
     "name": "stdout",
     "output_type": "stream",
     "text": [
      "service goes offline @ 3:27\n"
     ]
    },
    {
     "name": "stderr",
     "output_type": "stream",
     "text": [
      "\r",
      "[====                                    ]  6/50 ( 12%) 44 to go"
     ]
    },
    {
     "name": "stdout",
     "output_type": "stream",
     "text": [
      "service goes offline @ 3:28\n"
     ]
    },
    {
     "name": "stderr",
     "output_type": "stream",
     "text": [
      "\r",
      "[=====                                   ]  7/50 ( 14%) 43 to go"
     ]
    },
    {
     "name": "stdout",
     "output_type": "stream",
     "text": [
      "service goes offline @ 3:28\n"
     ]
    },
    {
     "name": "stderr",
     "output_type": "stream",
     "text": [
      "\r",
      "[======                                  ]  8/50 ( 16%) 42 to go"
     ]
    },
    {
     "name": "stdout",
     "output_type": "stream",
     "text": [
      "service goes offline @ 3:29\n"
     ]
    },
    {
     "name": "stderr",
     "output_type": "stream",
     "text": [
      "\r",
      "[=======                                 ]  9/50 ( 18%) 41 to go"
     ]
    },
    {
     "name": "stdout",
     "output_type": "stream",
     "text": [
      "service goes offline @ 3:29\n"
     ]
    },
    {
     "name": "stderr",
     "output_type": "stream",
     "text": [
      "\r",
      "[========                                ] 10/50 ( 20%) 40 to go"
     ]
    },
    {
     "name": "stdout",
     "output_type": "stream",
     "text": [
      "service goes offline @ 3:30\n"
     ]
    },
    {
     "name": "stderr",
     "output_type": "stream",
     "text": [
      "\r",
      "[========                                ] 11/50 ( 22%) 39 to go"
     ]
    },
    {
     "name": "stdout",
     "output_type": "stream",
     "text": [
      "service goes offline @ 3:30\n"
     ]
    },
    {
     "name": "stderr",
     "output_type": "stream",
     "text": [
      "\r",
      "[=========                               ] 12/50 ( 24%) 38 to go"
     ]
    },
    {
     "name": "stdout",
     "output_type": "stream",
     "text": [
      "service goes offline @ 3:31\n"
     ]
    },
    {
     "name": "stderr",
     "output_type": "stream",
     "text": [
      "\r",
      "[==========                              ] 13/50 ( 26%) 37 to go"
     ]
    },
    {
     "name": "stdout",
     "output_type": "stream",
     "text": [
      "service goes offline @ 3:31\n"
     ]
    },
    {
     "name": "stderr",
     "output_type": "stream",
     "text": [
      "\r",
      "[===========                             ] 14/50 ( 28%) 36 to go"
     ]
    },
    {
     "name": "stdout",
     "output_type": "stream",
     "text": [
      "service goes offline @ 3:32\n"
     ]
    },
    {
     "name": "stderr",
     "output_type": "stream",
     "text": [
      "\r",
      "[============                            ] 15/50 ( 30%) 35 to go"
     ]
    },
    {
     "name": "stdout",
     "output_type": "stream",
     "text": [
      "service goes offline @ 3:32\n"
     ]
    },
    {
     "name": "stderr",
     "output_type": "stream",
     "text": [
      "\r",
      "[============                            ] 16/50 ( 32%) 34 to go"
     ]
    },
    {
     "name": "stdout",
     "output_type": "stream",
     "text": [
      "service goes offline @ 3:33\n"
     ]
    },
    {
     "name": "stderr",
     "output_type": "stream",
     "text": [
      "\r",
      "[=============                           ] 17/50 ( 34%) 33 to go"
     ]
    },
    {
     "name": "stdout",
     "output_type": "stream",
     "text": [
      "service goes offline @ 3:33\n"
     ]
    },
    {
     "name": "stderr",
     "output_type": "stream",
     "text": [
      "\r",
      "[==============                          ] 18/50 ( 36%) 32 to go"
     ]
    },
    {
     "name": "stdout",
     "output_type": "stream",
     "text": [
      "service goes offline @ 3:34\n"
     ]
    },
    {
     "name": "stderr",
     "output_type": "stream",
     "text": [
      "\r",
      "[===============                         ] 19/50 ( 38%) 31 to go"
     ]
    },
    {
     "name": "stdout",
     "output_type": "stream",
     "text": [
      "service goes offline @ 3:34\n"
     ]
    },
    {
     "name": "stderr",
     "output_type": "stream",
     "text": [
      "\r",
      "[================                        ] 20/50 ( 40%) 30 to go"
     ]
    },
    {
     "name": "stdout",
     "output_type": "stream",
     "text": [
      "service goes offline @ 3:35\n"
     ]
    },
    {
     "name": "stderr",
     "output_type": "stream",
     "text": [
      "\r",
      "[================                        ] 21/50 ( 42%) 29 to go"
     ]
    },
    {
     "name": "stdout",
     "output_type": "stream",
     "text": [
      "service goes offline @ 3:35\n"
     ]
    },
    {
     "name": "stderr",
     "output_type": "stream",
     "text": [
      "\r",
      "[=================                       ] 22/50 ( 44%) 28 to go"
     ]
    },
    {
     "name": "stdout",
     "output_type": "stream",
     "text": [
      "service goes offline @ 3:36\n"
     ]
    },
    {
     "name": "stderr",
     "output_type": "stream",
     "text": [
      "\r",
      "[==================                      ] 23/50 ( 46%) 27 to go"
     ]
    },
    {
     "name": "stdout",
     "output_type": "stream",
     "text": [
      "service goes offline @ 3:36\n"
     ]
    },
    {
     "name": "stderr",
     "output_type": "stream",
     "text": [
      "\r",
      "[===================                     ] 24/50 ( 48%) 26 to go"
     ]
    },
    {
     "name": "stdout",
     "output_type": "stream",
     "text": [
      "service goes offline @ 3:37\n"
     ]
    },
    {
     "name": "stderr",
     "output_type": "stream",
     "text": [
      "\r",
      "[====================                    ] 25/50 ( 50%) 25 to go"
     ]
    },
    {
     "name": "stdout",
     "output_type": "stream",
     "text": [
      "service goes offline @ 3:37\n"
     ]
    },
    {
     "name": "stderr",
     "output_type": "stream",
     "text": [
      "\r",
      "[====================                    ] 26/50 ( 52%) 24 to go"
     ]
    },
    {
     "name": "stdout",
     "output_type": "stream",
     "text": [
      "service goes offline @ 3:38\n"
     ]
    },
    {
     "name": "stderr",
     "output_type": "stream",
     "text": [
      "\r",
      "[=====================                   ] 27/50 ( 54%) 23 to go"
     ]
    },
    {
     "name": "stdout",
     "output_type": "stream",
     "text": [
      "service goes offline @ 3:38\n"
     ]
    },
    {
     "name": "stderr",
     "output_type": "stream",
     "text": [
      "\r",
      "[======================                  ] 28/50 ( 56%) 22 to go"
     ]
    },
    {
     "name": "stdout",
     "output_type": "stream",
     "text": [
      "service goes offline @ 3:39\n"
     ]
    },
    {
     "name": "stderr",
     "output_type": "stream",
     "text": [
      "\r",
      "[=======================                 ] 29/50 ( 57%) 21 to go"
     ]
    },
    {
     "name": "stdout",
     "output_type": "stream",
     "text": [
      "service goes offline @ 3:39\n"
     ]
    },
    {
     "name": "stderr",
     "output_type": "stream",
     "text": [
      "\r",
      "[========================                ] 30/50 ( 60%) 20 to go"
     ]
    },
    {
     "name": "stdout",
     "output_type": "stream",
     "text": [
      "service goes offline @ 3:40\n"
     ]
    },
    {
     "name": "stderr",
     "output_type": "stream",
     "text": [
      "\r",
      "[========================                ] 31/50 ( 62%) 19 to go"
     ]
    },
    {
     "name": "stdout",
     "output_type": "stream",
     "text": [
      "service goes offline @ 3:40\n"
     ]
    },
    {
     "name": "stderr",
     "output_type": "stream",
     "text": [
      "\r",
      "[=========================               ] 32/50 ( 64%) 18 to go"
     ]
    },
    {
     "name": "stdout",
     "output_type": "stream",
     "text": [
      "service goes offline @ 3:41\n"
     ]
    },
    {
     "name": "stderr",
     "output_type": "stream",
     "text": [
      "\r",
      "[==========================              ] 33/50 ( 66%) 17 to go"
     ]
    },
    {
     "name": "stdout",
     "output_type": "stream",
     "text": [
      "service goes offline @ 3:41\n"
     ]
    },
    {
     "name": "stderr",
     "output_type": "stream",
     "text": [
      "\r",
      "[===========================             ] 34/50 ( 68%) 16 to go"
     ]
    },
    {
     "name": "stdout",
     "output_type": "stream",
     "text": [
      "service goes offline @ 3:42\n"
     ]
    },
    {
     "name": "stderr",
     "output_type": "stream",
     "text": [
      "\r",
      "[============================            ] 35/50 ( 70%) 15 to go"
     ]
    },
    {
     "name": "stdout",
     "output_type": "stream",
     "text": [
      "service goes offline @ 3:42\n"
     ]
    },
    {
     "name": "stderr",
     "output_type": "stream",
     "text": [
      "\r",
      "[============================            ] 36/50 ( 72%) 14 to go"
     ]
    },
    {
     "name": "stdout",
     "output_type": "stream",
     "text": [
      "service goes offline @ 3:43\n"
     ]
    },
    {
     "name": "stderr",
     "output_type": "stream",
     "text": [
      "\r",
      "[=============================           ] 37/50 ( 74%) 13 to go"
     ]
    },
    {
     "name": "stdout",
     "output_type": "stream",
     "text": [
      "service goes offline @ 3:43\n"
     ]
    },
    {
     "name": "stderr",
     "output_type": "stream",
     "text": [
      "\r",
      "[==============================          ] 38/50 ( 76%) 12 to go"
     ]
    },
    {
     "name": "stdout",
     "output_type": "stream",
     "text": [
      "service goes offline @ 3:44\n"
     ]
    },
    {
     "name": "stderr",
     "output_type": "stream",
     "text": [
      "\r",
      "[===============================         ] 39/50 ( 78%) 11 to go"
     ]
    },
    {
     "name": "stdout",
     "output_type": "stream",
     "text": [
      "service goes offline @ 3:44\n"
     ]
    },
    {
     "name": "stderr",
     "output_type": "stream",
     "text": [
      "\r",
      "[================================        ] 40/50 ( 80%) 10 to go"
     ]
    },
    {
     "name": "stdout",
     "output_type": "stream",
     "text": [
      "service goes offline @ 3:45\n"
     ]
    },
    {
     "name": "stderr",
     "output_type": "stream",
     "text": [
      "\r",
      "[================================        ] 41/50 ( 82%)  9 to go"
     ]
    },
    {
     "name": "stdout",
     "output_type": "stream",
     "text": [
      "service goes offline @ 3:45\n"
     ]
    },
    {
     "name": "stderr",
     "output_type": "stream",
     "text": [
      "\r",
      "[=================================       ] 42/50 ( 84%)  8 to go"
     ]
    },
    {
     "name": "stdout",
     "output_type": "stream",
     "text": [
      "service goes offline @ 3:46\n"
     ]
    },
    {
     "name": "stderr",
     "output_type": "stream",
     "text": [
      "\r",
      "[==================================      ] 43/50 ( 86%)  7 to go"
     ]
    },
    {
     "name": "stdout",
     "output_type": "stream",
     "text": [
      "service goes offline @ 3:46\n"
     ]
    },
    {
     "name": "stderr",
     "output_type": "stream",
     "text": [
      "\r",
      "[===================================     ] 44/50 ( 88%)  6 to go"
     ]
    },
    {
     "name": "stdout",
     "output_type": "stream",
     "text": [
      "service goes offline @ 3:47\n"
     ]
    },
    {
     "name": "stderr",
     "output_type": "stream",
     "text": [
      "\r",
      "[====================================    ] 45/50 ( 90%)  5 to go"
     ]
    },
    {
     "name": "stdout",
     "output_type": "stream",
     "text": [
      "service goes offline @ 3:47\n"
     ]
    },
    {
     "name": "stderr",
     "output_type": "stream",
     "text": [
      "\r",
      "[====================================    ] 46/50 ( 92%)  4 to go"
     ]
    },
    {
     "name": "stdout",
     "output_type": "stream",
     "text": [
      "service goes offline @ 3:48\n"
     ]
    },
    {
     "name": "stderr",
     "output_type": "stream",
     "text": [
      "\r",
      "[=====================================   ] 47/50 ( 94%)  3 to go"
     ]
    },
    {
     "name": "stdout",
     "output_type": "stream",
     "text": [
      "service goes offline @ 3:48\n"
     ]
    },
    {
     "name": "stderr",
     "output_type": "stream",
     "text": [
      "\r",
      "[======================================  ] 48/50 ( 96%)  2 to go"
     ]
    },
    {
     "name": "stdout",
     "output_type": "stream",
     "text": [
      "service goes offline @ 3:49\n"
     ]
    },
    {
     "name": "stderr",
     "output_type": "stream",
     "text": [
      "\r",
      "[======================================= ] 49/50 ( 98%)  1 to go"
     ]
    },
    {
     "name": "stdout",
     "output_type": "stream",
     "text": [
      "service goes offline @ 3:49\n"
     ]
    },
    {
     "name": "stderr",
     "output_type": "stream",
     "text": [
      "\r",
      "[========================================] 50/50 (100%)  0 to go"
     ]
    },
    {
     "name": "stdout",
     "output_type": "stream",
     "text": [
      "service goes offline @ 3:50\n"
     ]
    },
    {
     "name": "stderr",
     "output_type": "stream",
     "text": [
      "\r",
      "[========================================] 50/50 (100%)  0 to go\n",
      "\r",
      "[                                        ]  1/50 (  2%) 49 to go"
     ]
    },
    {
     "name": "stdout",
     "output_type": "stream",
     "text": [
      "Data_34 collected, writting to file: output/Oct12_34\n",
      "output/Oct12_34 is written @ 2017-10-12 03:50:47.027426\n",
      "service goes offline @ 3:50\n"
     ]
    },
    {
     "name": "stderr",
     "output_type": "stream",
     "text": [
      "\r",
      "[=                                       ]  2/50 (  4%) 48 to go"
     ]
    },
    {
     "name": "stdout",
     "output_type": "stream",
     "text": [
      "service goes offline @ 3:51\n"
     ]
    },
    {
     "name": "stderr",
     "output_type": "stream",
     "text": [
      "\r",
      "[==                                      ]  3/50 (  6%) 47 to go"
     ]
    },
    {
     "name": "stdout",
     "output_type": "stream",
     "text": [
      "service goes offline @ 3:51\n"
     ]
    },
    {
     "name": "stderr",
     "output_type": "stream",
     "text": [
      "\r",
      "[===                                     ]  4/50 (  8%) 46 to go"
     ]
    },
    {
     "name": "stdout",
     "output_type": "stream",
     "text": [
      "service goes offline @ 3:52\n"
     ]
    },
    {
     "name": "stderr",
     "output_type": "stream",
     "text": [
      "\r",
      "[====                                    ]  5/50 ( 10%) 45 to go"
     ]
    },
    {
     "name": "stdout",
     "output_type": "stream",
     "text": [
      "service goes offline @ 3:52\n"
     ]
    },
    {
     "name": "stderr",
     "output_type": "stream",
     "text": [
      "\r",
      "[====                                    ]  6/50 ( 12%) 44 to go"
     ]
    },
    {
     "name": "stdout",
     "output_type": "stream",
     "text": [
      "service goes offline @ 3:53\n"
     ]
    },
    {
     "name": "stderr",
     "output_type": "stream",
     "text": [
      "\r",
      "[=====                                   ]  7/50 ( 14%) 43 to go"
     ]
    },
    {
     "name": "stdout",
     "output_type": "stream",
     "text": [
      "service goes offline @ 3:53\n"
     ]
    },
    {
     "name": "stderr",
     "output_type": "stream",
     "text": [
      "\r",
      "[======                                  ]  8/50 ( 16%) 42 to go"
     ]
    },
    {
     "name": "stdout",
     "output_type": "stream",
     "text": [
      "service goes offline @ 3:54\n"
     ]
    },
    {
     "name": "stderr",
     "output_type": "stream",
     "text": [
      "\r",
      "[=======                                 ]  9/50 ( 18%) 41 to go"
     ]
    },
    {
     "name": "stdout",
     "output_type": "stream",
     "text": [
      "service goes offline @ 3:54\n"
     ]
    },
    {
     "name": "stderr",
     "output_type": "stream",
     "text": [
      "\r",
      "[========                                ] 10/50 ( 20%) 40 to go"
     ]
    },
    {
     "name": "stdout",
     "output_type": "stream",
     "text": [
      "service goes offline @ 3:55\n"
     ]
    },
    {
     "name": "stderr",
     "output_type": "stream",
     "text": [
      "\r",
      "[========                                ] 11/50 ( 22%) 39 to go"
     ]
    },
    {
     "name": "stdout",
     "output_type": "stream",
     "text": [
      "service goes offline @ 3:55\n"
     ]
    },
    {
     "name": "stderr",
     "output_type": "stream",
     "text": [
      "\r",
      "[=========                               ] 12/50 ( 24%) 38 to go"
     ]
    },
    {
     "name": "stdout",
     "output_type": "stream",
     "text": [
      "service goes offline @ 3:56\n"
     ]
    },
    {
     "name": "stderr",
     "output_type": "stream",
     "text": [
      "\r",
      "[==========                              ] 13/50 ( 26%) 37 to go"
     ]
    },
    {
     "name": "stdout",
     "output_type": "stream",
     "text": [
      "service goes offline @ 3:56\n"
     ]
    },
    {
     "name": "stderr",
     "output_type": "stream",
     "text": [
      "\r",
      "[===========                             ] 14/50 ( 28%) 36 to go"
     ]
    },
    {
     "name": "stdout",
     "output_type": "stream",
     "text": [
      "service goes offline @ 3:57\n"
     ]
    },
    {
     "name": "stderr",
     "output_type": "stream",
     "text": [
      "\r",
      "[============                            ] 15/50 ( 30%) 35 to go"
     ]
    },
    {
     "name": "stdout",
     "output_type": "stream",
     "text": [
      "service goes offline @ 3:57\n"
     ]
    },
    {
     "name": "stderr",
     "output_type": "stream",
     "text": [
      "\r",
      "[============                            ] 16/50 ( 32%) 34 to go"
     ]
    },
    {
     "name": "stdout",
     "output_type": "stream",
     "text": [
      "service goes offline @ 3:58\n"
     ]
    },
    {
     "name": "stderr",
     "output_type": "stream",
     "text": [
      "\r",
      "[=============                           ] 17/50 ( 34%) 33 to go"
     ]
    },
    {
     "name": "stdout",
     "output_type": "stream",
     "text": [
      "service goes offline @ 3:58\n"
     ]
    },
    {
     "name": "stderr",
     "output_type": "stream",
     "text": [
      "\r",
      "[==============                          ] 18/50 ( 36%) 32 to go"
     ]
    },
    {
     "name": "stdout",
     "output_type": "stream",
     "text": [
      "service goes offline @ 3:59\n"
     ]
    },
    {
     "name": "stderr",
     "output_type": "stream",
     "text": [
      "\r",
      "[===============                         ] 19/50 ( 38%) 31 to go"
     ]
    },
    {
     "name": "stdout",
     "output_type": "stream",
     "text": [
      "service goes offline @ 3:59\n"
     ]
    },
    {
     "name": "stderr",
     "output_type": "stream",
     "text": [
      "\r",
      "[================                        ] 20/50 ( 40%) 30 to go"
     ]
    },
    {
     "name": "stdout",
     "output_type": "stream",
     "text": [
      "service goes offline @ 4:0\n"
     ]
    },
    {
     "name": "stderr",
     "output_type": "stream",
     "text": [
      "\r",
      "[================                        ] 21/50 ( 42%) 29 to go"
     ]
    },
    {
     "name": "stdout",
     "output_type": "stream",
     "text": [
      "service goes offline @ 4:0\n"
     ]
    },
    {
     "name": "stderr",
     "output_type": "stream",
     "text": [
      "\r",
      "[=================                       ] 22/50 ( 44%) 28 to go"
     ]
    },
    {
     "name": "stdout",
     "output_type": "stream",
     "text": [
      "service goes offline @ 4:1\n"
     ]
    },
    {
     "name": "stderr",
     "output_type": "stream",
     "text": [
      "\r",
      "[==================                      ] 23/50 ( 46%) 27 to go"
     ]
    },
    {
     "name": "stdout",
     "output_type": "stream",
     "text": [
      "service goes offline @ 4:1\n"
     ]
    },
    {
     "name": "stderr",
     "output_type": "stream",
     "text": [
      "\r",
      "[===================                     ] 24/50 ( 48%) 26 to go"
     ]
    },
    {
     "name": "stdout",
     "output_type": "stream",
     "text": [
      "service goes offline @ 4:2\n"
     ]
    },
    {
     "name": "stderr",
     "output_type": "stream",
     "text": [
      "\r",
      "[====================                    ] 25/50 ( 50%) 25 to go"
     ]
    },
    {
     "name": "stdout",
     "output_type": "stream",
     "text": [
      "service goes offline @ 4:2\n"
     ]
    },
    {
     "name": "stderr",
     "output_type": "stream",
     "text": [
      "\r",
      "[====================                    ] 26/50 ( 52%) 24 to go"
     ]
    },
    {
     "name": "stdout",
     "output_type": "stream",
     "text": [
      "service goes offline @ 4:3\n"
     ]
    },
    {
     "name": "stderr",
     "output_type": "stream",
     "text": [
      "\r",
      "[=====================                   ] 27/50 ( 54%) 23 to go"
     ]
    },
    {
     "name": "stdout",
     "output_type": "stream",
     "text": [
      "service goes offline @ 4:3\n"
     ]
    },
    {
     "name": "stderr",
     "output_type": "stream",
     "text": [
      "\r",
      "[======================                  ] 28/50 ( 56%) 22 to go"
     ]
    },
    {
     "name": "stdout",
     "output_type": "stream",
     "text": [
      "service goes offline @ 4:4\n"
     ]
    },
    {
     "name": "stderr",
     "output_type": "stream",
     "text": [
      "\r",
      "[=======================                 ] 29/50 ( 57%) 21 to go"
     ]
    },
    {
     "name": "stdout",
     "output_type": "stream",
     "text": [
      "service goes offline @ 4:4\n"
     ]
    },
    {
     "name": "stderr",
     "output_type": "stream",
     "text": [
      "\r",
      "[========================                ] 30/50 ( 60%) 20 to go"
     ]
    },
    {
     "name": "stdout",
     "output_type": "stream",
     "text": [
      "service goes offline @ 4:5\n"
     ]
    },
    {
     "name": "stderr",
     "output_type": "stream",
     "text": [
      "\r",
      "[========================                ] 31/50 ( 62%) 19 to go"
     ]
    },
    {
     "name": "stdout",
     "output_type": "stream",
     "text": [
      "service goes offline @ 4:5\n"
     ]
    },
    {
     "name": "stderr",
     "output_type": "stream",
     "text": [
      "\r",
      "[=========================               ] 32/50 ( 64%) 18 to go"
     ]
    },
    {
     "name": "stdout",
     "output_type": "stream",
     "text": [
      "service goes offline @ 4:6\n"
     ]
    },
    {
     "name": "stderr",
     "output_type": "stream",
     "text": [
      "\r",
      "[==========================              ] 33/50 ( 66%) 17 to go"
     ]
    },
    {
     "name": "stdout",
     "output_type": "stream",
     "text": [
      "service goes offline @ 4:6\n"
     ]
    },
    {
     "name": "stderr",
     "output_type": "stream",
     "text": [
      "\r",
      "[===========================             ] 34/50 ( 68%) 16 to go"
     ]
    },
    {
     "name": "stdout",
     "output_type": "stream",
     "text": [
      "service goes offline @ 4:7\n"
     ]
    },
    {
     "name": "stderr",
     "output_type": "stream",
     "text": [
      "\r",
      "[============================            ] 35/50 ( 70%) 15 to go"
     ]
    },
    {
     "name": "stdout",
     "output_type": "stream",
     "text": [
      "service goes offline @ 4:7\n"
     ]
    },
    {
     "name": "stderr",
     "output_type": "stream",
     "text": [
      "\r",
      "[============================            ] 36/50 ( 72%) 14 to go"
     ]
    },
    {
     "name": "stdout",
     "output_type": "stream",
     "text": [
      "service goes offline @ 4:8\n"
     ]
    },
    {
     "name": "stderr",
     "output_type": "stream",
     "text": [
      "\r",
      "[=============================           ] 37/50 ( 74%) 13 to go"
     ]
    },
    {
     "name": "stdout",
     "output_type": "stream",
     "text": [
      "service goes offline @ 4:8\n"
     ]
    },
    {
     "name": "stderr",
     "output_type": "stream",
     "text": [
      "\r",
      "[==============================          ] 38/50 ( 76%) 12 to go"
     ]
    },
    {
     "name": "stdout",
     "output_type": "stream",
     "text": [
      "service goes offline @ 4:9\n"
     ]
    },
    {
     "name": "stderr",
     "output_type": "stream",
     "text": [
      "\r",
      "[===============================         ] 39/50 ( 78%) 11 to go"
     ]
    },
    {
     "name": "stdout",
     "output_type": "stream",
     "text": [
      "service goes offline @ 4:9\n"
     ]
    },
    {
     "name": "stderr",
     "output_type": "stream",
     "text": [
      "\r",
      "[================================        ] 40/50 ( 80%) 10 to go"
     ]
    },
    {
     "name": "stdout",
     "output_type": "stream",
     "text": [
      "service goes offline @ 4:10\n"
     ]
    },
    {
     "name": "stderr",
     "output_type": "stream",
     "text": [
      "\r",
      "[================================        ] 41/50 ( 82%)  9 to go"
     ]
    },
    {
     "name": "stdout",
     "output_type": "stream",
     "text": [
      "service goes offline @ 4:10\n"
     ]
    },
    {
     "name": "stderr",
     "output_type": "stream",
     "text": [
      "\r",
      "[=================================       ] 42/50 ( 84%)  8 to go"
     ]
    },
    {
     "name": "stdout",
     "output_type": "stream",
     "text": [
      "service goes offline @ 4:11\n"
     ]
    },
    {
     "name": "stderr",
     "output_type": "stream",
     "text": [
      "\r",
      "[==================================      ] 43/50 ( 86%)  7 to go"
     ]
    },
    {
     "name": "stdout",
     "output_type": "stream",
     "text": [
      "service goes offline @ 4:11\n"
     ]
    },
    {
     "name": "stderr",
     "output_type": "stream",
     "text": [
      "\r",
      "[===================================     ] 44/50 ( 88%)  6 to go"
     ]
    },
    {
     "name": "stdout",
     "output_type": "stream",
     "text": [
      "service goes offline @ 4:12\n"
     ]
    },
    {
     "name": "stderr",
     "output_type": "stream",
     "text": [
      "\r",
      "[====================================    ] 45/50 ( 90%)  5 to go"
     ]
    },
    {
     "name": "stdout",
     "output_type": "stream",
     "text": [
      "service goes offline @ 4:12\n"
     ]
    },
    {
     "name": "stderr",
     "output_type": "stream",
     "text": [
      "[========================================] 50/50 (100%)  0 to go\n",
      "[                                        ]  1/50 (  2%) 49 to go"
     ]
    },
    {
     "name": "stdout",
     "output_type": "stream",
     "text": [
      "Data_35 collected, writting to file: output/Oct12_35\n",
      "output/Oct12_35 is written @ 2017-10-12 04:15:59.767557\n"
     ]
    },
    {
     "name": "stderr",
     "output_type": "stream",
     "text": [
      "[========================================] 50/50 (100%)  0 to go\n",
      "[                                        ]  1/50 (  2%) 49 to go"
     ]
    },
    {
     "name": "stdout",
     "output_type": "stream",
     "text": [
      "Data_36 collected, writting to file: output/Oct12_36\n",
      "output/Oct12_36 is written @ 2017-10-12 04:41:07.773817\n"
     ]
    },
    {
     "name": "stderr",
     "output_type": "stream",
     "text": [
      "[==================================      ] 43/50 ( 86%)  7 to go"
     ]
    },
    {
     "name": "stdout",
     "output_type": "stream",
     "text": [
      "service goes offline @ 5:2\n"
     ]
    },
    {
     "name": "stderr",
     "output_type": "stream",
     "text": [
      "[========================================] 50/50 (100%)  0 to go\n",
      "[                                        ]  1/50 (  2%) 49 to go"
     ]
    },
    {
     "name": "stdout",
     "output_type": "stream",
     "text": [
      "Data_37 collected, writting to file: output/Oct12_37\n",
      "output/Oct12_37 is written @ 2017-10-12 05:06:18.261974\n"
     ]
    },
    {
     "name": "stderr",
     "output_type": "stream",
     "text": [
      "[========================================] 50/50 (100%)  0 to go\n",
      "[                                        ]  1/50 (  2%) 49 to go"
     ]
    },
    {
     "name": "stdout",
     "output_type": "stream",
     "text": [
      "Data_38 collected, writting to file: output/Oct12_38\n",
      "output/Oct12_38 is written @ 2017-10-12 05:31:28.526892\n"
     ]
    },
    {
     "name": "stderr",
     "output_type": "stream",
     "text": [
      "[========================================] 50/50 (100%)  0 to go\n",
      "[                                        ]  1/50 (  2%) 49 to go"
     ]
    },
    {
     "name": "stdout",
     "output_type": "stream",
     "text": [
      "Data_39 collected, writting to file: output/Oct12_39\n",
      "output/Oct12_39 is written @ 2017-10-12 05:56:38.541891\n"
     ]
    },
    {
     "name": "stderr",
     "output_type": "stream",
     "text": [
      "[========================================] 50/50 (100%)  0 to go\n",
      "[                                        ]  1/50 (  2%) 49 to go"
     ]
    },
    {
     "name": "stdout",
     "output_type": "stream",
     "text": [
      "Data_40 collected, writting to file: output/Oct12_40\n",
      "output/Oct12_40 is written @ 2017-10-12 06:21:49.480910\n"
     ]
    },
    {
     "name": "stderr",
     "output_type": "stream",
     "text": [
      "[========================================] 50/50 (100%)  0 to go\n",
      "[                                        ]  1/50 (  2%) 49 to go"
     ]
    },
    {
     "name": "stdout",
     "output_type": "stream",
     "text": [
      "Data_41 collected, writting to file: output/Oct12_41\n",
      "output/Oct12_41 is written @ 2017-10-12 06:47:01.909435\n"
     ]
    },
    {
     "name": "stderr",
     "output_type": "stream",
     "text": [
      "[========================================] 50/50 (100%)  0 to go\n",
      "[                                        ]  1/50 (  2%) 49 to go"
     ]
    },
    {
     "name": "stdout",
     "output_type": "stream",
     "text": [
      "Data_42 collected, writting to file: output/Oct12_42\n",
      "output/Oct12_42 is written @ 2017-10-12 07:12:16.611613\n"
     ]
    },
    {
     "name": "stderr",
     "output_type": "stream",
     "text": [
      "[========================================] 50/50 (100%)  0 to go\n",
      "[                                        ]  1/50 (  2%) 49 to go"
     ]
    },
    {
     "name": "stdout",
     "output_type": "stream",
     "text": [
      "Data_43 collected, writting to file: output/Oct12_43\n",
      "output/Oct12_43 is written @ 2017-10-12 07:37:32.220105\n"
     ]
    },
    {
     "name": "stderr",
     "output_type": "stream",
     "text": [
      "[===                                     ]  4/50 (  8%) 46 to go"
     ]
    },
    {
     "name": "stdout",
     "output_type": "stream",
     "text": [
      "service goes offline @ 7:39\n"
     ]
    },
    {
     "name": "stderr",
     "output_type": "stream",
     "text": [
      "[========================================] 50/50 (100%)  0 to go\n",
      "[                                        ]  1/50 (  2%) 49 to go"
     ]
    },
    {
     "name": "stdout",
     "output_type": "stream",
     "text": [
      "Data_44 collected, writting to file: output/Oct12_44\n",
      "output/Oct12_44 is written @ 2017-10-12 08:02:49.071060\n"
     ]
    },
    {
     "name": "stderr",
     "output_type": "stream",
     "text": [
      "[========================================] 50/50 (100%)  0 to go\n",
      "[                                        ]  1/50 (  2%) 49 to go"
     ]
    },
    {
     "name": "stdout",
     "output_type": "stream",
     "text": [
      "Data_45 collected, writting to file: output/Oct12_45\n",
      "output/Oct12_45 is written @ 2017-10-12 08:28:03.290236\n"
     ]
    },
    {
     "name": "stderr",
     "output_type": "stream",
     "text": [
      "[========================================] 50/50 (100%)  0 to go\n",
      "[                                        ]  1/50 (  2%) 49 to go"
     ]
    },
    {
     "name": "stdout",
     "output_type": "stream",
     "text": [
      "Data_46 collected, writting to file: output/Oct12_46\n",
      "output/Oct12_46 is written @ 2017-10-12 08:53:19.481814\n"
     ]
    },
    {
     "name": "stderr",
     "output_type": "stream",
     "text": [
      "[========================================] 50/50 (100%)  0 to go\n",
      "[                                        ]  1/50 (  2%) 49 to go"
     ]
    },
    {
     "name": "stdout",
     "output_type": "stream",
     "text": [
      "Data_47 collected, writting to file: output/Oct12_47\n",
      "output/Oct12_47 is written @ 2017-10-12 09:18:37.945882\n"
     ]
    },
    {
     "name": "stderr",
     "output_type": "stream",
     "text": [
      "[==================================      ] 43/50 ( 86%)  7 to go"
     ]
    },
    {
     "name": "stdout",
     "output_type": "stream",
     "text": [
      "service goes offline @ 9:39\n"
     ]
    },
    {
     "name": "stderr",
     "output_type": "stream",
     "text": [
      "[========================================] 50/50 (100%)  0 to go\n",
      "[                                        ]  1/50 (  2%) 49 to go"
     ]
    },
    {
     "name": "stdout",
     "output_type": "stream",
     "text": [
      "Data_48 collected, writting to file: output/Oct12_48\n",
      "output/Oct12_48 is written @ 2017-10-12 09:43:49.454873\n"
     ]
    },
    {
     "name": "stderr",
     "output_type": "stream",
     "text": [
      "[========================================] 50/50 (100%)  0 to go\n",
      "[                                        ]  1/50 (  2%) 49 to go"
     ]
    },
    {
     "name": "stdout",
     "output_type": "stream",
     "text": [
      "Data_49 collected, writting to file: output/Oct12_49\n",
      "output/Oct12_49 is written @ 2017-10-12 10:09:00.861678\n"
     ]
    },
    {
     "name": "stderr",
     "output_type": "stream",
     "text": [
      "[========================================] 50/50 (100%)  0 to go\n",
      "[                                        ]  1/50 (  2%) 49 to go"
     ]
    },
    {
     "name": "stdout",
     "output_type": "stream",
     "text": [
      "Data_50 collected, writting to file: output/Oct12_50\n",
      "output/Oct12_50 is written @ 2017-10-12 10:34:12.554807\n"
     ]
    },
    {
     "name": "stderr",
     "output_type": "stream",
     "text": [
      "[=======================                 ] 29/50 ( 57%) 21 to go"
     ]
    },
    {
     "ename": "KeyboardInterrupt",
     "evalue": "",
     "output_type": "error",
     "traceback": [
      "\u001b[0;31m---------------------------------------------------------------------------\u001b[0m",
      "\u001b[0;31mKeyboardInterrupt\u001b[0m                         Traceback (most recent call last)",
      "\u001b[0;32m<ipython-input-12-50258c79cda1>\u001b[0m in \u001b[0;36m<module>\u001b[0;34m()\u001b[0m\n\u001b[1;32m     21\u001b[0m             \u001b[0mcurr\u001b[0m\u001b[0;34m+=\u001b[0m\u001b[0;36m1\u001b[0m\u001b[0;34m\u001b[0m\u001b[0m\n\u001b[1;32m     22\u001b[0m             \u001b[0mcount\u001b[0m\u001b[0;34m+=\u001b[0m\u001b[0;36m1\u001b[0m\u001b[0;34m\u001b[0m\u001b[0m\n\u001b[0;32m---> 23\u001b[0;31m             \u001b[0mtm\u001b[0m\u001b[0;34m.\u001b[0m\u001b[0msleep\u001b[0m\u001b[0;34m(\u001b[0m\u001b[0;36m30\u001b[0m\u001b[0;34m)\u001b[0m\u001b[0;34m\u001b[0m\u001b[0m\n\u001b[0m\u001b[1;32m     24\u001b[0m         \u001b[0mprogress\u001b[0m\u001b[0;34m.\u001b[0m\u001b[0mdone\u001b[0m\u001b[0;34m(\u001b[0m\u001b[0;34m)\u001b[0m\u001b[0;34m\u001b[0m\u001b[0m\n\u001b[1;32m     25\u001b[0m         \u001b[0mprint\u001b[0m\u001b[0;34m(\u001b[0m\u001b[0;34m'Data_%d collected, writting to file: '\u001b[0m \u001b[0;34m%\u001b[0m\u001b[0;34m(\u001b[0m\u001b[0mcount\u001b[0m\u001b[0;34m//\u001b[0m\u001b[0mint\u001b[0m\u001b[0;34m(\u001b[0m\u001b[0mn\u001b[0m\u001b[0;34m)\u001b[0m\u001b[0;34m-\u001b[0m\u001b[0;36m1\u001b[0m\u001b[0;34m)\u001b[0m\u001b[0;34m+\u001b[0m\u001b[0msaved_\u001b[0m \u001b[0;34m)\u001b[0m\u001b[0;34m\u001b[0m\u001b[0m\n",
      "\u001b[0;31mKeyboardInterrupt\u001b[0m: "
     ]
    }
   ],
   "source": [
    "from progressbar import*\n",
    "now = datetime.now()\n",
    "now_time = now.time()\n",
    "n,desired_stop, t_type, route_n = 50,175,'Bus',39\n",
    "#    input(\"Please enter parameters in format of: n, stop_id, type, route_n =>\").split(',')\n",
    "count = 0\n",
    "while(True):\n",
    "    if (time(4,30) <= now.time() <= time(23,59)) or (time(0,0) <= now.time() <= time(1,0)):\n",
    "        filename = 'output/'+tm.strftime(\"%b\")+str(datetime.now().day)+'_'\n",
    "        saved_ = filename+\"%d\" %(count//int(n))\n",
    "        curr = 0\n",
    "        result = {}\n",
    "        progress = ProgressBar(int(n), fmt=ProgressBar.FULL)\n",
    "        while(curr<int(n)):\n",
    "            progress.current += 1\n",
    "            progress()\n",
    "            stop_data = get_stop_info(desired_stop)\n",
    "            bus_list = get_bus_info(stop_data,t_type,route_n)\n",
    "            #print([count,bus_list])\n",
    "            result[count]={\"time\":tm.time(),\"info\":bus_list}\n",
    "            curr+=1\n",
    "            count+=1\n",
    "            tm.sleep(30)\n",
    "        progress.done()\n",
    "        print('Data_%d collected, writting to file: ' %(count//int(n)-1)+saved_ )\n",
    "        msg = writer(result,saved_)\n",
    "        if msg:\n",
    "            print(msg)"
   ]
  },
  {
   "cell_type": "code",
   "execution_count": null,
   "metadata": {
    "collapsed": false
   },
   "outputs": [],
   "source": [
    "# #by default \n",
    "# desired_stop = 175\n",
    "# t_type = 'Bus'\n",
    "# route_n = 39"
   ]
  }
 ],
 "metadata": {
  "anaconda-cloud": {},
  "kernelspec": {
   "display_name": "Python [Root]",
   "language": "python",
   "name": "Python [Root]"
  },
  "language_info": {
   "codemirror_mode": {
    "name": "ipython",
    "version": 3
   },
   "file_extension": ".py",
   "mimetype": "text/x-python",
   "name": "python",
   "nbconvert_exporter": "python",
   "pygments_lexer": "ipython3",
   "version": "3.5.2"
  }
 },
 "nbformat": 4,
 "nbformat_minor": 0
}
